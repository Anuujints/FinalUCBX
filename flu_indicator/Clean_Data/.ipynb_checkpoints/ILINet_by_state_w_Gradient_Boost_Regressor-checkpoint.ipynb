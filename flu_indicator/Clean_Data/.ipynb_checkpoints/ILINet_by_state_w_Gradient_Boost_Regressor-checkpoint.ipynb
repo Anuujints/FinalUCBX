{
 "cells": [
  {
   "cell_type": "code",
   "execution_count": 1,
   "metadata": {},
   "outputs": [],
   "source": [
    "%matplotlib inline\n",
    "\n",
    "import pandas as pd\n",
    "import numpy as np\n",
    "\n",
    "import matplotlib.pyplot as plt"
   ]
  },
  {
   "cell_type": "code",
   "execution_count": 2,
   "metadata": {},
   "outputs": [],
   "source": [
    "from sklearn.decomposition import PCA, TruncatedSVD\n",
    "from sklearn.preprocessing import MinMaxScaler\n",
    "\n",
    "\n",
    "from sklearn.model_selection import train_test_split\n",
    "from sklearn import decomposition\n",
    "from sklearn.decomposition import PCA\n",
    "from sklearn.preprocessing import StandardScaler\n",
    "from sklearn.ensemble import GradientBoostingRegressor \n",
    "\n",
    "from sklearn.metrics import accuracy_score\n",
    "\n",
    "import seaborn as sns\n",
    "np.random.seed(0)"
   ]
  },
  {
   "cell_type": "code",
   "execution_count": 4,
   "metadata": {},
   "outputs": [
    {
     "data": {
      "text/html": [
       "<div>\n",
       "<style scoped>\n",
       "    .dataframe tbody tr th:only-of-type {\n",
       "        vertical-align: middle;\n",
       "    }\n",
       "\n",
       "    .dataframe tbody tr th {\n",
       "        vertical-align: top;\n",
       "    }\n",
       "\n",
       "    .dataframe thead th {\n",
       "        text-align: right;\n",
       "    }\n",
       "</style>\n",
       "<table border=\"1\" class=\"dataframe\">\n",
       "  <thead>\n",
       "    <tr style=\"text-align: right;\">\n",
       "      <th></th>\n",
       "      <th>REGION</th>\n",
       "      <th>week_1</th>\n",
       "      <th>week_2</th>\n",
       "      <th>week_3</th>\n",
       "      <th>week_4</th>\n",
       "      <th>week_5</th>\n",
       "      <th>week_6</th>\n",
       "      <th>week_7</th>\n",
       "      <th>week_8</th>\n",
       "      <th>week_9</th>\n",
       "      <th>...</th>\n",
       "      <th>week_44</th>\n",
       "      <th>week_45</th>\n",
       "      <th>week_46</th>\n",
       "      <th>week_47</th>\n",
       "      <th>week_48</th>\n",
       "      <th>week_49</th>\n",
       "      <th>week_50</th>\n",
       "      <th>week_51</th>\n",
       "      <th>week_52</th>\n",
       "      <th>week_53</th>\n",
       "    </tr>\n",
       "  </thead>\n",
       "  <tbody>\n",
       "    <tr>\n",
       "      <th>0</th>\n",
       "      <td>Alabama</td>\n",
       "      <td>6.370629</td>\n",
       "      <td>6.964126</td>\n",
       "      <td>7.661381</td>\n",
       "      <td>7.435979</td>\n",
       "      <td>7.277602</td>\n",
       "      <td>7.068386</td>\n",
       "      <td>6.256861</td>\n",
       "      <td>5.470849</td>\n",
       "      <td>4.960846</td>\n",
       "      <td>...</td>\n",
       "      <td>2.579153</td>\n",
       "      <td>2.825046</td>\n",
       "      <td>3.13950</td>\n",
       "      <td>3.914537</td>\n",
       "      <td>3.930459</td>\n",
       "      <td>4.669928</td>\n",
       "      <td>6.318017</td>\n",
       "      <td>7.920726</td>\n",
       "      <td>8.795278</td>\n",
       "      <td>11.22120</td>\n",
       "    </tr>\n",
       "    <tr>\n",
       "      <th>1</th>\n",
       "      <td>Alaska</td>\n",
       "      <td>1.766894</td>\n",
       "      <td>2.010301</td>\n",
       "      <td>1.993347</td>\n",
       "      <td>1.771273</td>\n",
       "      <td>2.355049</td>\n",
       "      <td>2.244505</td>\n",
       "      <td>2.589673</td>\n",
       "      <td>2.190691</td>\n",
       "      <td>2.589630</td>\n",
       "      <td>...</td>\n",
       "      <td>1.306854</td>\n",
       "      <td>1.565698</td>\n",
       "      <td>1.54435</td>\n",
       "      <td>1.562975</td>\n",
       "      <td>1.568266</td>\n",
       "      <td>1.510352</td>\n",
       "      <td>1.671861</td>\n",
       "      <td>2.022891</td>\n",
       "      <td>2.556303</td>\n",
       "      <td>2.36626</td>\n",
       "    </tr>\n",
       "  </tbody>\n",
       "</table>\n",
       "<p>2 rows × 35 columns</p>\n",
       "</div>"
      ],
      "text/plain": [
       "    REGION    week_1    week_2    week_3    week_4    week_5    week_6  \\\n",
       "0  Alabama  6.370629  6.964126  7.661381  7.435979  7.277602  7.068386   \n",
       "1   Alaska  1.766894  2.010301  1.993347  1.771273  2.355049  2.244505   \n",
       "\n",
       "     week_7    week_8    week_9    ...      week_44   week_45  week_46  \\\n",
       "0  6.256861  5.470849  4.960846    ...     2.579153  2.825046  3.13950   \n",
       "1  2.589673  2.190691  2.589630    ...     1.306854  1.565698  1.54435   \n",
       "\n",
       "    week_47   week_48   week_49   week_50   week_51   week_52   week_53  \n",
       "0  3.914537  3.930459  4.669928  6.318017  7.920726  8.795278  11.22120  \n",
       "1  1.562975  1.568266  1.510352  1.671861  2.022891  2.556303   2.36626  \n",
       "\n",
       "[2 rows x 35 columns]"
      ]
     },
     "execution_count": 4,
     "metadata": {},
     "output_type": "execute_result"
    }
   ],
   "source": [
    "df1 = pd.read_csv(\"ILI_Weekly_State_Avg.csv\")\n",
    "df1.head(2)"
   ]
  },
  {
   "cell_type": "code",
   "execution_count": 5,
   "metadata": {},
   "outputs": [
    {
     "data": {
      "text/html": [
       "<div>\n",
       "<style scoped>\n",
       "    .dataframe tbody tr th:only-of-type {\n",
       "        vertical-align: middle;\n",
       "    }\n",
       "\n",
       "    .dataframe tbody tr th {\n",
       "        vertical-align: top;\n",
       "    }\n",
       "\n",
       "    .dataframe thead th {\n",
       "        text-align: right;\n",
       "    }\n",
       "</style>\n",
       "<table border=\"1\" class=\"dataframe\">\n",
       "  <thead>\n",
       "    <tr style=\"text-align: right;\">\n",
       "      <th></th>\n",
       "      <th>week_1</th>\n",
       "      <th>week_2</th>\n",
       "      <th>week_3</th>\n",
       "      <th>week_4</th>\n",
       "      <th>week_5</th>\n",
       "      <th>week_6</th>\n",
       "      <th>week_7</th>\n",
       "      <th>week_8</th>\n",
       "      <th>week_9</th>\n",
       "      <th>week_10</th>\n",
       "      <th>...</th>\n",
       "      <th>week_44</th>\n",
       "      <th>week_45</th>\n",
       "      <th>week_46</th>\n",
       "      <th>week_47</th>\n",
       "      <th>week_48</th>\n",
       "      <th>week_49</th>\n",
       "      <th>week_50</th>\n",
       "      <th>week_51</th>\n",
       "      <th>week_52</th>\n",
       "      <th>week_53</th>\n",
       "    </tr>\n",
       "    <tr>\n",
       "      <th>REGION</th>\n",
       "      <th></th>\n",
       "      <th></th>\n",
       "      <th></th>\n",
       "      <th></th>\n",
       "      <th></th>\n",
       "      <th></th>\n",
       "      <th></th>\n",
       "      <th></th>\n",
       "      <th></th>\n",
       "      <th></th>\n",
       "      <th></th>\n",
       "      <th></th>\n",
       "      <th></th>\n",
       "      <th></th>\n",
       "      <th></th>\n",
       "      <th></th>\n",
       "      <th></th>\n",
       "      <th></th>\n",
       "      <th></th>\n",
       "      <th></th>\n",
       "      <th></th>\n",
       "    </tr>\n",
       "  </thead>\n",
       "  <tbody>\n",
       "    <tr>\n",
       "      <th>Alabama</th>\n",
       "      <td>6.370629</td>\n",
       "      <td>6.964126</td>\n",
       "      <td>7.661381</td>\n",
       "      <td>7.435979</td>\n",
       "      <td>7.277602</td>\n",
       "      <td>7.068386</td>\n",
       "      <td>6.256861</td>\n",
       "      <td>5.470849</td>\n",
       "      <td>4.960846</td>\n",
       "      <td>4.755156</td>\n",
       "      <td>...</td>\n",
       "      <td>2.579153</td>\n",
       "      <td>2.825046</td>\n",
       "      <td>3.139500</td>\n",
       "      <td>3.914537</td>\n",
       "      <td>3.930459</td>\n",
       "      <td>4.669928</td>\n",
       "      <td>6.318017</td>\n",
       "      <td>7.920726</td>\n",
       "      <td>8.795278</td>\n",
       "      <td>11.22120</td>\n",
       "    </tr>\n",
       "    <tr>\n",
       "      <th>Alaska</th>\n",
       "      <td>1.766894</td>\n",
       "      <td>2.010301</td>\n",
       "      <td>1.993347</td>\n",
       "      <td>1.771273</td>\n",
       "      <td>2.355049</td>\n",
       "      <td>2.244505</td>\n",
       "      <td>2.589673</td>\n",
       "      <td>2.190691</td>\n",
       "      <td>2.589630</td>\n",
       "      <td>2.373729</td>\n",
       "      <td>...</td>\n",
       "      <td>1.306854</td>\n",
       "      <td>1.565698</td>\n",
       "      <td>1.544350</td>\n",
       "      <td>1.562975</td>\n",
       "      <td>1.568266</td>\n",
       "      <td>1.510352</td>\n",
       "      <td>1.671861</td>\n",
       "      <td>2.022891</td>\n",
       "      <td>2.556303</td>\n",
       "      <td>2.36626</td>\n",
       "    </tr>\n",
       "    <tr>\n",
       "      <th>Arizona</th>\n",
       "      <td>2.901751</td>\n",
       "      <td>2.649474</td>\n",
       "      <td>3.168582</td>\n",
       "      <td>3.214370</td>\n",
       "      <td>3.087903</td>\n",
       "      <td>3.170538</td>\n",
       "      <td>3.146787</td>\n",
       "      <td>3.004246</td>\n",
       "      <td>2.715038</td>\n",
       "      <td>2.384350</td>\n",
       "      <td>...</td>\n",
       "      <td>1.448226</td>\n",
       "      <td>1.354446</td>\n",
       "      <td>1.500060</td>\n",
       "      <td>1.573424</td>\n",
       "      <td>1.793631</td>\n",
       "      <td>1.921139</td>\n",
       "      <td>2.279462</td>\n",
       "      <td>2.662839</td>\n",
       "      <td>3.080307</td>\n",
       "      <td>2.65764</td>\n",
       "    </tr>\n",
       "    <tr>\n",
       "      <th>Arkansas</th>\n",
       "      <td>4.281816</td>\n",
       "      <td>5.101146</td>\n",
       "      <td>5.373053</td>\n",
       "      <td>5.374030</td>\n",
       "      <td>5.660437</td>\n",
       "      <td>5.830056</td>\n",
       "      <td>5.198441</td>\n",
       "      <td>4.212520</td>\n",
       "      <td>4.008509</td>\n",
       "      <td>3.508576</td>\n",
       "      <td>...</td>\n",
       "      <td>1.356330</td>\n",
       "      <td>1.400975</td>\n",
       "      <td>1.593388</td>\n",
       "      <td>1.724070</td>\n",
       "      <td>1.823856</td>\n",
       "      <td>1.993462</td>\n",
       "      <td>2.662367</td>\n",
       "      <td>4.364511</td>\n",
       "      <td>5.286013</td>\n",
       "      <td>5.00131</td>\n",
       "    </tr>\n",
       "    <tr>\n",
       "      <th>California</th>\n",
       "      <td>4.028955</td>\n",
       "      <td>3.694313</td>\n",
       "      <td>3.826214</td>\n",
       "      <td>4.235409</td>\n",
       "      <td>4.227718</td>\n",
       "      <td>3.986936</td>\n",
       "      <td>3.882070</td>\n",
       "      <td>3.714905</td>\n",
       "      <td>3.474365</td>\n",
       "      <td>3.315829</td>\n",
       "      <td>...</td>\n",
       "      <td>2.043682</td>\n",
       "      <td>2.146360</td>\n",
       "      <td>2.273906</td>\n",
       "      <td>2.429978</td>\n",
       "      <td>2.276381</td>\n",
       "      <td>2.456101</td>\n",
       "      <td>2.832426</td>\n",
       "      <td>3.457791</td>\n",
       "      <td>4.553783</td>\n",
       "      <td>4.77128</td>\n",
       "    </tr>\n",
       "  </tbody>\n",
       "</table>\n",
       "<p>5 rows × 34 columns</p>\n",
       "</div>"
      ],
      "text/plain": [
       "              week_1    week_2    week_3    week_4    week_5    week_6  \\\n",
       "REGION                                                                   \n",
       "Alabama     6.370629  6.964126  7.661381  7.435979  7.277602  7.068386   \n",
       "Alaska      1.766894  2.010301  1.993347  1.771273  2.355049  2.244505   \n",
       "Arizona     2.901751  2.649474  3.168582  3.214370  3.087903  3.170538   \n",
       "Arkansas    4.281816  5.101146  5.373053  5.374030  5.660437  5.830056   \n",
       "California  4.028955  3.694313  3.826214  4.235409  4.227718  3.986936   \n",
       "\n",
       "              week_7    week_8    week_9   week_10    ...      week_44  \\\n",
       "REGION                                                ...                \n",
       "Alabama     6.256861  5.470849  4.960846  4.755156    ...     2.579153   \n",
       "Alaska      2.589673  2.190691  2.589630  2.373729    ...     1.306854   \n",
       "Arizona     3.146787  3.004246  2.715038  2.384350    ...     1.448226   \n",
       "Arkansas    5.198441  4.212520  4.008509  3.508576    ...     1.356330   \n",
       "California  3.882070  3.714905  3.474365  3.315829    ...     2.043682   \n",
       "\n",
       "             week_45   week_46   week_47   week_48   week_49   week_50  \\\n",
       "REGION                                                                   \n",
       "Alabama     2.825046  3.139500  3.914537  3.930459  4.669928  6.318017   \n",
       "Alaska      1.565698  1.544350  1.562975  1.568266  1.510352  1.671861   \n",
       "Arizona     1.354446  1.500060  1.573424  1.793631  1.921139  2.279462   \n",
       "Arkansas    1.400975  1.593388  1.724070  1.823856  1.993462  2.662367   \n",
       "California  2.146360  2.273906  2.429978  2.276381  2.456101  2.832426   \n",
       "\n",
       "             week_51   week_52   week_53  \n",
       "REGION                                    \n",
       "Alabama     7.920726  8.795278  11.22120  \n",
       "Alaska      2.022891  2.556303   2.36626  \n",
       "Arizona     2.662839  3.080307   2.65764  \n",
       "Arkansas    4.364511  5.286013   5.00131  \n",
       "California  3.457791  4.553783   4.77128  \n",
       "\n",
       "[5 rows x 34 columns]"
      ]
     },
     "execution_count": 5,
     "metadata": {},
     "output_type": "execute_result"
    }
   ],
   "source": [
    "df1 = df1.set_index([\"REGION\"])\n",
    "df1.head()"
   ]
  },
  {
   "cell_type": "code",
   "execution_count": 6,
   "metadata": {},
   "outputs": [
    {
     "data": {
      "text/html": [
       "<div>\n",
       "<style scoped>\n",
       "    .dataframe tbody tr th:only-of-type {\n",
       "        vertical-align: middle;\n",
       "    }\n",
       "\n",
       "    .dataframe tbody tr th {\n",
       "        vertical-align: top;\n",
       "    }\n",
       "\n",
       "    .dataframe thead th {\n",
       "        text-align: right;\n",
       "    }\n",
       "</style>\n",
       "<table border=\"1\" class=\"dataframe\">\n",
       "  <thead>\n",
       "    <tr style=\"text-align: right;\">\n",
       "      <th>REGION</th>\n",
       "      <th>Alabama</th>\n",
       "      <th>Alaska</th>\n",
       "      <th>Arizona</th>\n",
       "      <th>Arkansas</th>\n",
       "      <th>California</th>\n",
       "      <th>Colorado</th>\n",
       "      <th>Connecticut</th>\n",
       "      <th>Delaware</th>\n",
       "      <th>District of Columbia</th>\n",
       "      <th>Florida</th>\n",
       "      <th>...</th>\n",
       "      <th>Tennessee</th>\n",
       "      <th>Texas</th>\n",
       "      <th>Utah</th>\n",
       "      <th>Vermont</th>\n",
       "      <th>Virgin Islands</th>\n",
       "      <th>Virginia</th>\n",
       "      <th>Washington</th>\n",
       "      <th>West Virginia</th>\n",
       "      <th>Wisconsin</th>\n",
       "      <th>Wyoming</th>\n",
       "    </tr>\n",
       "  </thead>\n",
       "  <tbody>\n",
       "    <tr>\n",
       "      <th>week_1</th>\n",
       "      <td>6.370629</td>\n",
       "      <td>1.766894</td>\n",
       "      <td>2.901751</td>\n",
       "      <td>4.281816</td>\n",
       "      <td>4.028955</td>\n",
       "      <td>2.049578</td>\n",
       "      <td>2.400804</td>\n",
       "      <td>1.338100</td>\n",
       "      <td>8.171689</td>\n",
       "      <td>0.0</td>\n",
       "      <td>...</td>\n",
       "      <td>3.969515</td>\n",
       "      <td>6.643214</td>\n",
       "      <td>3.047853</td>\n",
       "      <td>2.637425</td>\n",
       "      <td>0.973884</td>\n",
       "      <td>3.916841</td>\n",
       "      <td>2.437575</td>\n",
       "      <td>2.978248</td>\n",
       "      <td>2.291341</td>\n",
       "      <td>2.536921</td>\n",
       "    </tr>\n",
       "    <tr>\n",
       "      <th>week_2</th>\n",
       "      <td>6.964126</td>\n",
       "      <td>2.010301</td>\n",
       "      <td>2.649474</td>\n",
       "      <td>5.101146</td>\n",
       "      <td>3.694313</td>\n",
       "      <td>1.889047</td>\n",
       "      <td>2.642843</td>\n",
       "      <td>1.960417</td>\n",
       "      <td>7.175295</td>\n",
       "      <td>0.0</td>\n",
       "      <td>...</td>\n",
       "      <td>3.498934</td>\n",
       "      <td>6.588232</td>\n",
       "      <td>3.076584</td>\n",
       "      <td>2.806096</td>\n",
       "      <td>1.812476</td>\n",
       "      <td>3.847870</td>\n",
       "      <td>2.230000</td>\n",
       "      <td>3.000258</td>\n",
       "      <td>2.320207</td>\n",
       "      <td>2.931094</td>\n",
       "    </tr>\n",
       "    <tr>\n",
       "      <th>week_3</th>\n",
       "      <td>7.661381</td>\n",
       "      <td>1.993347</td>\n",
       "      <td>3.168582</td>\n",
       "      <td>5.373053</td>\n",
       "      <td>3.826214</td>\n",
       "      <td>2.030161</td>\n",
       "      <td>3.068027</td>\n",
       "      <td>1.922858</td>\n",
       "      <td>5.408062</td>\n",
       "      <td>0.0</td>\n",
       "      <td>...</td>\n",
       "      <td>3.983725</td>\n",
       "      <td>6.280990</td>\n",
       "      <td>3.061443</td>\n",
       "      <td>3.087066</td>\n",
       "      <td>1.368254</td>\n",
       "      <td>4.051611</td>\n",
       "      <td>2.386326</td>\n",
       "      <td>3.554352</td>\n",
       "      <td>2.441097</td>\n",
       "      <td>3.061053</td>\n",
       "    </tr>\n",
       "    <tr>\n",
       "      <th>week_4</th>\n",
       "      <td>7.435979</td>\n",
       "      <td>1.771273</td>\n",
       "      <td>3.214370</td>\n",
       "      <td>5.374030</td>\n",
       "      <td>4.235409</td>\n",
       "      <td>2.077329</td>\n",
       "      <td>3.096562</td>\n",
       "      <td>2.073742</td>\n",
       "      <td>6.251099</td>\n",
       "      <td>0.0</td>\n",
       "      <td>...</td>\n",
       "      <td>3.423732</td>\n",
       "      <td>6.585958</td>\n",
       "      <td>2.699426</td>\n",
       "      <td>3.467884</td>\n",
       "      <td>1.038626</td>\n",
       "      <td>3.918004</td>\n",
       "      <td>2.376008</td>\n",
       "      <td>3.601549</td>\n",
       "      <td>2.555305</td>\n",
       "      <td>3.223649</td>\n",
       "    </tr>\n",
       "    <tr>\n",
       "      <th>week_5</th>\n",
       "      <td>7.277602</td>\n",
       "      <td>2.355049</td>\n",
       "      <td>3.087903</td>\n",
       "      <td>5.660437</td>\n",
       "      <td>4.227718</td>\n",
       "      <td>2.236662</td>\n",
       "      <td>3.470586</td>\n",
       "      <td>1.787819</td>\n",
       "      <td>6.358745</td>\n",
       "      <td>0.0</td>\n",
       "      <td>...</td>\n",
       "      <td>3.787902</td>\n",
       "      <td>6.587402</td>\n",
       "      <td>2.761200</td>\n",
       "      <td>3.562659</td>\n",
       "      <td>1.261181</td>\n",
       "      <td>4.212277</td>\n",
       "      <td>2.098945</td>\n",
       "      <td>3.113282</td>\n",
       "      <td>2.564747</td>\n",
       "      <td>3.237445</td>\n",
       "    </tr>\n",
       "  </tbody>\n",
       "</table>\n",
       "<p>5 rows × 54 columns</p>\n",
       "</div>"
      ],
      "text/plain": [
       "REGION   Alabama    Alaska   Arizona  Arkansas  California  Colorado  \\\n",
       "week_1  6.370629  1.766894  2.901751  4.281816    4.028955  2.049578   \n",
       "week_2  6.964126  2.010301  2.649474  5.101146    3.694313  1.889047   \n",
       "week_3  7.661381  1.993347  3.168582  5.373053    3.826214  2.030161   \n",
       "week_4  7.435979  1.771273  3.214370  5.374030    4.235409  2.077329   \n",
       "week_5  7.277602  2.355049  3.087903  5.660437    4.227718  2.236662   \n",
       "\n",
       "REGION  Connecticut  Delaware  District of Columbia  Florida    ...     \\\n",
       "week_1     2.400804  1.338100              8.171689      0.0    ...      \n",
       "week_2     2.642843  1.960417              7.175295      0.0    ...      \n",
       "week_3     3.068027  1.922858              5.408062      0.0    ...      \n",
       "week_4     3.096562  2.073742              6.251099      0.0    ...      \n",
       "week_5     3.470586  1.787819              6.358745      0.0    ...      \n",
       "\n",
       "REGION  Tennessee     Texas      Utah   Vermont  Virgin Islands  Virginia  \\\n",
       "week_1   3.969515  6.643214  3.047853  2.637425        0.973884  3.916841   \n",
       "week_2   3.498934  6.588232  3.076584  2.806096        1.812476  3.847870   \n",
       "week_3   3.983725  6.280990  3.061443  3.087066        1.368254  4.051611   \n",
       "week_4   3.423732  6.585958  2.699426  3.467884        1.038626  3.918004   \n",
       "week_5   3.787902  6.587402  2.761200  3.562659        1.261181  4.212277   \n",
       "\n",
       "REGION  Washington  West Virginia  Wisconsin   Wyoming  \n",
       "week_1    2.437575       2.978248   2.291341  2.536921  \n",
       "week_2    2.230000       3.000258   2.320207  2.931094  \n",
       "week_3    2.386326       3.554352   2.441097  3.061053  \n",
       "week_4    2.376008       3.601549   2.555305  3.223649  \n",
       "week_5    2.098945       3.113282   2.564747  3.237445  \n",
       "\n",
       "[5 rows x 54 columns]"
      ]
     },
     "execution_count": 6,
     "metadata": {},
     "output_type": "execute_result"
    }
   ],
   "source": [
    "model_df = df1.transpose()\n",
    "model_df.head()"
   ]
  },
  {
   "cell_type": "code",
   "execution_count": null,
   "metadata": {},
   "outputs": [],
   "source": []
  },
  {
   "cell_type": "code",
   "execution_count": null,
   "metadata": {},
   "outputs": [],
   "source": []
  },
  {
   "cell_type": "code",
   "execution_count": null,
   "metadata": {},
   "outputs": [],
   "source": []
  },
  {
   "cell_type": "code",
   "execution_count": 18,
   "metadata": {},
   "outputs": [
    {
     "data": {
      "text/plain": [
       "((482, 33), (482, 1))"
      ]
     },
     "execution_count": 18,
     "metadata": {},
     "output_type": "execute_result"
    }
   ],
   "source": [
    "# X's are a given season's weekly incidences.\n",
    "# y's are the averages of all incidences in the same state in the season after the current one (e.g. 2011 for 2010)#\n",
    "\n",
    "X = flu_compact_df.values\n",
    "y = np.array(next_season_means)\n",
    "X.shape, y.shape"
   ]
  },
  {
   "cell_type": "code",
   "execution_count": 19,
   "metadata": {},
   "outputs": [],
   "source": [
    "X_train, X_test, y_train, y_test = train_test_split(X, y, test_size = .25, random_state = 0) #25% hold for testing"
   ]
  },
  {
   "cell_type": "code",
   "execution_count": 20,
   "metadata": {},
   "outputs": [
    {
     "name": "stdout",
     "output_type": "stream",
     "text": [
      "(361, 33) (121, 33)\n"
     ]
    }
   ],
   "source": [
    "print(X_train.shape, X_test.shape)"
   ]
  },
  {
   "cell_type": "markdown",
   "metadata": {},
   "source": [
    "# Reference https://shankarmsy.github.io/stories/gbrt-sklearn.html#"
   ]
  },
  {
   "cell_type": "code",
   "execution_count": 21,
   "metadata": {},
   "outputs": [],
   "source": [
    "gbrt = GradientBoostingRegressor(n_estimators=300, max_depth=3) # number of sequential trees to be modeled"
   ]
  },
  {
   "cell_type": "code",
   "execution_count": 22,
   "metadata": {},
   "outputs": [
    {
     "name": "stderr",
     "output_type": "stream",
     "text": [
      "C:\\Users\\emame\\Anaconda3\\lib\\site-packages\\sklearn\\utils\\validation.py:761: DataConversionWarning: A column-vector y was passed when a 1d array was expected. Please change the shape of y to (n_samples, ), for example using ravel().\n",
      "  y = column_or_1d(y, warn=True)\n"
     ]
    },
    {
     "data": {
      "text/plain": [
       "GradientBoostingRegressor(alpha=0.9, criterion='friedman_mse', init=None,\n",
       "             learning_rate=0.1, loss='ls', max_depth=3, max_features=None,\n",
       "             max_leaf_nodes=None, min_impurity_decrease=0.0,\n",
       "             min_impurity_split=None, min_samples_leaf=1,\n",
       "             min_samples_split=2, min_weight_fraction_leaf=0.0,\n",
       "             n_estimators=300, n_iter_no_change=None, presort='auto',\n",
       "             random_state=None, subsample=1.0, tol=0.0001,\n",
       "             validation_fraction=0.1, verbose=0, warm_start=False)"
      ]
     },
     "execution_count": 22,
     "metadata": {},
     "output_type": "execute_result"
    }
   ],
   "source": [
    "gbrt.fit(X_train, y_train) "
   ]
  },
  {
   "cell_type": "code",
   "execution_count": 23,
   "metadata": {},
   "outputs": [],
   "source": [
    "y_pred = gbrt.predict(X_test) "
   ]
  },
  {
   "cell_type": "code",
   "execution_count": 24,
   "metadata": {},
   "outputs": [],
   "source": [
    "y_pred = gbrt.predict(X_test)"
   ]
  },
  {
   "cell_type": "code",
   "execution_count": 25,
   "metadata": {},
   "outputs": [],
   "source": [
    "# y_pred"
   ]
  },
  {
   "cell_type": "code",
   "execution_count": 26,
   "metadata": {},
   "outputs": [],
   "source": [
    "from sklearn.metrics import mean_squared_error"
   ]
  },
  {
   "cell_type": "code",
   "execution_count": 27,
   "metadata": {},
   "outputs": [
    {
     "data": {
      "text/plain": [
       "0.03482299375479534"
      ]
     },
     "execution_count": 27,
     "metadata": {},
     "output_type": "execute_result"
    }
   ],
   "source": [
    "mean_squared_error(y_test, y_pred)"
   ]
  },
  {
   "cell_type": "code",
   "execution_count": 28,
   "metadata": {},
   "outputs": [],
   "source": [
    "from sklearn.metrics import r2_score"
   ]
  },
  {
   "cell_type": "code",
   "execution_count": 29,
   "metadata": {},
   "outputs": [
    {
     "data": {
      "text/plain": [
       "0.981325920519874"
      ]
     },
     "execution_count": 29,
     "metadata": {},
     "output_type": "execute_result"
    }
   ],
   "source": [
    "r2_score(y_test, y_pred)"
   ]
  },
  {
   "cell_type": "code",
   "execution_count": null,
   "metadata": {},
   "outputs": [],
   "source": []
  },
  {
   "cell_type": "code",
   "execution_count": 31,
   "metadata": {},
   "outputs": [
    {
     "name": "stdout",
     "output_type": "stream",
     "text": [
      "R-squared for Train: 1.00\n",
      "R-squared for Test: 0.98\n"
     ]
    }
   ],
   "source": [
    "print(\"R-squared for Train: %.2f\" %gbrt.score(X_train, y_train)) \n",
    "print(\"R-squared for Test: %.2f\" %gbrt.score(X_test, y_test)) "
   ]
  },
  {
   "cell_type": "code",
   "execution_count": null,
   "metadata": {},
   "outputs": [],
   "source": []
  },
  {
   "cell_type": "code",
   "execution_count": 123,
   "metadata": {},
   "outputs": [],
   "source": [
    "# RF predictors variable importance\n",
    "# print(gbrt.feature_importances_)"
   ]
  },
  {
   "cell_type": "code",
   "execution_count": 121,
   "metadata": {},
   "outputs": [],
   "source": [
    "# store most important variavles under importances\n",
    "# importances = gbrt.feature_importances_"
   ]
  },
  {
   "cell_type": "code",
   "execution_count": 122,
   "metadata": {},
   "outputs": [],
   "source": [
    "# sort imprtant varibles and sotre them under indices\n",
    "# indices = np.argsort(importances)[::-1]\n",
    "# for f in range(X.shape[1]):\n",
    "#     print(\"%d. feature %d (%f)\" % (f +1, indices[f], importances[indices[f]])) "
   ]
  },
  {
   "cell_type": "code",
   "execution_count": null,
   "metadata": {},
   "outputs": [],
   "source": []
  },
  {
   "cell_type": "code",
   "execution_count": 146,
   "metadata": {},
   "outputs": [],
   "source": [
    "gbrt1 = GradientBoostingRegressor(n_estimators=100, max_depth=2) "
   ]
  },
  {
   "cell_type": "code",
   "execution_count": 147,
   "metadata": {},
   "outputs": [
    {
     "name": "stderr",
     "output_type": "stream",
     "text": [
      "C:\\Users\\emame\\Anaconda3\\lib\\site-packages\\sklearn\\utils\\validation.py:761: DataConversionWarning: A column-vector y was passed when a 1d array was expected. Please change the shape of y to (n_samples, ), for example using ravel().\n",
      "  y = column_or_1d(y, warn=True)\n"
     ]
    },
    {
     "data": {
      "text/plain": [
       "GradientBoostingRegressor(alpha=0.9, criterion='friedman_mse', init=None,\n",
       "             learning_rate=0.1, loss='ls', max_depth=2, max_features=None,\n",
       "             max_leaf_nodes=None, min_impurity_decrease=0.0,\n",
       "             min_impurity_split=None, min_samples_leaf=1,\n",
       "             min_samples_split=2, min_weight_fraction_leaf=0.0,\n",
       "             n_estimators=100, n_iter_no_change=None, presort='auto',\n",
       "             random_state=None, subsample=1.0, tol=0.0001,\n",
       "             validation_fraction=0.1, verbose=0, warm_start=False)"
      ]
     },
     "execution_count": 147,
     "metadata": {},
     "output_type": "execute_result"
    }
   ],
   "source": [
    "gbrt1.fit(X_train, y_train) "
   ]
  },
  {
   "cell_type": "code",
   "execution_count": 148,
   "metadata": {},
   "outputs": [],
   "source": [
    "y_pred = gbrt1.predict(X_test)"
   ]
  },
  {
   "cell_type": "code",
   "execution_count": 149,
   "metadata": {},
   "outputs": [
    {
     "data": {
      "text/plain": [
       "0.036783361276478195"
      ]
     },
     "execution_count": 149,
     "metadata": {},
     "output_type": "execute_result"
    }
   ],
   "source": [
    "mean_squared_error(y_test, y_pred)"
   ]
  },
  {
   "cell_type": "code",
   "execution_count": 150,
   "metadata": {},
   "outputs": [
    {
     "data": {
      "text/plain": [
       "0.9802746594144119"
      ]
     },
     "execution_count": 150,
     "metadata": {},
     "output_type": "execute_result"
    }
   ],
   "source": [
    "r2_score(y_test, y_pred)"
   ]
  },
  {
   "cell_type": "code",
   "execution_count": null,
   "metadata": {},
   "outputs": [],
   "source": []
  }
 ],
 "metadata": {
  "kernelspec": {
   "display_name": "Python 3",
   "language": "python",
   "name": "python3"
  },
  "language_info": {
   "codemirror_mode": {
    "name": "ipython",
    "version": 3
   },
   "file_extension": ".py",
   "mimetype": "text/x-python",
   "name": "python",
   "nbconvert_exporter": "python",
   "pygments_lexer": "ipython3",
   "version": "3.7.1"
  }
 },
 "nbformat": 4,
 "nbformat_minor": 2
}
