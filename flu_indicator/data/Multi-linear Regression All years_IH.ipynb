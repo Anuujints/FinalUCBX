{
 "cells": [
  {
   "cell_type": "code",
   "execution_count": 54,
   "metadata": {},
   "outputs": [],
   "source": [
    "%matplotlib inline\n",
    "import matplotlib.pyplot as plt\n",
    "import numpy as np\n",
    "import pandas as pd"
   ]
  },
  {
   "cell_type": "code",
   "execution_count": 55,
   "metadata": {},
   "outputs": [],
   "source": [
    "#for col in g_trend.columns: \n",
    "    #print(col) "
   ]
  },
  {
   "cell_type": "code",
   "execution_count": 289,
   "metadata": {},
   "outputs": [
    {
     "data": {
      "text/html": [
       "<div>\n",
       "<style scoped>\n",
       "    .dataframe tbody tr th:only-of-type {\n",
       "        vertical-align: middle;\n",
       "    }\n",
       "\n",
       "    .dataframe tbody tr th {\n",
       "        vertical-align: top;\n",
       "    }\n",
       "\n",
       "    .dataframe thead th {\n",
       "        text-align: right;\n",
       "    }\n",
       "</style>\n",
       "<table border=\"1\" class=\"dataframe\">\n",
       "  <thead>\n",
       "    <tr style=\"text-align: right;\">\n",
       "      <th></th>\n",
       "      <th>Unnamed: 0</th>\n",
       "      <th>ILI_weeks</th>\n",
       "      <th>a_influenza</th>\n",
       "      <th>acute_bronchitis</th>\n",
       "      <th>body_temperature</th>\n",
       "      <th>braun_thermoscan</th>\n",
       "      <th>break_a_fever</th>\n",
       "      <th>bronchitis</th>\n",
       "      <th>chest_cold</th>\n",
       "      <th>cold_and_flu</th>\n",
       "      <th>...</th>\n",
       "      <th>what_to_do_if_you_have_the_flu</th>\n",
       "      <th>Flu_Visit_Count</th>\n",
       "      <th>ILI_Visit_Count</th>\n",
       "      <th>Unspecified</th>\n",
       "      <th>Unweighted_ILI</th>\n",
       "      <th>Label</th>\n",
       "      <th>ILI_lagwk1</th>\n",
       "      <th>ILI_lagwk2</th>\n",
       "      <th>ILI_lagwk3</th>\n",
       "      <th>ILI_lagwk4</th>\n",
       "    </tr>\n",
       "  </thead>\n",
       "  <tbody>\n",
       "    <tr>\n",
       "      <th>0</th>\n",
       "      <td>0</td>\n",
       "      <td>2004_1</td>\n",
       "      <td>11</td>\n",
       "      <td>50</td>\n",
       "      <td>58</td>\n",
       "      <td>100</td>\n",
       "      <td>15</td>\n",
       "      <td>34</td>\n",
       "      <td>27</td>\n",
       "      <td>26</td>\n",
       "      <td>...</td>\n",
       "      <td>0</td>\n",
       "      <td>NaN</td>\n",
       "      <td>NaN</td>\n",
       "      <td>NaN</td>\n",
       "      <td>2.41833</td>\n",
       "      <td>2.41833</td>\n",
       "      <td>1.80906</td>\n",
       "      <td>1.71202</td>\n",
       "      <td>1.54250</td>\n",
       "      <td>1.43787</td>\n",
       "    </tr>\n",
       "    <tr>\n",
       "      <th>1</th>\n",
       "      <td>1</td>\n",
       "      <td>2004_2</td>\n",
       "      <td>7</td>\n",
       "      <td>41</td>\n",
       "      <td>70</td>\n",
       "      <td>54</td>\n",
       "      <td>12</td>\n",
       "      <td>31</td>\n",
       "      <td>17</td>\n",
       "      <td>20</td>\n",
       "      <td>...</td>\n",
       "      <td>0</td>\n",
       "      <td>NaN</td>\n",
       "      <td>NaN</td>\n",
       "      <td>NaN</td>\n",
       "      <td>1.80906</td>\n",
       "      <td>1.80906</td>\n",
       "      <td>1.71202</td>\n",
       "      <td>1.54250</td>\n",
       "      <td>1.43787</td>\n",
       "      <td>1.32427</td>\n",
       "    </tr>\n",
       "    <tr>\n",
       "      <th>2</th>\n",
       "      <td>2</td>\n",
       "      <td>2004_3</td>\n",
       "      <td>6</td>\n",
       "      <td>40</td>\n",
       "      <td>53</td>\n",
       "      <td>40</td>\n",
       "      <td>15</td>\n",
       "      <td>29</td>\n",
       "      <td>20</td>\n",
       "      <td>16</td>\n",
       "      <td>...</td>\n",
       "      <td>0</td>\n",
       "      <td>NaN</td>\n",
       "      <td>NaN</td>\n",
       "      <td>NaN</td>\n",
       "      <td>1.71202</td>\n",
       "      <td>1.71202</td>\n",
       "      <td>1.54250</td>\n",
       "      <td>1.43787</td>\n",
       "      <td>1.32427</td>\n",
       "      <td>1.30726</td>\n",
       "    </tr>\n",
       "    <tr>\n",
       "      <th>3</th>\n",
       "      <td>3</td>\n",
       "      <td>2004_4</td>\n",
       "      <td>4</td>\n",
       "      <td>32</td>\n",
       "      <td>57</td>\n",
       "      <td>26</td>\n",
       "      <td>18</td>\n",
       "      <td>25</td>\n",
       "      <td>21</td>\n",
       "      <td>12</td>\n",
       "      <td>...</td>\n",
       "      <td>0</td>\n",
       "      <td>NaN</td>\n",
       "      <td>NaN</td>\n",
       "      <td>NaN</td>\n",
       "      <td>1.54250</td>\n",
       "      <td>1.54250</td>\n",
       "      <td>1.43787</td>\n",
       "      <td>1.32427</td>\n",
       "      <td>1.30726</td>\n",
       "      <td>1.03698</td>\n",
       "    </tr>\n",
       "    <tr>\n",
       "      <th>4</th>\n",
       "      <td>4</td>\n",
       "      <td>2004_5</td>\n",
       "      <td>3</td>\n",
       "      <td>31</td>\n",
       "      <td>46</td>\n",
       "      <td>80</td>\n",
       "      <td>21</td>\n",
       "      <td>25</td>\n",
       "      <td>9</td>\n",
       "      <td>10</td>\n",
       "      <td>...</td>\n",
       "      <td>0</td>\n",
       "      <td>NaN</td>\n",
       "      <td>NaN</td>\n",
       "      <td>NaN</td>\n",
       "      <td>1.43787</td>\n",
       "      <td>1.43787</td>\n",
       "      <td>1.32427</td>\n",
       "      <td>1.30726</td>\n",
       "      <td>1.03698</td>\n",
       "      <td>1.01032</td>\n",
       "    </tr>\n",
       "  </tbody>\n",
       "</table>\n",
       "<p>5 rows × 140 columns</p>\n",
       "</div>"
      ],
      "text/plain": [
       "   Unnamed: 0 ILI_weeks  a_influenza  acute_bronchitis  body_temperature  \\\n",
       "0           0    2004_1           11                50                58   \n",
       "1           1    2004_2            7                41                70   \n",
       "2           2    2004_3            6                40                53   \n",
       "3           3    2004_4            4                32                57   \n",
       "4           4    2004_5            3                31                46   \n",
       "\n",
       "   braun_thermoscan  break_a_fever  bronchitis  chest_cold  cold_and_flu  ...  \\\n",
       "0               100             15          34          27            26  ...   \n",
       "1                54             12          31          17            20  ...   \n",
       "2                40             15          29          20            16  ...   \n",
       "3                26             18          25          21            12  ...   \n",
       "4                80             21          25           9            10  ...   \n",
       "\n",
       "   what_to_do_if_you_have_the_flu  Flu_Visit_Count  ILI_Visit_Count  \\\n",
       "0                               0              NaN              NaN   \n",
       "1                               0              NaN              NaN   \n",
       "2                               0              NaN              NaN   \n",
       "3                               0              NaN              NaN   \n",
       "4                               0              NaN              NaN   \n",
       "\n",
       "   Unspecified  Unweighted_ILI    Label  ILI_lagwk1  ILI_lagwk2  ILI_lagwk3  \\\n",
       "0          NaN         2.41833  2.41833     1.80906     1.71202     1.54250   \n",
       "1          NaN         1.80906  1.80906     1.71202     1.54250     1.43787   \n",
       "2          NaN         1.71202  1.71202     1.54250     1.43787     1.32427   \n",
       "3          NaN         1.54250  1.54250     1.43787     1.32427     1.30726   \n",
       "4          NaN         1.43787  1.43787     1.32427     1.30726     1.03698   \n",
       "\n",
       "   ILI_lagwk4  \n",
       "0     1.43787  \n",
       "1     1.32427  \n",
       "2     1.30726  \n",
       "3     1.03698  \n",
       "4     1.01032  \n",
       "\n",
       "[5 rows x 140 columns]"
      ]
     },
     "execution_count": 289,
     "metadata": {},
     "output_type": "execute_result"
    }
   ],
   "source": [
    "df = pd.read_csv(\"Google_Trends_combined_allyears_IH.csv\")\n",
    "df.head()"
   ]
  },
  {
   "cell_type": "code",
   "execution_count": 290,
   "metadata": {},
   "outputs": [
    {
     "data": {
      "text/html": [
       "<div>\n",
       "<style scoped>\n",
       "    .dataframe tbody tr th:only-of-type {\n",
       "        vertical-align: middle;\n",
       "    }\n",
       "\n",
       "    .dataframe tbody tr th {\n",
       "        vertical-align: top;\n",
       "    }\n",
       "\n",
       "    .dataframe thead th {\n",
       "        text-align: right;\n",
       "    }\n",
       "</style>\n",
       "<table border=\"1\" class=\"dataframe\">\n",
       "  <thead>\n",
       "    <tr style=\"text-align: right;\">\n",
       "      <th></th>\n",
       "      <th>Unnamed: 0</th>\n",
       "      <th>ILI_weeks</th>\n",
       "      <th>a_influenza</th>\n",
       "      <th>acute_bronchitis</th>\n",
       "      <th>body_temperature</th>\n",
       "      <th>braun_thermoscan</th>\n",
       "      <th>break_a_fever</th>\n",
       "      <th>bronchitis</th>\n",
       "      <th>chest_cold</th>\n",
       "      <th>cold_and_flu</th>\n",
       "      <th>...</th>\n",
       "      <th>type_a_influenza</th>\n",
       "      <th>upper_respiratory</th>\n",
       "      <th>walking_pneumonia</th>\n",
       "      <th>what_to_do_if_you_have_the_flu</th>\n",
       "      <th>Unweighted_ILI</th>\n",
       "      <th>Label</th>\n",
       "      <th>ILI_lagwk1</th>\n",
       "      <th>ILI_lagwk2</th>\n",
       "      <th>ILI_lagwk3</th>\n",
       "      <th>ILI_lagwk4</th>\n",
       "    </tr>\n",
       "  </thead>\n",
       "  <tbody>\n",
       "    <tr>\n",
       "      <th>0</th>\n",
       "      <td>0</td>\n",
       "      <td>2004_1</td>\n",
       "      <td>11</td>\n",
       "      <td>50</td>\n",
       "      <td>58</td>\n",
       "      <td>100</td>\n",
       "      <td>15</td>\n",
       "      <td>34</td>\n",
       "      <td>27</td>\n",
       "      <td>26</td>\n",
       "      <td>...</td>\n",
       "      <td>20</td>\n",
       "      <td>37</td>\n",
       "      <td>57</td>\n",
       "      <td>0</td>\n",
       "      <td>2.41833</td>\n",
       "      <td>2.41833</td>\n",
       "      <td>1.80906</td>\n",
       "      <td>1.71202</td>\n",
       "      <td>1.54250</td>\n",
       "      <td>1.43787</td>\n",
       "    </tr>\n",
       "    <tr>\n",
       "      <th>1</th>\n",
       "      <td>1</td>\n",
       "      <td>2004_2</td>\n",
       "      <td>7</td>\n",
       "      <td>41</td>\n",
       "      <td>70</td>\n",
       "      <td>54</td>\n",
       "      <td>12</td>\n",
       "      <td>31</td>\n",
       "      <td>17</td>\n",
       "      <td>20</td>\n",
       "      <td>...</td>\n",
       "      <td>16</td>\n",
       "      <td>21</td>\n",
       "      <td>42</td>\n",
       "      <td>0</td>\n",
       "      <td>1.80906</td>\n",
       "      <td>1.80906</td>\n",
       "      <td>1.71202</td>\n",
       "      <td>1.54250</td>\n",
       "      <td>1.43787</td>\n",
       "      <td>1.32427</td>\n",
       "    </tr>\n",
       "    <tr>\n",
       "      <th>2</th>\n",
       "      <td>2</td>\n",
       "      <td>2004_3</td>\n",
       "      <td>6</td>\n",
       "      <td>40</td>\n",
       "      <td>53</td>\n",
       "      <td>40</td>\n",
       "      <td>15</td>\n",
       "      <td>29</td>\n",
       "      <td>20</td>\n",
       "      <td>16</td>\n",
       "      <td>...</td>\n",
       "      <td>16</td>\n",
       "      <td>17</td>\n",
       "      <td>38</td>\n",
       "      <td>0</td>\n",
       "      <td>1.71202</td>\n",
       "      <td>1.71202</td>\n",
       "      <td>1.54250</td>\n",
       "      <td>1.43787</td>\n",
       "      <td>1.32427</td>\n",
       "      <td>1.30726</td>\n",
       "    </tr>\n",
       "    <tr>\n",
       "      <th>3</th>\n",
       "      <td>3</td>\n",
       "      <td>2004_4</td>\n",
       "      <td>4</td>\n",
       "      <td>32</td>\n",
       "      <td>57</td>\n",
       "      <td>26</td>\n",
       "      <td>18</td>\n",
       "      <td>25</td>\n",
       "      <td>21</td>\n",
       "      <td>12</td>\n",
       "      <td>...</td>\n",
       "      <td>16</td>\n",
       "      <td>24</td>\n",
       "      <td>45</td>\n",
       "      <td>0</td>\n",
       "      <td>1.54250</td>\n",
       "      <td>1.54250</td>\n",
       "      <td>1.43787</td>\n",
       "      <td>1.32427</td>\n",
       "      <td>1.30726</td>\n",
       "      <td>1.03698</td>\n",
       "    </tr>\n",
       "    <tr>\n",
       "      <th>4</th>\n",
       "      <td>4</td>\n",
       "      <td>2004_5</td>\n",
       "      <td>3</td>\n",
       "      <td>31</td>\n",
       "      <td>46</td>\n",
       "      <td>80</td>\n",
       "      <td>21</td>\n",
       "      <td>25</td>\n",
       "      <td>9</td>\n",
       "      <td>10</td>\n",
       "      <td>...</td>\n",
       "      <td>18</td>\n",
       "      <td>25</td>\n",
       "      <td>26</td>\n",
       "      <td>0</td>\n",
       "      <td>1.43787</td>\n",
       "      <td>1.43787</td>\n",
       "      <td>1.32427</td>\n",
       "      <td>1.30726</td>\n",
       "      <td>1.03698</td>\n",
       "      <td>1.01032</td>\n",
       "    </tr>\n",
       "  </tbody>\n",
       "</table>\n",
       "<p>5 rows × 137 columns</p>\n",
       "</div>"
      ],
      "text/plain": [
       "   Unnamed: 0 ILI_weeks  a_influenza  acute_bronchitis  body_temperature  \\\n",
       "0           0    2004_1           11                50                58   \n",
       "1           1    2004_2            7                41                70   \n",
       "2           2    2004_3            6                40                53   \n",
       "3           3    2004_4            4                32                57   \n",
       "4           4    2004_5            3                31                46   \n",
       "\n",
       "   braun_thermoscan  break_a_fever  bronchitis  chest_cold  cold_and_flu  ...  \\\n",
       "0               100             15          34          27            26  ...   \n",
       "1                54             12          31          17            20  ...   \n",
       "2                40             15          29          20            16  ...   \n",
       "3                26             18          25          21            12  ...   \n",
       "4                80             21          25           9            10  ...   \n",
       "\n",
       "   type_a_influenza  upper_respiratory  walking_pneumonia  \\\n",
       "0                20                 37                 57   \n",
       "1                16                 21                 42   \n",
       "2                16                 17                 38   \n",
       "3                16                 24                 45   \n",
       "4                18                 25                 26   \n",
       "\n",
       "   what_to_do_if_you_have_the_flu  Unweighted_ILI    Label  ILI_lagwk1  \\\n",
       "0                               0         2.41833  2.41833     1.80906   \n",
       "1                               0         1.80906  1.80906     1.71202   \n",
       "2                               0         1.71202  1.71202     1.54250   \n",
       "3                               0         1.54250  1.54250     1.43787   \n",
       "4                               0         1.43787  1.43787     1.32427   \n",
       "\n",
       "   ILI_lagwk2  ILI_lagwk3  ILI_lagwk4  \n",
       "0     1.71202     1.54250     1.43787  \n",
       "1     1.54250     1.43787     1.32427  \n",
       "2     1.43787     1.32427     1.30726  \n",
       "3     1.32427     1.30726     1.03698  \n",
       "4     1.30726     1.03698     1.01032  \n",
       "\n",
       "[5 rows x 137 columns]"
      ]
     },
     "execution_count": 290,
     "metadata": {},
     "output_type": "execute_result"
    }
   ],
   "source": [
    "new_df = df.drop(['Flu_Visit_Count', 'ILI_Visit_Count', 'Unspecified'], axis=1)\n",
    "new_df.head()"
   ]
  },
  {
   "cell_type": "code",
   "execution_count": 291,
   "metadata": {},
   "outputs": [
    {
     "data": {
      "text/html": [
       "<div>\n",
       "<style scoped>\n",
       "    .dataframe tbody tr th:only-of-type {\n",
       "        vertical-align: middle;\n",
       "    }\n",
       "\n",
       "    .dataframe tbody tr th {\n",
       "        vertical-align: top;\n",
       "    }\n",
       "\n",
       "    .dataframe thead th {\n",
       "        text-align: right;\n",
       "    }\n",
       "</style>\n",
       "<table border=\"1\" class=\"dataframe\">\n",
       "  <thead>\n",
       "    <tr style=\"text-align: right;\">\n",
       "      <th></th>\n",
       "      <th>Unnamed: 0</th>\n",
       "      <th>ILI_weeks</th>\n",
       "      <th>a_influenza</th>\n",
       "      <th>acute_bronchitis</th>\n",
       "      <th>body_temperature</th>\n",
       "      <th>braun_thermoscan</th>\n",
       "      <th>break_a_fever</th>\n",
       "      <th>bronchitis</th>\n",
       "      <th>chest_cold</th>\n",
       "      <th>cold_and_flu</th>\n",
       "      <th>...</th>\n",
       "      <th>type_a_influenza</th>\n",
       "      <th>upper_respiratory</th>\n",
       "      <th>walking_pneumonia</th>\n",
       "      <th>what_to_do_if_you_have_the_flu</th>\n",
       "      <th>Unweighted_ILI</th>\n",
       "      <th>Label</th>\n",
       "      <th>ILI_lagwk1</th>\n",
       "      <th>ILI_lagwk2</th>\n",
       "      <th>ILI_lagwk3</th>\n",
       "      <th>ILI_lagwk4</th>\n",
       "    </tr>\n",
       "  </thead>\n",
       "  <tbody>\n",
       "    <tr>\n",
       "      <th>0</th>\n",
       "      <td>0</td>\n",
       "      <td>2004_1</td>\n",
       "      <td>11</td>\n",
       "      <td>50</td>\n",
       "      <td>58</td>\n",
       "      <td>100</td>\n",
       "      <td>15</td>\n",
       "      <td>34</td>\n",
       "      <td>27</td>\n",
       "      <td>26</td>\n",
       "      <td>...</td>\n",
       "      <td>20</td>\n",
       "      <td>37</td>\n",
       "      <td>57</td>\n",
       "      <td>0</td>\n",
       "      <td>2.41833</td>\n",
       "      <td>2.41833</td>\n",
       "      <td>1.80906</td>\n",
       "      <td>1.71202</td>\n",
       "      <td>1.54250</td>\n",
       "      <td>1.43787</td>\n",
       "    </tr>\n",
       "    <tr>\n",
       "      <th>1</th>\n",
       "      <td>1</td>\n",
       "      <td>2004_2</td>\n",
       "      <td>7</td>\n",
       "      <td>41</td>\n",
       "      <td>70</td>\n",
       "      <td>54</td>\n",
       "      <td>12</td>\n",
       "      <td>31</td>\n",
       "      <td>17</td>\n",
       "      <td>20</td>\n",
       "      <td>...</td>\n",
       "      <td>16</td>\n",
       "      <td>21</td>\n",
       "      <td>42</td>\n",
       "      <td>0</td>\n",
       "      <td>1.80906</td>\n",
       "      <td>1.80906</td>\n",
       "      <td>1.71202</td>\n",
       "      <td>1.54250</td>\n",
       "      <td>1.43787</td>\n",
       "      <td>1.32427</td>\n",
       "    </tr>\n",
       "    <tr>\n",
       "      <th>2</th>\n",
       "      <td>2</td>\n",
       "      <td>2004_3</td>\n",
       "      <td>6</td>\n",
       "      <td>40</td>\n",
       "      <td>53</td>\n",
       "      <td>40</td>\n",
       "      <td>15</td>\n",
       "      <td>29</td>\n",
       "      <td>20</td>\n",
       "      <td>16</td>\n",
       "      <td>...</td>\n",
       "      <td>16</td>\n",
       "      <td>17</td>\n",
       "      <td>38</td>\n",
       "      <td>0</td>\n",
       "      <td>1.71202</td>\n",
       "      <td>1.71202</td>\n",
       "      <td>1.54250</td>\n",
       "      <td>1.43787</td>\n",
       "      <td>1.32427</td>\n",
       "      <td>1.30726</td>\n",
       "    </tr>\n",
       "    <tr>\n",
       "      <th>3</th>\n",
       "      <td>3</td>\n",
       "      <td>2004_4</td>\n",
       "      <td>4</td>\n",
       "      <td>32</td>\n",
       "      <td>57</td>\n",
       "      <td>26</td>\n",
       "      <td>18</td>\n",
       "      <td>25</td>\n",
       "      <td>21</td>\n",
       "      <td>12</td>\n",
       "      <td>...</td>\n",
       "      <td>16</td>\n",
       "      <td>24</td>\n",
       "      <td>45</td>\n",
       "      <td>0</td>\n",
       "      <td>1.54250</td>\n",
       "      <td>1.54250</td>\n",
       "      <td>1.43787</td>\n",
       "      <td>1.32427</td>\n",
       "      <td>1.30726</td>\n",
       "      <td>1.03698</td>\n",
       "    </tr>\n",
       "    <tr>\n",
       "      <th>4</th>\n",
       "      <td>4</td>\n",
       "      <td>2004_5</td>\n",
       "      <td>3</td>\n",
       "      <td>31</td>\n",
       "      <td>46</td>\n",
       "      <td>80</td>\n",
       "      <td>21</td>\n",
       "      <td>25</td>\n",
       "      <td>9</td>\n",
       "      <td>10</td>\n",
       "      <td>...</td>\n",
       "      <td>18</td>\n",
       "      <td>25</td>\n",
       "      <td>26</td>\n",
       "      <td>0</td>\n",
       "      <td>1.43787</td>\n",
       "      <td>1.43787</td>\n",
       "      <td>1.32427</td>\n",
       "      <td>1.30726</td>\n",
       "      <td>1.03698</td>\n",
       "      <td>1.01032</td>\n",
       "    </tr>\n",
       "  </tbody>\n",
       "</table>\n",
       "<p>5 rows × 137 columns</p>\n",
       "</div>"
      ],
      "text/plain": [
       "   Unnamed: 0 ILI_weeks  a_influenza  acute_bronchitis  body_temperature  \\\n",
       "0           0    2004_1           11                50                58   \n",
       "1           1    2004_2            7                41                70   \n",
       "2           2    2004_3            6                40                53   \n",
       "3           3    2004_4            4                32                57   \n",
       "4           4    2004_5            3                31                46   \n",
       "\n",
       "   braun_thermoscan  break_a_fever  bronchitis  chest_cold  cold_and_flu  ...  \\\n",
       "0               100             15          34          27            26  ...   \n",
       "1                54             12          31          17            20  ...   \n",
       "2                40             15          29          20            16  ...   \n",
       "3                26             18          25          21            12  ...   \n",
       "4                80             21          25           9            10  ...   \n",
       "\n",
       "   type_a_influenza  upper_respiratory  walking_pneumonia  \\\n",
       "0                20                 37                 57   \n",
       "1                16                 21                 42   \n",
       "2                16                 17                 38   \n",
       "3                16                 24                 45   \n",
       "4                18                 25                 26   \n",
       "\n",
       "   what_to_do_if_you_have_the_flu  Unweighted_ILI    Label  ILI_lagwk1  \\\n",
       "0                               0         2.41833  2.41833     1.80906   \n",
       "1                               0         1.80906  1.80906     1.71202   \n",
       "2                               0         1.71202  1.71202     1.54250   \n",
       "3                               0         1.54250  1.54250     1.43787   \n",
       "4                               0         1.43787  1.43787     1.32427   \n",
       "\n",
       "   ILI_lagwk2  ILI_lagwk3  ILI_lagwk4  \n",
       "0     1.71202     1.54250     1.43787  \n",
       "1     1.54250     1.43787     1.32427  \n",
       "2     1.43787     1.32427     1.30726  \n",
       "3     1.32427     1.30726     1.03698  \n",
       "4     1.30726     1.03698     1.01032  \n",
       "\n",
       "[5 rows x 137 columns]"
      ]
     },
     "execution_count": 291,
     "metadata": {},
     "output_type": "execute_result"
    }
   ],
   "source": [
    "g_trend = new_df.dropna()\n",
    "g_trend.head()"
   ]
  },
  {
   "cell_type": "code",
   "execution_count": 230,
   "metadata": {},
   "outputs": [],
   "source": [
    "from sklearn.model_selection import train_test_split\n",
    "\n",
    "#X_train, X_test, y_train = g_trend.loc[0:599, :], y_test = g_trend.loc[600:648, :]\n",
    "Train=g_trend.loc[1:550, :]\n",
    "X_train=Train.iloc[:,1:130]\n",
    "y_train=Train.iloc[:,131]\n",
    "Test=g_trend.loc[551:645,:]\n",
    "X_test=Test.iloc[:,1:130]\n",
    "y_test=Test.iloc[:,131]"
   ]
  },
  {
   "cell_type": "code",
   "execution_count": 231,
   "metadata": {},
   "outputs": [],
   "source": [
    "from sklearn.linear_model import LinearRegression\n",
    "model = LinearRegression()"
   ]
  },
  {
   "cell_type": "code",
   "execution_count": 232,
   "metadata": {},
   "outputs": [
    {
     "name": "stdout",
     "output_type": "stream",
     "text": [
      "Training Score: 0.9492160811703513\n",
      "Testing Score: 0.9322019169324995\n"
     ]
    }
   ],
   "source": [
    "model.fit(X_train, y_train)\n",
    "training_score = model.score(X_train, y_train)\n",
    "testing_score = model.score(X_test, y_test)\n",
    "print(f\"Training Score: {training_score}\")\n",
    "print(f\"Testing Score: {testing_score}\")"
   ]
  },
  {
   "cell_type": "code",
   "execution_count": 233,
   "metadata": {},
   "outputs": [],
   "source": [
    "prediction = model.predict(X_test)\n",
    "#print(prediction)"
   ]
  },
  {
   "cell_type": "code",
   "execution_count": 234,
   "metadata": {},
   "outputs": [
    {
     "data": {
      "text/plain": [
       "Int64Index([551, 552, 553, 554, 555, 556, 557, 558, 559, 560, 561, 562, 563,\n",
       "            564, 565, 566, 567, 568, 569, 570, 571, 572, 573, 574, 575, 576,\n",
       "            577, 578, 579, 580, 581, 582, 583, 584, 585, 586, 587, 588, 589,\n",
       "            590, 591, 592, 593, 594, 595, 596, 597, 598, 599, 600, 601, 602,\n",
       "            603, 604, 605, 606, 607, 608, 609, 610, 611, 612, 613, 614, 615,\n",
       "            616, 617, 618, 619, 620, 621, 622, 623, 624, 625, 626, 627, 628,\n",
       "            629, 630, 631, 632, 633, 634, 635, 636, 637, 638, 639, 640, 641,\n",
       "            642, 643, 644],\n",
       "           dtype='int64')"
      ]
     },
     "execution_count": 234,
     "metadata": {},
     "output_type": "execute_result"
    }
   ],
   "source": [
    "y_test_unraveled = y_test.values.ravel()\n",
    "y_test.index"
   ]
  },
  {
   "cell_type": "code",
   "execution_count": 288,
   "metadata": {},
   "outputs": [
    {
     "data": {
      "text/html": [
       "<div>\n",
       "<style scoped>\n",
       "    .dataframe tbody tr th:only-of-type {\n",
       "        vertical-align: middle;\n",
       "    }\n",
       "\n",
       "    .dataframe tbody tr th {\n",
       "        vertical-align: top;\n",
       "    }\n",
       "\n",
       "    .dataframe thead th {\n",
       "        text-align: right;\n",
       "    }\n",
       "</style>\n",
       "<table border=\"1\" class=\"dataframe\">\n",
       "  <thead>\n",
       "    <tr style=\"text-align: right;\">\n",
       "      <th></th>\n",
       "      <th>Prediction</th>\n",
       "      <th>Actual</th>\n",
       "    </tr>\n",
       "  </thead>\n",
       "  <tbody>\n",
       "    <tr>\n",
       "      <th>501</th>\n",
       "      <td>0.946841</td>\n",
       "      <td>1.09107</td>\n",
       "    </tr>\n",
       "    <tr>\n",
       "      <th>502</th>\n",
       "      <td>0.929862</td>\n",
       "      <td>1.20108</td>\n",
       "    </tr>\n",
       "    <tr>\n",
       "      <th>503</th>\n",
       "      <td>1.465063</td>\n",
       "      <td>1.26179</td>\n",
       "    </tr>\n",
       "    <tr>\n",
       "      <th>504</th>\n",
       "      <td>1.580244</td>\n",
       "      <td>1.13249</td>\n",
       "    </tr>\n",
       "    <tr>\n",
       "      <th>505</th>\n",
       "      <td>1.650799</td>\n",
       "      <td>1.21121</td>\n",
       "    </tr>\n",
       "  </tbody>\n",
       "</table>\n",
       "</div>"
      ],
      "text/plain": [
       "     Prediction   Actual\n",
       "501    0.946841  1.09107\n",
       "502    0.929862  1.20108\n",
       "503    1.465063  1.26179\n",
       "504    1.580244  1.13249\n",
       "505    1.650799  1.21121"
      ]
     },
     "execution_count": 288,
     "metadata": {},
     "output_type": "execute_result"
    }
   ],
   "source": [
    "pred_df = pd.DataFrame({\"Prediction\": prediction, \"Actual\": y_test_unraveled}).reset_index(drop=True)\n",
    "pred_df.index = y_test.index\n",
    "pred_df.head()"
   ]
  },
  {
   "cell_type": "code",
   "execution_count": 236,
   "metadata": {},
   "outputs": [],
   "source": [
    "from scipy.stats import linregress"
   ]
  },
  {
   "cell_type": "code",
   "execution_count": 237,
   "metadata": {},
   "outputs": [],
   "source": [
    "x_axis = pred_df[\"Prediction\"]\n",
    "y_axis = pred_df[\"Actual\"]"
   ]
  },
  {
   "cell_type": "code",
   "execution_count": 238,
   "metadata": {},
   "outputs": [],
   "source": [
    "(slope, intercept, _, _, _) = linregress(x_axis, y_axis)\n",
    "fit = slope * x_axis + intercept"
   ]
  },
  {
   "cell_type": "code",
   "execution_count": 239,
   "metadata": {},
   "outputs": [
    {
     "data": {
      "image/png": "[encoded data removed]",
      "text/plain": [
       "<Figure size 432x288 with 1 Axes>"
      ]
     },
     "metadata": {
      "needs_background": "light"
     },
     "output_type": "display_data"
    }
   ],
   "source": [
    "fig, ax = plt.subplots()\n",
    "\n",
    "fig.suptitle(\"Prediction of 2015-2016 Flu Season\", fontsize=16, fontweight=\"bold\")\n",
    "\n",
    "# ax.set_xlim(0, 10)\n",
    "# ax.set_ylim(0, 10)\n",
    "\n",
    "ax.set_xlabel(\"Actual (%)\")\n",
    "ax.set_ylabel(\"Prediction (%)\")\n",
    "\n",
    "ax.plot(x_axis, y_axis, linewidth=0, marker='o')\n",
    "ax.plot(x_axis, fit, 'b--')\n",
    "\n",
    "plt.show()"
   ]
  },
  {
   "cell_type": "code",
   "execution_count": 240,
   "metadata": {},
   "outputs": [],
   "source": [
    "pred_df.to_csv(\"Prediction_Actual.csv\")"
   ]
  },
  {
   "cell_type": "markdown",
   "metadata": {},
   "source": [
    "Week 1 projection"
   ]
  },
  {
   "cell_type": "code",
   "execution_count": 264,
   "metadata": {},
   "outputs": [],
   "source": [
    "from sklearn.model_selection import train_test_split\n",
    "\n",
    "#X_train, X_test, y_train = g_trend.loc[0:599, :], y_test = g_trend.loc[600:648, :]\n",
    "Train=g_trend.loc[1:500, :]\n",
    "X_train=Train.iloc[:,1:130]\n",
    "y_train=Train.iloc[:,132]\n",
    "Test=g_trend.loc[501:645,:]\n",
    "X_test=Test.iloc[:,1:130]\n",
    "y_test=Test.iloc[:,132]"
   ]
  },
  {
   "cell_type": "code",
   "execution_count": 265,
   "metadata": {},
   "outputs": [
    {
     "name": "stdout",
     "output_type": "stream",
     "text": [
      "(500, 136)\n",
      "(500, 129)\n",
      "(500,)\n",
      "(144, 136)\n",
      "(144, 129)\n",
      "(144,)\n"
     ]
    }
   ],
   "source": [
    "print(Train.shape)\n",
    "print(X_train.shape)\n",
    "print(y_train.shape)\n",
    "print(Test.shape)\n",
    "print(X_test.shape)\n",
    "print(y_test.shape)"
   ]
  },
  {
   "cell_type": "code",
   "execution_count": 266,
   "metadata": {},
   "outputs": [],
   "source": [
    "from sklearn.linear_model import LinearRegression\n",
    "model = LinearRegression()"
   ]
  },
  {
   "cell_type": "code",
   "execution_count": 267,
   "metadata": {},
   "outputs": [
    {
     "name": "stdout",
     "output_type": "stream",
     "text": [
      "Training Score: 0.9065421423830243\n",
      "Testing Score: 0.7876305667323552\n"
     ]
    }
   ],
   "source": [
    "model.fit(X_train, y_train)\n",
    "training_score = model.score(X_train, y_train)\n",
    "testing_score = model.score(X_test, y_test)\n",
    "print(f\"Training Score: {training_score}\")\n",
    "print(f\"Testing Score: {testing_score}\")"
   ]
  },
  {
   "cell_type": "code",
   "execution_count": 268,
   "metadata": {},
   "outputs": [],
   "source": [
    "prediction = model.predict(X_test)\n",
    "#print(prediction)"
   ]
  },
  {
   "cell_type": "code",
   "execution_count": 269,
   "metadata": {},
   "outputs": [
    {
     "data": {
      "text/plain": [
       "Int64Index([501, 502, 503, 504, 505, 506, 507, 508, 509, 510,\n",
       "            ...\n",
       "            635, 636, 637, 638, 639, 640, 641, 642, 643, 644],\n",
       "           dtype='int64', length=144)"
      ]
     },
     "execution_count": 269,
     "metadata": {},
     "output_type": "execute_result"
    }
   ],
   "source": [
    "y_test_unraveled = y_test.values.ravel()\n",
    "y_test.index"
   ]
  },
  {
   "cell_type": "code",
   "execution_count": 270,
   "metadata": {},
   "outputs": [
    {
     "data": {
      "text/html": [
       "<div>\n",
       "<style scoped>\n",
       "    .dataframe tbody tr th:only-of-type {\n",
       "        vertical-align: middle;\n",
       "    }\n",
       "\n",
       "    .dataframe tbody tr th {\n",
       "        vertical-align: top;\n",
       "    }\n",
       "\n",
       "    .dataframe thead th {\n",
       "        text-align: right;\n",
       "    }\n",
       "</style>\n",
       "<table border=\"1\" class=\"dataframe\">\n",
       "  <thead>\n",
       "    <tr style=\"text-align: right;\">\n",
       "      <th></th>\n",
       "      <th>Prediction</th>\n",
       "      <th>Actual</th>\n",
       "    </tr>\n",
       "  </thead>\n",
       "  <tbody>\n",
       "    <tr>\n",
       "      <th>501</th>\n",
       "      <td>0.945774</td>\n",
       "      <td>1.04345</td>\n",
       "    </tr>\n",
       "    <tr>\n",
       "      <th>502</th>\n",
       "      <td>0.883894</td>\n",
       "      <td>1.09107</td>\n",
       "    </tr>\n",
       "    <tr>\n",
       "      <th>503</th>\n",
       "      <td>1.264874</td>\n",
       "      <td>1.20108</td>\n",
       "    </tr>\n",
       "    <tr>\n",
       "      <th>504</th>\n",
       "      <td>1.238795</td>\n",
       "      <td>1.26179</td>\n",
       "    </tr>\n",
       "    <tr>\n",
       "      <th>505</th>\n",
       "      <td>1.453403</td>\n",
       "      <td>1.13249</td>\n",
       "    </tr>\n",
       "  </tbody>\n",
       "</table>\n",
       "</div>"
      ],
      "text/plain": [
       "     Prediction   Actual\n",
       "501    0.945774  1.04345\n",
       "502    0.883894  1.09107\n",
       "503    1.264874  1.20108\n",
       "504    1.238795  1.26179\n",
       "505    1.453403  1.13249"
      ]
     },
     "execution_count": 270,
     "metadata": {},
     "output_type": "execute_result"
    }
   ],
   "source": [
    "pred_df = pd.DataFrame({\"Prediction\": prediction, \"Actual\": y_test_unraveled}).reset_index(drop=True)\n",
    "pred_df.index = y_test.index\n",
    "pred_df.head()"
   ]
  },
  {
   "cell_type": "code",
   "execution_count": 271,
   "metadata": {},
   "outputs": [],
   "source": [
    "x_axis = pred_df[\"Prediction\"]\n",
    "y_axis = pred_df[\"Actual\"]"
   ]
  },
  {
   "cell_type": "code",
   "execution_count": 272,
   "metadata": {},
   "outputs": [],
   "source": [
    "(slope, intercept, _, _, _) = linregress(x_axis, y_axis)\n",
    "fit = slope * x_axis + intercept"
   ]
  },
  {
   "cell_type": "code",
   "execution_count": 274,
   "metadata": {},
   "outputs": [
    {
     "data": {
      "image/png": "[encoded data removed]",
      "text/plain": [
       "<Figure size 432x288 with 1 Axes>"
      ]
     },
     "metadata": {
      "needs_background": "light"
     },
     "output_type": "display_data"
    }
   ],
   "source": [
    "fig, ax = plt.subplots()\n",
    "\n",
    "fig.suptitle(\"Prediction of 2015-2016 Flu Season 1 Week Ahead\", fontsize=16, fontweight=\"bold\")\n",
    "\n",
    "# ax.set_xlim(0, 10)\n",
    "# ax.set_ylim(0, 10)\n",
    "\n",
    "ax.set_xlabel(\"Actual (%)\")\n",
    "ax.set_ylabel(\"Prediction 1 week (%)\")\n",
    "\n",
    "ax.plot(x_axis, y_axis, linewidth=0, marker='o')\n",
    "ax.plot(x_axis, fit, 'b--')\n",
    "\n",
    "plt.show()"
   ]
  },
  {
   "cell_type": "code",
   "execution_count": 284,
   "metadata": {},
   "outputs": [],
   "source": [
    "pred_df.to_csv(\"Prediction_Week1.csv\")"
   ]
  },
  {
   "cell_type": "markdown",
   "metadata": {},
   "source": [
    "Week 2 Projection"
   ]
  },
  {
   "cell_type": "code",
   "execution_count": 275,
   "metadata": {},
   "outputs": [],
   "source": [
    "Train=g_trend.loc[1:500, :]\n",
    "X_train=Train.iloc[:,1:130]\n",
    "y_train=Train.iloc[:,133]\n",
    "Test=g_trend.loc[501:645,:]\n",
    "X_test=Test.iloc[:,1:130]\n",
    "y_test=Test.iloc[:,133]"
   ]
  },
  {
   "cell_type": "code",
   "execution_count": 276,
   "metadata": {},
   "outputs": [
    {
     "name": "stdout",
     "output_type": "stream",
     "text": [
      "Training Score: 0.8552699918403783\n",
      "Testing Score: 0.6335094941216866\n"
     ]
    }
   ],
   "source": [
    "model.fit(X_train, y_train)\n",
    "training_score = model.score(X_train, y_train)\n",
    "testing_score = model.score(X_test, y_test)\n",
    "print(f\"Training Score: {training_score}\")\n",
    "print(f\"Testing Score: {testing_score}\")"
   ]
  },
  {
   "cell_type": "code",
   "execution_count": 277,
   "metadata": {},
   "outputs": [],
   "source": [
    "prediction = model.predict(X_test)"
   ]
  },
  {
   "cell_type": "code",
   "execution_count": 278,
   "metadata": {},
   "outputs": [
    {
     "data": {
      "text/plain": [
       "Int64Index([501, 502, 503, 504, 505, 506, 507, 508, 509, 510,\n",
       "            ...\n",
       "            635, 636, 637, 638, 639, 640, 641, 642, 643, 644],\n",
       "           dtype='int64', length=144)"
      ]
     },
     "execution_count": 278,
     "metadata": {},
     "output_type": "execute_result"
    }
   ],
   "source": [
    "y_test_unraveled = y_test.values.ravel()\n",
    "y_test.index"
   ]
  },
  {
   "cell_type": "code",
   "execution_count": 279,
   "metadata": {},
   "outputs": [
    {
     "data": {
      "text/html": [
       "<div>\n",
       "<style scoped>\n",
       "    .dataframe tbody tr th:only-of-type {\n",
       "        vertical-align: middle;\n",
       "    }\n",
       "\n",
       "    .dataframe tbody tr th {\n",
       "        vertical-align: top;\n",
       "    }\n",
       "\n",
       "    .dataframe thead th {\n",
       "        text-align: right;\n",
       "    }\n",
       "</style>\n",
       "<table border=\"1\" class=\"dataframe\">\n",
       "  <thead>\n",
       "    <tr style=\"text-align: right;\">\n",
       "      <th></th>\n",
       "      <th>Prediction</th>\n",
       "      <th>Actual</th>\n",
       "    </tr>\n",
       "  </thead>\n",
       "  <tbody>\n",
       "    <tr>\n",
       "      <th>501</th>\n",
       "      <td>0.946841</td>\n",
       "      <td>1.09107</td>\n",
       "    </tr>\n",
       "    <tr>\n",
       "      <th>502</th>\n",
       "      <td>0.929862</td>\n",
       "      <td>1.20108</td>\n",
       "    </tr>\n",
       "    <tr>\n",
       "      <th>503</th>\n",
       "      <td>1.465063</td>\n",
       "      <td>1.26179</td>\n",
       "    </tr>\n",
       "    <tr>\n",
       "      <th>504</th>\n",
       "      <td>1.580244</td>\n",
       "      <td>1.13249</td>\n",
       "    </tr>\n",
       "    <tr>\n",
       "      <th>505</th>\n",
       "      <td>1.650799</td>\n",
       "      <td>1.21121</td>\n",
       "    </tr>\n",
       "  </tbody>\n",
       "</table>\n",
       "</div>"
      ],
      "text/plain": [
       "     Prediction   Actual\n",
       "501    0.946841  1.09107\n",
       "502    0.929862  1.20108\n",
       "503    1.465063  1.26179\n",
       "504    1.580244  1.13249\n",
       "505    1.650799  1.21121"
      ]
     },
     "execution_count": 279,
     "metadata": {},
     "output_type": "execute_result"
    }
   ],
   "source": [
    "pred_df = pd.DataFrame({\"Prediction\": prediction, \"Actual\": y_test_unraveled}).reset_index(drop=True)\n",
    "pred_df.index = y_test.index\n",
    "pred_df.head()"
   ]
  },
  {
   "cell_type": "code",
   "execution_count": 280,
   "metadata": {},
   "outputs": [],
   "source": [
    "x_axis = pred_df[\"Prediction\"]\n",
    "y_axis = pred_df[\"Actual\"]"
   ]
  },
  {
   "cell_type": "code",
   "execution_count": 281,
   "metadata": {},
   "outputs": [],
   "source": [
    "(slope, intercept, _, _, _) = linregress(x_axis, y_axis)\n",
    "fit = slope * x_axis + intercept"
   ]
  },
  {
   "cell_type": "code",
   "execution_count": 283,
   "metadata": {},
   "outputs": [
    {
     "data": {
      "image/png": "[encoded data removed]",
      "text/plain": [
       "<Figure size 432x288 with 1 Axes>"
      ]
     },
     "metadata": {
      "needs_background": "light"
     },
     "output_type": "display_data"
    }
   ],
   "source": [
    "fig, ax = plt.subplots()\n",
    "\n",
    "fig.suptitle(\"Prediction of 2015-2016 Flu Season 2 Weeks Ahead\", fontsize=16, fontweight=\"bold\")\n",
    "\n",
    "# ax.set_xlim(0, 10)\n",
    "# ax.set_ylim(0, 10)\n",
    "\n",
    "ax.set_xlabel(\"Actual (%)\")\n",
    "ax.set_ylabel(\"Prediction 1 week (%)\")\n",
    "\n",
    "ax.plot(x_axis, y_axis, linewidth=0, marker='o')\n",
    "ax.plot(x_axis, fit, 'b--')\n",
    "\n",
    "plt.show()"
   ]
  },
  {
   "cell_type": "code",
   "execution_count": 285,
   "metadata": {},
   "outputs": [],
   "source": [
    "pred_df.to_csv(\"Prediction_Week2.csv\")"
   ]
  },
  {
   "cell_type": "code",
   "execution_count": 119,
   "metadata": {},
   "outputs": [
    {
     "data": {
      "text/plain": [
       "<matplotlib.collections.LineCollection at 0x25ca9be4048>"
      ]
     },
     "execution_count": 119,
     "metadata": {},
     "output_type": "execute_result"
    },
    {
     "data": {
      "image/png": "[encoded data removed]",
      "text/plain": [
       "<Figure size 432x288 with 1 Axes>"
      ]
     },
     "metadata": {
      "needs_background": "light"
     },
     "output_type": "display_data"
    }
   ],
   "source": [
    "plt.scatter(model.predict(X_train), model.predict(X_train) - y_train, c=\"blue\", label=\"Training Data\")\n",
    "plt.scatter(model.predict(X_test), model.predict(X_test) - y_test, c=\"orange\", label=\"Testing Data\")\n",
    "plt.legend()\n",
    "plt.hlines(y=0, xmin=y.min(), xmax=y.max())\n",
    "#plt.title(\"Residual Plot\")"
   ]
  }
 ],
 "metadata": {
  "kernelspec": {
   "display_name": "Python 3",
   "language": "python",
   "name": "python3"
  },
  "language_info": {
   "codemirror_mode": {
    "name": "ipython",
    "version": 3
   },
   "file_extension": ".py",
   "mimetype": "text/x-python",
   "name": "python",
   "nbconvert_exporter": "python",
   "pygments_lexer": "ipython3",
   "version": "3.7.3"
  }
 },
 "nbformat": 4,
 "nbformat_minor": 2
}
