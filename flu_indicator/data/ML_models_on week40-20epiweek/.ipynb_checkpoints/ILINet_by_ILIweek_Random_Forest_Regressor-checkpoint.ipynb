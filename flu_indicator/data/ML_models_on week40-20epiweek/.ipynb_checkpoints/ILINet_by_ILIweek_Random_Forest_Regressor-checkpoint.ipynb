{
 "cells": [
  {
   "cell_type": "code",
   "execution_count": 1,
   "metadata": {},
   "outputs": [],
   "source": [
    "%matplotlib inline\n",
    "    \n",
    "import pandas as pd\n",
    "import numpy as np\n",
    "\n",
    "import matplotlib.pyplot as plt"
   ]
  },
  {
   "cell_type": "code",
   "execution_count": 2,
   "metadata": {},
   "outputs": [],
   "source": [
    "from sklearn.model_selection import train_test_split\n",
    "from sklearn.ensemble import RandomForestRegressor \n",
    "\n",
    "from sklearn.metrics import mean_squared_error, mean_absolute_error, r2_score"
   ]
  },
  {
   "cell_type": "code",
   "execution_count": 3,
   "metadata": {},
   "outputs": [
    {
     "data": {
      "text/html": [
       "<div>\n",
       "<style scoped>\n",
       "    .dataframe tbody tr th:only-of-type {\n",
       "        vertical-align: middle;\n",
       "    }\n",
       "\n",
       "    .dataframe tbody tr th {\n",
       "        vertical-align: top;\n",
       "    }\n",
       "\n",
       "    .dataframe thead th {\n",
       "        text-align: right;\n",
       "    }\n",
       "</style>\n",
       "<table border=\"1\" class=\"dataframe\">\n",
       "  <thead>\n",
       "    <tr style=\"text-align: right;\">\n",
       "      <th></th>\n",
       "      <th>Year</th>\n",
       "      <th>week</th>\n",
       "      <th>a_influenza</th>\n",
       "      <th>acute_bronchitis</th>\n",
       "      <th>body_temperature</th>\n",
       "      <th>braun_thermoscan</th>\n",
       "      <th>break_a_fever</th>\n",
       "      <th>bronchitis</th>\n",
       "      <th>chest_cold</th>\n",
       "      <th>cold_and_flu</th>\n",
       "      <th>...</th>\n",
       "      <th>walking_pneumonia</th>\n",
       "      <th>what_to_do_if_you_have_the_flu</th>\n",
       "      <th>Flu_Visit_Count</th>\n",
       "      <th>ILI_Visit_Count</th>\n",
       "      <th>Unspecified</th>\n",
       "      <th>CDC_Unweighted_ILI</th>\n",
       "      <th>ILI_lagwk1</th>\n",
       "      <th>ILI_lagwk2</th>\n",
       "      <th>ILI_lagwk3</th>\n",
       "      <th>ILI_lagwk4</th>\n",
       "    </tr>\n",
       "  </thead>\n",
       "  <tbody>\n",
       "    <tr>\n",
       "      <th>0</th>\n",
       "      <td>2009</td>\n",
       "      <td>40</td>\n",
       "      <td>44</td>\n",
       "      <td>33</td>\n",
       "      <td>81</td>\n",
       "      <td>69</td>\n",
       "      <td>22</td>\n",
       "      <td>40</td>\n",
       "      <td>35</td>\n",
       "      <td>36</td>\n",
       "      <td>...</td>\n",
       "      <td>47</td>\n",
       "      <td>56</td>\n",
       "      <td>0.01338</td>\n",
       "      <td>0.01763</td>\n",
       "      <td>0.03074</td>\n",
       "      <td>5.66087</td>\n",
       "      <td>6.81522</td>\n",
       "      <td>7.61889</td>\n",
       "      <td>7.38836</td>\n",
       "      <td>6.33927</td>\n",
       "    </tr>\n",
       "    <tr>\n",
       "      <th>1</th>\n",
       "      <td>2009</td>\n",
       "      <td>41</td>\n",
       "      <td>51</td>\n",
       "      <td>51</td>\n",
       "      <td>77</td>\n",
       "      <td>46</td>\n",
       "      <td>24</td>\n",
       "      <td>43</td>\n",
       "      <td>35</td>\n",
       "      <td>43</td>\n",
       "      <td>...</td>\n",
       "      <td>53</td>\n",
       "      <td>58</td>\n",
       "      <td>0.01620</td>\n",
       "      <td>0.02103</td>\n",
       "      <td>0.03554</td>\n",
       "      <td>6.81522</td>\n",
       "      <td>7.61889</td>\n",
       "      <td>7.38836</td>\n",
       "      <td>6.33927</td>\n",
       "      <td>4.94349</td>\n",
       "    </tr>\n",
       "  </tbody>\n",
       "</table>\n",
       "<p>2 rows × 139 columns</p>\n",
       "</div>"
      ],
      "text/plain": [
       "   Year  week  a_influenza  acute_bronchitis  body_temperature  \\\n",
       "0  2009    40           44                33                81   \n",
       "1  2009    41           51                51                77   \n",
       "\n",
       "   braun_thermoscan  break_a_fever  bronchitis  chest_cold  cold_and_flu  \\\n",
       "0                69             22          40          35            36   \n",
       "1                46             24          43          35            43   \n",
       "\n",
       "      ...      walking_pneumonia  what_to_do_if_you_have_the_flu  \\\n",
       "0     ...                     47                              56   \n",
       "1     ...                     53                              58   \n",
       "\n",
       "   Flu_Visit_Count  ILI_Visit_Count  Unspecified  CDC_Unweighted_ILI  \\\n",
       "0          0.01338          0.01763      0.03074             5.66087   \n",
       "1          0.01620          0.02103      0.03554             6.81522   \n",
       "\n",
       "   ILI_lagwk1  ILI_lagwk2  ILI_lagwk3  ILI_lagwk4  \n",
       "0     6.81522     7.61889     7.38836     6.33927  \n",
       "1     7.61889     7.38836     6.33927     4.94349  \n",
       "\n",
       "[2 rows x 139 columns]"
      ]
     },
     "execution_count": 3,
     "metadata": {},
     "output_type": "execute_result"
    }
   ],
   "source": [
    "# final df for model building\n",
    "df1 = pd.read_csv(\"ML_model_wk40_to_20.csv\")\n",
    "df1.dropna(how='any', inplace=True)\n",
    "del df1['ILI_weeks']\n",
    "del df1['Unnamed: 0']\n",
    "#del df1['week']\n",
    "df1.head(2)"
   ]
  },
  {
   "cell_type": "code",
   "execution_count": 4,
   "metadata": {},
   "outputs": [],
   "source": [
    "#  combining year and week column \n",
    "def combine_year_week(row):\n",
    "    return int(row[\"Year\"]) * 100 + int(row[\"week\"])"
   ]
  },
  {
   "cell_type": "code",
   "execution_count": 5,
   "metadata": {},
   "outputs": [],
   "source": [
    "df1[\"YearWeek\"] = df1.apply(combine_year_week, axis=1)"
   ]
  },
  {
   "cell_type": "code",
   "execution_count": 6,
   "metadata": {},
   "outputs": [],
   "source": [
    "# reset index to YearWeek\n",
    "df1.index = df1[\"YearWeek\"]"
   ]
  },
  {
   "cell_type": "code",
   "execution_count": 7,
   "metadata": {},
   "outputs": [
    {
     "data": {
      "text/html": [
       "<div>\n",
       "<style scoped>\n",
       "    .dataframe tbody tr th:only-of-type {\n",
       "        vertical-align: middle;\n",
       "    }\n",
       "\n",
       "    .dataframe tbody tr th {\n",
       "        vertical-align: top;\n",
       "    }\n",
       "\n",
       "    .dataframe thead th {\n",
       "        text-align: right;\n",
       "    }\n",
       "</style>\n",
       "<table border=\"1\" class=\"dataframe\">\n",
       "  <thead>\n",
       "    <tr style=\"text-align: right;\">\n",
       "      <th></th>\n",
       "      <th>a_influenza</th>\n",
       "      <th>acute_bronchitis</th>\n",
       "      <th>body_temperature</th>\n",
       "      <th>braun_thermoscan</th>\n",
       "      <th>break_a_fever</th>\n",
       "      <th>bronchitis</th>\n",
       "      <th>chest_cold</th>\n",
       "      <th>cold_and_flu</th>\n",
       "      <th>cold_or_flu</th>\n",
       "      <th>cold_versus_flu</th>\n",
       "      <th>...</th>\n",
       "      <th>walking_pneumonia</th>\n",
       "      <th>what_to_do_if_you_have_the_flu</th>\n",
       "      <th>Flu_Visit_Count</th>\n",
       "      <th>ILI_Visit_Count</th>\n",
       "      <th>Unspecified</th>\n",
       "      <th>CDC_Unweighted_ILI</th>\n",
       "      <th>ILI_lagwk1</th>\n",
       "      <th>ILI_lagwk2</th>\n",
       "      <th>ILI_lagwk3</th>\n",
       "      <th>ILI_lagwk4</th>\n",
       "    </tr>\n",
       "    <tr>\n",
       "      <th>YearWeek</th>\n",
       "      <th></th>\n",
       "      <th></th>\n",
       "      <th></th>\n",
       "      <th></th>\n",
       "      <th></th>\n",
       "      <th></th>\n",
       "      <th></th>\n",
       "      <th></th>\n",
       "      <th></th>\n",
       "      <th></th>\n",
       "      <th></th>\n",
       "      <th></th>\n",
       "      <th></th>\n",
       "      <th></th>\n",
       "      <th></th>\n",
       "      <th></th>\n",
       "      <th></th>\n",
       "      <th></th>\n",
       "      <th></th>\n",
       "      <th></th>\n",
       "      <th></th>\n",
       "    </tr>\n",
       "  </thead>\n",
       "  <tbody>\n",
       "    <tr>\n",
       "      <th>200940</th>\n",
       "      <td>44</td>\n",
       "      <td>33</td>\n",
       "      <td>81</td>\n",
       "      <td>69</td>\n",
       "      <td>22</td>\n",
       "      <td>40</td>\n",
       "      <td>35</td>\n",
       "      <td>36</td>\n",
       "      <td>37</td>\n",
       "      <td>30</td>\n",
       "      <td>...</td>\n",
       "      <td>47</td>\n",
       "      <td>56</td>\n",
       "      <td>0.01338</td>\n",
       "      <td>0.01763</td>\n",
       "      <td>0.03074</td>\n",
       "      <td>5.66087</td>\n",
       "      <td>6.81522</td>\n",
       "      <td>7.61889</td>\n",
       "      <td>7.38836</td>\n",
       "      <td>6.33927</td>\n",
       "    </tr>\n",
       "    <tr>\n",
       "      <th>200941</th>\n",
       "      <td>51</td>\n",
       "      <td>51</td>\n",
       "      <td>77</td>\n",
       "      <td>46</td>\n",
       "      <td>24</td>\n",
       "      <td>43</td>\n",
       "      <td>35</td>\n",
       "      <td>43</td>\n",
       "      <td>49</td>\n",
       "      <td>41</td>\n",
       "      <td>...</td>\n",
       "      <td>53</td>\n",
       "      <td>58</td>\n",
       "      <td>0.01620</td>\n",
       "      <td>0.02103</td>\n",
       "      <td>0.03554</td>\n",
       "      <td>6.81522</td>\n",
       "      <td>7.61889</td>\n",
       "      <td>7.38836</td>\n",
       "      <td>6.33927</td>\n",
       "      <td>4.94349</td>\n",
       "    </tr>\n",
       "  </tbody>\n",
       "</table>\n",
       "<p>2 rows × 137 columns</p>\n",
       "</div>"
      ],
      "text/plain": [
       "          a_influenza  acute_bronchitis  body_temperature  braun_thermoscan  \\\n",
       "YearWeek                                                                      \n",
       "200940             44                33                81                69   \n",
       "200941             51                51                77                46   \n",
       "\n",
       "          break_a_fever  bronchitis  chest_cold  cold_and_flu  cold_or_flu  \\\n",
       "YearWeek                                                                     \n",
       "200940               22          40          35            36           37   \n",
       "200941               24          43          35            43           49   \n",
       "\n",
       "          cold_versus_flu     ...      walking_pneumonia  \\\n",
       "YearWeek                      ...                          \n",
       "200940                 30     ...                     47   \n",
       "200941                 41     ...                     53   \n",
       "\n",
       "          what_to_do_if_you_have_the_flu  Flu_Visit_Count  ILI_Visit_Count  \\\n",
       "YearWeek                                                                     \n",
       "200940                                56          0.01338          0.01763   \n",
       "200941                                58          0.01620          0.02103   \n",
       "\n",
       "          Unspecified  CDC_Unweighted_ILI  ILI_lagwk1  ILI_lagwk2  ILI_lagwk3  \\\n",
       "YearWeek                                                                        \n",
       "200940        0.03074             5.66087     6.81522     7.61889     7.38836   \n",
       "200941        0.03554             6.81522     7.61889     7.38836     6.33927   \n",
       "\n",
       "          ILI_lagwk4  \n",
       "YearWeek              \n",
       "200940       6.33927  \n",
       "200941       4.94349  \n",
       "\n",
       "[2 rows x 137 columns]"
      ]
     },
     "execution_count": 7,
     "metadata": {},
     "output_type": "execute_result"
    }
   ],
   "source": [
    "model_df = df1.drop([\"Year\", \"week\", \"YearWeek\"], axis=1)\n",
    "model_df.head(2)"
   ]
  },
  {
   "cell_type": "markdown",
   "metadata": {},
   "source": [
    "# Independent variables\n",
    "        # 3 independent variables from athena EHR \n",
    "            # [(flu visit counts)/ (total patient visit counts) \n",
    "            # (ILI visit counts)/ (total patient visit counts)\n",
    "            # (unspecified viral or ILI visit counts)/ (total patient visit counts)]\n",
    "        # CDC historical CDC_Unweighted_ILI values: collected from 2009 to 2016 (week 40 to 20)\n",
    "        # 129 google search terms related to flu\n",
    "        \n",
    "      ======> 3 + 1 + 129\n",
    "      \n",
    "# Dependent variables \n",
    "        # 4 ILI weeks offset by 1 week"
   ]
  },
  {
   "cell_type": "markdown",
   "metadata": {},
   "source": [
    "# split df to train dataset, dataset before year2015 and week 40 used at training dataset"
   ]
  },
  {
   "cell_type": "code",
   "execution_count": 8,
   "metadata": {},
   "outputs": [],
   "source": [
    "train = model_df[model_df.index < 201540]\n",
    "# train.head()"
   ]
  },
  {
   "cell_type": "markdown",
   "metadata": {},
   "source": [
    "\n",
    "# defining  targets/labels to  y axis\n",
    "                y_train = ILI lag week 1\n",
    "\n",
    "                yy_train = ILI lag week 2\n",
    "\n",
    "                yyy_train = ILI lag week 3\n",
    "\n",
    "                yyyy_train = ILI lag week 4"
   ]
  },
  {
   "cell_type": "code",
   "execution_count": 9,
   "metadata": {},
   "outputs": [],
   "source": [
    "y_train = train[\"ILI_lagwk1\"]\n",
    "# y_train"
   ]
  },
  {
   "cell_type": "code",
   "execution_count": 10,
   "metadata": {},
   "outputs": [],
   "source": [
    "yy_train = train[\"ILI_lagwk2\"]"
   ]
  },
  {
   "cell_type": "code",
   "execution_count": 11,
   "metadata": {},
   "outputs": [],
   "source": [
    "yyy_train = train[\"ILI_lagwk3\"]"
   ]
  },
  {
   "cell_type": "code",
   "execution_count": 12,
   "metadata": {},
   "outputs": [],
   "source": [
    "yyyy_train =train[\"ILI_lagwk4\"]"
   ]
  },
  {
   "cell_type": "code",
   "execution_count": 13,
   "metadata": {},
   "outputs": [],
   "source": [
    "X_train = train.drop([\"ILI_lagwk1\", \"ILI_lagwk2\", \"ILI_lagwk3\", \"ILI_lagwk4\"], axis=1)\n",
    "# X_train"
   ]
  },
  {
   "cell_type": "markdown",
   "metadata": {},
   "source": [
    "# split df to train dataset,dataset after year2015 and week 40 used at training dataset"
   ]
  },
  {
   "cell_type": "code",
   "execution_count": 14,
   "metadata": {},
   "outputs": [
    {
     "data": {
      "text/html": [
       "<div>\n",
       "<style scoped>\n",
       "    .dataframe tbody tr th:only-of-type {\n",
       "        vertical-align: middle;\n",
       "    }\n",
       "\n",
       "    .dataframe tbody tr th {\n",
       "        vertical-align: top;\n",
       "    }\n",
       "\n",
       "    .dataframe thead th {\n",
       "        text-align: right;\n",
       "    }\n",
       "</style>\n",
       "<table border=\"1\" class=\"dataframe\">\n",
       "  <thead>\n",
       "    <tr style=\"text-align: right;\">\n",
       "      <th></th>\n",
       "      <th>a_influenza</th>\n",
       "      <th>acute_bronchitis</th>\n",
       "      <th>body_temperature</th>\n",
       "      <th>braun_thermoscan</th>\n",
       "      <th>break_a_fever</th>\n",
       "      <th>bronchitis</th>\n",
       "      <th>chest_cold</th>\n",
       "      <th>cold_and_flu</th>\n",
       "      <th>cold_or_flu</th>\n",
       "      <th>cold_versus_flu</th>\n",
       "      <th>...</th>\n",
       "      <th>walking_pneumonia</th>\n",
       "      <th>what_to_do_if_you_have_the_flu</th>\n",
       "      <th>Flu_Visit_Count</th>\n",
       "      <th>ILI_Visit_Count</th>\n",
       "      <th>Unspecified</th>\n",
       "      <th>CDC_Unweighted_ILI</th>\n",
       "      <th>ILI_lagwk1</th>\n",
       "      <th>ILI_lagwk2</th>\n",
       "      <th>ILI_lagwk3</th>\n",
       "      <th>ILI_lagwk4</th>\n",
       "    </tr>\n",
       "    <tr>\n",
       "      <th>YearWeek</th>\n",
       "      <th></th>\n",
       "      <th></th>\n",
       "      <th></th>\n",
       "      <th></th>\n",
       "      <th></th>\n",
       "      <th></th>\n",
       "      <th></th>\n",
       "      <th></th>\n",
       "      <th></th>\n",
       "      <th></th>\n",
       "      <th></th>\n",
       "      <th></th>\n",
       "      <th></th>\n",
       "      <th></th>\n",
       "      <th></th>\n",
       "      <th></th>\n",
       "      <th></th>\n",
       "      <th></th>\n",
       "      <th></th>\n",
       "      <th></th>\n",
       "      <th></th>\n",
       "    </tr>\n",
       "  </thead>\n",
       "  <tbody>\n",
       "    <tr>\n",
       "      <th>201540</th>\n",
       "      <td>8</td>\n",
       "      <td>62</td>\n",
       "      <td>70</td>\n",
       "      <td>36</td>\n",
       "      <td>21</td>\n",
       "      <td>47</td>\n",
       "      <td>48</td>\n",
       "      <td>33</td>\n",
       "      <td>19</td>\n",
       "      <td>5</td>\n",
       "      <td>...</td>\n",
       "      <td>52</td>\n",
       "      <td>7</td>\n",
       "      <td>0.00065</td>\n",
       "      <td>0.00289</td>\n",
       "      <td>0.00760</td>\n",
       "      <td>1.26479</td>\n",
       "      <td>1.33029</td>\n",
       "      <td>1.41368</td>\n",
       "      <td>1.36882</td>\n",
       "      <td>1.48309</td>\n",
       "    </tr>\n",
       "    <tr>\n",
       "      <th>201541</th>\n",
       "      <td>9</td>\n",
       "      <td>67</td>\n",
       "      <td>71</td>\n",
       "      <td>28</td>\n",
       "      <td>28</td>\n",
       "      <td>49</td>\n",
       "      <td>50</td>\n",
       "      <td>36</td>\n",
       "      <td>20</td>\n",
       "      <td>7</td>\n",
       "      <td>...</td>\n",
       "      <td>54</td>\n",
       "      <td>13</td>\n",
       "      <td>0.00073</td>\n",
       "      <td>0.00324</td>\n",
       "      <td>0.00779</td>\n",
       "      <td>1.33029</td>\n",
       "      <td>1.41368</td>\n",
       "      <td>1.36882</td>\n",
       "      <td>1.48309</td>\n",
       "      <td>1.54494</td>\n",
       "    </tr>\n",
       "    <tr>\n",
       "      <th>201542</th>\n",
       "      <td>7</td>\n",
       "      <td>72</td>\n",
       "      <td>69</td>\n",
       "      <td>37</td>\n",
       "      <td>20</td>\n",
       "      <td>52</td>\n",
       "      <td>53</td>\n",
       "      <td>36</td>\n",
       "      <td>23</td>\n",
       "      <td>10</td>\n",
       "      <td>...</td>\n",
       "      <td>60</td>\n",
       "      <td>11</td>\n",
       "      <td>0.00077</td>\n",
       "      <td>0.00327</td>\n",
       "      <td>0.00771</td>\n",
       "      <td>1.41368</td>\n",
       "      <td>1.36882</td>\n",
       "      <td>1.48309</td>\n",
       "      <td>1.54494</td>\n",
       "      <td>1.62532</td>\n",
       "    </tr>\n",
       "    <tr>\n",
       "      <th>201543</th>\n",
       "      <td>8</td>\n",
       "      <td>67</td>\n",
       "      <td>67</td>\n",
       "      <td>25</td>\n",
       "      <td>24</td>\n",
       "      <td>53</td>\n",
       "      <td>59</td>\n",
       "      <td>39</td>\n",
       "      <td>22</td>\n",
       "      <td>8</td>\n",
       "      <td>...</td>\n",
       "      <td>59</td>\n",
       "      <td>4</td>\n",
       "      <td>0.00079</td>\n",
       "      <td>0.00337</td>\n",
       "      <td>0.00796</td>\n",
       "      <td>1.36882</td>\n",
       "      <td>1.48309</td>\n",
       "      <td>1.54494</td>\n",
       "      <td>1.62532</td>\n",
       "      <td>1.91565</td>\n",
       "    </tr>\n",
       "    <tr>\n",
       "      <th>201544</th>\n",
       "      <td>7</td>\n",
       "      <td>62</td>\n",
       "      <td>63</td>\n",
       "      <td>26</td>\n",
       "      <td>26</td>\n",
       "      <td>52</td>\n",
       "      <td>51</td>\n",
       "      <td>34</td>\n",
       "      <td>22</td>\n",
       "      <td>10</td>\n",
       "      <td>...</td>\n",
       "      <td>60</td>\n",
       "      <td>9</td>\n",
       "      <td>0.00081</td>\n",
       "      <td>0.00351</td>\n",
       "      <td>0.00814</td>\n",
       "      <td>1.48309</td>\n",
       "      <td>1.54494</td>\n",
       "      <td>1.62532</td>\n",
       "      <td>1.91565</td>\n",
       "      <td>1.74368</td>\n",
       "    </tr>\n",
       "  </tbody>\n",
       "</table>\n",
       "<p>5 rows × 137 columns</p>\n",
       "</div>"
      ],
      "text/plain": [
       "          a_influenza  acute_bronchitis  body_temperature  braun_thermoscan  \\\n",
       "YearWeek                                                                      \n",
       "201540              8                62                70                36   \n",
       "201541              9                67                71                28   \n",
       "201542              7                72                69                37   \n",
       "201543              8                67                67                25   \n",
       "201544              7                62                63                26   \n",
       "\n",
       "          break_a_fever  bronchitis  chest_cold  cold_and_flu  cold_or_flu  \\\n",
       "YearWeek                                                                     \n",
       "201540               21          47          48            33           19   \n",
       "201541               28          49          50            36           20   \n",
       "201542               20          52          53            36           23   \n",
       "201543               24          53          59            39           22   \n",
       "201544               26          52          51            34           22   \n",
       "\n",
       "          cold_versus_flu     ...      walking_pneumonia  \\\n",
       "YearWeek                      ...                          \n",
       "201540                  5     ...                     52   \n",
       "201541                  7     ...                     54   \n",
       "201542                 10     ...                     60   \n",
       "201543                  8     ...                     59   \n",
       "201544                 10     ...                     60   \n",
       "\n",
       "          what_to_do_if_you_have_the_flu  Flu_Visit_Count  ILI_Visit_Count  \\\n",
       "YearWeek                                                                     \n",
       "201540                                 7          0.00065          0.00289   \n",
       "201541                                13          0.00073          0.00324   \n",
       "201542                                11          0.00077          0.00327   \n",
       "201543                                 4          0.00079          0.00337   \n",
       "201544                                 9          0.00081          0.00351   \n",
       "\n",
       "          Unspecified  CDC_Unweighted_ILI  ILI_lagwk1  ILI_lagwk2  ILI_lagwk3  \\\n",
       "YearWeek                                                                        \n",
       "201540        0.00760             1.26479     1.33029     1.41368     1.36882   \n",
       "201541        0.00779             1.33029     1.41368     1.36882     1.48309   \n",
       "201542        0.00771             1.41368     1.36882     1.48309     1.54494   \n",
       "201543        0.00796             1.36882     1.48309     1.54494     1.62532   \n",
       "201544        0.00814             1.48309     1.54494     1.62532     1.91565   \n",
       "\n",
       "          ILI_lagwk4  \n",
       "YearWeek              \n",
       "201540       1.48309  \n",
       "201541       1.54494  \n",
       "201542       1.62532  \n",
       "201543       1.91565  \n",
       "201544       1.74368  \n",
       "\n",
       "[5 rows x 137 columns]"
      ]
     },
     "execution_count": 14,
     "metadata": {},
     "output_type": "execute_result"
    }
   ],
   "source": [
    "test = model_df[model_df.index >= 201540]\n",
    "test.head()"
   ]
  },
  {
   "cell_type": "code",
   "execution_count": 15,
   "metadata": {},
   "outputs": [],
   "source": [
    "y_test = test[\"ILI_lagwk1\"]"
   ]
  },
  {
   "cell_type": "code",
   "execution_count": 16,
   "metadata": {},
   "outputs": [],
   "source": [
    "yy_test = test[\"ILI_lagwk2\"]"
   ]
  },
  {
   "cell_type": "code",
   "execution_count": 17,
   "metadata": {},
   "outputs": [],
   "source": [
    "yyy_test = test[\"ILI_lagwk3\"]"
   ]
  },
  {
   "cell_type": "code",
   "execution_count": 18,
   "metadata": {},
   "outputs": [],
   "source": [
    "yyyy_test = test[\"ILI_lagwk4\"]"
   ]
  },
  {
   "cell_type": "code",
   "execution_count": 19,
   "metadata": {},
   "outputs": [],
   "source": [
    "X_test = test.drop([\"ILI_lagwk1\", \"ILI_lagwk2\", \"ILI_lagwk3\", \"ILI_lagwk4\"], axis=1)"
   ]
  },
  {
   "cell_type": "markdown",
   "metadata": {},
   "source": [
    "# building a model for y_test = test[\"ILI_lagwk1\"]"
   ]
  },
  {
   "cell_type": "code",
   "execution_count": 20,
   "metadata": {},
   "outputs": [],
   "source": [
    "rreg1 = RandomForestRegressor(max_depth = 5, n_estimators = 300,  random_state = 0, min_samples_leaf = 8)   "
   ]
  },
  {
   "cell_type": "code",
   "execution_count": 21,
   "metadata": {},
   "outputs": [
    {
     "data": {
      "text/plain": [
       "RandomForestRegressor(bootstrap=True, criterion='mse', max_depth=5,\n",
       "           max_features='auto', max_leaf_nodes=None,\n",
       "           min_impurity_decrease=0.0, min_impurity_split=None,\n",
       "           min_samples_leaf=8, min_samples_split=2,\n",
       "           min_weight_fraction_leaf=0.0, n_estimators=300, n_jobs=None,\n",
       "           oob_score=False, random_state=0, verbose=0, warm_start=False)"
      ]
     },
     "execution_count": 21,
     "metadata": {},
     "output_type": "execute_result"
    }
   ],
   "source": [
    "rreg1.fit(X_train, y_train)"
   ]
  },
  {
   "cell_type": "code",
   "execution_count": 22,
   "metadata": {},
   "outputs": [],
   "source": [
    "y_pred = rreg1.predict(X_test)"
   ]
  },
  {
   "cell_type": "code",
   "execution_count": 23,
   "metadata": {},
   "outputs": [
    {
     "data": {
      "text/plain": [
       "0.8146415710037178"
      ]
     },
     "execution_count": 23,
     "metadata": {},
     "output_type": "execute_result"
    }
   ],
   "source": [
    "r2_score(y_test, y_pred)"
   ]
  },
  {
   "cell_type": "code",
   "execution_count": 24,
   "metadata": {},
   "outputs": [
    {
     "data": {
      "text/plain": [
       "0.069"
      ]
     },
     "execution_count": 24,
     "metadata": {},
     "output_type": "execute_result"
    }
   ],
   "source": [
    "mean_squared_error(y_test, y_pred).round(3)"
   ]
  },
  {
   "cell_type": "code",
   "execution_count": 25,
   "metadata": {},
   "outputs": [
    {
     "data": {
      "text/plain": [
       "0.189"
      ]
     },
     "execution_count": 25,
     "metadata": {},
     "output_type": "execute_result"
    }
   ],
   "source": [
    "mean_absolute_error(y_test, y_pred).round(3)"
   ]
  },
  {
   "cell_type": "code",
   "execution_count": 26,
   "metadata": {},
   "outputs": [
    {
     "name": "stdout",
     "output_type": "stream",
     "text": [
      "R-squared for ILI_lagwk1 Train: 0.905\n",
      "R-squared for ILI_lagwk1 Test : 0.815\n"
     ]
    }
   ],
   "source": [
    "print(\"R-squared for ILI_lagwk1 Train: %.3f\" %rreg1.score(X_train, y_train)) \n",
    "print(\"R-squared for ILI_lagwk1 Test : %.3f\" %rreg1.score(X_test, y_test)) "
   ]
  },
  {
   "cell_type": "code",
   "execution_count": 27,
   "metadata": {},
   "outputs": [],
   "source": [
    "predictions1 = rreg1.predict(X_test) "
   ]
  },
  {
   "cell_type": "code",
   "execution_count": 28,
   "metadata": {},
   "outputs": [
    {
     "data": {
      "text/plain": [
       "Int64Index([201540, 201541, 201542, 201543, 201544, 201545, 201546, 201547,\n",
       "            201548, 201549, 201550, 201551, 201552, 201601, 201602, 201603,\n",
       "            201604, 201605, 201606, 201607, 201608, 201609, 201610, 201611,\n",
       "            201612, 201613, 201614, 201615, 201616, 201617, 201618, 201619,\n",
       "            201620],\n",
       "           dtype='int64', name='YearWeek')"
      ]
     },
     "execution_count": 28,
     "metadata": {},
     "output_type": "execute_result"
    }
   ],
   "source": [
    "# predict the values of y\n",
    "predictions = rreg1.predict(X_test)\n",
    "y_test_unraveled = y_test.values.ravel()\n",
    "y_test.index"
   ]
  },
  {
   "cell_type": "code",
   "execution_count": 29,
   "metadata": {},
   "outputs": [
    {
     "data": {
      "text/html": [
       "<div>\n",
       "<style scoped>\n",
       "    .dataframe tbody tr th:only-of-type {\n",
       "        vertical-align: middle;\n",
       "    }\n",
       "\n",
       "    .dataframe tbody tr th {\n",
       "        vertical-align: top;\n",
       "    }\n",
       "\n",
       "    .dataframe thead th {\n",
       "        text-align: right;\n",
       "    }\n",
       "</style>\n",
       "<table border=\"1\" class=\"dataframe\">\n",
       "  <thead>\n",
       "    <tr style=\"text-align: right;\">\n",
       "      <th></th>\n",
       "      <th>Prediction_ILI_lagwk1</th>\n",
       "      <th>Actual_ILI_lagwk1</th>\n",
       "    </tr>\n",
       "    <tr>\n",
       "      <th>YearWeek</th>\n",
       "      <th></th>\n",
       "      <th></th>\n",
       "    </tr>\n",
       "  </thead>\n",
       "  <tbody>\n",
       "    <tr>\n",
       "      <th>201540</th>\n",
       "      <td>1.376129</td>\n",
       "      <td>1.33029</td>\n",
       "    </tr>\n",
       "    <tr>\n",
       "      <th>201541</th>\n",
       "      <td>1.392518</td>\n",
       "      <td>1.41368</td>\n",
       "    </tr>\n",
       "    <tr>\n",
       "      <th>201542</th>\n",
       "      <td>1.483285</td>\n",
       "      <td>1.36882</td>\n",
       "    </tr>\n",
       "    <tr>\n",
       "      <th>201543</th>\n",
       "      <td>1.443019</td>\n",
       "      <td>1.48309</td>\n",
       "    </tr>\n",
       "    <tr>\n",
       "      <th>201544</th>\n",
       "      <td>1.500482</td>\n",
       "      <td>1.54494</td>\n",
       "    </tr>\n",
       "  </tbody>\n",
       "</table>\n",
       "</div>"
      ],
      "text/plain": [
       "          Prediction_ILI_lagwk1  Actual_ILI_lagwk1\n",
       "YearWeek                                          \n",
       "201540                 1.376129            1.33029\n",
       "201541                 1.392518            1.41368\n",
       "201542                 1.483285            1.36882\n",
       "201543                 1.443019            1.48309\n",
       "201544                 1.500482            1.54494"
      ]
     },
     "execution_count": 29,
     "metadata": {},
     "output_type": "execute_result"
    }
   ],
   "source": [
    "# store prediction and actual to df\n",
    "rreg1_pred_df = pd.DataFrame({\"Prediction_ILI_lagwk1\": predictions1, \"Actual_ILI_lagwk1\": y_test_unraveled}).reset_index(drop=True)\n",
    "rreg1_pred_df.index = y_test.index\n",
    "rreg1_pred_df.head()"
   ]
  },
  {
   "cell_type": "markdown",
   "metadata": {},
   "source": [
    "# # Create the GridSearchCV model"
   ]
  },
  {
   "cell_type": "code",
   "execution_count": 30,
   "metadata": {},
   "outputs": [],
   "source": [
    "# from sklearn.model_selection import GridSearchCV\n",
    "# param_grid = {'learning_rate':[ 0.02, 0.01, 0.1, 0.05], \n",
    "#             'max_depth':[1, 3, 5 ,7], \n",
    "#             'min_samples_leaf':[3, 5, 7 ,9], \n",
    "# #             'max_features':[0.1,0.3,1.0],\n",
    "#             'n_estimators': [300, 500, 1000, 2000]\n",
    "#              } \n",
    "\n",
    "# est = GradientBoostingRegressor()\n",
    "# gs_cv = GridSearchCV(est, param_grid).fit(X_train, y_train)\n",
    "\n",
    "# # best hyperparameter setting\n",
    "\n",
    "# gs_cv.best_est "
   ]
  },
  {
   "cell_type": "markdown",
   "metadata": {},
   "source": [
    "# selecting important features  [\"ILI_lagwk1\"]"
   ]
  },
  {
   "cell_type": "code",
   "execution_count": 31,
   "metadata": {},
   "outputs": [],
   "source": [
    "# store most important variables under importances\n",
    "importances = rreg1.feature_importances_"
   ]
  },
  {
   "cell_type": "code",
   "execution_count": 32,
   "metadata": {},
   "outputs": [
    {
     "data": {
      "text/plain": [
       "1.0"
      ]
     },
     "execution_count": 32,
     "metadata": {},
     "output_type": "execute_result"
    }
   ],
   "source": [
    "rreg1.feature_importances_.sum()"
   ]
  },
  {
   "cell_type": "code",
   "execution_count": 33,
   "metadata": {},
   "outputs": [
    {
     "data": {
      "text/plain": [
       "array([1.38932970e-05, 4.35173905e-04, 9.20546078e-05, 4.97604542e-04,\n",
       "       1.58281392e-04, 1.25037250e-04, 2.55789948e-04, 2.31418303e-04,\n",
       "       4.56881176e-05, 2.51827275e-04, 1.04890533e-04, 4.22792324e-04,\n",
       "       0.00000000e+00, 2.27948435e-04, 2.59178272e-03, 5.23882026e-05,\n",
       "       6.05985281e-05, 1.83835639e-04, 2.92054464e-04, 3.36112051e-04,\n",
       "       2.82347070e-03, 2.57609098e-05, 3.47001963e-04, 1.15083752e-05,\n",
       "       6.12755761e-05, 2.74897267e-05, 1.72775844e-04, 1.15188993e-03,\n",
       "       1.78930005e-04, 6.14940260e-04, 1.19063926e-03, 3.03795413e-04,\n",
       "       1.17425198e-04, 7.19749345e-05, 5.06681213e-06, 7.86955641e-04,\n",
       "       2.62654798e-04, 0.00000000e+00, 1.05698367e-05, 1.61271843e-05,\n",
       "       2.95447770e-04, 6.44635625e-05, 9.96466620e-05, 2.17542399e-04,\n",
       "       3.25309513e-05, 3.93723659e-05, 2.82396075e-05, 2.68546818e-04,\n",
       "       2.99773576e-03, 4.13578404e-05, 7.35570432e-06, 3.67290487e-05,\n",
       "       8.52912455e-05, 2.22130732e-06, 1.72542115e-04, 1.31819863e-04,\n",
       "       1.51198015e-04, 2.80740608e-03, 2.13538981e-04, 1.17087111e-05,\n",
       "       1.16031390e-04, 3.81958139e-05, 0.00000000e+00, 4.76736655e-05,\n",
       "       0.00000000e+00, 3.89823430e-06, 4.95028747e-06, 0.00000000e+00,\n",
       "       4.64375704e-05, 3.06522440e-03, 2.44144746e-03, 2.12934649e-05,\n",
       "       5.77825635e-05, 4.30874581e-06, 2.54903957e-03, 1.01116778e-04,\n",
       "       3.49572076e-05, 0.00000000e+00, 1.87046265e-04, 5.83086381e-06,\n",
       "       1.28127799e-04, 1.37458527e-03, 2.11633413e-02, 0.00000000e+00,\n",
       "       2.03934928e-03, 1.62113588e-05, 7.29402492e-05, 1.85288613e-05,\n",
       "       2.62803556e-05, 1.26240414e-03, 4.48604108e-04, 1.93424700e-04,\n",
       "       3.08793877e-05, 6.40614900e-04, 4.22651081e-05, 1.53502040e-04,\n",
       "       8.54583853e-06, 1.18939215e-04, 2.14484636e-04, 4.33257498e-05,\n",
       "       4.30354076e-04, 6.97678101e-05, 1.04495068e-04, 7.90363354e-04,\n",
       "       2.69935252e-03, 3.05899853e-04, 7.74736559e-05, 2.90957489e-05,\n",
       "       8.37870720e-05, 3.58256388e-05, 5.49327831e-04, 1.28912766e-04,\n",
       "       1.36991132e-04, 1.89076818e-04, 0.00000000e+00, 4.96419734e-05,\n",
       "       3.62608905e-04, 4.60334503e-04, 2.53363979e-03, 1.98767691e-05,\n",
       "       1.44157842e-04, 0.00000000e+00, 4.33745533e-05, 2.23814284e-04,\n",
       "       1.17818418e-03, 2.80538698e-02, 4.81613414e-06, 9.31096404e-04,\n",
       "       1.27329887e-05, 8.39031721e-03, 3.15172274e-03, 8.05340443e-04,\n",
       "       8.89018041e-01])"
      ]
     },
     "execution_count": 33,
     "metadata": {},
     "output_type": "execute_result"
    }
   ],
   "source": [
    "# # store most important variables/features under importances\n",
    "importances = rreg1.feature_importances_\n",
    "importances"
   ]
  },
  {
   "cell_type": "code",
   "execution_count": 34,
   "metadata": {},
   "outputs": [
    {
     "data": {
      "text/plain": [
       "[(0.889018040832374, 'CDC_Unweighted_ILI'),\n",
       " (0.028053869812340378, 'type_a_influenza'),\n",
       " (0.021163341298380867, 'influenza_type_a'),\n",
       " (0.008390317213861933, 'Flu_Visit_Count'),\n",
       " (0.003151722741388883, 'ILI_Visit_Count'),\n",
       " (0.003065224400364714, 'how_to_treat_flu'),\n",
       " (0.0029977357616633744, 'flu_remedy'),\n",
       " (0.002823470697018909, 'exposed_to_flu'),\n",
       " (0.0028074060797035477, 'get_over_the_flu'),\n",
       " (0.00269935251904876, 'sinus'),\n",
       " (0.0025917827208937743, 'cure_the_flu'),\n",
       " (0.0025490395676404844, 'incubation_period_for_the_flu'),\n",
       " (0.002533639792292544, 'treat_the_flu'),\n",
       " (0.002441447463452624, 'how_to_treat_the_flu'),\n",
       " (0.0020393492769711177, 'low_body'),\n",
       " (0.0013745852728133277, 'influenza_treatment'),\n",
       " (0.0012624041428047582, 'oscillococcinum'),\n",
       " (0.0011906392639627796, 'flu_contagious_period'),\n",
       " (0.0011781841753864804, 'tussionex'),\n",
       " (0.0011518899255785137, 'flu_care'),\n",
       " (0.0009310964040277342, 'walking_pneumonia'),\n",
       " (0.0008053404428352178, 'Unspecified'),\n",
       " (0.000790363353829208, 'sinus_infections'),\n",
       " (0.0007869556413865329, 'flu_germs'),\n",
       " (0.0006406148999114344, 'pneumonia'),\n",
       " (0.0006149402598847178, 'flu_complications'),\n",
       " (0.0005493278311816809, 'symptoms_of_pneumonia'),\n",
       " (0.0004976045420607907, 'braun_thermoscan'),\n",
       " (0.00046033450258852057, 'treat_flu'),\n",
       " (0.00044860410820912733, 'over_the_counter_flu_medicine'),\n",
       " (0.00043517390532338957, 'acute_bronchitis'),\n",
       " (0.00043035407610174083, 'robitussin'),\n",
       " (0.00042279232444195124, 'contagious_flu'),\n",
       " (0.00036260890549504195, 'thermoscan'),\n",
       " (0.0003470019627996009, 'fever_flu'),\n",
       " (0.00033611205081717627, 'expectorant'),\n",
       " (0.0003058998527888755, 'strep_throat'),\n",
       " (0.00030379541261478835, 'flu_contagious'),\n",
       " (0.000295447770288565, 'flu_incubation'),\n",
       " (0.000292054464443227, 'early_flu_symptoms'),\n",
       " (0.0002685468177184161, 'flu_remedies'),\n",
       " (0.0002626547979766361, 'flu_headache'),\n",
       " (0.0002557899480720845, 'chest_cold'),\n",
       " (0.00025182727487223623, 'cold_versus_flu'),\n",
       " (0.00023141830333694082, 'cold_and_flu'),\n",
       " (0.00022794843467207528, 'cure_flu'),\n",
       " (0.00022381428401135276, 'tussin'),\n",
       " (0.00021754239879437845, 'flu_medicine'),\n",
       " (0.00021448463611768812, 'remedies_for_the_flu'),\n",
       " (0.00021353898051382108, 'get_rid_of_the_flu'),\n",
       " (0.0001934247001879957, 'over_the_counter_flu'),\n",
       " (0.00018907681783374497, 'tessalon'),\n",
       " (0.00018704626527634962, 'influenza_incubation_period'),\n",
       " (0.00018383563932051691, 'ear_thermometer'),\n",
       " (0.00017893000525280044, 'flu_children'),\n",
       " (0.00017277584437950304, 'flu_and_fever'),\n",
       " (0.00017254211542469945, 'flu_treatments'),\n",
       " (0.00015828139220543742, 'break_a_fever'),\n",
       " (0.00015350204038598727, 'reduce_a_fever'),\n",
       " (0.00015119801497551224, 'flu_vs_cold'),\n",
       " (0.00014415784223657493, 'treating_the_flu'),\n",
       " (0.00013699113151426157, 'taking_temperature'),\n",
       " (0.00013181986308572047, 'flu_versus_cold'),\n",
       " (0.00012891276629470213, 'symptoms_of_the_flu'),\n",
       " (0.0001281277988731702, 'influenza_symptoms'),\n",
       " (0.00012503724992268779, 'bronchitis'),\n",
       " (0.00011893921500560373, 'remedies_for_flu'),\n",
       " (0.00011742519780766023, 'flu_cough'),\n",
       " (0.00011603138975290778, 'high_fever'),\n",
       " (0.000104890533446703, 'cold_vs_flu'),\n",
       " (0.00010449506772271365, 'signs_of_the_flu'),\n",
       " (0.0001011167781798269, 'influenza_a_and_b'),\n",
       " (9.964666202296224e-05, 'flu_length'),\n",
       " (9.2054607813111e-05, 'body_temperature'),\n",
       " (8.529124548029369e-05, 'flu_test'),\n",
       " (8.378707202173957e-05, 'symptoms_of_flu'),\n",
       " (7.747365590598497e-05, 'strep'),\n",
       " (7.294024916896215e-05, 'medicine_for_the_flu'),\n",
       " (7.19749344880929e-05, 'flu_duration'),\n",
       " (6.976781014889831e-05, 'signs_of_flu'),\n",
       " (6.446356252962837e-05, 'flu_lasts'),\n",
       " (6.127557605057702e-05, 'fight_the_flu'),\n",
       " (6.059852811923123e-05, 'do_i_have_the_flu'),\n",
       " (5.778256346524499e-05, 'i_have_the_flu'),\n",
       " (5.2388202607615195e-05, 'dangerous_fever'),\n",
       " (4.964197341363331e-05, 'the_flu'),\n",
       " (4.76736655111762e-05, 'how_long_does_the_flu_last'),\n",
       " (4.643757040191376e-05, 'how_to_get_rid_of_the_flu'),\n",
       " (4.568811758626052e-05, 'cold_or_flu'),\n",
       " (4.337455330711409e-05, 'treatment_for_the_flu'),\n",
       " (4.332574978110432e-05, 'respiratory_flu'),\n",
       " (4.226510806705792e-05, 'rapid_flu'),\n",
       " (4.135784040211967e-05, 'flu_report'),\n",
       " (3.937236586985982e-05, 'flu_recovery'),\n",
       " (3.8195813894819524e-05, 'how_long_contagious'),\n",
       " (3.6729048708228545e-05, 'flu_symptoms'),\n",
       " (3.5825638841319136e-05, 'symptoms_of_influenza'),\n",
       " (3.495720764119357e-05, 'influenza_a'),\n",
       " (3.253095133781796e-05, 'flu_or_cold'),\n",
       " (3.087938771358826e-05, 'painful_cough'),\n",
       " (2.909574890437392e-05, 'symptoms_of_bronchitis'),\n",
       " (2.8239607494119992e-05, 'flu_relief'),\n",
       " (2.748972668922845e-05, 'flu_and_cold'),\n",
       " (2.628035563387297e-05, 'normal_body'),\n",
       " (2.576090984268783e-05, 'fever_cough'),\n",
       " (2.129346493396111e-05, 'human_temperature'),\n",
       " (1.9876769113708204e-05, 'treating_flu'),\n",
       " (1.852886128512841e-05, 'normal_body_temperature'),\n",
       " (1.6211358799349492e-05, 'medicine_for_flu'),\n",
       " (1.6127184325620868e-05, 'flu_incubation_period'),\n",
       " (1.3893296953075648e-05, 'a_influenza'),\n",
       " (1.2732988719920057e-05, 'what_to_do_if_you_have_the_flu'),\n",
       " (1.1708711121861841e-05, 'having_the_flu'),\n",
       " (1.1508375249520697e-05, 'fever_reducer'),\n",
       " (1.056983666826313e-05, 'flu_in_children'),\n",
       " (8.545838530727346e-06, 'reduce_fever'),\n",
       " (7.355704319038205e-06, 'flu_reports'),\n",
       " (5.8308638054857e-06, 'influenza_incubation'),\n",
       " (5.066812128020501e-06, 'flu_fever'),\n",
       " (4.950287472462119e-06, 'how_long_is_the_flu_contagious'),\n",
       " (4.816134137279584e-06, 'upper_respiratory'),\n",
       " (4.308745807693162e-06, 'incubation_period_for_flu'),\n",
       " (3.8982343033796036e-06, 'how_long_is_flu_contagious'),\n",
       " (2.2213073198034148e-06, 'flu_treatment'),\n",
       " (0.0, 'treatment_for_flu'),\n",
       " (0.0, 'the_flu_virus'),\n",
       " (0.0, 'is_flu_contagious'),\n",
       " (0.0, 'influenza_contagious'),\n",
       " (0.0, 'how_long_is_the_flu'),\n",
       " (0.0, 'how_long_flu'),\n",
       " (0.0, 'how_long_does_flu_last'),\n",
       " (0.0, 'flu_how_long'),\n",
       " (0.0, 'cough_fever')]"
      ]
     },
     "execution_count": 34,
     "metadata": {},
     "output_type": "execute_result"
    }
   ],
   "source": [
    "sorted_features = sorted(zip(importances, X_train.columns), reverse=True)\n",
    "sorted_features"
   ]
  },
  {
   "cell_type": "code",
   "execution_count": 35,
   "metadata": {
    "scrolled": false
   },
   "outputs": [],
   "source": [
    "# # sort important varibles and sotre them under indices\n",
    "important_columns = []\n",
    "for fimportance, name in sorted(zip(importances, X_train.columns), reverse=True):\n",
    "    if fimportance > 0.00009:\n",
    "        important_columns.append(name)"
   ]
  },
  {
   "cell_type": "code",
   "execution_count": 36,
   "metadata": {},
   "outputs": [
    {
     "data": {
      "text/plain": [
       "['CDC_Unweighted_ILI',\n",
       " 'type_a_influenza',\n",
       " 'influenza_type_a',\n",
       " 'Flu_Visit_Count',\n",
       " 'ILI_Visit_Count',\n",
       " 'how_to_treat_flu',\n",
       " 'flu_remedy',\n",
       " 'exposed_to_flu',\n",
       " 'get_over_the_flu',\n",
       " 'sinus',\n",
       " 'cure_the_flu',\n",
       " 'incubation_period_for_the_flu',\n",
       " 'treat_the_flu',\n",
       " 'how_to_treat_the_flu',\n",
       " 'low_body',\n",
       " 'influenza_treatment',\n",
       " 'oscillococcinum',\n",
       " 'flu_contagious_period',\n",
       " 'tussionex',\n",
       " 'flu_care',\n",
       " 'walking_pneumonia',\n",
       " 'Unspecified',\n",
       " 'sinus_infections',\n",
       " 'flu_germs',\n",
       " 'pneumonia',\n",
       " 'flu_complications',\n",
       " 'symptoms_of_pneumonia',\n",
       " 'braun_thermoscan',\n",
       " 'treat_flu',\n",
       " 'over_the_counter_flu_medicine',\n",
       " 'acute_bronchitis',\n",
       " 'robitussin',\n",
       " 'contagious_flu',\n",
       " 'thermoscan',\n",
       " 'fever_flu',\n",
       " 'expectorant',\n",
       " 'strep_throat',\n",
       " 'flu_contagious',\n",
       " 'flu_incubation',\n",
       " 'early_flu_symptoms',\n",
       " 'flu_remedies',\n",
       " 'flu_headache',\n",
       " 'chest_cold',\n",
       " 'cold_versus_flu',\n",
       " 'cold_and_flu',\n",
       " 'cure_flu',\n",
       " 'tussin',\n",
       " 'flu_medicine',\n",
       " 'remedies_for_the_flu',\n",
       " 'get_rid_of_the_flu',\n",
       " 'over_the_counter_flu',\n",
       " 'tessalon',\n",
       " 'influenza_incubation_period',\n",
       " 'ear_thermometer',\n",
       " 'flu_children',\n",
       " 'flu_and_fever',\n",
       " 'flu_treatments',\n",
       " 'break_a_fever',\n",
       " 'reduce_a_fever',\n",
       " 'flu_vs_cold',\n",
       " 'treating_the_flu',\n",
       " 'taking_temperature',\n",
       " 'flu_versus_cold',\n",
       " 'symptoms_of_the_flu',\n",
       " 'influenza_symptoms',\n",
       " 'bronchitis',\n",
       " 'remedies_for_flu',\n",
       " 'flu_cough',\n",
       " 'high_fever',\n",
       " 'cold_vs_flu',\n",
       " 'signs_of_the_flu',\n",
       " 'influenza_a_and_b',\n",
       " 'flu_length',\n",
       " 'body_temperature']"
      ]
     },
     "execution_count": 36,
     "metadata": {},
     "output_type": "execute_result"
    }
   ],
   "source": [
    "important_feature_columns = important_columns\n",
    "important_feature_columns"
   ]
  },
  {
   "cell_type": "code",
   "execution_count": 74,
   "metadata": {},
   "outputs": [],
   "source": [
    "# important_features74_df = model_df[important_feature_columns]\n",
    "# important_features74_df.head()"
   ]
  },
  {
   "cell_type": "markdown",
   "metadata": {},
   "source": [
    "# building a model for y_test = test[\"ILI_lagwk2\"]"
   ]
  },
  {
   "cell_type": "code",
   "execution_count": 38,
   "metadata": {},
   "outputs": [],
   "source": [
    "rreg2 = RandomForestRegressor(max_depth = 5, n_estimators = 300,  random_state = 0, min_samples_leaf = 8)   "
   ]
  },
  {
   "cell_type": "code",
   "execution_count": 39,
   "metadata": {},
   "outputs": [
    {
     "data": {
      "text/plain": [
       "RandomForestRegressor(bootstrap=True, criterion='mse', max_depth=5,\n",
       "           max_features='auto', max_leaf_nodes=None,\n",
       "           min_impurity_decrease=0.0, min_impurity_split=None,\n",
       "           min_samples_leaf=8, min_samples_split=2,\n",
       "           min_weight_fraction_leaf=0.0, n_estimators=300, n_jobs=None,\n",
       "           oob_score=False, random_state=0, verbose=0, warm_start=False)"
      ]
     },
     "execution_count": 39,
     "metadata": {},
     "output_type": "execute_result"
    }
   ],
   "source": [
    "rreg2.fit(X_train, yy_train) "
   ]
  },
  {
   "cell_type": "code",
   "execution_count": 40,
   "metadata": {},
   "outputs": [],
   "source": [
    "yy_pred = rreg2.predict(X_test)"
   ]
  },
  {
   "cell_type": "code",
   "execution_count": 41,
   "metadata": {},
   "outputs": [
    {
     "data": {
      "text/plain": [
       "0.5834794077055614"
      ]
     },
     "execution_count": 41,
     "metadata": {},
     "output_type": "execute_result"
    }
   ],
   "source": [
    "r2_score(yy_test, yy_pred)"
   ]
  },
  {
   "cell_type": "code",
   "execution_count": 42,
   "metadata": {},
   "outputs": [
    {
     "data": {
      "text/plain": [
       "0.153"
      ]
     },
     "execution_count": 42,
     "metadata": {},
     "output_type": "execute_result"
    }
   ],
   "source": [
    "mean_squared_error(yy_test, yy_pred).round(3)"
   ]
  },
  {
   "cell_type": "code",
   "execution_count": 43,
   "metadata": {},
   "outputs": [
    {
     "data": {
      "text/plain": [
       "0.316"
      ]
     },
     "execution_count": 43,
     "metadata": {},
     "output_type": "execute_result"
    }
   ],
   "source": [
    "mean_absolute_error(yy_test, yy_pred).round(3)"
   ]
  },
  {
   "cell_type": "code",
   "execution_count": 44,
   "metadata": {},
   "outputs": [
    {
     "name": "stdout",
     "output_type": "stream",
     "text": [
      "R-squared for ILI_lagwk2 Train: 0.858\n",
      "R-squared for ILI_lagwk2 Test: 0.583\n"
     ]
    }
   ],
   "source": [
    "print(\"R-squared for ILI_lagwk2 Train: %.3f\" %rreg2.score(X_train, yy_train)) \n",
    "print(\"R-squared for ILI_lagwk2 Test: %.3f\" %rreg2.score(X_test, yy_test)) "
   ]
  },
  {
   "cell_type": "code",
   "execution_count": 45,
   "metadata": {},
   "outputs": [],
   "source": [
    "predictions2 = rreg2.predict(X_test) "
   ]
  },
  {
   "cell_type": "code",
   "execution_count": 46,
   "metadata": {},
   "outputs": [
    {
     "data": {
      "text/plain": [
       "Int64Index([201540, 201541, 201542, 201543, 201544, 201545, 201546, 201547,\n",
       "            201548, 201549, 201550, 201551, 201552, 201601, 201602, 201603,\n",
       "            201604, 201605, 201606, 201607, 201608, 201609, 201610, 201611,\n",
       "            201612, 201613, 201614, 201615, 201616, 201617, 201618, 201619,\n",
       "            201620],\n",
       "           dtype='int64', name='YearWeek')"
      ]
     },
     "execution_count": 46,
     "metadata": {},
     "output_type": "execute_result"
    }
   ],
   "source": [
    "# predict the values of y\n",
    "yy_test_unraveled = yy_test.values.ravel()\n",
    "yy_test.index"
   ]
  },
  {
   "cell_type": "code",
   "execution_count": 47,
   "metadata": {},
   "outputs": [
    {
     "data": {
      "text/html": [
       "<div>\n",
       "<style scoped>\n",
       "    .dataframe tbody tr th:only-of-type {\n",
       "        vertical-align: middle;\n",
       "    }\n",
       "\n",
       "    .dataframe tbody tr th {\n",
       "        vertical-align: top;\n",
       "    }\n",
       "\n",
       "    .dataframe thead th {\n",
       "        text-align: right;\n",
       "    }\n",
       "</style>\n",
       "<table border=\"1\" class=\"dataframe\">\n",
       "  <thead>\n",
       "    <tr style=\"text-align: right;\">\n",
       "      <th></th>\n",
       "      <th>Prediction_ILI_lagwk2</th>\n",
       "      <th>Actual_ILI_lagwk2</th>\n",
       "    </tr>\n",
       "    <tr>\n",
       "      <th>YearWeek</th>\n",
       "      <th></th>\n",
       "      <th></th>\n",
       "    </tr>\n",
       "  </thead>\n",
       "  <tbody>\n",
       "    <tr>\n",
       "      <th>201540</th>\n",
       "      <td>1.458390</td>\n",
       "      <td>1.41368</td>\n",
       "    </tr>\n",
       "    <tr>\n",
       "      <th>201541</th>\n",
       "      <td>1.489996</td>\n",
       "      <td>1.36882</td>\n",
       "    </tr>\n",
       "    <tr>\n",
       "      <th>201542</th>\n",
       "      <td>1.559351</td>\n",
       "      <td>1.48309</td>\n",
       "    </tr>\n",
       "    <tr>\n",
       "      <th>201543</th>\n",
       "      <td>1.559756</td>\n",
       "      <td>1.54494</td>\n",
       "    </tr>\n",
       "    <tr>\n",
       "      <th>201544</th>\n",
       "      <td>1.559101</td>\n",
       "      <td>1.62532</td>\n",
       "    </tr>\n",
       "  </tbody>\n",
       "</table>\n",
       "</div>"
      ],
      "text/plain": [
       "          Prediction_ILI_lagwk2  Actual_ILI_lagwk2\n",
       "YearWeek                                          \n",
       "201540                 1.458390            1.41368\n",
       "201541                 1.489996            1.36882\n",
       "201542                 1.559351            1.48309\n",
       "201543                 1.559756            1.54494\n",
       "201544                 1.559101            1.62532"
      ]
     },
     "execution_count": 47,
     "metadata": {},
     "output_type": "execute_result"
    }
   ],
   "source": [
    "# store prediction and actual to df\n",
    "rreg2_pred_df = pd.DataFrame({\"Prediction_ILI_lagwk2\": predictions2, \"Actual_ILI_lagwk2\": yy_test_unraveled}).reset_index(drop=True)\n",
    "rreg2_pred_df.index = yy_test.index\n",
    "rreg2_pred_df.head()"
   ]
  },
  {
   "cell_type": "markdown",
   "metadata": {},
   "source": [
    "# building a model for y_test = test[\"ILI_lagwk3\"]"
   ]
  },
  {
   "cell_type": "code",
   "execution_count": 48,
   "metadata": {},
   "outputs": [],
   "source": [
    "rreg3 = RandomForestRegressor(max_depth = 5, n_estimators = 300,  random_state = 0, min_samples_leaf = 8)   "
   ]
  },
  {
   "cell_type": "code",
   "execution_count": 49,
   "metadata": {},
   "outputs": [
    {
     "data": {
      "text/plain": [
       "RandomForestRegressor(bootstrap=True, criterion='mse', max_depth=5,\n",
       "           max_features='auto', max_leaf_nodes=None,\n",
       "           min_impurity_decrease=0.0, min_impurity_split=None,\n",
       "           min_samples_leaf=8, min_samples_split=2,\n",
       "           min_weight_fraction_leaf=0.0, n_estimators=300, n_jobs=None,\n",
       "           oob_score=False, random_state=0, verbose=0, warm_start=False)"
      ]
     },
     "execution_count": 49,
     "metadata": {},
     "output_type": "execute_result"
    }
   ],
   "source": [
    "rreg3.fit(X_train, yyy_train) "
   ]
  },
  {
   "cell_type": "code",
   "execution_count": 50,
   "metadata": {},
   "outputs": [],
   "source": [
    "yyy_pred = rreg3.predict(X_test)"
   ]
  },
  {
   "cell_type": "code",
   "execution_count": 51,
   "metadata": {},
   "outputs": [
    {
     "data": {
      "text/plain": [
       "0.47749076566864534"
      ]
     },
     "execution_count": 51,
     "metadata": {},
     "output_type": "execute_result"
    }
   ],
   "source": [
    "r2_score(yyy_test, yyy_pred)"
   ]
  },
  {
   "cell_type": "code",
   "execution_count": 52,
   "metadata": {},
   "outputs": [
    {
     "data": {
      "text/plain": [
       "0.198"
      ]
     },
     "execution_count": 52,
     "metadata": {},
     "output_type": "execute_result"
    }
   ],
   "source": [
    "mean_squared_error(yyy_test, yyy_pred).round(3)"
   ]
  },
  {
   "cell_type": "code",
   "execution_count": 53,
   "metadata": {},
   "outputs": [
    {
     "data": {
      "text/plain": [
       "0.34"
      ]
     },
     "execution_count": 53,
     "metadata": {},
     "output_type": "execute_result"
    }
   ],
   "source": [
    "mean_absolute_error(yyy_test, yyy_pred).round(3)"
   ]
  },
  {
   "cell_type": "code",
   "execution_count": 54,
   "metadata": {},
   "outputs": [
    {
     "name": "stdout",
     "output_type": "stream",
     "text": [
      "R-squared for Train: 0.827\n",
      "R-squared for Test: 0.477\n"
     ]
    }
   ],
   "source": [
    "print(\"R-squared for Train: %.3f\" %rreg3.score(X_train, yyy_train)) \n",
    "print(\"R-squared for Test: %.3f\" %rreg3.score(X_test, yyy_test)) "
   ]
  },
  {
   "cell_type": "code",
   "execution_count": 55,
   "metadata": {},
   "outputs": [],
   "source": [
    "predictions3 = rreg3.predict(X_test) "
   ]
  },
  {
   "cell_type": "code",
   "execution_count": 56,
   "metadata": {},
   "outputs": [
    {
     "data": {
      "text/plain": [
       "Int64Index([201540, 201541, 201542, 201543, 201544, 201545, 201546, 201547,\n",
       "            201548, 201549, 201550, 201551, 201552, 201601, 201602, 201603,\n",
       "            201604, 201605, 201606, 201607, 201608, 201609, 201610, 201611,\n",
       "            201612, 201613, 201614, 201615, 201616, 201617, 201618, 201619,\n",
       "            201620],\n",
       "           dtype='int64', name='YearWeek')"
      ]
     },
     "execution_count": 56,
     "metadata": {},
     "output_type": "execute_result"
    }
   ],
   "source": [
    "# predict the values of y\n",
    "predictions = rreg3.predict(X_test)\n",
    "yyy_test_unraveled = yyy_test.values.ravel()\n",
    "yyy_test.index"
   ]
  },
  {
   "cell_type": "code",
   "execution_count": 57,
   "metadata": {},
   "outputs": [
    {
     "data": {
      "text/html": [
       "<div>\n",
       "<style scoped>\n",
       "    .dataframe tbody tr th:only-of-type {\n",
       "        vertical-align: middle;\n",
       "    }\n",
       "\n",
       "    .dataframe tbody tr th {\n",
       "        vertical-align: top;\n",
       "    }\n",
       "\n",
       "    .dataframe thead th {\n",
       "        text-align: right;\n",
       "    }\n",
       "</style>\n",
       "<table border=\"1\" class=\"dataframe\">\n",
       "  <thead>\n",
       "    <tr style=\"text-align: right;\">\n",
       "      <th></th>\n",
       "      <th>Prediction_ILI_lagwk3</th>\n",
       "      <th>Actual_ILI_lagwk3</th>\n",
       "    </tr>\n",
       "    <tr>\n",
       "      <th>YearWeek</th>\n",
       "      <th></th>\n",
       "      <th></th>\n",
       "    </tr>\n",
       "  </thead>\n",
       "  <tbody>\n",
       "    <tr>\n",
       "      <th>201540</th>\n",
       "      <td>1.566789</td>\n",
       "      <td>1.36882</td>\n",
       "    </tr>\n",
       "    <tr>\n",
       "      <th>201541</th>\n",
       "      <td>1.633796</td>\n",
       "      <td>1.48309</td>\n",
       "    </tr>\n",
       "    <tr>\n",
       "      <th>201542</th>\n",
       "      <td>1.682643</td>\n",
       "      <td>1.54494</td>\n",
       "    </tr>\n",
       "    <tr>\n",
       "      <th>201543</th>\n",
       "      <td>1.697031</td>\n",
       "      <td>1.62532</td>\n",
       "    </tr>\n",
       "    <tr>\n",
       "      <th>201544</th>\n",
       "      <td>1.629000</td>\n",
       "      <td>1.91565</td>\n",
       "    </tr>\n",
       "  </tbody>\n",
       "</table>\n",
       "</div>"
      ],
      "text/plain": [
       "          Prediction_ILI_lagwk3  Actual_ILI_lagwk3\n",
       "YearWeek                                          \n",
       "201540                 1.566789            1.36882\n",
       "201541                 1.633796            1.48309\n",
       "201542                 1.682643            1.54494\n",
       "201543                 1.697031            1.62532\n",
       "201544                 1.629000            1.91565"
      ]
     },
     "execution_count": 57,
     "metadata": {},
     "output_type": "execute_result"
    }
   ],
   "source": [
    "rreg3_pred_df = pd.DataFrame({\"Prediction_ILI_lagwk3\": predictions3, \"Actual_ILI_lagwk3\": yyy_test_unraveled}).reset_index(drop=True)\n",
    "rreg3_pred_df.index = yyy_test.index\n",
    "rreg3_pred_df.head()"
   ]
  },
  {
   "cell_type": "markdown",
   "metadata": {},
   "source": [
    "# building a model for y_test = test[\"ILI_lagwk4\"]"
   ]
  },
  {
   "cell_type": "code",
   "execution_count": 58,
   "metadata": {},
   "outputs": [],
   "source": [
    "rreg4 = RandomForestRegressor(max_depth = 5, n_estimators = 300,  random_state = 0, min_samples_leaf = 8)  "
   ]
  },
  {
   "cell_type": "code",
   "execution_count": 59,
   "metadata": {},
   "outputs": [
    {
     "data": {
      "text/plain": [
       "RandomForestRegressor(bootstrap=True, criterion='mse', max_depth=5,\n",
       "           max_features='auto', max_leaf_nodes=None,\n",
       "           min_impurity_decrease=0.0, min_impurity_split=None,\n",
       "           min_samples_leaf=8, min_samples_split=2,\n",
       "           min_weight_fraction_leaf=0.0, n_estimators=300, n_jobs=None,\n",
       "           oob_score=False, random_state=0, verbose=0, warm_start=False)"
      ]
     },
     "execution_count": 59,
     "metadata": {},
     "output_type": "execute_result"
    }
   ],
   "source": [
    "rreg4.fit(X_train, yyyy_train) "
   ]
  },
  {
   "cell_type": "code",
   "execution_count": 60,
   "metadata": {},
   "outputs": [],
   "source": [
    "yyyy_pred = rreg4.predict(X_test)"
   ]
  },
  {
   "cell_type": "code",
   "execution_count": 61,
   "metadata": {},
   "outputs": [
    {
     "data": {
      "text/plain": [
       "0.34100547625960964"
      ]
     },
     "execution_count": 61,
     "metadata": {},
     "output_type": "execute_result"
    }
   ],
   "source": [
    "r2_score(yyyy_test, yyyy_pred)"
   ]
  },
  {
   "cell_type": "code",
   "execution_count": 62,
   "metadata": {},
   "outputs": [
    {
     "data": {
      "text/plain": [
       "0.257"
      ]
     },
     "execution_count": 62,
     "metadata": {},
     "output_type": "execute_result"
    }
   ],
   "source": [
    "mean_squared_error(yyyy_test, yyyy_pred).round(3)"
   ]
  },
  {
   "cell_type": "code",
   "execution_count": 63,
   "metadata": {},
   "outputs": [
    {
     "data": {
      "text/plain": [
       "0.385"
      ]
     },
     "execution_count": 63,
     "metadata": {},
     "output_type": "execute_result"
    }
   ],
   "source": [
    "mean_absolute_error(yyyy_test, yyyy_pred).round(3)"
   ]
  },
  {
   "cell_type": "code",
   "execution_count": 64,
   "metadata": {},
   "outputs": [
    {
     "name": "stdout",
     "output_type": "stream",
     "text": [
      "R-squared for Train: 0.820\n",
      "R-squared for Test: 0.341\n"
     ]
    }
   ],
   "source": [
    "print(\"R-squared for Train: %.3f\" %rreg4.score(X_train, yyyy_train)) \n",
    "print(\"R-squared for Test: %.3f\" %rreg4.score(X_test, yyyy_test)) "
   ]
  },
  {
   "cell_type": "code",
   "execution_count": 65,
   "metadata": {},
   "outputs": [
    {
     "data": {
      "text/plain": [
       "Int64Index([201540, 201541, 201542, 201543, 201544, 201545, 201546, 201547,\n",
       "            201548, 201549, 201550, 201551, 201552, 201601, 201602, 201603,\n",
       "            201604, 201605, 201606, 201607, 201608, 201609, 201610, 201611,\n",
       "            201612, 201613, 201614, 201615, 201616, 201617, 201618, 201619,\n",
       "            201620],\n",
       "           dtype='int64', name='YearWeek')"
      ]
     },
     "execution_count": 65,
     "metadata": {},
     "output_type": "execute_result"
    }
   ],
   "source": [
    "# predict the values of y\n",
    "predictions4 = rreg4.predict(X_test)\n",
    "yyyy_test_unraveled = yyyy_test.values.ravel()\n",
    "yyyy_test.index"
   ]
  },
  {
   "cell_type": "code",
   "execution_count": 66,
   "metadata": {},
   "outputs": [
    {
     "data": {
      "text/html": [
       "<div>\n",
       "<style scoped>\n",
       "    .dataframe tbody tr th:only-of-type {\n",
       "        vertical-align: middle;\n",
       "    }\n",
       "\n",
       "    .dataframe tbody tr th {\n",
       "        vertical-align: top;\n",
       "    }\n",
       "\n",
       "    .dataframe thead th {\n",
       "        text-align: right;\n",
       "    }\n",
       "</style>\n",
       "<table border=\"1\" class=\"dataframe\">\n",
       "  <thead>\n",
       "    <tr style=\"text-align: right;\">\n",
       "      <th></th>\n",
       "      <th>Prediction_ILI_lagwk4</th>\n",
       "      <th>Actual_ILI_lagwk4</th>\n",
       "    </tr>\n",
       "    <tr>\n",
       "      <th>YearWeek</th>\n",
       "      <th></th>\n",
       "      <th></th>\n",
       "    </tr>\n",
       "  </thead>\n",
       "  <tbody>\n",
       "    <tr>\n",
       "      <th>201540</th>\n",
       "      <td>1.601719</td>\n",
       "      <td>1.48309</td>\n",
       "    </tr>\n",
       "    <tr>\n",
       "      <th>201541</th>\n",
       "      <td>1.857401</td>\n",
       "      <td>1.54494</td>\n",
       "    </tr>\n",
       "    <tr>\n",
       "      <th>201542</th>\n",
       "      <td>1.854575</td>\n",
       "      <td>1.62532</td>\n",
       "    </tr>\n",
       "    <tr>\n",
       "      <th>201543</th>\n",
       "      <td>1.960527</td>\n",
       "      <td>1.91565</td>\n",
       "    </tr>\n",
       "    <tr>\n",
       "      <th>201544</th>\n",
       "      <td>1.816402</td>\n",
       "      <td>1.74368</td>\n",
       "    </tr>\n",
       "  </tbody>\n",
       "</table>\n",
       "</div>"
      ],
      "text/plain": [
       "          Prediction_ILI_lagwk4  Actual_ILI_lagwk4\n",
       "YearWeek                                          \n",
       "201540                 1.601719            1.48309\n",
       "201541                 1.857401            1.54494\n",
       "201542                 1.854575            1.62532\n",
       "201543                 1.960527            1.91565\n",
       "201544                 1.816402            1.74368"
      ]
     },
     "execution_count": 66,
     "metadata": {},
     "output_type": "execute_result"
    }
   ],
   "source": [
    "# store prediction and actual to df\n",
    "rreg4_pred_df = pd.DataFrame({\"Prediction_ILI_lagwk4\": predictions4, \"Actual_ILI_lagwk4\": yyyy_test_unraveled}).reset_index(drop=True)\n",
    "rreg4_pred_df.index = yyyy_test.index\n",
    "rreg4_pred_df.head()"
   ]
  },
  {
   "cell_type": "markdown",
   "metadata": {},
   "source": [
    "# Merging predicted output in a one df"
   ]
  },
  {
   "cell_type": "code",
   "execution_count": 67,
   "metadata": {
    "scrolled": true
   },
   "outputs": [
    {
     "data": {
      "text/html": [
       "<div>\n",
       "<style scoped>\n",
       "    .dataframe tbody tr th:only-of-type {\n",
       "        vertical-align: middle;\n",
       "    }\n",
       "\n",
       "    .dataframe tbody tr th {\n",
       "        vertical-align: top;\n",
       "    }\n",
       "\n",
       "    .dataframe thead th {\n",
       "        text-align: right;\n",
       "    }\n",
       "</style>\n",
       "<table border=\"1\" class=\"dataframe\">\n",
       "  <thead>\n",
       "    <tr style=\"text-align: right;\">\n",
       "      <th></th>\n",
       "      <th>YearWeek</th>\n",
       "      <th>Prediction_ILI_lagwk1</th>\n",
       "      <th>Actual_ILI_lagwk1</th>\n",
       "    </tr>\n",
       "  </thead>\n",
       "  <tbody>\n",
       "    <tr>\n",
       "      <th>0</th>\n",
       "      <td>201540</td>\n",
       "      <td>1.376129</td>\n",
       "      <td>1.33029</td>\n",
       "    </tr>\n",
       "    <tr>\n",
       "      <th>1</th>\n",
       "      <td>201541</td>\n",
       "      <td>1.392518</td>\n",
       "      <td>1.41368</td>\n",
       "    </tr>\n",
       "  </tbody>\n",
       "</table>\n",
       "</div>"
      ],
      "text/plain": [
       "   YearWeek  Prediction_ILI_lagwk1  Actual_ILI_lagwk1\n",
       "0    201540               1.376129            1.33029\n",
       "1    201541               1.392518            1.41368"
      ]
     },
     "execution_count": 67,
     "metadata": {},
     "output_type": "execute_result"
    }
   ],
   "source": [
    "rreg1_pred_df = rreg1_pred_df.reset_index()\n",
    "rreg1_pred_df.head(2)"
   ]
  },
  {
   "cell_type": "code",
   "execution_count": 68,
   "metadata": {},
   "outputs": [
    {
     "data": {
      "text/html": [
       "<div>\n",
       "<style scoped>\n",
       "    .dataframe tbody tr th:only-of-type {\n",
       "        vertical-align: middle;\n",
       "    }\n",
       "\n",
       "    .dataframe tbody tr th {\n",
       "        vertical-align: top;\n",
       "    }\n",
       "\n",
       "    .dataframe thead th {\n",
       "        text-align: right;\n",
       "    }\n",
       "</style>\n",
       "<table border=\"1\" class=\"dataframe\">\n",
       "  <thead>\n",
       "    <tr style=\"text-align: right;\">\n",
       "      <th></th>\n",
       "      <th>YearWeek</th>\n",
       "      <th>Prediction_ILI_lagwk2</th>\n",
       "      <th>Actual_ILI_lagwk2</th>\n",
       "    </tr>\n",
       "  </thead>\n",
       "  <tbody>\n",
       "    <tr>\n",
       "      <th>0</th>\n",
       "      <td>201540</td>\n",
       "      <td>1.458390</td>\n",
       "      <td>1.41368</td>\n",
       "    </tr>\n",
       "    <tr>\n",
       "      <th>1</th>\n",
       "      <td>201541</td>\n",
       "      <td>1.489996</td>\n",
       "      <td>1.36882</td>\n",
       "    </tr>\n",
       "  </tbody>\n",
       "</table>\n",
       "</div>"
      ],
      "text/plain": [
       "   YearWeek  Prediction_ILI_lagwk2  Actual_ILI_lagwk2\n",
       "0    201540               1.458390            1.41368\n",
       "1    201541               1.489996            1.36882"
      ]
     },
     "execution_count": 68,
     "metadata": {},
     "output_type": "execute_result"
    }
   ],
   "source": [
    "rreg2_pred_df = rreg2_pred_df.reset_index()\n",
    "rreg2_pred_df.head(2)"
   ]
  },
  {
   "cell_type": "code",
   "execution_count": 69,
   "metadata": {},
   "outputs": [
    {
     "data": {
      "text/html": [
       "<div>\n",
       "<style scoped>\n",
       "    .dataframe tbody tr th:only-of-type {\n",
       "        vertical-align: middle;\n",
       "    }\n",
       "\n",
       "    .dataframe tbody tr th {\n",
       "        vertical-align: top;\n",
       "    }\n",
       "\n",
       "    .dataframe thead th {\n",
       "        text-align: right;\n",
       "    }\n",
       "</style>\n",
       "<table border=\"1\" class=\"dataframe\">\n",
       "  <thead>\n",
       "    <tr style=\"text-align: right;\">\n",
       "      <th></th>\n",
       "      <th>YearWeek</th>\n",
       "      <th>Prediction_ILI_lagwk3</th>\n",
       "      <th>Actual_ILI_lagwk3</th>\n",
       "    </tr>\n",
       "  </thead>\n",
       "  <tbody>\n",
       "    <tr>\n",
       "      <th>0</th>\n",
       "      <td>201540</td>\n",
       "      <td>1.566789</td>\n",
       "      <td>1.36882</td>\n",
       "    </tr>\n",
       "    <tr>\n",
       "      <th>1</th>\n",
       "      <td>201541</td>\n",
       "      <td>1.633796</td>\n",
       "      <td>1.48309</td>\n",
       "    </tr>\n",
       "  </tbody>\n",
       "</table>\n",
       "</div>"
      ],
      "text/plain": [
       "   YearWeek  Prediction_ILI_lagwk3  Actual_ILI_lagwk3\n",
       "0    201540               1.566789            1.36882\n",
       "1    201541               1.633796            1.48309"
      ]
     },
     "execution_count": 69,
     "metadata": {},
     "output_type": "execute_result"
    }
   ],
   "source": [
    "rreg3_pred_df = rreg3_pred_df.reset_index()\n",
    "rreg3_pred_df.head(2)"
   ]
  },
  {
   "cell_type": "code",
   "execution_count": 70,
   "metadata": {},
   "outputs": [
    {
     "data": {
      "text/html": [
       "<div>\n",
       "<style scoped>\n",
       "    .dataframe tbody tr th:only-of-type {\n",
       "        vertical-align: middle;\n",
       "    }\n",
       "\n",
       "    .dataframe tbody tr th {\n",
       "        vertical-align: top;\n",
       "    }\n",
       "\n",
       "    .dataframe thead th {\n",
       "        text-align: right;\n",
       "    }\n",
       "</style>\n",
       "<table border=\"1\" class=\"dataframe\">\n",
       "  <thead>\n",
       "    <tr style=\"text-align: right;\">\n",
       "      <th></th>\n",
       "      <th>YearWeek</th>\n",
       "      <th>Prediction_ILI_lagwk4</th>\n",
       "      <th>Actual_ILI_lagwk4</th>\n",
       "    </tr>\n",
       "  </thead>\n",
       "  <tbody>\n",
       "    <tr>\n",
       "      <th>0</th>\n",
       "      <td>201540</td>\n",
       "      <td>1.601719</td>\n",
       "      <td>1.48309</td>\n",
       "    </tr>\n",
       "    <tr>\n",
       "      <th>1</th>\n",
       "      <td>201541</td>\n",
       "      <td>1.857401</td>\n",
       "      <td>1.54494</td>\n",
       "    </tr>\n",
       "  </tbody>\n",
       "</table>\n",
       "</div>"
      ],
      "text/plain": [
       "   YearWeek  Prediction_ILI_lagwk4  Actual_ILI_lagwk4\n",
       "0    201540               1.601719            1.48309\n",
       "1    201541               1.857401            1.54494"
      ]
     },
     "execution_count": 70,
     "metadata": {},
     "output_type": "execute_result"
    }
   ],
   "source": [
    "rreg4_pred_df = rreg4_pred_df.reset_index()\n",
    "rreg4_pred_df.head(2)"
   ]
  },
  {
   "cell_type": "code",
   "execution_count": 71,
   "metadata": {},
   "outputs": [],
   "source": [
    "dfs = [rreg1_pred_df, rreg2_pred_df, rreg3_pred_df, rreg4_pred_df]\n",
    "# dfs"
   ]
  },
  {
   "cell_type": "code",
   "execution_count": 72,
   "metadata": {},
   "outputs": [
    {
     "data": {
      "text/html": [
       "<div>\n",
       "<style scoped>\n",
       "    .dataframe tbody tr th:only-of-type {\n",
       "        vertical-align: middle;\n",
       "    }\n",
       "\n",
       "    .dataframe tbody tr th {\n",
       "        vertical-align: top;\n",
       "    }\n",
       "\n",
       "    .dataframe thead th {\n",
       "        text-align: right;\n",
       "    }\n",
       "</style>\n",
       "<table border=\"1\" class=\"dataframe\">\n",
       "  <thead>\n",
       "    <tr style=\"text-align: right;\">\n",
       "      <th></th>\n",
       "      <th>YearWeek</th>\n",
       "      <th>Prediction_ILI_lagwk1</th>\n",
       "      <th>Actual_ILI_lagwk1</th>\n",
       "      <th>Prediction_ILI_lagwk2</th>\n",
       "      <th>Actual_ILI_lagwk2</th>\n",
       "      <th>Prediction_ILI_lagwk3</th>\n",
       "      <th>Actual_ILI_lagwk3</th>\n",
       "      <th>Prediction_ILI_lagwk4</th>\n",
       "      <th>Actual_ILI_lagwk4</th>\n",
       "    </tr>\n",
       "  </thead>\n",
       "  <tbody>\n",
       "    <tr>\n",
       "      <th>0</th>\n",
       "      <td>201540</td>\n",
       "      <td>1.376129</td>\n",
       "      <td>1.33029</td>\n",
       "      <td>1.458390</td>\n",
       "      <td>1.41368</td>\n",
       "      <td>1.566789</td>\n",
       "      <td>1.36882</td>\n",
       "      <td>1.601719</td>\n",
       "      <td>1.48309</td>\n",
       "    </tr>\n",
       "    <tr>\n",
       "      <th>1</th>\n",
       "      <td>201541</td>\n",
       "      <td>1.392518</td>\n",
       "      <td>1.41368</td>\n",
       "      <td>1.489996</td>\n",
       "      <td>1.36882</td>\n",
       "      <td>1.633796</td>\n",
       "      <td>1.48309</td>\n",
       "      <td>1.857401</td>\n",
       "      <td>1.54494</td>\n",
       "    </tr>\n",
       "    <tr>\n",
       "      <th>2</th>\n",
       "      <td>201542</td>\n",
       "      <td>1.483285</td>\n",
       "      <td>1.36882</td>\n",
       "      <td>1.559351</td>\n",
       "      <td>1.48309</td>\n",
       "      <td>1.682643</td>\n",
       "      <td>1.54494</td>\n",
       "      <td>1.854575</td>\n",
       "      <td>1.62532</td>\n",
       "    </tr>\n",
       "    <tr>\n",
       "      <th>3</th>\n",
       "      <td>201543</td>\n",
       "      <td>1.443019</td>\n",
       "      <td>1.48309</td>\n",
       "      <td>1.559756</td>\n",
       "      <td>1.54494</td>\n",
       "      <td>1.697031</td>\n",
       "      <td>1.62532</td>\n",
       "      <td>1.960527</td>\n",
       "      <td>1.91565</td>\n",
       "    </tr>\n",
       "    <tr>\n",
       "      <th>4</th>\n",
       "      <td>201544</td>\n",
       "      <td>1.500482</td>\n",
       "      <td>1.54494</td>\n",
       "      <td>1.559101</td>\n",
       "      <td>1.62532</td>\n",
       "      <td>1.629000</td>\n",
       "      <td>1.91565</td>\n",
       "      <td>1.816402</td>\n",
       "      <td>1.74368</td>\n",
       "    </tr>\n",
       "  </tbody>\n",
       "</table>\n",
       "</div>"
      ],
      "text/plain": [
       "   YearWeek  Prediction_ILI_lagwk1  Actual_ILI_lagwk1  Prediction_ILI_lagwk2  \\\n",
       "0    201540               1.376129            1.33029               1.458390   \n",
       "1    201541               1.392518            1.41368               1.489996   \n",
       "2    201542               1.483285            1.36882               1.559351   \n",
       "3    201543               1.443019            1.48309               1.559756   \n",
       "4    201544               1.500482            1.54494               1.559101   \n",
       "\n",
       "   Actual_ILI_lagwk2  Prediction_ILI_lagwk3  Actual_ILI_lagwk3  \\\n",
       "0            1.41368               1.566789            1.36882   \n",
       "1            1.36882               1.633796            1.48309   \n",
       "2            1.48309               1.682643            1.54494   \n",
       "3            1.54494               1.697031            1.62532   \n",
       "4            1.62532               1.629000            1.91565   \n",
       "\n",
       "   Prediction_ILI_lagwk4  Actual_ILI_lagwk4  \n",
       "0               1.601719            1.48309  \n",
       "1               1.857401            1.54494  \n",
       "2               1.854575            1.62532  \n",
       "3               1.960527            1.91565  \n",
       "4               1.816402            1.74368  "
      ]
     },
     "execution_count": 72,
     "metadata": {},
     "output_type": "execute_result"
    }
   ],
   "source": [
    "from functools import reduce\n",
    "\n",
    "# joining ILI week prdection with corresponding actuals\n",
    "rreg_prediction_actual_df = reduce(lambda left,right: pd.merge(left,right,on='YearWeek'), dfs)\n",
    "rreg_prediction_actual_df.head()"
   ]
  },
  {
   "cell_type": "code",
   "execution_count": 73,
   "metadata": {},
   "outputs": [
    {
     "data": {
      "text/html": [
       "<div>\n",
       "<style scoped>\n",
       "    .dataframe tbody tr th:only-of-type {\n",
       "        vertical-align: middle;\n",
       "    }\n",
       "\n",
       "    .dataframe tbody tr th {\n",
       "        vertical-align: top;\n",
       "    }\n",
       "\n",
       "    .dataframe thead th {\n",
       "        text-align: right;\n",
       "    }\n",
       "</style>\n",
       "<table border=\"1\" class=\"dataframe\">\n",
       "  <thead>\n",
       "    <tr style=\"text-align: right;\">\n",
       "      <th></th>\n",
       "      <th>YearWeek</th>\n",
       "      <th>Prediction_ILI_lagwk1</th>\n",
       "      <th>Actual_ILI_lagwk1</th>\n",
       "      <th>Prediction_ILI_lagwk2</th>\n",
       "      <th>Actual_ILI_lagwk2</th>\n",
       "      <th>Prediction_ILI_lagwk3</th>\n",
       "      <th>Actual_ILI_lagwk3</th>\n",
       "      <th>Prediction_ILI_lagwk4</th>\n",
       "      <th>Actual_ILI_lagwk4</th>\n",
       "    </tr>\n",
       "  </thead>\n",
       "  <tbody>\n",
       "    <tr>\n",
       "      <th>0</th>\n",
       "      <td>201540</td>\n",
       "      <td>1.376129</td>\n",
       "      <td>1.33029</td>\n",
       "      <td>1.458390</td>\n",
       "      <td>1.41368</td>\n",
       "      <td>1.566789</td>\n",
       "      <td>1.36882</td>\n",
       "      <td>1.601719</td>\n",
       "      <td>1.48309</td>\n",
       "    </tr>\n",
       "    <tr>\n",
       "      <th>1</th>\n",
       "      <td>201541</td>\n",
       "      <td>1.392518</td>\n",
       "      <td>1.41368</td>\n",
       "      <td>1.489996</td>\n",
       "      <td>1.36882</td>\n",
       "      <td>1.633796</td>\n",
       "      <td>1.48309</td>\n",
       "      <td>1.857401</td>\n",
       "      <td>1.54494</td>\n",
       "    </tr>\n",
       "    <tr>\n",
       "      <th>2</th>\n",
       "      <td>201542</td>\n",
       "      <td>1.483285</td>\n",
       "      <td>1.36882</td>\n",
       "      <td>1.559351</td>\n",
       "      <td>1.48309</td>\n",
       "      <td>1.682643</td>\n",
       "      <td>1.54494</td>\n",
       "      <td>1.854575</td>\n",
       "      <td>1.62532</td>\n",
       "    </tr>\n",
       "    <tr>\n",
       "      <th>3</th>\n",
       "      <td>201543</td>\n",
       "      <td>1.443019</td>\n",
       "      <td>1.48309</td>\n",
       "      <td>1.559756</td>\n",
       "      <td>1.54494</td>\n",
       "      <td>1.697031</td>\n",
       "      <td>1.62532</td>\n",
       "      <td>1.960527</td>\n",
       "      <td>1.91565</td>\n",
       "    </tr>\n",
       "    <tr>\n",
       "      <th>4</th>\n",
       "      <td>201544</td>\n",
       "      <td>1.500482</td>\n",
       "      <td>1.54494</td>\n",
       "      <td>1.559101</td>\n",
       "      <td>1.62532</td>\n",
       "      <td>1.629000</td>\n",
       "      <td>1.91565</td>\n",
       "      <td>1.816402</td>\n",
       "      <td>1.74368</td>\n",
       "    </tr>\n",
       "  </tbody>\n",
       "</table>\n",
       "</div>"
      ],
      "text/plain": [
       "   YearWeek  Prediction_ILI_lagwk1  Actual_ILI_lagwk1  Prediction_ILI_lagwk2  \\\n",
       "0    201540               1.376129            1.33029               1.458390   \n",
       "1    201541               1.392518            1.41368               1.489996   \n",
       "2    201542               1.483285            1.36882               1.559351   \n",
       "3    201543               1.443019            1.48309               1.559756   \n",
       "4    201544               1.500482            1.54494               1.559101   \n",
       "\n",
       "   Actual_ILI_lagwk2  Prediction_ILI_lagwk3  Actual_ILI_lagwk3  \\\n",
       "0            1.41368               1.566789            1.36882   \n",
       "1            1.36882               1.633796            1.48309   \n",
       "2            1.48309               1.682643            1.54494   \n",
       "3            1.54494               1.697031            1.62532   \n",
       "4            1.62532               1.629000            1.91565   \n",
       "\n",
       "   Prediction_ILI_lagwk4  Actual_ILI_lagwk4  \n",
       "0               1.601719            1.48309  \n",
       "1               1.857401            1.54494  \n",
       "2               1.854575            1.62532  \n",
       "3               1.960527            1.91565  \n",
       "4               1.816402            1.74368  "
      ]
     },
     "execution_count": 73,
     "metadata": {},
     "output_type": "execute_result"
    }
   ],
   "source": [
    "rreg_prediction_actual_df.to_csv(\"Output/Randomforest_Prediction_ILI_lagwk_summarized.csv\")\n",
    "rreg_prediction_actual_df.head() "
   ]
  }
 ],
 "metadata": {
  "kernelspec": {
   "display_name": "Python 3",
   "language": "python",
   "name": "python3"
  },
  "language_info": {
   "codemirror_mode": {
    "name": "ipython",
    "version": 3
   },
   "file_extension": ".py",
   "mimetype": "text/x-python",
   "name": "python",
   "nbconvert_exporter": "python",
   "pygments_lexer": "ipython3",
   "version": "3.7.1"
  }
 },
 "nbformat": 4,
 "nbformat_minor": 2
}
