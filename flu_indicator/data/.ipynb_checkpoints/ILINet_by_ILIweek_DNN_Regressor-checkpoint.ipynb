{
 "cells": [
  {
   "cell_type": "code",
   "execution_count": 1,
   "metadata": {},
   "outputs": [],
   "source": [
    "%matplotlib inline\n",
    "import pandas as pd\n",
    "import numpy as np\n",
    "import matplotlib.pyplot as plt"
   ]
  },
  {
   "cell_type": "code",
   "execution_count": 2,
   "metadata": {},
   "outputs": [],
   "source": [
    "from sklearn import model_selection\n",
    "from sklearn.preprocessing import StandardScaler  \n",
    "from sklearn.neural_network import MLPRegressor\n",
    "from sklearn.metrics import mean_squared_error, mean_absolute_error, r2_score"
   ]
  },
  {
   "cell_type": "code",
   "execution_count": 3,
   "metadata": {},
   "outputs": [
    {
     "data": {
      "text/html": [
       "<div>\n",
       "<style scoped>\n",
       "    .dataframe tbody tr th:only-of-type {\n",
       "        vertical-align: middle;\n",
       "    }\n",
       "\n",
       "    .dataframe tbody tr th {\n",
       "        vertical-align: top;\n",
       "    }\n",
       "\n",
       "    .dataframe thead th {\n",
       "        text-align: right;\n",
       "    }\n",
       "</style>\n",
       "<table border=\"1\" class=\"dataframe\">\n",
       "  <thead>\n",
       "    <tr style=\"text-align: right;\">\n",
       "      <th></th>\n",
       "      <th>Year</th>\n",
       "      <th>week</th>\n",
       "      <th>a_influenza</th>\n",
       "      <th>acute_bronchitis</th>\n",
       "      <th>body_temperature</th>\n",
       "      <th>braun_thermoscan</th>\n",
       "      <th>break_a_fever</th>\n",
       "      <th>bronchitis</th>\n",
       "      <th>chest_cold</th>\n",
       "      <th>cold_and_flu</th>\n",
       "      <th>...</th>\n",
       "      <th>walking_pneumonia</th>\n",
       "      <th>what_to_do_if_you_have_the_flu</th>\n",
       "      <th>Flu_Visit_Count</th>\n",
       "      <th>ILI_Visit_Count</th>\n",
       "      <th>Unspecified</th>\n",
       "      <th>CDC_Unweighted_ILI</th>\n",
       "      <th>ILI_lagwk1</th>\n",
       "      <th>ILI_lagwk2</th>\n",
       "      <th>ILI_lagwk3</th>\n",
       "      <th>ILI_lagwk4</th>\n",
       "    </tr>\n",
       "  </thead>\n",
       "  <tbody>\n",
       "    <tr>\n",
       "      <th>0</th>\n",
       "      <td>2009</td>\n",
       "      <td>40</td>\n",
       "      <td>44</td>\n",
       "      <td>33</td>\n",
       "      <td>81</td>\n",
       "      <td>69</td>\n",
       "      <td>22</td>\n",
       "      <td>40</td>\n",
       "      <td>35</td>\n",
       "      <td>36</td>\n",
       "      <td>...</td>\n",
       "      <td>47</td>\n",
       "      <td>56</td>\n",
       "      <td>0.01338</td>\n",
       "      <td>0.01763</td>\n",
       "      <td>0.03074</td>\n",
       "      <td>5.66087</td>\n",
       "      <td>6.81522</td>\n",
       "      <td>7.61889</td>\n",
       "      <td>7.38836</td>\n",
       "      <td>6.33927</td>\n",
       "    </tr>\n",
       "    <tr>\n",
       "      <th>1</th>\n",
       "      <td>2009</td>\n",
       "      <td>41</td>\n",
       "      <td>51</td>\n",
       "      <td>51</td>\n",
       "      <td>77</td>\n",
       "      <td>46</td>\n",
       "      <td>24</td>\n",
       "      <td>43</td>\n",
       "      <td>35</td>\n",
       "      <td>43</td>\n",
       "      <td>...</td>\n",
       "      <td>53</td>\n",
       "      <td>58</td>\n",
       "      <td>0.01620</td>\n",
       "      <td>0.02103</td>\n",
       "      <td>0.03554</td>\n",
       "      <td>6.81522</td>\n",
       "      <td>7.61889</td>\n",
       "      <td>7.38836</td>\n",
       "      <td>6.33927</td>\n",
       "      <td>4.94349</td>\n",
       "    </tr>\n",
       "  </tbody>\n",
       "</table>\n",
       "<p>2 rows × 139 columns</p>\n",
       "</div>"
      ],
      "text/plain": [
       "   Year  week  a_influenza  acute_bronchitis  body_temperature  \\\n",
       "0  2009    40           44                33                81   \n",
       "1  2009    41           51                51                77   \n",
       "\n",
       "   braun_thermoscan  break_a_fever  bronchitis  chest_cold  cold_and_flu  \\\n",
       "0                69             22          40          35            36   \n",
       "1                46             24          43          35            43   \n",
       "\n",
       "      ...      walking_pneumonia  what_to_do_if_you_have_the_flu  \\\n",
       "0     ...                     47                              56   \n",
       "1     ...                     53                              58   \n",
       "\n",
       "   Flu_Visit_Count  ILI_Visit_Count  Unspecified  CDC_Unweighted_ILI  \\\n",
       "0          0.01338          0.01763      0.03074             5.66087   \n",
       "1          0.01620          0.02103      0.03554             6.81522   \n",
       "\n",
       "   ILI_lagwk1  ILI_lagwk2  ILI_lagwk3  ILI_lagwk4  \n",
       "0     6.81522     7.61889     7.38836     6.33927  \n",
       "1     7.61889     7.38836     6.33927     4.94349  \n",
       "\n",
       "[2 rows x 139 columns]"
      ]
     },
     "execution_count": 3,
     "metadata": {},
     "output_type": "execute_result"
    }
   ],
   "source": [
    "# final df for model building\n",
    "df1 = pd.read_csv(\"ML_model_wk40_to_20.csv\")\n",
    "df1.dropna(how='any', inplace=True)\n",
    "del df1['ILI_weeks']\n",
    "del df1['Unnamed: 0']\n",
    "#del df1['week']\n",
    "df1.head(2)"
   ]
  },
  {
   "cell_type": "code",
   "execution_count": 4,
   "metadata": {},
   "outputs": [],
   "source": [
    "#  combining year and week column \n",
    "def combine_year_week(row):\n",
    "    return int(row[\"Year\"]) * 100 + int(row[\"week\"])"
   ]
  },
  {
   "cell_type": "code",
   "execution_count": 5,
   "metadata": {},
   "outputs": [],
   "source": [
    "df1[\"YearWeek\"] = df1.apply(combine_year_week, axis=1)"
   ]
  },
  {
   "cell_type": "code",
   "execution_count": 6,
   "metadata": {},
   "outputs": [],
   "source": [
    "# reset index to YearWeek\n",
    "df1.index = df1[\"YearWeek\"]"
   ]
  },
  {
   "cell_type": "code",
   "execution_count": 7,
   "metadata": {},
   "outputs": [
    {
     "data": {
      "text/html": [
       "<div>\n",
       "<style scoped>\n",
       "    .dataframe tbody tr th:only-of-type {\n",
       "        vertical-align: middle;\n",
       "    }\n",
       "\n",
       "    .dataframe tbody tr th {\n",
       "        vertical-align: top;\n",
       "    }\n",
       "\n",
       "    .dataframe thead th {\n",
       "        text-align: right;\n",
       "    }\n",
       "</style>\n",
       "<table border=\"1\" class=\"dataframe\">\n",
       "  <thead>\n",
       "    <tr style=\"text-align: right;\">\n",
       "      <th></th>\n",
       "      <th>a_influenza</th>\n",
       "      <th>acute_bronchitis</th>\n",
       "      <th>body_temperature</th>\n",
       "      <th>braun_thermoscan</th>\n",
       "      <th>break_a_fever</th>\n",
       "      <th>bronchitis</th>\n",
       "      <th>chest_cold</th>\n",
       "      <th>cold_and_flu</th>\n",
       "      <th>cold_or_flu</th>\n",
       "      <th>cold_versus_flu</th>\n",
       "      <th>...</th>\n",
       "      <th>walking_pneumonia</th>\n",
       "      <th>what_to_do_if_you_have_the_flu</th>\n",
       "      <th>Flu_Visit_Count</th>\n",
       "      <th>ILI_Visit_Count</th>\n",
       "      <th>Unspecified</th>\n",
       "      <th>CDC_Unweighted_ILI</th>\n",
       "      <th>ILI_lagwk1</th>\n",
       "      <th>ILI_lagwk2</th>\n",
       "      <th>ILI_lagwk3</th>\n",
       "      <th>ILI_lagwk4</th>\n",
       "    </tr>\n",
       "    <tr>\n",
       "      <th>YearWeek</th>\n",
       "      <th></th>\n",
       "      <th></th>\n",
       "      <th></th>\n",
       "      <th></th>\n",
       "      <th></th>\n",
       "      <th></th>\n",
       "      <th></th>\n",
       "      <th></th>\n",
       "      <th></th>\n",
       "      <th></th>\n",
       "      <th></th>\n",
       "      <th></th>\n",
       "      <th></th>\n",
       "      <th></th>\n",
       "      <th></th>\n",
       "      <th></th>\n",
       "      <th></th>\n",
       "      <th></th>\n",
       "      <th></th>\n",
       "      <th></th>\n",
       "      <th></th>\n",
       "    </tr>\n",
       "  </thead>\n",
       "  <tbody>\n",
       "    <tr>\n",
       "      <th>200940</th>\n",
       "      <td>44</td>\n",
       "      <td>33</td>\n",
       "      <td>81</td>\n",
       "      <td>69</td>\n",
       "      <td>22</td>\n",
       "      <td>40</td>\n",
       "      <td>35</td>\n",
       "      <td>36</td>\n",
       "      <td>37</td>\n",
       "      <td>30</td>\n",
       "      <td>...</td>\n",
       "      <td>47</td>\n",
       "      <td>56</td>\n",
       "      <td>0.01338</td>\n",
       "      <td>0.01763</td>\n",
       "      <td>0.03074</td>\n",
       "      <td>5.66087</td>\n",
       "      <td>6.81522</td>\n",
       "      <td>7.61889</td>\n",
       "      <td>7.38836</td>\n",
       "      <td>6.33927</td>\n",
       "    </tr>\n",
       "    <tr>\n",
       "      <th>200941</th>\n",
       "      <td>51</td>\n",
       "      <td>51</td>\n",
       "      <td>77</td>\n",
       "      <td>46</td>\n",
       "      <td>24</td>\n",
       "      <td>43</td>\n",
       "      <td>35</td>\n",
       "      <td>43</td>\n",
       "      <td>49</td>\n",
       "      <td>41</td>\n",
       "      <td>...</td>\n",
       "      <td>53</td>\n",
       "      <td>58</td>\n",
       "      <td>0.01620</td>\n",
       "      <td>0.02103</td>\n",
       "      <td>0.03554</td>\n",
       "      <td>6.81522</td>\n",
       "      <td>7.61889</td>\n",
       "      <td>7.38836</td>\n",
       "      <td>6.33927</td>\n",
       "      <td>4.94349</td>\n",
       "    </tr>\n",
       "  </tbody>\n",
       "</table>\n",
       "<p>2 rows × 137 columns</p>\n",
       "</div>"
      ],
      "text/plain": [
       "          a_influenza  acute_bronchitis  body_temperature  braun_thermoscan  \\\n",
       "YearWeek                                                                      \n",
       "200940             44                33                81                69   \n",
       "200941             51                51                77                46   \n",
       "\n",
       "          break_a_fever  bronchitis  chest_cold  cold_and_flu  cold_or_flu  \\\n",
       "YearWeek                                                                     \n",
       "200940               22          40          35            36           37   \n",
       "200941               24          43          35            43           49   \n",
       "\n",
       "          cold_versus_flu     ...      walking_pneumonia  \\\n",
       "YearWeek                      ...                          \n",
       "200940                 30     ...                     47   \n",
       "200941                 41     ...                     53   \n",
       "\n",
       "          what_to_do_if_you_have_the_flu  Flu_Visit_Count  ILI_Visit_Count  \\\n",
       "YearWeek                                                                     \n",
       "200940                                56          0.01338          0.01763   \n",
       "200941                                58          0.01620          0.02103   \n",
       "\n",
       "          Unspecified  CDC_Unweighted_ILI  ILI_lagwk1  ILI_lagwk2  ILI_lagwk3  \\\n",
       "YearWeek                                                                        \n",
       "200940        0.03074             5.66087     6.81522     7.61889     7.38836   \n",
       "200941        0.03554             6.81522     7.61889     7.38836     6.33927   \n",
       "\n",
       "          ILI_lagwk4  \n",
       "YearWeek              \n",
       "200940       6.33927  \n",
       "200941       4.94349  \n",
       "\n",
       "[2 rows x 137 columns]"
      ]
     },
     "execution_count": 7,
     "metadata": {},
     "output_type": "execute_result"
    }
   ],
   "source": [
    "model_df = df1.drop([\"Year\", \"week\", \"YearWeek\"], axis=1)\n",
    "model_df.head(2)"
   ]
  },
  {
   "cell_type": "markdown",
   "metadata": {},
   "source": [
    "# Independent variables\n",
    "        # 3 independent variables from athena EHR \n",
    "            # [(flu visit counts)/ (total patient visit counts) \n",
    "            # (ILI visit counts)/ (total patient visit counts)\n",
    "            # (unspecified viral or ILI visit counts)/ (total patient visit counts)]\n",
    "        # CDC historical CDC_Unweighted_ILI values: collected from 2009 to 2016 (week 40 to 20)\n",
    "        # 129 google search terms related to flu\n",
    "        \n",
    "      ======> 3 + 1 + 129\n",
    "      \n",
    "# Dependent variables \n",
    "        # 4 ILI weeks offset by 1 week"
   ]
  },
  {
   "cell_type": "markdown",
   "metadata": {},
   "source": [
    "# split df to train dataset, dataset before year2015 and week 40 used at training dataset"
   ]
  },
  {
   "cell_type": "code",
   "execution_count": null,
   "metadata": {},
   "outputs": [],
   "source": []
  },
  {
   "cell_type": "code",
   "execution_count": 8,
   "metadata": {},
   "outputs": [],
   "source": [
    "train = model_df[model_df.index < 201540]\n",
    "# train.head()"
   ]
  },
  {
   "cell_type": "markdown",
   "metadata": {},
   "source": [
    "\n",
    "# defining  targets/labels to  y axis\n",
    "                y_train = ILI lag week 1\n",
    "\n",
    "                yy_train = ILI lag week 2\n",
    "\n",
    "                yyy_train = ILI lag week 3\n",
    "\n",
    "                yyyy_train = ILI lag week 4"
   ]
  },
  {
   "cell_type": "code",
   "execution_count": 9,
   "metadata": {},
   "outputs": [],
   "source": [
    "y_train = train[\"ILI_lagwk1\"]\n",
    "# y_train"
   ]
  },
  {
   "cell_type": "code",
   "execution_count": 10,
   "metadata": {},
   "outputs": [],
   "source": [
    "yy_train = train[\"ILI_lagwk2\"]"
   ]
  },
  {
   "cell_type": "code",
   "execution_count": 11,
   "metadata": {},
   "outputs": [],
   "source": [
    "yyy_train = train[\"ILI_lagwk3\"]"
   ]
  },
  {
   "cell_type": "code",
   "execution_count": 12,
   "metadata": {},
   "outputs": [],
   "source": [
    "yyyy_train =train[\"ILI_lagwk4\"]"
   ]
  },
  {
   "cell_type": "code",
   "execution_count": 13,
   "metadata": {},
   "outputs": [],
   "source": [
    "X_train = train.drop([\"ILI_lagwk1\", \"ILI_lagwk2\", \"ILI_lagwk3\", \"ILI_lagwk4\"], axis=1)\n",
    "# X_train"
   ]
  },
  {
   "cell_type": "markdown",
   "metadata": {},
   "source": [
    "# split df to train dataset,dataset after year2015 and week 40 used at training dataset"
   ]
  },
  {
   "cell_type": "code",
   "execution_count": 14,
   "metadata": {},
   "outputs": [],
   "source": [
    "test = model_df[model_df.index >= 201540]\n",
    "# test.head()"
   ]
  },
  {
   "cell_type": "code",
   "execution_count": 15,
   "metadata": {},
   "outputs": [],
   "source": [
    "y_test = test[\"ILI_lagwk1\"]"
   ]
  },
  {
   "cell_type": "code",
   "execution_count": 16,
   "metadata": {},
   "outputs": [],
   "source": [
    "yy_test = test[\"ILI_lagwk2\"]"
   ]
  },
  {
   "cell_type": "code",
   "execution_count": 17,
   "metadata": {},
   "outputs": [],
   "source": [
    "yyy_test = test[\"ILI_lagwk3\"]"
   ]
  },
  {
   "cell_type": "code",
   "execution_count": 18,
   "metadata": {},
   "outputs": [],
   "source": [
    "yyyy_test = test[\"ILI_lagwk4\"]"
   ]
  },
  {
   "cell_type": "code",
   "execution_count": 19,
   "metadata": {},
   "outputs": [],
   "source": [
    "X_test = test.drop([\"ILI_lagwk1\", \"ILI_lagwk2\", \"ILI_lagwk3\", \"ILI_lagwk4\"], axis=1)"
   ]
  },
  {
   "cell_type": "markdown",
   "metadata": {},
   "source": [
    "# scaling X_train, X_test"
   ]
  },
  {
   "cell_type": "code",
   "execution_count": 20,
   "metadata": {},
   "outputs": [
    {
     "name": "stderr",
     "output_type": "stream",
     "text": [
      "C:\\Users\\emame\\Anaconda3\\lib\\site-packages\\sklearn\\preprocessing\\data.py:625: DataConversionWarning: Data with input dtype int64, float64 were all converted to float64 by StandardScaler.\n",
      "  return self.partial_fit(X, y)\n",
      "C:\\Users\\emame\\Anaconda3\\lib\\site-packages\\ipykernel_launcher.py:5: DataConversionWarning: Data with input dtype int64, float64 were all converted to float64 by StandardScaler.\n",
      "  \"\"\"\n",
      "C:\\Users\\emame\\Anaconda3\\lib\\site-packages\\ipykernel_launcher.py:6: DataConversionWarning: Data with input dtype int64, float64 were all converted to float64 by StandardScaler.\n",
      "  \n"
     ]
    }
   ],
   "source": [
    "# StandardScaler to transform features\n",
    "scaler = StandardScaler()  \n",
    "scaler.fit(X_train) \n",
    "\n",
    "X_train_scaled = scaler.transform(X_train) \n",
    "X_test_scaled = scaler.transform(X_test) "
   ]
  },
  {
   "cell_type": "markdown",
   "metadata": {},
   "source": [
    "# building a model for y_test = test[\"ILI_lagwk1\"]"
   ]
  },
  {
   "cell_type": "code",
   "execution_count": 21,
   "metadata": {},
   "outputs": [],
   "source": [
    "mlr1 = MLPRegressor(hidden_layer_sizes = (10, ), max_iter = 10000, activation = 'relu', \n",
    "                    solver = 'lbfgs', alpha = 0.001,  random_state = 10) "
   ]
  },
  {
   "cell_type": "code",
   "execution_count": 22,
   "metadata": {},
   "outputs": [
    {
     "data": {
      "text/plain": [
       "MLPRegressor(activation='relu', alpha=0.001, batch_size='auto', beta_1=0.9,\n",
       "       beta_2=0.999, early_stopping=False, epsilon=1e-08,\n",
       "       hidden_layer_sizes=(10,), learning_rate='constant',\n",
       "       learning_rate_init=0.001, max_iter=10000, momentum=0.9,\n",
       "       n_iter_no_change=10, nesterovs_momentum=True, power_t=0.5,\n",
       "       random_state=10, shuffle=True, solver='lbfgs', tol=0.0001,\n",
       "       validation_fraction=0.1, verbose=False, warm_start=False)"
      ]
     },
     "execution_count": 22,
     "metadata": {},
     "output_type": "execute_result"
    }
   ],
   "source": [
    "mlr1.fit(X_train_scaled, y_train)"
   ]
  },
  {
   "cell_type": "code",
   "execution_count": 23,
   "metadata": {},
   "outputs": [],
   "source": [
    "y_pred = mlr1.predict(X_test_scaled)"
   ]
  },
  {
   "cell_type": "code",
   "execution_count": 24,
   "metadata": {},
   "outputs": [
    {
     "data": {
      "text/plain": [
       "0.6100789755958467"
      ]
     },
     "execution_count": 24,
     "metadata": {},
     "output_type": "execute_result"
    }
   ],
   "source": [
    "r2_score(y_test, y_pred)"
   ]
  },
  {
   "cell_type": "code",
   "execution_count": 25,
   "metadata": {},
   "outputs": [
    {
     "data": {
      "text/plain": [
       "0.29278934131010903"
      ]
     },
     "execution_count": 25,
     "metadata": {},
     "output_type": "execute_result"
    }
   ],
   "source": [
    "mean_absolute_error(y_test, y_pred)"
   ]
  },
  {
   "cell_type": "code",
   "execution_count": 26,
   "metadata": {},
   "outputs": [],
   "source": [
    "# mean_squared_error(y_test, y_pred)"
   ]
  },
  {
   "cell_type": "code",
   "execution_count": 27,
   "metadata": {},
   "outputs": [
    {
     "name": "stdout",
     "output_type": "stream",
     "text": [
      "R-squared for ILI_lagwk1 Train: 1.00\n",
      "R-squared for ILI_lagwk1 Test : 0.61\n"
     ]
    }
   ],
   "source": [
    "print(\"R-squared for ILI_lagwk1 Train: %.2f\" %mlr1.score(X_train_scaled, y_train)) \n",
    "print(\"R-squared for ILI_lagwk1 Test : %.2f\" %mlr1.score(X_test_scaled, y_test)) "
   ]
  },
  {
   "cell_type": "code",
   "execution_count": 28,
   "metadata": {},
   "outputs": [],
   "source": [
    "predictions1 = mlr1.predict(X_test_scaled) "
   ]
  },
  {
   "cell_type": "code",
   "execution_count": 29,
   "metadata": {},
   "outputs": [
    {
     "data": {
      "text/plain": [
       "Int64Index([201540, 201541, 201542, 201543, 201544, 201545, 201546, 201547,\n",
       "            201548, 201549, 201550, 201551, 201552, 201601, 201602, 201603,\n",
       "            201604, 201605, 201606, 201607, 201608, 201609, 201610, 201611,\n",
       "            201612, 201613, 201614, 201615, 201616, 201617, 201618, 201619,\n",
       "            201620],\n",
       "           dtype='int64', name='YearWeek')"
      ]
     },
     "execution_count": 29,
     "metadata": {},
     "output_type": "execute_result"
    }
   ],
   "source": [
    "# predict the values of y\n",
    "predictions = mlr1.predict(X_test_scaled)\n",
    "y_test_unraveled = y_test.values.ravel()\n",
    "y_test.index"
   ]
  },
  {
   "cell_type": "code",
   "execution_count": 30,
   "metadata": {},
   "outputs": [
    {
     "data": {
      "text/html": [
       "<div>\n",
       "<style scoped>\n",
       "    .dataframe tbody tr th:only-of-type {\n",
       "        vertical-align: middle;\n",
       "    }\n",
       "\n",
       "    .dataframe tbody tr th {\n",
       "        vertical-align: top;\n",
       "    }\n",
       "\n",
       "    .dataframe thead th {\n",
       "        text-align: right;\n",
       "    }\n",
       "</style>\n",
       "<table border=\"1\" class=\"dataframe\">\n",
       "  <thead>\n",
       "    <tr style=\"text-align: right;\">\n",
       "      <th></th>\n",
       "      <th>Prediction_ILI_lagwk1</th>\n",
       "      <th>Actual</th>\n",
       "    </tr>\n",
       "    <tr>\n",
       "      <th>YearWeek</th>\n",
       "      <th></th>\n",
       "      <th></th>\n",
       "    </tr>\n",
       "  </thead>\n",
       "  <tbody>\n",
       "    <tr>\n",
       "      <th>201540</th>\n",
       "      <td>1.432666</td>\n",
       "      <td>1.33029</td>\n",
       "    </tr>\n",
       "    <tr>\n",
       "      <th>201541</th>\n",
       "      <td>1.554929</td>\n",
       "      <td>1.41368</td>\n",
       "    </tr>\n",
       "    <tr>\n",
       "      <th>201542</th>\n",
       "      <td>1.588664</td>\n",
       "      <td>1.36882</td>\n",
       "    </tr>\n",
       "    <tr>\n",
       "      <th>201543</th>\n",
       "      <td>1.676423</td>\n",
       "      <td>1.48309</td>\n",
       "    </tr>\n",
       "    <tr>\n",
       "      <th>201544</th>\n",
       "      <td>1.506776</td>\n",
       "      <td>1.54494</td>\n",
       "    </tr>\n",
       "  </tbody>\n",
       "</table>\n",
       "</div>"
      ],
      "text/plain": [
       "          Prediction_ILI_lagwk1   Actual\n",
       "YearWeek                                \n",
       "201540                 1.432666  1.33029\n",
       "201541                 1.554929  1.41368\n",
       "201542                 1.588664  1.36882\n",
       "201543                 1.676423  1.48309\n",
       "201544                 1.506776  1.54494"
      ]
     },
     "execution_count": 30,
     "metadata": {},
     "output_type": "execute_result"
    }
   ],
   "source": [
    "# store prediction and actual to df\n",
    "pred_df = pd.DataFrame({\"Prediction_ILI_lagwk1\": predictions1, \"Actual\": y_test_unraveled}).reset_index(drop=True)\n",
    "pred_df.index = y_test.index\n",
    "pred_df.head()"
   ]
  },
  {
   "cell_type": "markdown",
   "metadata": {},
   "source": [
    "# building a model for y_test = test[\"ILI_lagwk2\"]"
   ]
  },
  {
   "cell_type": "code",
   "execution_count": 31,
   "metadata": {},
   "outputs": [],
   "source": [
    "mlr2 = MLPRegressor(hidden_layer_sizes = (10, ), max_iter = 10000, activation = 'relu', \n",
    "                    solver = 'lbfgs', alpha = 0.001,  random_state = 10)  "
   ]
  },
  {
   "cell_type": "code",
   "execution_count": 32,
   "metadata": {},
   "outputs": [
    {
     "data": {
      "text/plain": [
       "MLPRegressor(activation='relu', alpha=0.001, batch_size='auto', beta_1=0.9,\n",
       "       beta_2=0.999, early_stopping=False, epsilon=1e-08,\n",
       "       hidden_layer_sizes=(10,), learning_rate='constant',\n",
       "       learning_rate_init=0.001, max_iter=10000, momentum=0.9,\n",
       "       n_iter_no_change=10, nesterovs_momentum=True, power_t=0.5,\n",
       "       random_state=10, shuffle=True, solver='lbfgs', tol=0.0001,\n",
       "       validation_fraction=0.1, verbose=False, warm_start=False)"
      ]
     },
     "execution_count": 32,
     "metadata": {},
     "output_type": "execute_result"
    }
   ],
   "source": [
    "mlr2.fit(X_train_scaled, yy_train) "
   ]
  },
  {
   "cell_type": "code",
   "execution_count": 33,
   "metadata": {},
   "outputs": [],
   "source": [
    "yy_pred = mlr2.predict(X_test_scaled)"
   ]
  },
  {
   "cell_type": "code",
   "execution_count": 34,
   "metadata": {},
   "outputs": [
    {
     "data": {
      "text/plain": [
       "0.1548534235439144"
      ]
     },
     "execution_count": 34,
     "metadata": {},
     "output_type": "execute_result"
    }
   ],
   "source": [
    "r2_score(yy_test, yy_pred)"
   ]
  },
  {
   "cell_type": "code",
   "execution_count": 35,
   "metadata": {},
   "outputs": [
    {
     "data": {
      "text/plain": [
       "0.4046476355867089"
      ]
     },
     "execution_count": 35,
     "metadata": {},
     "output_type": "execute_result"
    }
   ],
   "source": [
    "mean_absolute_error(yy_test, yy_pred)"
   ]
  },
  {
   "cell_type": "code",
   "execution_count": 36,
   "metadata": {},
   "outputs": [
    {
     "name": "stdout",
     "output_type": "stream",
     "text": [
      "R-squared for ILI_lagwk2 Train: 1.00\n",
      "R-squared for ILI_lagwk2 Test: 0.15\n"
     ]
    }
   ],
   "source": [
    "print(\"R-squared for ILI_lagwk2 Train: %.2f\" %mlr2.score(X_train_scaled, yy_train)) \n",
    "print(\"R-squared for ILI_lagwk2 Test: %.2f\" %mlr2.score(X_test_scaled, yy_test)) "
   ]
  },
  {
   "cell_type": "code",
   "execution_count": 37,
   "metadata": {},
   "outputs": [],
   "source": [
    "predictions2 = mlr2.predict(X_test_scaled) "
   ]
  },
  {
   "cell_type": "code",
   "execution_count": 38,
   "metadata": {},
   "outputs": [
    {
     "data": {
      "text/plain": [
       "Int64Index([201540, 201541, 201542, 201543, 201544, 201545, 201546, 201547,\n",
       "            201548, 201549, 201550, 201551, 201552, 201601, 201602, 201603,\n",
       "            201604, 201605, 201606, 201607, 201608, 201609, 201610, 201611,\n",
       "            201612, 201613, 201614, 201615, 201616, 201617, 201618, 201619,\n",
       "            201620],\n",
       "           dtype='int64', name='YearWeek')"
      ]
     },
     "execution_count": 38,
     "metadata": {},
     "output_type": "execute_result"
    }
   ],
   "source": [
    "# predict the values of y\n",
    "yy_test_unraveled = yy_test.values.ravel()\n",
    "yy_test.index"
   ]
  },
  {
   "cell_type": "code",
   "execution_count": 39,
   "metadata": {},
   "outputs": [
    {
     "data": {
      "text/html": [
       "<div>\n",
       "<style scoped>\n",
       "    .dataframe tbody tr th:only-of-type {\n",
       "        vertical-align: middle;\n",
       "    }\n",
       "\n",
       "    .dataframe tbody tr th {\n",
       "        vertical-align: top;\n",
       "    }\n",
       "\n",
       "    .dataframe thead th {\n",
       "        text-align: right;\n",
       "    }\n",
       "</style>\n",
       "<table border=\"1\" class=\"dataframe\">\n",
       "  <thead>\n",
       "    <tr style=\"text-align: right;\">\n",
       "      <th></th>\n",
       "      <th>Prediction_ILI_lagwk2</th>\n",
       "      <th>Actual</th>\n",
       "    </tr>\n",
       "    <tr>\n",
       "      <th>YearWeek</th>\n",
       "      <th></th>\n",
       "      <th></th>\n",
       "    </tr>\n",
       "  </thead>\n",
       "  <tbody>\n",
       "    <tr>\n",
       "      <th>201540</th>\n",
       "      <td>1.616877</td>\n",
       "      <td>1.41368</td>\n",
       "    </tr>\n",
       "    <tr>\n",
       "      <th>201541</th>\n",
       "      <td>1.682416</td>\n",
       "      <td>1.36882</td>\n",
       "    </tr>\n",
       "    <tr>\n",
       "      <th>201542</th>\n",
       "      <td>1.532717</td>\n",
       "      <td>1.48309</td>\n",
       "    </tr>\n",
       "    <tr>\n",
       "      <th>201543</th>\n",
       "      <td>1.768938</td>\n",
       "      <td>1.54494</td>\n",
       "    </tr>\n",
       "    <tr>\n",
       "      <th>201544</th>\n",
       "      <td>1.699231</td>\n",
       "      <td>1.62532</td>\n",
       "    </tr>\n",
       "  </tbody>\n",
       "</table>\n",
       "</div>"
      ],
      "text/plain": [
       "          Prediction_ILI_lagwk2   Actual\n",
       "YearWeek                                \n",
       "201540                 1.616877  1.41368\n",
       "201541                 1.682416  1.36882\n",
       "201542                 1.532717  1.48309\n",
       "201543                 1.768938  1.54494\n",
       "201544                 1.699231  1.62532"
      ]
     },
     "execution_count": 39,
     "metadata": {},
     "output_type": "execute_result"
    }
   ],
   "source": [
    "# store prediction and actual to df\n",
    "pred_df = pd.DataFrame({\"Prediction_ILI_lagwk2\": predictions2, \"Actual\": yy_test_unraveled}).reset_index(drop=True)\n",
    "pred_df.index = yy_test.index\n",
    "pred_df.head()"
   ]
  },
  {
   "cell_type": "code",
   "execution_count": null,
   "metadata": {},
   "outputs": [],
   "source": []
  },
  {
   "cell_type": "markdown",
   "metadata": {},
   "source": [
    "# building a model for y_test = test[\"ILI_lagwk3\"]"
   ]
  },
  {
   "cell_type": "code",
   "execution_count": 40,
   "metadata": {},
   "outputs": [],
   "source": [
    "mlr3 = MLPRegressor(hidden_layer_sizes = (10, ), max_iter = 10000, activation = 'relu', \n",
    "                    solver = 'lbfgs', alpha = 0.001,  random_state = 10)     "
   ]
  },
  {
   "cell_type": "code",
   "execution_count": 41,
   "metadata": {},
   "outputs": [
    {
     "data": {
      "text/plain": [
       "MLPRegressor(activation='relu', alpha=0.001, batch_size='auto', beta_1=0.9,\n",
       "       beta_2=0.999, early_stopping=False, epsilon=1e-08,\n",
       "       hidden_layer_sizes=(10,), learning_rate='constant',\n",
       "       learning_rate_init=0.001, max_iter=10000, momentum=0.9,\n",
       "       n_iter_no_change=10, nesterovs_momentum=True, power_t=0.5,\n",
       "       random_state=10, shuffle=True, solver='lbfgs', tol=0.0001,\n",
       "       validation_fraction=0.1, verbose=False, warm_start=False)"
      ]
     },
     "execution_count": 41,
     "metadata": {},
     "output_type": "execute_result"
    }
   ],
   "source": [
    "mlr3.fit(X_train_scaled, yyy_train) "
   ]
  },
  {
   "cell_type": "code",
   "execution_count": 42,
   "metadata": {},
   "outputs": [],
   "source": [
    "yyy_pred = mlr3.predict(X_test_scaled)"
   ]
  },
  {
   "cell_type": "code",
   "execution_count": 43,
   "metadata": {},
   "outputs": [
    {
     "data": {
      "text/plain": [
       "-0.9524553676668144"
      ]
     },
     "execution_count": 43,
     "metadata": {},
     "output_type": "execute_result"
    }
   ],
   "source": [
    "r2_score(yyy_test, yyy_pred)"
   ]
  },
  {
   "cell_type": "code",
   "execution_count": 44,
   "metadata": {},
   "outputs": [
    {
     "data": {
      "text/plain": [
       "0.6367503225915268"
      ]
     },
     "execution_count": 44,
     "metadata": {},
     "output_type": "execute_result"
    }
   ],
   "source": [
    "mean_absolute_error(yyy_test, yyy_pred)"
   ]
  },
  {
   "cell_type": "code",
   "execution_count": 45,
   "metadata": {},
   "outputs": [
    {
     "name": "stdout",
     "output_type": "stream",
     "text": [
      "R-squared for Train: 1.00\n",
      "R-squared for Test: -0.95\n"
     ]
    }
   ],
   "source": [
    "print(\"R-squared for Train: %.2f\" %mlr3.score(X_train_scaled, yyy_train)) \n",
    "print(\"R-squared for Test: %.2f\" %mlr3.score(X_test_scaled, yyy_test)) "
   ]
  },
  {
   "cell_type": "code",
   "execution_count": 46,
   "metadata": {},
   "outputs": [],
   "source": [
    "predictions3 = mlr3.predict(X_test_scaled) "
   ]
  },
  {
   "cell_type": "code",
   "execution_count": 47,
   "metadata": {},
   "outputs": [
    {
     "data": {
      "text/plain": [
       "Int64Index([201540, 201541, 201542, 201543, 201544, 201545, 201546, 201547,\n",
       "            201548, 201549, 201550, 201551, 201552, 201601, 201602, 201603,\n",
       "            201604, 201605, 201606, 201607, 201608, 201609, 201610, 201611,\n",
       "            201612, 201613, 201614, 201615, 201616, 201617, 201618, 201619,\n",
       "            201620],\n",
       "           dtype='int64', name='YearWeek')"
      ]
     },
     "execution_count": 47,
     "metadata": {},
     "output_type": "execute_result"
    }
   ],
   "source": [
    "# predict the values of y\n",
    "predictions = mlr3.predict(X_test_scaled)\n",
    "yyy_test_unraveled = yyy_test.values.ravel()\n",
    "yyy_test.index"
   ]
  },
  {
   "cell_type": "code",
   "execution_count": 48,
   "metadata": {},
   "outputs": [
    {
     "data": {
      "text/html": [
       "<div>\n",
       "<style scoped>\n",
       "    .dataframe tbody tr th:only-of-type {\n",
       "        vertical-align: middle;\n",
       "    }\n",
       "\n",
       "    .dataframe tbody tr th {\n",
       "        vertical-align: top;\n",
       "    }\n",
       "\n",
       "    .dataframe thead th {\n",
       "        text-align: right;\n",
       "    }\n",
       "</style>\n",
       "<table border=\"1\" class=\"dataframe\">\n",
       "  <thead>\n",
       "    <tr style=\"text-align: right;\">\n",
       "      <th></th>\n",
       "      <th>Prediction_ILI_lagwk3</th>\n",
       "      <th>Actual</th>\n",
       "    </tr>\n",
       "    <tr>\n",
       "      <th>YearWeek</th>\n",
       "      <th></th>\n",
       "      <th></th>\n",
       "    </tr>\n",
       "  </thead>\n",
       "  <tbody>\n",
       "    <tr>\n",
       "      <th>201540</th>\n",
       "      <td>1.898735</td>\n",
       "      <td>1.36882</td>\n",
       "    </tr>\n",
       "    <tr>\n",
       "      <th>201541</th>\n",
       "      <td>1.324982</td>\n",
       "      <td>1.48309</td>\n",
       "    </tr>\n",
       "    <tr>\n",
       "      <th>201542</th>\n",
       "      <td>1.304045</td>\n",
       "      <td>1.54494</td>\n",
       "    </tr>\n",
       "    <tr>\n",
       "      <th>201543</th>\n",
       "      <td>2.187401</td>\n",
       "      <td>1.62532</td>\n",
       "    </tr>\n",
       "    <tr>\n",
       "      <th>201544</th>\n",
       "      <td>1.324139</td>\n",
       "      <td>1.91565</td>\n",
       "    </tr>\n",
       "  </tbody>\n",
       "</table>\n",
       "</div>"
      ],
      "text/plain": [
       "          Prediction_ILI_lagwk3   Actual\n",
       "YearWeek                                \n",
       "201540                 1.898735  1.36882\n",
       "201541                 1.324982  1.48309\n",
       "201542                 1.304045  1.54494\n",
       "201543                 2.187401  1.62532\n",
       "201544                 1.324139  1.91565"
      ]
     },
     "execution_count": 48,
     "metadata": {},
     "output_type": "execute_result"
    }
   ],
   "source": [
    "pred_df = pd.DataFrame({\"Prediction_ILI_lagwk3\": predictions3, \"Actual\": yyy_test_unraveled}).reset_index(drop=True)\n",
    "pred_df.index = yyy_test.index\n",
    "pred_df.head()"
   ]
  },
  {
   "cell_type": "code",
   "execution_count": null,
   "metadata": {},
   "outputs": [],
   "source": []
  },
  {
   "cell_type": "markdown",
   "metadata": {},
   "source": [
    "# building a model for y_test = test[\"ILI_lagwk4\"]"
   ]
  },
  {
   "cell_type": "code",
   "execution_count": 49,
   "metadata": {},
   "outputs": [],
   "source": [
    "mlr4 = MLPRegressor(hidden_layer_sizes = (10, ), max_iter = 10000, activation = 'relu', \n",
    "                    solver = 'lbfgs', alpha = 0.001,  random_state = 10)    "
   ]
  },
  {
   "cell_type": "code",
   "execution_count": 50,
   "metadata": {},
   "outputs": [
    {
     "data": {
      "text/plain": [
       "MLPRegressor(activation='relu', alpha=0.001, batch_size='auto', beta_1=0.9,\n",
       "       beta_2=0.999, early_stopping=False, epsilon=1e-08,\n",
       "       hidden_layer_sizes=(10,), learning_rate='constant',\n",
       "       learning_rate_init=0.001, max_iter=10000, momentum=0.9,\n",
       "       n_iter_no_change=10, nesterovs_momentum=True, power_t=0.5,\n",
       "       random_state=10, shuffle=True, solver='lbfgs', tol=0.0001,\n",
       "       validation_fraction=0.1, verbose=False, warm_start=False)"
      ]
     },
     "execution_count": 50,
     "metadata": {},
     "output_type": "execute_result"
    }
   ],
   "source": [
    "mlr4.fit(X_train_scaled, yyyy_train) "
   ]
  },
  {
   "cell_type": "code",
   "execution_count": 51,
   "metadata": {},
   "outputs": [],
   "source": [
    "yyyy_pred = mlr4.predict(X_test_scaled)"
   ]
  },
  {
   "cell_type": "code",
   "execution_count": 52,
   "metadata": {},
   "outputs": [
    {
     "data": {
      "text/plain": [
       "-3.181802338956653"
      ]
     },
     "execution_count": 52,
     "metadata": {},
     "output_type": "execute_result"
    }
   ],
   "source": [
    "r2_score(yyyy_test, yyyy_pred)"
   ]
  },
  {
   "cell_type": "code",
   "execution_count": 53,
   "metadata": {},
   "outputs": [
    {
     "data": {
      "text/plain": [
       "0.9320870062065647"
      ]
     },
     "execution_count": 53,
     "metadata": {},
     "output_type": "execute_result"
    }
   ],
   "source": [
    "mean_absolute_error(yyyy_test, yyyy_pred)"
   ]
  },
  {
   "cell_type": "code",
   "execution_count": 54,
   "metadata": {},
   "outputs": [
    {
     "name": "stdout",
     "output_type": "stream",
     "text": [
      "R-squared for Train: 1.00\n",
      "R-squared for Test: -3.18\n"
     ]
    }
   ],
   "source": [
    "print(\"R-squared for Train: %.2f\" %mlr4.score(X_train_scaled, yyyy_train)) \n",
    "print(\"R-squared for Test: %.2f\" %mlr4.score(X_test_scaled, yyyy_test)) "
   ]
  },
  {
   "cell_type": "code",
   "execution_count": 55,
   "metadata": {},
   "outputs": [
    {
     "data": {
      "text/plain": [
       "Int64Index([201540, 201541, 201542, 201543, 201544, 201545, 201546, 201547,\n",
       "            201548, 201549, 201550, 201551, 201552, 201601, 201602, 201603,\n",
       "            201604, 201605, 201606, 201607, 201608, 201609, 201610, 201611,\n",
       "            201612, 201613, 201614, 201615, 201616, 201617, 201618, 201619,\n",
       "            201620],\n",
       "           dtype='int64', name='YearWeek')"
      ]
     },
     "execution_count": 55,
     "metadata": {},
     "output_type": "execute_result"
    }
   ],
   "source": [
    "# predict the values of y\n",
    "predictions4 = mlr4.predict(X_test_scaled)\n",
    "yyyy_test_unraveled = yyyy_test.values.ravel()\n",
    "yyyy_test.index"
   ]
  },
  {
   "cell_type": "code",
   "execution_count": 56,
   "metadata": {},
   "outputs": [
    {
     "data": {
      "text/html": [
       "<div>\n",
       "<style scoped>\n",
       "    .dataframe tbody tr th:only-of-type {\n",
       "        vertical-align: middle;\n",
       "    }\n",
       "\n",
       "    .dataframe tbody tr th {\n",
       "        vertical-align: top;\n",
       "    }\n",
       "\n",
       "    .dataframe thead th {\n",
       "        text-align: right;\n",
       "    }\n",
       "</style>\n",
       "<table border=\"1\" class=\"dataframe\">\n",
       "  <thead>\n",
       "    <tr style=\"text-align: right;\">\n",
       "      <th></th>\n",
       "      <th>Prediction_ILI_lagwk1</th>\n",
       "      <th>Actual</th>\n",
       "    </tr>\n",
       "    <tr>\n",
       "      <th>YearWeek</th>\n",
       "      <th></th>\n",
       "      <th></th>\n",
       "    </tr>\n",
       "  </thead>\n",
       "  <tbody>\n",
       "    <tr>\n",
       "      <th>201540</th>\n",
       "      <td>1.626351</td>\n",
       "      <td>1.48309</td>\n",
       "    </tr>\n",
       "    <tr>\n",
       "      <th>201541</th>\n",
       "      <td>1.489653</td>\n",
       "      <td>1.54494</td>\n",
       "    </tr>\n",
       "    <tr>\n",
       "      <th>201542</th>\n",
       "      <td>1.572543</td>\n",
       "      <td>1.62532</td>\n",
       "    </tr>\n",
       "    <tr>\n",
       "      <th>201543</th>\n",
       "      <td>2.172517</td>\n",
       "      <td>1.91565</td>\n",
       "    </tr>\n",
       "    <tr>\n",
       "      <th>201544</th>\n",
       "      <td>1.643487</td>\n",
       "      <td>1.74368</td>\n",
       "    </tr>\n",
       "  </tbody>\n",
       "</table>\n",
       "</div>"
      ],
      "text/plain": [
       "          Prediction_ILI_lagwk1   Actual\n",
       "YearWeek                                \n",
       "201540                 1.626351  1.48309\n",
       "201541                 1.489653  1.54494\n",
       "201542                 1.572543  1.62532\n",
       "201543                 2.172517  1.91565\n",
       "201544                 1.643487  1.74368"
      ]
     },
     "execution_count": 56,
     "metadata": {},
     "output_type": "execute_result"
    }
   ],
   "source": [
    "# store prediction and actual to df\n",
    "pred_df = pd.DataFrame({\"Prediction_ILI_lagwk1\": predictions4, \"Actual\": yyyy_test_unraveled}).reset_index(drop=True)\n",
    "pred_df.index = yyyy_test.index\n",
    "pred_df.head()"
   ]
  },
  {
   "cell_type": "code",
   "execution_count": null,
   "metadata": {},
   "outputs": [],
   "source": []
  }
 ],
 "metadata": {
  "kernelspec": {
   "display_name": "Python 3",
   "language": "python",
   "name": "python3"
  },
  "language_info": {
   "codemirror_mode": {
    "name": "ipython",
    "version": 3
   },
   "file_extension": ".py",
   "mimetype": "text/x-python",
   "name": "python",
   "nbconvert_exporter": "python",
   "pygments_lexer": "ipython3",
   "version": "3.7.1"
  }
 },
 "nbformat": 4,
 "nbformat_minor": 2
}
