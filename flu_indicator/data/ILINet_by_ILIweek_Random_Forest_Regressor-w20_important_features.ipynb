{
 "cells": [
  {
   "cell_type": "code",
   "execution_count": 1,
   "metadata": {},
   "outputs": [],
   "source": [
    "%matplotlib inline\n",
    "    \n",
    "import pandas as pd\n",
    "import numpy as np\n",
    "\n",
    "import matplotlib.pyplot as plt"
   ]
  },
  {
   "cell_type": "code",
   "execution_count": 2,
   "metadata": {},
   "outputs": [],
   "source": [
    "from sklearn.model_selection import train_test_split\n",
    "from sklearn.ensemble import RandomForestRegressor \n",
    "\n",
    "from sklearn.metrics import mean_squared_error, mean_absolute_error, r2_score"
   ]
  },
  {
   "cell_type": "code",
   "execution_count": 3,
   "metadata": {},
   "outputs": [
    {
     "data": {
      "text/html": [
       "<div>\n",
       "<style scoped>\n",
       "    .dataframe tbody tr th:only-of-type {\n",
       "        vertical-align: middle;\n",
       "    }\n",
       "\n",
       "    .dataframe tbody tr th {\n",
       "        vertical-align: top;\n",
       "    }\n",
       "\n",
       "    .dataframe thead th {\n",
       "        text-align: right;\n",
       "    }\n",
       "</style>\n",
       "<table border=\"1\" class=\"dataframe\">\n",
       "  <thead>\n",
       "    <tr style=\"text-align: right;\">\n",
       "      <th></th>\n",
       "      <th>Year</th>\n",
       "      <th>week</th>\n",
       "      <th>a_influenza</th>\n",
       "      <th>acute_bronchitis</th>\n",
       "      <th>body_temperature</th>\n",
       "      <th>braun_thermoscan</th>\n",
       "      <th>break_a_fever</th>\n",
       "      <th>bronchitis</th>\n",
       "      <th>chest_cold</th>\n",
       "      <th>cold_and_flu</th>\n",
       "      <th>...</th>\n",
       "      <th>walking_pneumonia</th>\n",
       "      <th>what_to_do_if_you_have_the_flu</th>\n",
       "      <th>Flu_Visit_Count</th>\n",
       "      <th>ILI_Visit_Count</th>\n",
       "      <th>Unspecified</th>\n",
       "      <th>CDC_Unweighted_ILI</th>\n",
       "      <th>ILI_lagwk1</th>\n",
       "      <th>ILI_lagwk2</th>\n",
       "      <th>ILI_lagwk3</th>\n",
       "      <th>ILI_lagwk4</th>\n",
       "    </tr>\n",
       "  </thead>\n",
       "  <tbody>\n",
       "    <tr>\n",
       "      <th>0</th>\n",
       "      <td>2009</td>\n",
       "      <td>40</td>\n",
       "      <td>44</td>\n",
       "      <td>33</td>\n",
       "      <td>81</td>\n",
       "      <td>69</td>\n",
       "      <td>22</td>\n",
       "      <td>40</td>\n",
       "      <td>35</td>\n",
       "      <td>36</td>\n",
       "      <td>...</td>\n",
       "      <td>47</td>\n",
       "      <td>56</td>\n",
       "      <td>0.01338</td>\n",
       "      <td>0.01763</td>\n",
       "      <td>0.03074</td>\n",
       "      <td>5.66087</td>\n",
       "      <td>6.81522</td>\n",
       "      <td>7.61889</td>\n",
       "      <td>7.38836</td>\n",
       "      <td>6.33927</td>\n",
       "    </tr>\n",
       "    <tr>\n",
       "      <th>1</th>\n",
       "      <td>2009</td>\n",
       "      <td>41</td>\n",
       "      <td>51</td>\n",
       "      <td>51</td>\n",
       "      <td>77</td>\n",
       "      <td>46</td>\n",
       "      <td>24</td>\n",
       "      <td>43</td>\n",
       "      <td>35</td>\n",
       "      <td>43</td>\n",
       "      <td>...</td>\n",
       "      <td>53</td>\n",
       "      <td>58</td>\n",
       "      <td>0.01620</td>\n",
       "      <td>0.02103</td>\n",
       "      <td>0.03554</td>\n",
       "      <td>6.81522</td>\n",
       "      <td>7.61889</td>\n",
       "      <td>7.38836</td>\n",
       "      <td>6.33927</td>\n",
       "      <td>4.94349</td>\n",
       "    </tr>\n",
       "  </tbody>\n",
       "</table>\n",
       "<p>2 rows × 139 columns</p>\n",
       "</div>"
      ],
      "text/plain": [
       "   Year  week  a_influenza  acute_bronchitis  body_temperature  \\\n",
       "0  2009    40           44                33                81   \n",
       "1  2009    41           51                51                77   \n",
       "\n",
       "   braun_thermoscan  break_a_fever  bronchitis  chest_cold  cold_and_flu  \\\n",
       "0                69             22          40          35            36   \n",
       "1                46             24          43          35            43   \n",
       "\n",
       "      ...      walking_pneumonia  what_to_do_if_you_have_the_flu  \\\n",
       "0     ...                     47                              56   \n",
       "1     ...                     53                              58   \n",
       "\n",
       "   Flu_Visit_Count  ILI_Visit_Count  Unspecified  CDC_Unweighted_ILI  \\\n",
       "0          0.01338          0.01763      0.03074             5.66087   \n",
       "1          0.01620          0.02103      0.03554             6.81522   \n",
       "\n",
       "   ILI_lagwk1  ILI_lagwk2  ILI_lagwk3  ILI_lagwk4  \n",
       "0     6.81522     7.61889     7.38836     6.33927  \n",
       "1     7.61889     7.38836     6.33927     4.94349  \n",
       "\n",
       "[2 rows x 139 columns]"
      ]
     },
     "execution_count": 3,
     "metadata": {},
     "output_type": "execute_result"
    }
   ],
   "source": [
    "# final df for model building\n",
    "df1 = pd.read_csv(\"ML_model_wk40_to_20.csv\")\n",
    "df1.dropna(how='any', inplace=True)\n",
    "del df1['ILI_weeks']\n",
    "del df1['Unnamed: 0']\n",
    "#del df1['week']\n",
    "df1.head(2)"
   ]
  },
  {
   "cell_type": "code",
   "execution_count": 4,
   "metadata": {},
   "outputs": [],
   "source": [
    "#  combining year and week column \n",
    "def combine_year_week(row):\n",
    "    return int(row[\"Year\"]) * 100 + int(row[\"week\"])"
   ]
  },
  {
   "cell_type": "code",
   "execution_count": 5,
   "metadata": {},
   "outputs": [],
   "source": [
    "df1[\"YearWeek\"] = df1.apply(combine_year_week, axis=1)"
   ]
  },
  {
   "cell_type": "code",
   "execution_count": 6,
   "metadata": {},
   "outputs": [],
   "source": [
    "# reset index to YearWeek\n",
    "df1.index = df1[\"YearWeek\"]"
   ]
  },
  {
   "cell_type": "code",
   "execution_count": 7,
   "metadata": {},
   "outputs": [
    {
     "data": {
      "text/html": [
       "<div>\n",
       "<style scoped>\n",
       "    .dataframe tbody tr th:only-of-type {\n",
       "        vertical-align: middle;\n",
       "    }\n",
       "\n",
       "    .dataframe tbody tr th {\n",
       "        vertical-align: top;\n",
       "    }\n",
       "\n",
       "    .dataframe thead th {\n",
       "        text-align: right;\n",
       "    }\n",
       "</style>\n",
       "<table border=\"1\" class=\"dataframe\">\n",
       "  <thead>\n",
       "    <tr style=\"text-align: right;\">\n",
       "      <th></th>\n",
       "      <th>Year</th>\n",
       "      <th>week</th>\n",
       "      <th>a_influenza</th>\n",
       "      <th>acute_bronchitis</th>\n",
       "      <th>body_temperature</th>\n",
       "      <th>braun_thermoscan</th>\n",
       "      <th>break_a_fever</th>\n",
       "      <th>bronchitis</th>\n",
       "      <th>chest_cold</th>\n",
       "      <th>cold_and_flu</th>\n",
       "      <th>...</th>\n",
       "      <th>what_to_do_if_you_have_the_flu</th>\n",
       "      <th>Flu_Visit_Count</th>\n",
       "      <th>ILI_Visit_Count</th>\n",
       "      <th>Unspecified</th>\n",
       "      <th>CDC_Unweighted_ILI</th>\n",
       "      <th>ILI_lagwk1</th>\n",
       "      <th>ILI_lagwk2</th>\n",
       "      <th>ILI_lagwk3</th>\n",
       "      <th>ILI_lagwk4</th>\n",
       "      <th>YearWeek</th>\n",
       "    </tr>\n",
       "    <tr>\n",
       "      <th>YearWeek</th>\n",
       "      <th></th>\n",
       "      <th></th>\n",
       "      <th></th>\n",
       "      <th></th>\n",
       "      <th></th>\n",
       "      <th></th>\n",
       "      <th></th>\n",
       "      <th></th>\n",
       "      <th></th>\n",
       "      <th></th>\n",
       "      <th></th>\n",
       "      <th></th>\n",
       "      <th></th>\n",
       "      <th></th>\n",
       "      <th></th>\n",
       "      <th></th>\n",
       "      <th></th>\n",
       "      <th></th>\n",
       "      <th></th>\n",
       "      <th></th>\n",
       "      <th></th>\n",
       "    </tr>\n",
       "  </thead>\n",
       "  <tbody>\n",
       "    <tr>\n",
       "      <th>200940</th>\n",
       "      <td>2009</td>\n",
       "      <td>40</td>\n",
       "      <td>44</td>\n",
       "      <td>33</td>\n",
       "      <td>81</td>\n",
       "      <td>69</td>\n",
       "      <td>22</td>\n",
       "      <td>40</td>\n",
       "      <td>35</td>\n",
       "      <td>36</td>\n",
       "      <td>...</td>\n",
       "      <td>56</td>\n",
       "      <td>0.01338</td>\n",
       "      <td>0.01763</td>\n",
       "      <td>0.03074</td>\n",
       "      <td>5.66087</td>\n",
       "      <td>6.81522</td>\n",
       "      <td>7.61889</td>\n",
       "      <td>7.38836</td>\n",
       "      <td>6.33927</td>\n",
       "      <td>200940</td>\n",
       "    </tr>\n",
       "    <tr>\n",
       "      <th>200941</th>\n",
       "      <td>2009</td>\n",
       "      <td>41</td>\n",
       "      <td>51</td>\n",
       "      <td>51</td>\n",
       "      <td>77</td>\n",
       "      <td>46</td>\n",
       "      <td>24</td>\n",
       "      <td>43</td>\n",
       "      <td>35</td>\n",
       "      <td>43</td>\n",
       "      <td>...</td>\n",
       "      <td>58</td>\n",
       "      <td>0.01620</td>\n",
       "      <td>0.02103</td>\n",
       "      <td>0.03554</td>\n",
       "      <td>6.81522</td>\n",
       "      <td>7.61889</td>\n",
       "      <td>7.38836</td>\n",
       "      <td>6.33927</td>\n",
       "      <td>4.94349</td>\n",
       "      <td>200941</td>\n",
       "    </tr>\n",
       "    <tr>\n",
       "      <th>200942</th>\n",
       "      <td>2009</td>\n",
       "      <td>42</td>\n",
       "      <td>63</td>\n",
       "      <td>38</td>\n",
       "      <td>88</td>\n",
       "      <td>76</td>\n",
       "      <td>30</td>\n",
       "      <td>48</td>\n",
       "      <td>34</td>\n",
       "      <td>45</td>\n",
       "      <td>...</td>\n",
       "      <td>82</td>\n",
       "      <td>0.02078</td>\n",
       "      <td>0.02626</td>\n",
       "      <td>0.04458</td>\n",
       "      <td>7.61889</td>\n",
       "      <td>7.38836</td>\n",
       "      <td>6.33927</td>\n",
       "      <td>4.94349</td>\n",
       "      <td>3.80996</td>\n",
       "      <td>200942</td>\n",
       "    </tr>\n",
       "    <tr>\n",
       "      <th>200943</th>\n",
       "      <td>2009</td>\n",
       "      <td>43</td>\n",
       "      <td>70</td>\n",
       "      <td>51</td>\n",
       "      <td>100</td>\n",
       "      <td>88</td>\n",
       "      <td>29</td>\n",
       "      <td>54</td>\n",
       "      <td>39</td>\n",
       "      <td>55</td>\n",
       "      <td>...</td>\n",
       "      <td>54</td>\n",
       "      <td>0.02862</td>\n",
       "      <td>0.03500</td>\n",
       "      <td>0.05885</td>\n",
       "      <td>7.38836</td>\n",
       "      <td>6.33927</td>\n",
       "      <td>4.94349</td>\n",
       "      <td>3.80996</td>\n",
       "      <td>3.44106</td>\n",
       "      <td>200943</td>\n",
       "    </tr>\n",
       "    <tr>\n",
       "      <th>200944</th>\n",
       "      <td>2009</td>\n",
       "      <td>44</td>\n",
       "      <td>53</td>\n",
       "      <td>52</td>\n",
       "      <td>96</td>\n",
       "      <td>44</td>\n",
       "      <td>30</td>\n",
       "      <td>55</td>\n",
       "      <td>44</td>\n",
       "      <td>53</td>\n",
       "      <td>...</td>\n",
       "      <td>77</td>\n",
       "      <td>0.02927</td>\n",
       "      <td>0.03515</td>\n",
       "      <td>0.05945</td>\n",
       "      <td>6.33927</td>\n",
       "      <td>4.94349</td>\n",
       "      <td>3.80996</td>\n",
       "      <td>3.44106</td>\n",
       "      <td>2.66773</td>\n",
       "      <td>200944</td>\n",
       "    </tr>\n",
       "  </tbody>\n",
       "</table>\n",
       "<p>5 rows × 140 columns</p>\n",
       "</div>"
      ],
      "text/plain": [
       "          Year  week  a_influenza  acute_bronchitis  body_temperature  \\\n",
       "YearWeek                                                                \n",
       "200940    2009    40           44                33                81   \n",
       "200941    2009    41           51                51                77   \n",
       "200942    2009    42           63                38                88   \n",
       "200943    2009    43           70                51               100   \n",
       "200944    2009    44           53                52                96   \n",
       "\n",
       "          braun_thermoscan  break_a_fever  bronchitis  chest_cold  \\\n",
       "YearWeek                                                            \n",
       "200940                  69             22          40          35   \n",
       "200941                  46             24          43          35   \n",
       "200942                  76             30          48          34   \n",
       "200943                  88             29          54          39   \n",
       "200944                  44             30          55          44   \n",
       "\n",
       "          cold_and_flu    ...     what_to_do_if_you_have_the_flu  \\\n",
       "YearWeek                  ...                                      \n",
       "200940              36    ...                                 56   \n",
       "200941              43    ...                                 58   \n",
       "200942              45    ...                                 82   \n",
       "200943              55    ...                                 54   \n",
       "200944              53    ...                                 77   \n",
       "\n",
       "          Flu_Visit_Count  ILI_Visit_Count  Unspecified  CDC_Unweighted_ILI  \\\n",
       "YearWeek                                                                      \n",
       "200940            0.01338          0.01763      0.03074             5.66087   \n",
       "200941            0.01620          0.02103      0.03554             6.81522   \n",
       "200942            0.02078          0.02626      0.04458             7.61889   \n",
       "200943            0.02862          0.03500      0.05885             7.38836   \n",
       "200944            0.02927          0.03515      0.05945             6.33927   \n",
       "\n",
       "          ILI_lagwk1  ILI_lagwk2  ILI_lagwk3  ILI_lagwk4  YearWeek  \n",
       "YearWeek                                                            \n",
       "200940       6.81522     7.61889     7.38836     6.33927    200940  \n",
       "200941       7.61889     7.38836     6.33927     4.94349    200941  \n",
       "200942       7.38836     6.33927     4.94349     3.80996    200942  \n",
       "200943       6.33927     4.94349     3.80996     3.44106    200943  \n",
       "200944       4.94349     3.80996     3.44106     2.66773    200944  \n",
       "\n",
       "[5 rows x 140 columns]"
      ]
     },
     "execution_count": 7,
     "metadata": {},
     "output_type": "execute_result"
    }
   ],
   "source": [
    "df1.head()"
   ]
  },
  {
   "cell_type": "code",
   "execution_count": 8,
   "metadata": {},
   "outputs": [
    {
     "data": {
      "text/html": [
       "<div>\n",
       "<style scoped>\n",
       "    .dataframe tbody tr th:only-of-type {\n",
       "        vertical-align: middle;\n",
       "    }\n",
       "\n",
       "    .dataframe tbody tr th {\n",
       "        vertical-align: top;\n",
       "    }\n",
       "\n",
       "    .dataframe thead th {\n",
       "        text-align: right;\n",
       "    }\n",
       "</style>\n",
       "<table border=\"1\" class=\"dataframe\">\n",
       "  <thead>\n",
       "    <tr style=\"text-align: right;\">\n",
       "      <th></th>\n",
       "      <th>a_influenza</th>\n",
       "      <th>acute_bronchitis</th>\n",
       "      <th>body_temperature</th>\n",
       "      <th>braun_thermoscan</th>\n",
       "      <th>break_a_fever</th>\n",
       "      <th>bronchitis</th>\n",
       "      <th>chest_cold</th>\n",
       "      <th>cold_and_flu</th>\n",
       "      <th>cold_or_flu</th>\n",
       "      <th>cold_versus_flu</th>\n",
       "      <th>...</th>\n",
       "      <th>walking_pneumonia</th>\n",
       "      <th>what_to_do_if_you_have_the_flu</th>\n",
       "      <th>Flu_Visit_Count</th>\n",
       "      <th>ILI_Visit_Count</th>\n",
       "      <th>Unspecified</th>\n",
       "      <th>CDC_Unweighted_ILI</th>\n",
       "      <th>ILI_lagwk1</th>\n",
       "      <th>ILI_lagwk2</th>\n",
       "      <th>ILI_lagwk3</th>\n",
       "      <th>ILI_lagwk4</th>\n",
       "    </tr>\n",
       "    <tr>\n",
       "      <th>YearWeek</th>\n",
       "      <th></th>\n",
       "      <th></th>\n",
       "      <th></th>\n",
       "      <th></th>\n",
       "      <th></th>\n",
       "      <th></th>\n",
       "      <th></th>\n",
       "      <th></th>\n",
       "      <th></th>\n",
       "      <th></th>\n",
       "      <th></th>\n",
       "      <th></th>\n",
       "      <th></th>\n",
       "      <th></th>\n",
       "      <th></th>\n",
       "      <th></th>\n",
       "      <th></th>\n",
       "      <th></th>\n",
       "      <th></th>\n",
       "      <th></th>\n",
       "      <th></th>\n",
       "    </tr>\n",
       "  </thead>\n",
       "  <tbody>\n",
       "    <tr>\n",
       "      <th>200940</th>\n",
       "      <td>44</td>\n",
       "      <td>33</td>\n",
       "      <td>81</td>\n",
       "      <td>69</td>\n",
       "      <td>22</td>\n",
       "      <td>40</td>\n",
       "      <td>35</td>\n",
       "      <td>36</td>\n",
       "      <td>37</td>\n",
       "      <td>30</td>\n",
       "      <td>...</td>\n",
       "      <td>47</td>\n",
       "      <td>56</td>\n",
       "      <td>0.01338</td>\n",
       "      <td>0.01763</td>\n",
       "      <td>0.03074</td>\n",
       "      <td>5.66087</td>\n",
       "      <td>6.81522</td>\n",
       "      <td>7.61889</td>\n",
       "      <td>7.38836</td>\n",
       "      <td>6.33927</td>\n",
       "    </tr>\n",
       "    <tr>\n",
       "      <th>200941</th>\n",
       "      <td>51</td>\n",
       "      <td>51</td>\n",
       "      <td>77</td>\n",
       "      <td>46</td>\n",
       "      <td>24</td>\n",
       "      <td>43</td>\n",
       "      <td>35</td>\n",
       "      <td>43</td>\n",
       "      <td>49</td>\n",
       "      <td>41</td>\n",
       "      <td>...</td>\n",
       "      <td>53</td>\n",
       "      <td>58</td>\n",
       "      <td>0.01620</td>\n",
       "      <td>0.02103</td>\n",
       "      <td>0.03554</td>\n",
       "      <td>6.81522</td>\n",
       "      <td>7.61889</td>\n",
       "      <td>7.38836</td>\n",
       "      <td>6.33927</td>\n",
       "      <td>4.94349</td>\n",
       "    </tr>\n",
       "  </tbody>\n",
       "</table>\n",
       "<p>2 rows × 137 columns</p>\n",
       "</div>"
      ],
      "text/plain": [
       "          a_influenza  acute_bronchitis  body_temperature  braun_thermoscan  \\\n",
       "YearWeek                                                                      \n",
       "200940             44                33                81                69   \n",
       "200941             51                51                77                46   \n",
       "\n",
       "          break_a_fever  bronchitis  chest_cold  cold_and_flu  cold_or_flu  \\\n",
       "YearWeek                                                                     \n",
       "200940               22          40          35            36           37   \n",
       "200941               24          43          35            43           49   \n",
       "\n",
       "          cold_versus_flu     ...      walking_pneumonia  \\\n",
       "YearWeek                      ...                          \n",
       "200940                 30     ...                     47   \n",
       "200941                 41     ...                     53   \n",
       "\n",
       "          what_to_do_if_you_have_the_flu  Flu_Visit_Count  ILI_Visit_Count  \\\n",
       "YearWeek                                                                     \n",
       "200940                                56          0.01338          0.01763   \n",
       "200941                                58          0.01620          0.02103   \n",
       "\n",
       "          Unspecified  CDC_Unweighted_ILI  ILI_lagwk1  ILI_lagwk2  ILI_lagwk3  \\\n",
       "YearWeek                                                                        \n",
       "200940        0.03074             5.66087     6.81522     7.61889     7.38836   \n",
       "200941        0.03554             6.81522     7.61889     7.38836     6.33927   \n",
       "\n",
       "          ILI_lagwk4  \n",
       "YearWeek              \n",
       "200940       6.33927  \n",
       "200941       4.94349  \n",
       "\n",
       "[2 rows x 137 columns]"
      ]
     },
     "execution_count": 8,
     "metadata": {},
     "output_type": "execute_result"
    }
   ],
   "source": [
    "model_df = df1.drop([\"Year\", \"week\", \"YearWeek\"], axis=1)\n",
    "model_df.head(2)"
   ]
  },
  {
   "cell_type": "code",
   "execution_count": 9,
   "metadata": {},
   "outputs": [],
   "source": [
    "model_20important_features_df = model_df[[\n",
    "'CDC_Unweighted_ILI',\n",
    " 'type_a_influenza',\n",
    " 'influenza_type_a',\n",
    " 'Flu_Visit_Count',\n",
    " 'ILI_Visit_Count',\n",
    " 'how_to_treat_flu',\n",
    " 'flu_remedy',\n",
    " 'exposed_to_flu',\n",
    " 'get_over_the_flu',\n",
    " 'sinus',\n",
    " 'cure_the_flu',\n",
    " 'incubation_period_for_the_flu',\n",
    " 'treat_the_flu',\n",
    " 'how_to_treat_the_flu',\n",
    " 'low_body',\n",
    " 'influenza_treatment',\n",
    " 'oscillococcinum',\n",
    " 'flu_contagious_period',\n",
    " 'tussionex',\n",
    " 'flu_care', \n",
    " 'ILI_lagwk1',\n",
    " 'ILI_lagwk2', \n",
    " 'ILI_lagwk3',\n",
    " 'ILI_lagwk4']]"
   ]
  },
  {
   "cell_type": "code",
   "execution_count": 10,
   "metadata": {},
   "outputs": [
    {
     "data": {
      "text/html": [
       "<div>\n",
       "<style scoped>\n",
       "    .dataframe tbody tr th:only-of-type {\n",
       "        vertical-align: middle;\n",
       "    }\n",
       "\n",
       "    .dataframe tbody tr th {\n",
       "        vertical-align: top;\n",
       "    }\n",
       "\n",
       "    .dataframe thead th {\n",
       "        text-align: right;\n",
       "    }\n",
       "</style>\n",
       "<table border=\"1\" class=\"dataframe\">\n",
       "  <thead>\n",
       "    <tr style=\"text-align: right;\">\n",
       "      <th></th>\n",
       "      <th>CDC_Unweighted_ILI</th>\n",
       "      <th>type_a_influenza</th>\n",
       "      <th>influenza_type_a</th>\n",
       "      <th>Flu_Visit_Count</th>\n",
       "      <th>ILI_Visit_Count</th>\n",
       "      <th>how_to_treat_flu</th>\n",
       "      <th>flu_remedy</th>\n",
       "      <th>exposed_to_flu</th>\n",
       "      <th>get_over_the_flu</th>\n",
       "      <th>sinus</th>\n",
       "      <th>...</th>\n",
       "      <th>low_body</th>\n",
       "      <th>influenza_treatment</th>\n",
       "      <th>oscillococcinum</th>\n",
       "      <th>flu_contagious_period</th>\n",
       "      <th>tussionex</th>\n",
       "      <th>flu_care</th>\n",
       "      <th>ILI_lagwk1</th>\n",
       "      <th>ILI_lagwk2</th>\n",
       "      <th>ILI_lagwk3</th>\n",
       "      <th>ILI_lagwk4</th>\n",
       "    </tr>\n",
       "    <tr>\n",
       "      <th>YearWeek</th>\n",
       "      <th></th>\n",
       "      <th></th>\n",
       "      <th></th>\n",
       "      <th></th>\n",
       "      <th></th>\n",
       "      <th></th>\n",
       "      <th></th>\n",
       "      <th></th>\n",
       "      <th></th>\n",
       "      <th></th>\n",
       "      <th></th>\n",
       "      <th></th>\n",
       "      <th></th>\n",
       "      <th></th>\n",
       "      <th></th>\n",
       "      <th></th>\n",
       "      <th></th>\n",
       "      <th></th>\n",
       "      <th></th>\n",
       "      <th></th>\n",
       "      <th></th>\n",
       "    </tr>\n",
       "  </thead>\n",
       "  <tbody>\n",
       "    <tr>\n",
       "      <th>200940</th>\n",
       "      <td>5.66087</td>\n",
       "      <td>78</td>\n",
       "      <td>78</td>\n",
       "      <td>0.01338</td>\n",
       "      <td>0.01763</td>\n",
       "      <td>50</td>\n",
       "      <td>31</td>\n",
       "      <td>59</td>\n",
       "      <td>28</td>\n",
       "      <td>58</td>\n",
       "      <td>...</td>\n",
       "      <td>84</td>\n",
       "      <td>36</td>\n",
       "      <td>69</td>\n",
       "      <td>45</td>\n",
       "      <td>67</td>\n",
       "      <td>63</td>\n",
       "      <td>6.81522</td>\n",
       "      <td>7.61889</td>\n",
       "      <td>7.38836</td>\n",
       "      <td>6.33927</td>\n",
       "    </tr>\n",
       "    <tr>\n",
       "      <th>200941</th>\n",
       "      <td>6.81522</td>\n",
       "      <td>77</td>\n",
       "      <td>77</td>\n",
       "      <td>0.01620</td>\n",
       "      <td>0.02103</td>\n",
       "      <td>32</td>\n",
       "      <td>47</td>\n",
       "      <td>78</td>\n",
       "      <td>44</td>\n",
       "      <td>60</td>\n",
       "      <td>...</td>\n",
       "      <td>85</td>\n",
       "      <td>40</td>\n",
       "      <td>67</td>\n",
       "      <td>56</td>\n",
       "      <td>64</td>\n",
       "      <td>75</td>\n",
       "      <td>7.61889</td>\n",
       "      <td>7.38836</td>\n",
       "      <td>6.33927</td>\n",
       "      <td>4.94349</td>\n",
       "    </tr>\n",
       "    <tr>\n",
       "      <th>200942</th>\n",
       "      <td>7.61889</td>\n",
       "      <td>94</td>\n",
       "      <td>94</td>\n",
       "      <td>0.02078</td>\n",
       "      <td>0.02626</td>\n",
       "      <td>66</td>\n",
       "      <td>58</td>\n",
       "      <td>90</td>\n",
       "      <td>40</td>\n",
       "      <td>60</td>\n",
       "      <td>...</td>\n",
       "      <td>89</td>\n",
       "      <td>44</td>\n",
       "      <td>60</td>\n",
       "      <td>64</td>\n",
       "      <td>63</td>\n",
       "      <td>92</td>\n",
       "      <td>7.38836</td>\n",
       "      <td>6.33927</td>\n",
       "      <td>4.94349</td>\n",
       "      <td>3.80996</td>\n",
       "    </tr>\n",
       "    <tr>\n",
       "      <th>200943</th>\n",
       "      <td>7.38836</td>\n",
       "      <td>100</td>\n",
       "      <td>100</td>\n",
       "      <td>0.02862</td>\n",
       "      <td>0.03500</td>\n",
       "      <td>60</td>\n",
       "      <td>49</td>\n",
       "      <td>99</td>\n",
       "      <td>58</td>\n",
       "      <td>62</td>\n",
       "      <td>...</td>\n",
       "      <td>99</td>\n",
       "      <td>68</td>\n",
       "      <td>95</td>\n",
       "      <td>98</td>\n",
       "      <td>62</td>\n",
       "      <td>100</td>\n",
       "      <td>6.33927</td>\n",
       "      <td>4.94349</td>\n",
       "      <td>3.80996</td>\n",
       "      <td>3.44106</td>\n",
       "    </tr>\n",
       "    <tr>\n",
       "      <th>200944</th>\n",
       "      <td>6.33927</td>\n",
       "      <td>77</td>\n",
       "      <td>77</td>\n",
       "      <td>0.02927</td>\n",
       "      <td>0.03515</td>\n",
       "      <td>80</td>\n",
       "      <td>64</td>\n",
       "      <td>99</td>\n",
       "      <td>47</td>\n",
       "      <td>59</td>\n",
       "      <td>...</td>\n",
       "      <td>97</td>\n",
       "      <td>46</td>\n",
       "      <td>84</td>\n",
       "      <td>100</td>\n",
       "      <td>66</td>\n",
       "      <td>97</td>\n",
       "      <td>4.94349</td>\n",
       "      <td>3.80996</td>\n",
       "      <td>3.44106</td>\n",
       "      <td>2.66773</td>\n",
       "    </tr>\n",
       "  </tbody>\n",
       "</table>\n",
       "<p>5 rows × 24 columns</p>\n",
       "</div>"
      ],
      "text/plain": [
       "          CDC_Unweighted_ILI  type_a_influenza  influenza_type_a  \\\n",
       "YearWeek                                                           \n",
       "200940               5.66087                78                78   \n",
       "200941               6.81522                77                77   \n",
       "200942               7.61889                94                94   \n",
       "200943               7.38836               100               100   \n",
       "200944               6.33927                77                77   \n",
       "\n",
       "          Flu_Visit_Count  ILI_Visit_Count  how_to_treat_flu  flu_remedy  \\\n",
       "YearWeek                                                                   \n",
       "200940            0.01338          0.01763                50          31   \n",
       "200941            0.01620          0.02103                32          47   \n",
       "200942            0.02078          0.02626                66          58   \n",
       "200943            0.02862          0.03500                60          49   \n",
       "200944            0.02927          0.03515                80          64   \n",
       "\n",
       "          exposed_to_flu  get_over_the_flu  sinus     ...      low_body  \\\n",
       "YearWeek                                              ...                 \n",
       "200940                59                28     58     ...            84   \n",
       "200941                78                44     60     ...            85   \n",
       "200942                90                40     60     ...            89   \n",
       "200943                99                58     62     ...            99   \n",
       "200944                99                47     59     ...            97   \n",
       "\n",
       "          influenza_treatment  oscillococcinum  flu_contagious_period  \\\n",
       "YearWeek                                                                \n",
       "200940                     36               69                     45   \n",
       "200941                     40               67                     56   \n",
       "200942                     44               60                     64   \n",
       "200943                     68               95                     98   \n",
       "200944                     46               84                    100   \n",
       "\n",
       "          tussionex  flu_care  ILI_lagwk1  ILI_lagwk2  ILI_lagwk3  ILI_lagwk4  \n",
       "YearWeek                                                                       \n",
       "200940           67        63     6.81522     7.61889     7.38836     6.33927  \n",
       "200941           64        75     7.61889     7.38836     6.33927     4.94349  \n",
       "200942           63        92     7.38836     6.33927     4.94349     3.80996  \n",
       "200943           62       100     6.33927     4.94349     3.80996     3.44106  \n",
       "200944           66        97     4.94349     3.80996     3.44106     2.66773  \n",
       "\n",
       "[5 rows x 24 columns]"
      ]
     },
     "execution_count": 10,
     "metadata": {},
     "output_type": "execute_result"
    }
   ],
   "source": [
    "model_20important_features_df.head()"
   ]
  },
  {
   "cell_type": "code",
   "execution_count": null,
   "metadata": {},
   "outputs": [],
   "source": []
  },
  {
   "cell_type": "markdown",
   "metadata": {},
   "source": [
    "# Independent variables\n",
    "        # 3 independent variables from athena EHR \n",
    "            # [(flu visit counts)/ (total patient visit counts) \n",
    "            # (ILI visit counts)/ (total patient visit counts)\n",
    "            # (unspecified viral or ILI visit counts)/ (total patient visit counts)]\n",
    "        # CDC historical CDC_Unweighted_ILI values: collected from 2009 to 2016 (week 40 to 20)\n",
    "        # 74 google search terms related to flu\n",
    "        \n",
    "      ======> 3 + 1 + 74\n",
    "      \n",
    "# Dependent variables \n",
    "        # 4 ILI weeks offset by 1 week"
   ]
  },
  {
   "cell_type": "markdown",
   "metadata": {},
   "source": [
    "# split df to train dataset, dataset before year2015 and week 40 used at training dataset"
   ]
  },
  {
   "cell_type": "code",
   "execution_count": 11,
   "metadata": {},
   "outputs": [],
   "source": [
    "train = model_20important_features_df[model_20important_features_df.index < 201540]\n",
    "# train.head()"
   ]
  },
  {
   "cell_type": "markdown",
   "metadata": {},
   "source": [
    "\n",
    "# defining  targets/labels to  y axis\n",
    "                y_train = ILI lag week 1\n",
    "\n",
    "                yy_train = ILI lag week 2\n",
    "\n",
    "                yyy_train = ILI lag week 3\n",
    "\n",
    "                yyyy_train = ILI lag week 4"
   ]
  },
  {
   "cell_type": "code",
   "execution_count": 12,
   "metadata": {},
   "outputs": [],
   "source": [
    "y_train = train[\"ILI_lagwk1\"]\n",
    "# y_train"
   ]
  },
  {
   "cell_type": "code",
   "execution_count": 13,
   "metadata": {},
   "outputs": [],
   "source": [
    "yy_train = train[\"ILI_lagwk2\"]"
   ]
  },
  {
   "cell_type": "code",
   "execution_count": 14,
   "metadata": {},
   "outputs": [],
   "source": [
    "yyy_train = train[\"ILI_lagwk3\"]"
   ]
  },
  {
   "cell_type": "code",
   "execution_count": 15,
   "metadata": {},
   "outputs": [],
   "source": [
    "yyyy_train =train[\"ILI_lagwk4\"]"
   ]
  },
  {
   "cell_type": "code",
   "execution_count": 16,
   "metadata": {},
   "outputs": [],
   "source": [
    "X_train = train.drop([\"ILI_lagwk1\", \"ILI_lagwk2\", \"ILI_lagwk3\", \"ILI_lagwk4\"], axis=1)\n",
    "# X_train"
   ]
  },
  {
   "cell_type": "markdown",
   "metadata": {},
   "source": [
    "# split df to train dataset,dataset after year2015 and week 40 used at training dataset"
   ]
  },
  {
   "cell_type": "code",
   "execution_count": 17,
   "metadata": {},
   "outputs": [],
   "source": [
    "test = model_20important_features_df[model_20important_features_df.index >= 201540]\n",
    "# test.head()"
   ]
  },
  {
   "cell_type": "code",
   "execution_count": 18,
   "metadata": {},
   "outputs": [],
   "source": [
    "y_test = test[\"ILI_lagwk1\"]"
   ]
  },
  {
   "cell_type": "code",
   "execution_count": 19,
   "metadata": {},
   "outputs": [],
   "source": [
    "yy_test = test[\"ILI_lagwk2\"]"
   ]
  },
  {
   "cell_type": "code",
   "execution_count": 20,
   "metadata": {},
   "outputs": [],
   "source": [
    "yyy_test = test[\"ILI_lagwk3\"]"
   ]
  },
  {
   "cell_type": "code",
   "execution_count": 21,
   "metadata": {},
   "outputs": [],
   "source": [
    "yyyy_test = test[\"ILI_lagwk4\"]"
   ]
  },
  {
   "cell_type": "code",
   "execution_count": 22,
   "metadata": {},
   "outputs": [],
   "source": [
    "X_test = test.drop([\"ILI_lagwk1\", \"ILI_lagwk2\", \"ILI_lagwk3\", \"ILI_lagwk4\"], axis=1)"
   ]
  },
  {
   "cell_type": "markdown",
   "metadata": {},
   "source": [
    "# Reference https://shankarmsy.github.io/stories/gbrt-sklearn.html#\n",
    "\n",
    "##https://www.youtube.com/watch?v=IXZKgIsZRm0"
   ]
  },
  {
   "cell_type": "markdown",
   "metadata": {},
   "source": [
    "# building a model for y_test = test[\"ILI_lagwk1\"]"
   ]
  },
  {
   "cell_type": "code",
   "execution_count": 23,
   "metadata": {},
   "outputs": [],
   "source": [
    "rreg1 = RandomForestRegressor(max_depth = 5, n_estimators = 300,  random_state = 0, min_samples_leaf = 8)   "
   ]
  },
  {
   "cell_type": "code",
   "execution_count": 24,
   "metadata": {},
   "outputs": [
    {
     "data": {
      "text/plain": [
       "RandomForestRegressor(bootstrap=True, criterion='mse', max_depth=5,\n",
       "           max_features='auto', max_leaf_nodes=None,\n",
       "           min_impurity_decrease=0.0, min_impurity_split=None,\n",
       "           min_samples_leaf=8, min_samples_split=2,\n",
       "           min_weight_fraction_leaf=0.0, n_estimators=300, n_jobs=None,\n",
       "           oob_score=False, random_state=0, verbose=0, warm_start=False)"
      ]
     },
     "execution_count": 24,
     "metadata": {},
     "output_type": "execute_result"
    }
   ],
   "source": [
    "rreg1.fit(X_train, y_train)"
   ]
  },
  {
   "cell_type": "code",
   "execution_count": 25,
   "metadata": {},
   "outputs": [],
   "source": [
    "y_pred = rreg1.predict(X_test)"
   ]
  },
  {
   "cell_type": "code",
   "execution_count": 26,
   "metadata": {},
   "outputs": [
    {
     "data": {
      "text/plain": [
       "0.8182288538035303"
      ]
     },
     "execution_count": 26,
     "metadata": {},
     "output_type": "execute_result"
    }
   ],
   "source": [
    "r2_score(y_test, y_pred)"
   ]
  },
  {
   "cell_type": "code",
   "execution_count": 27,
   "metadata": {},
   "outputs": [
    {
     "data": {
      "text/plain": [
       "0.18742898515842132"
      ]
     },
     "execution_count": 27,
     "metadata": {},
     "output_type": "execute_result"
    }
   ],
   "source": [
    "mean_absolute_error(y_test, y_pred)"
   ]
  },
  {
   "cell_type": "code",
   "execution_count": 28,
   "metadata": {},
   "outputs": [
    {
     "name": "stdout",
     "output_type": "stream",
     "text": [
      "R-squared for ILI_lagwk1 Train: 0.90\n",
      "R-squared for ILI_lagwk1 Test : 0.82\n"
     ]
    }
   ],
   "source": [
    "print(\"R-squared for ILI_lagwk1 Train: %.2f\" %rreg1.score(X_train, y_train)) \n",
    "print(\"R-squared for ILI_lagwk1 Test : %.2f\" %rreg1.score(X_test, y_test)) "
   ]
  },
  {
   "cell_type": "code",
   "execution_count": 29,
   "metadata": {},
   "outputs": [],
   "source": [
    "predictions1 = rreg1.predict(X_test) "
   ]
  },
  {
   "cell_type": "code",
   "execution_count": 30,
   "metadata": {},
   "outputs": [
    {
     "data": {
      "text/plain": [
       "Int64Index([201540, 201541, 201542, 201543, 201544, 201545, 201546, 201547,\n",
       "            201548, 201549, 201550, 201551, 201552, 201601, 201602, 201603,\n",
       "            201604, 201605, 201606, 201607, 201608, 201609, 201610, 201611,\n",
       "            201612, 201613, 201614, 201615, 201616, 201617, 201618, 201619,\n",
       "            201620],\n",
       "           dtype='int64', name='YearWeek')"
      ]
     },
     "execution_count": 30,
     "metadata": {},
     "output_type": "execute_result"
    }
   ],
   "source": [
    "# predict the values of y\n",
    "predictions = rreg1.predict(X_test)\n",
    "y_test_unraveled = y_test.values.ravel()\n",
    "y_test.index"
   ]
  },
  {
   "cell_type": "code",
   "execution_count": 31,
   "metadata": {},
   "outputs": [
    {
     "data": {
      "text/html": [
       "<div>\n",
       "<style scoped>\n",
       "    .dataframe tbody tr th:only-of-type {\n",
       "        vertical-align: middle;\n",
       "    }\n",
       "\n",
       "    .dataframe tbody tr th {\n",
       "        vertical-align: top;\n",
       "    }\n",
       "\n",
       "    .dataframe thead th {\n",
       "        text-align: right;\n",
       "    }\n",
       "</style>\n",
       "<table border=\"1\" class=\"dataframe\">\n",
       "  <thead>\n",
       "    <tr style=\"text-align: right;\">\n",
       "      <th></th>\n",
       "      <th>Prediction_ILI_lagwk1</th>\n",
       "      <th>Actual</th>\n",
       "    </tr>\n",
       "    <tr>\n",
       "      <th>YearWeek</th>\n",
       "      <th></th>\n",
       "      <th></th>\n",
       "    </tr>\n",
       "  </thead>\n",
       "  <tbody>\n",
       "    <tr>\n",
       "      <th>201540</th>\n",
       "      <td>1.333547</td>\n",
       "      <td>1.33029</td>\n",
       "    </tr>\n",
       "    <tr>\n",
       "      <th>201541</th>\n",
       "      <td>1.369184</td>\n",
       "      <td>1.41368</td>\n",
       "    </tr>\n",
       "    <tr>\n",
       "      <th>201542</th>\n",
       "      <td>1.454505</td>\n",
       "      <td>1.36882</td>\n",
       "    </tr>\n",
       "    <tr>\n",
       "      <th>201543</th>\n",
       "      <td>1.409391</td>\n",
       "      <td>1.48309</td>\n",
       "    </tr>\n",
       "    <tr>\n",
       "      <th>201544</th>\n",
       "      <td>1.461788</td>\n",
       "      <td>1.54494</td>\n",
       "    </tr>\n",
       "  </tbody>\n",
       "</table>\n",
       "</div>"
      ],
      "text/plain": [
       "          Prediction_ILI_lagwk1   Actual\n",
       "YearWeek                                \n",
       "201540                 1.333547  1.33029\n",
       "201541                 1.369184  1.41368\n",
       "201542                 1.454505  1.36882\n",
       "201543                 1.409391  1.48309\n",
       "201544                 1.461788  1.54494"
      ]
     },
     "execution_count": 31,
     "metadata": {},
     "output_type": "execute_result"
    }
   ],
   "source": [
    "# store prediction and actual to df\n",
    "pred_df = pd.DataFrame({\"Prediction_ILI_lagwk1\": predictions1, \"Actual\": y_test_unraveled}).reset_index(drop=True)\n",
    "pred_df.index = y_test.index\n",
    "pred_df.head()"
   ]
  },
  {
   "cell_type": "code",
   "execution_count": 32,
   "metadata": {},
   "outputs": [],
   "source": [
    "# pred_df.to_csv(\"Prediction_ILI_lagwk1.csv\")\n",
    "# pred_df.head() "
   ]
  },
  {
   "cell_type": "code",
   "execution_count": null,
   "metadata": {},
   "outputs": [],
   "source": []
  },
  {
   "cell_type": "markdown",
   "metadata": {},
   "source": [
    "# # Create the GridSearchCV model"
   ]
  },
  {
   "cell_type": "code",
   "execution_count": 33,
   "metadata": {},
   "outputs": [],
   "source": [
    "# from sklearn.model_selection import GridSearchCV\n",
    "# param_grid = {'learning_rate':[ 0.02, 0.01, 0.1, 0.05], \n",
    "#             'max_depth':[1, 3, 5 ,7], \n",
    "#             'min_samples_leaf':[3, 5, 7 ,9], \n",
    "# #             'max_features':[0.1,0.3,1.0],\n",
    "#             'n_estimators': [300, 500, 1000, 2000]\n",
    "#              } \n",
    "\n",
    "# est = GradientBoostingRegressor()\n",
    "# gs_cv = GridSearchCV(est, param_grid).fit(X_train, y_train)\n",
    "\n",
    "# # best hyperparameter setting\n",
    "\n",
    "# gs_cv.best_est "
   ]
  },
  {
   "cell_type": "code",
   "execution_count": null,
   "metadata": {},
   "outputs": [],
   "source": []
  },
  {
   "cell_type": "markdown",
   "metadata": {},
   "source": [
    "# selecting important features  [\"ILI_lagwk1\"]"
   ]
  },
  {
   "cell_type": "code",
   "execution_count": 34,
   "metadata": {},
   "outputs": [],
   "source": [
    "# # GBRF predictors variable importance\n",
    "# store most important variables under importances\n",
    "importances = rreg1.feature_importances_"
   ]
  },
  {
   "cell_type": "code",
   "execution_count": 35,
   "metadata": {},
   "outputs": [
    {
     "data": {
      "text/plain": [
       "1.0000000000000002"
      ]
     },
     "execution_count": 35,
     "metadata": {},
     "output_type": "execute_result"
    }
   ],
   "source": [
    "rreg1.feature_importances_.sum()"
   ]
  },
  {
   "cell_type": "code",
   "execution_count": 36,
   "metadata": {},
   "outputs": [
    {
     "data": {
      "text/plain": [
       "array([0.89743096, 0.0181352 , 0.03260328, 0.00797241, 0.00360066,\n",
       "       0.00339507, 0.0035753 , 0.00286087, 0.00304767, 0.00427837,\n",
       "       0.00268555, 0.00329982, 0.00282389, 0.00279063, 0.00306754,\n",
       "       0.00141192, 0.00188408, 0.00137639, 0.00182723, 0.00193316])"
      ]
     },
     "execution_count": 36,
     "metadata": {},
     "output_type": "execute_result"
    }
   ],
   "source": [
    "# # store most important variables/features under importances\n",
    "importances = rreg1.feature_importances_\n",
    "importances"
   ]
  },
  {
   "cell_type": "code",
   "execution_count": 37,
   "metadata": {},
   "outputs": [
    {
     "data": {
      "text/plain": [
       "[(0.8974309613919637, 'CDC_Unweighted_ILI'),\n",
       " (0.0326032834138166, 'influenza_type_a'),\n",
       " (0.018135197614427487, 'type_a_influenza'),\n",
       " (0.007972408761806646, 'Flu_Visit_Count'),\n",
       " (0.004278369930675321, 'sinus'),\n",
       " (0.0036006580096126064, 'ILI_Visit_Count'),\n",
       " (0.003575299987868601, 'flu_remedy'),\n",
       " (0.003395071375456052, 'how_to_treat_flu'),\n",
       " (0.0032998246305314103, 'incubation_period_for_the_flu'),\n",
       " (0.003067537269765613, 'low_body'),\n",
       " (0.0030476706892958684, 'get_over_the_flu'),\n",
       " (0.002860866695377072, 'exposed_to_flu'),\n",
       " (0.0028238851948482703, 'treat_the_flu'),\n",
       " (0.0027906329778441927, 'how_to_treat_the_flu'),\n",
       " (0.0026855493207926643, 'cure_the_flu'),\n",
       " (0.0019331638074375575, 'flu_care'),\n",
       " (0.001884081880453607, 'oscillococcinum'),\n",
       " (0.0018272253786829036, 'tussionex'),\n",
       " (0.0014119243160230872, 'influenza_treatment'),\n",
       " (0.001376387353320961, 'flu_contagious_period')]"
      ]
     },
     "execution_count": 37,
     "metadata": {},
     "output_type": "execute_result"
    }
   ],
   "source": [
    "sorted_features = sorted(zip(importances, X_train.columns), reverse=True)\n",
    "sorted_features"
   ]
  },
  {
   "cell_type": "code",
   "execution_count": 38,
   "metadata": {
    "scrolled": false
   },
   "outputs": [],
   "source": [
    "# # sort important varibles and sotre them under indices\n",
    "important_columns = []\n",
    "for fimportance, name in sorted(zip(importances, X_train.columns), reverse=True):\n",
    "    if fimportance > 0.001:\n",
    "        important_columns.append(name)"
   ]
  },
  {
   "cell_type": "code",
   "execution_count": 39,
   "metadata": {},
   "outputs": [
    {
     "data": {
      "text/plain": [
       "['CDC_Unweighted_ILI',\n",
       " 'influenza_type_a',\n",
       " 'type_a_influenza',\n",
       " 'Flu_Visit_Count',\n",
       " 'sinus',\n",
       " 'ILI_Visit_Count',\n",
       " 'flu_remedy',\n",
       " 'how_to_treat_flu',\n",
       " 'incubation_period_for_the_flu',\n",
       " 'low_body',\n",
       " 'get_over_the_flu',\n",
       " 'exposed_to_flu',\n",
       " 'treat_the_flu',\n",
       " 'how_to_treat_the_flu',\n",
       " 'cure_the_flu',\n",
       " 'flu_care',\n",
       " 'oscillococcinum',\n",
       " 'tussionex',\n",
       " 'influenza_treatment',\n",
       " 'flu_contagious_period']"
      ]
     },
     "execution_count": 39,
     "metadata": {},
     "output_type": "execute_result"
    }
   ],
   "source": [
    "important_feature_columns = important_columns\n",
    "important_feature_columns"
   ]
  },
  {
   "cell_type": "code",
   "execution_count": 40,
   "metadata": {},
   "outputs": [
    {
     "data": {
      "text/html": [
       "<div>\n",
       "<style scoped>\n",
       "    .dataframe tbody tr th:only-of-type {\n",
       "        vertical-align: middle;\n",
       "    }\n",
       "\n",
       "    .dataframe tbody tr th {\n",
       "        vertical-align: top;\n",
       "    }\n",
       "\n",
       "    .dataframe thead th {\n",
       "        text-align: right;\n",
       "    }\n",
       "</style>\n",
       "<table border=\"1\" class=\"dataframe\">\n",
       "  <thead>\n",
       "    <tr style=\"text-align: right;\">\n",
       "      <th></th>\n",
       "      <th>CDC_Unweighted_ILI</th>\n",
       "      <th>influenza_type_a</th>\n",
       "      <th>type_a_influenza</th>\n",
       "      <th>Flu_Visit_Count</th>\n",
       "      <th>sinus</th>\n",
       "      <th>ILI_Visit_Count</th>\n",
       "      <th>flu_remedy</th>\n",
       "      <th>how_to_treat_flu</th>\n",
       "      <th>incubation_period_for_the_flu</th>\n",
       "      <th>low_body</th>\n",
       "      <th>get_over_the_flu</th>\n",
       "      <th>exposed_to_flu</th>\n",
       "      <th>treat_the_flu</th>\n",
       "      <th>how_to_treat_the_flu</th>\n",
       "      <th>cure_the_flu</th>\n",
       "      <th>flu_care</th>\n",
       "      <th>oscillococcinum</th>\n",
       "      <th>tussionex</th>\n",
       "      <th>influenza_treatment</th>\n",
       "      <th>flu_contagious_period</th>\n",
       "    </tr>\n",
       "    <tr>\n",
       "      <th>YearWeek</th>\n",
       "      <th></th>\n",
       "      <th></th>\n",
       "      <th></th>\n",
       "      <th></th>\n",
       "      <th></th>\n",
       "      <th></th>\n",
       "      <th></th>\n",
       "      <th></th>\n",
       "      <th></th>\n",
       "      <th></th>\n",
       "      <th></th>\n",
       "      <th></th>\n",
       "      <th></th>\n",
       "      <th></th>\n",
       "      <th></th>\n",
       "      <th></th>\n",
       "      <th></th>\n",
       "      <th></th>\n",
       "      <th></th>\n",
       "      <th></th>\n",
       "    </tr>\n",
       "  </thead>\n",
       "  <tbody>\n",
       "    <tr>\n",
       "      <th>200940</th>\n",
       "      <td>5.66087</td>\n",
       "      <td>78</td>\n",
       "      <td>78</td>\n",
       "      <td>0.01338</td>\n",
       "      <td>58</td>\n",
       "      <td>0.01763</td>\n",
       "      <td>31</td>\n",
       "      <td>50</td>\n",
       "      <td>40</td>\n",
       "      <td>84</td>\n",
       "      <td>28</td>\n",
       "      <td>59</td>\n",
       "      <td>28</td>\n",
       "      <td>33</td>\n",
       "      <td>10</td>\n",
       "      <td>63</td>\n",
       "      <td>69</td>\n",
       "      <td>67</td>\n",
       "      <td>36</td>\n",
       "      <td>45</td>\n",
       "    </tr>\n",
       "    <tr>\n",
       "      <th>200941</th>\n",
       "      <td>6.81522</td>\n",
       "      <td>77</td>\n",
       "      <td>77</td>\n",
       "      <td>0.01620</td>\n",
       "      <td>60</td>\n",
       "      <td>0.02103</td>\n",
       "      <td>47</td>\n",
       "      <td>32</td>\n",
       "      <td>38</td>\n",
       "      <td>85</td>\n",
       "      <td>44</td>\n",
       "      <td>78</td>\n",
       "      <td>44</td>\n",
       "      <td>39</td>\n",
       "      <td>10</td>\n",
       "      <td>75</td>\n",
       "      <td>67</td>\n",
       "      <td>64</td>\n",
       "      <td>40</td>\n",
       "      <td>56</td>\n",
       "    </tr>\n",
       "    <tr>\n",
       "      <th>200942</th>\n",
       "      <td>7.61889</td>\n",
       "      <td>94</td>\n",
       "      <td>94</td>\n",
       "      <td>0.02078</td>\n",
       "      <td>60</td>\n",
       "      <td>0.02626</td>\n",
       "      <td>58</td>\n",
       "      <td>66</td>\n",
       "      <td>52</td>\n",
       "      <td>89</td>\n",
       "      <td>40</td>\n",
       "      <td>90</td>\n",
       "      <td>55</td>\n",
       "      <td>60</td>\n",
       "      <td>17</td>\n",
       "      <td>92</td>\n",
       "      <td>60</td>\n",
       "      <td>63</td>\n",
       "      <td>44</td>\n",
       "      <td>64</td>\n",
       "    </tr>\n",
       "    <tr>\n",
       "      <th>200943</th>\n",
       "      <td>7.38836</td>\n",
       "      <td>100</td>\n",
       "      <td>100</td>\n",
       "      <td>0.02862</td>\n",
       "      <td>62</td>\n",
       "      <td>0.03500</td>\n",
       "      <td>49</td>\n",
       "      <td>60</td>\n",
       "      <td>71</td>\n",
       "      <td>99</td>\n",
       "      <td>58</td>\n",
       "      <td>99</td>\n",
       "      <td>53</td>\n",
       "      <td>50</td>\n",
       "      <td>20</td>\n",
       "      <td>100</td>\n",
       "      <td>95</td>\n",
       "      <td>62</td>\n",
       "      <td>68</td>\n",
       "      <td>98</td>\n",
       "    </tr>\n",
       "    <tr>\n",
       "      <th>200944</th>\n",
       "      <td>6.33927</td>\n",
       "      <td>77</td>\n",
       "      <td>77</td>\n",
       "      <td>0.02927</td>\n",
       "      <td>59</td>\n",
       "      <td>0.03515</td>\n",
       "      <td>64</td>\n",
       "      <td>80</td>\n",
       "      <td>70</td>\n",
       "      <td>97</td>\n",
       "      <td>47</td>\n",
       "      <td>99</td>\n",
       "      <td>68</td>\n",
       "      <td>65</td>\n",
       "      <td>20</td>\n",
       "      <td>97</td>\n",
       "      <td>84</td>\n",
       "      <td>66</td>\n",
       "      <td>46</td>\n",
       "      <td>100</td>\n",
       "    </tr>\n",
       "  </tbody>\n",
       "</table>\n",
       "</div>"
      ],
      "text/plain": [
       "          CDC_Unweighted_ILI  influenza_type_a  type_a_influenza  \\\n",
       "YearWeek                                                           \n",
       "200940               5.66087                78                78   \n",
       "200941               6.81522                77                77   \n",
       "200942               7.61889                94                94   \n",
       "200943               7.38836               100               100   \n",
       "200944               6.33927                77                77   \n",
       "\n",
       "          Flu_Visit_Count  sinus  ILI_Visit_Count  flu_remedy  \\\n",
       "YearWeek                                                        \n",
       "200940            0.01338     58          0.01763          31   \n",
       "200941            0.01620     60          0.02103          47   \n",
       "200942            0.02078     60          0.02626          58   \n",
       "200943            0.02862     62          0.03500          49   \n",
       "200944            0.02927     59          0.03515          64   \n",
       "\n",
       "          how_to_treat_flu  incubation_period_for_the_flu  low_body  \\\n",
       "YearWeek                                                              \n",
       "200940                  50                             40        84   \n",
       "200941                  32                             38        85   \n",
       "200942                  66                             52        89   \n",
       "200943                  60                             71        99   \n",
       "200944                  80                             70        97   \n",
       "\n",
       "          get_over_the_flu  exposed_to_flu  treat_the_flu  \\\n",
       "YearWeek                                                    \n",
       "200940                  28              59             28   \n",
       "200941                  44              78             44   \n",
       "200942                  40              90             55   \n",
       "200943                  58              99             53   \n",
       "200944                  47              99             68   \n",
       "\n",
       "          how_to_treat_the_flu  cure_the_flu  flu_care  oscillococcinum  \\\n",
       "YearWeek                                                                  \n",
       "200940                      33            10        63               69   \n",
       "200941                      39            10        75               67   \n",
       "200942                      60            17        92               60   \n",
       "200943                      50            20       100               95   \n",
       "200944                      65            20        97               84   \n",
       "\n",
       "          tussionex  influenza_treatment  flu_contagious_period  \n",
       "YearWeek                                                         \n",
       "200940           67                   36                     45  \n",
       "200941           64                   40                     56  \n",
       "200942           63                   44                     64  \n",
       "200943           62                   68                     98  \n",
       "200944           66                   46                    100  "
      ]
     },
     "execution_count": 40,
     "metadata": {},
     "output_type": "execute_result"
    }
   ],
   "source": [
    "important_features20_df = model_df[important_feature_columns]\n",
    "important_features20_df.head()"
   ]
  },
  {
   "cell_type": "code",
   "execution_count": 41,
   "metadata": {},
   "outputs": [],
   "source": [
    "# important_features74_df.to_csv(\"ML_model_wk40_to_20_with_74_important_features.csv\")\n",
    "# important_features74_df.head()"
   ]
  },
  {
   "cell_type": "code",
   "execution_count": null,
   "metadata": {},
   "outputs": [],
   "source": []
  },
  {
   "cell_type": "code",
   "execution_count": null,
   "metadata": {},
   "outputs": [],
   "source": []
  },
  {
   "cell_type": "code",
   "execution_count": null,
   "metadata": {},
   "outputs": [],
   "source": []
  },
  {
   "cell_type": "code",
   "execution_count": null,
   "metadata": {},
   "outputs": [],
   "source": []
  },
  {
   "cell_type": "markdown",
   "metadata": {},
   "source": [
    "# defining important feature X train and X test dataset"
   ]
  },
  {
   "cell_type": "code",
   "execution_count": 42,
   "metadata": {},
   "outputs": [],
   "source": [
    "# X_trainim = important_features_df[important_features_df.index < 201540]\n",
    "# # trainim\n",
    "# # .head(2)"
   ]
  },
  {
   "cell_type": "code",
   "execution_count": 43,
   "metadata": {},
   "outputs": [],
   "source": [
    "# X_testim = important_features_df[important_features_df.index >= 201540]\n",
    "# # testim\n",
    "# # .head()"
   ]
  },
  {
   "cell_type": "code",
   "execution_count": 44,
   "metadata": {},
   "outputs": [],
   "source": [
    "# gbrtim_ili_lag1 = GradientBoostingRegressor(n_estimators = 500, max_depth = 5) # number of sequential trees to be modeled"
   ]
  },
  {
   "cell_type": "code",
   "execution_count": 45,
   "metadata": {},
   "outputs": [],
   "source": [
    "# gbrtim_ili_lag1.fit(X_trainim, y_train) "
   ]
  },
  {
   "cell_type": "code",
   "execution_count": 46,
   "metadata": {},
   "outputs": [],
   "source": [
    "# from sklearn.metrics import mean_squared_error, mean_absolute_error, r2_score"
   ]
  },
  {
   "cell_type": "code",
   "execution_count": 47,
   "metadata": {},
   "outputs": [],
   "source": [
    "# r2_score(y_test, y_pred)"
   ]
  },
  {
   "cell_type": "code",
   "execution_count": 48,
   "metadata": {},
   "outputs": [],
   "source": [
    "# mean_absolute_error(y_test, y_pred)"
   ]
  },
  {
   "cell_type": "code",
   "execution_count": 49,
   "metadata": {},
   "outputs": [],
   "source": [
    "# # GBR with important features for ili_lag1 week 1\n",
    "# print(\"R-squared for Train gbrtim_ili_lag1: %.2f\" %gbrtim_ili_lag1.score(X_trainim, y_train)) \n",
    "# print(\"R-squared for Test gbrtim_ili_lag1: %.2f\" %gbrtim_ili_lag1.score(X_testim, y_test)) "
   ]
  },
  {
   "cell_type": "code",
   "execution_count": 50,
   "metadata": {},
   "outputs": [],
   "source": [
    "# # predict the values of y with important feature extraction for ili week 1\n",
    "# predictions = gbrtim_ili_lag1.predict(X_testim)\n",
    "# y_test_unraveled = y_test.values.ravel()\n",
    "# y_test.index"
   ]
  },
  {
   "cell_type": "code",
   "execution_count": 51,
   "metadata": {},
   "outputs": [],
   "source": [
    "# Make predictions using the X_test and y_test data\n",
    "# Print at least 10 predictions vs their actual labels\n",
    "# predictions = gbrtim_ili_lag1.predict(X_testim)\n",
    "# print(f\"First 10 Predictions: {predictions[:10]}\")\n",
    "# print(f\"First 10 Actual labels: {y_test_unraveled[:10]}\")"
   ]
  },
  {
   "cell_type": "code",
   "execution_count": 52,
   "metadata": {},
   "outputs": [],
   "source": [
    "# # Print predictions vs their actual labels\n",
    "# pred_df = pd.DataFrame({\"Prediction\": predictions, \"Actual\": y_test_unraveled}).reset_index(drop=True)\n",
    "# pred_df.index = y_test.index\n",
    "# pred_df.head()"
   ]
  },
  {
   "cell_type": "code",
   "execution_count": null,
   "metadata": {},
   "outputs": [],
   "source": []
  },
  {
   "cell_type": "markdown",
   "metadata": {},
   "source": [
    "# building a model for y_test = test[\"ILI_lagwk2\"]"
   ]
  },
  {
   "cell_type": "code",
   "execution_count": 53,
   "metadata": {},
   "outputs": [],
   "source": [
    "rreg2 = RandomForestRegressor(max_depth = 5, n_estimators = 300,  random_state = 0, min_samples_leaf = 8)   "
   ]
  },
  {
   "cell_type": "code",
   "execution_count": 54,
   "metadata": {},
   "outputs": [
    {
     "data": {
      "text/plain": [
       "RandomForestRegressor(bootstrap=True, criterion='mse', max_depth=5,\n",
       "           max_features='auto', max_leaf_nodes=None,\n",
       "           min_impurity_decrease=0.0, min_impurity_split=None,\n",
       "           min_samples_leaf=8, min_samples_split=2,\n",
       "           min_weight_fraction_leaf=0.0, n_estimators=300, n_jobs=None,\n",
       "           oob_score=False, random_state=0, verbose=0, warm_start=False)"
      ]
     },
     "execution_count": 54,
     "metadata": {},
     "output_type": "execute_result"
    }
   ],
   "source": [
    "rreg2.fit(X_train, yy_train) "
   ]
  },
  {
   "cell_type": "code",
   "execution_count": 55,
   "metadata": {},
   "outputs": [],
   "source": [
    "yy_pred = rreg2.predict(X_test)"
   ]
  },
  {
   "cell_type": "code",
   "execution_count": 56,
   "metadata": {},
   "outputs": [
    {
     "data": {
      "text/plain": [
       "0.5653113068269501"
      ]
     },
     "execution_count": 56,
     "metadata": {},
     "output_type": "execute_result"
    }
   ],
   "source": [
    "r2_score(yy_test, yy_pred)"
   ]
  },
  {
   "cell_type": "code",
   "execution_count": 57,
   "metadata": {},
   "outputs": [
    {
     "data": {
      "text/plain": [
       "0.3038711543069374"
      ]
     },
     "execution_count": 57,
     "metadata": {},
     "output_type": "execute_result"
    }
   ],
   "source": [
    "mean_absolute_error(yy_test, yy_pred)"
   ]
  },
  {
   "cell_type": "code",
   "execution_count": 58,
   "metadata": {},
   "outputs": [
    {
     "name": "stdout",
     "output_type": "stream",
     "text": [
      "R-squared for ILI_lagwk2 Train: 0.84\n",
      "R-squared for ILI_lagwk2 Test: 0.57\n"
     ]
    }
   ],
   "source": [
    "print(\"R-squared for ILI_lagwk2 Train: %.2f\" %rreg2.score(X_train, yy_train)) \n",
    "print(\"R-squared for ILI_lagwk2 Test: %.2f\" %rreg2.score(X_test, yy_test)) "
   ]
  },
  {
   "cell_type": "code",
   "execution_count": 59,
   "metadata": {},
   "outputs": [],
   "source": [
    "predictions2 = rreg2.predict(X_test) "
   ]
  },
  {
   "cell_type": "code",
   "execution_count": 60,
   "metadata": {},
   "outputs": [
    {
     "data": {
      "text/plain": [
       "Int64Index([201540, 201541, 201542, 201543, 201544, 201545, 201546, 201547,\n",
       "            201548, 201549, 201550, 201551, 201552, 201601, 201602, 201603,\n",
       "            201604, 201605, 201606, 201607, 201608, 201609, 201610, 201611,\n",
       "            201612, 201613, 201614, 201615, 201616, 201617, 201618, 201619,\n",
       "            201620],\n",
       "           dtype='int64', name='YearWeek')"
      ]
     },
     "execution_count": 60,
     "metadata": {},
     "output_type": "execute_result"
    }
   ],
   "source": [
    "# predict the values of y\n",
    "yy_test_unraveled = yy_test.values.ravel()\n",
    "yy_test.index"
   ]
  },
  {
   "cell_type": "code",
   "execution_count": 61,
   "metadata": {},
   "outputs": [
    {
     "data": {
      "text/html": [
       "<div>\n",
       "<style scoped>\n",
       "    .dataframe tbody tr th:only-of-type {\n",
       "        vertical-align: middle;\n",
       "    }\n",
       "\n",
       "    .dataframe tbody tr th {\n",
       "        vertical-align: top;\n",
       "    }\n",
       "\n",
       "    .dataframe thead th {\n",
       "        text-align: right;\n",
       "    }\n",
       "</style>\n",
       "<table border=\"1\" class=\"dataframe\">\n",
       "  <thead>\n",
       "    <tr style=\"text-align: right;\">\n",
       "      <th></th>\n",
       "      <th>Prediction_ILI_lagwk2</th>\n",
       "      <th>Actual</th>\n",
       "    </tr>\n",
       "    <tr>\n",
       "      <th>YearWeek</th>\n",
       "      <th></th>\n",
       "      <th></th>\n",
       "    </tr>\n",
       "  </thead>\n",
       "  <tbody>\n",
       "    <tr>\n",
       "      <th>201540</th>\n",
       "      <td>1.377420</td>\n",
       "      <td>1.41368</td>\n",
       "    </tr>\n",
       "    <tr>\n",
       "      <th>201541</th>\n",
       "      <td>1.444279</td>\n",
       "      <td>1.36882</td>\n",
       "    </tr>\n",
       "    <tr>\n",
       "      <th>201542</th>\n",
       "      <td>1.500780</td>\n",
       "      <td>1.48309</td>\n",
       "    </tr>\n",
       "    <tr>\n",
       "      <th>201543</th>\n",
       "      <td>1.487003</td>\n",
       "      <td>1.54494</td>\n",
       "    </tr>\n",
       "    <tr>\n",
       "      <th>201544</th>\n",
       "      <td>1.498026</td>\n",
       "      <td>1.62532</td>\n",
       "    </tr>\n",
       "  </tbody>\n",
       "</table>\n",
       "</div>"
      ],
      "text/plain": [
       "          Prediction_ILI_lagwk2   Actual\n",
       "YearWeek                                \n",
       "201540                 1.377420  1.41368\n",
       "201541                 1.444279  1.36882\n",
       "201542                 1.500780  1.48309\n",
       "201543                 1.487003  1.54494\n",
       "201544                 1.498026  1.62532"
      ]
     },
     "execution_count": 61,
     "metadata": {},
     "output_type": "execute_result"
    }
   ],
   "source": [
    "# store prediction and actual to df\n",
    "pred_df = pd.DataFrame({\"Prediction_ILI_lagwk2\": predictions2, \"Actual\": yy_test_unraveled}).reset_index(drop=True)\n",
    "pred_df.index = yy_test.index\n",
    "pred_df.head()"
   ]
  },
  {
   "cell_type": "code",
   "execution_count": 62,
   "metadata": {},
   "outputs": [],
   "source": [
    "# # Create the GridSearchCV model\n",
    "\n",
    "# from sklearn.model_selection import GridSearchCV\n",
    "# param_grid = {'learning_rate':[ 0.02, 0.01, 0.1, 0.05], \n",
    "#             'max_depth':[1, 3, 5 ,7], \n",
    "#             'min_samples_leaf':[3, 5, 7 ,9], \n",
    "# #             'max_features':[0.1,0.3,1.0],\n",
    "#             'n_estimators': [300, 500, 1000, 2000]\n",
    "#              } \n",
    "\n",
    "# est = GradientBoostingRegressor()\n",
    "# gs_cv = GridSearchCV(est, param_grid).fit(X_train, y_train)\n",
    "\n",
    "# # best hyperparameter setting\n",
    "\n",
    "# gs_cv.best_est "
   ]
  },
  {
   "cell_type": "code",
   "execution_count": null,
   "metadata": {},
   "outputs": [],
   "source": []
  },
  {
   "cell_type": "markdown",
   "metadata": {},
   "source": [
    "# selecting important features  [\"ILI_lagwk2\"]"
   ]
  },
  {
   "cell_type": "markdown",
   "metadata": {},
   "source": [
    "# defining important feature X train and X test dataset"
   ]
  },
  {
   "cell_type": "code",
   "execution_count": null,
   "metadata": {},
   "outputs": [],
   "source": []
  },
  {
   "cell_type": "code",
   "execution_count": null,
   "metadata": {},
   "outputs": [],
   "source": []
  },
  {
   "cell_type": "markdown",
   "metadata": {},
   "source": [
    "# building a model for y_test = test[\"ILI_lagwk3\"]"
   ]
  },
  {
   "cell_type": "code",
   "execution_count": 63,
   "metadata": {},
   "outputs": [],
   "source": [
    "rreg3 = RandomForestRegressor(max_depth = 5, n_estimators = 300,  random_state = 0, min_samples_leaf = 8)   "
   ]
  },
  {
   "cell_type": "code",
   "execution_count": 64,
   "metadata": {},
   "outputs": [
    {
     "data": {
      "text/plain": [
       "RandomForestRegressor(bootstrap=True, criterion='mse', max_depth=5,\n",
       "           max_features='auto', max_leaf_nodes=None,\n",
       "           min_impurity_decrease=0.0, min_impurity_split=None,\n",
       "           min_samples_leaf=8, min_samples_split=2,\n",
       "           min_weight_fraction_leaf=0.0, n_estimators=300, n_jobs=None,\n",
       "           oob_score=False, random_state=0, verbose=0, warm_start=False)"
      ]
     },
     "execution_count": 64,
     "metadata": {},
     "output_type": "execute_result"
    }
   ],
   "source": [
    "rreg3.fit(X_train, yyy_train) "
   ]
  },
  {
   "cell_type": "code",
   "execution_count": 65,
   "metadata": {},
   "outputs": [],
   "source": [
    "yyy_pred = rreg3.predict(X_test)"
   ]
  },
  {
   "cell_type": "code",
   "execution_count": 66,
   "metadata": {},
   "outputs": [
    {
     "data": {
      "text/plain": [
       "0.3613050755092445"
      ]
     },
     "execution_count": 66,
     "metadata": {},
     "output_type": "execute_result"
    }
   ],
   "source": [
    "r2_score(yyy_test, yyy_pred)"
   ]
  },
  {
   "cell_type": "code",
   "execution_count": 67,
   "metadata": {},
   "outputs": [
    {
     "data": {
      "text/plain": [
       "0.33474969902135765"
      ]
     },
     "execution_count": 67,
     "metadata": {},
     "output_type": "execute_result"
    }
   ],
   "source": [
    "mean_absolute_error(yyy_test, yyy_pred)"
   ]
  },
  {
   "cell_type": "code",
   "execution_count": 68,
   "metadata": {},
   "outputs": [
    {
     "name": "stdout",
     "output_type": "stream",
     "text": [
      "R-squared for Train: 0.79\n",
      "R-squared for Test: 0.36\n"
     ]
    }
   ],
   "source": [
    "print(\"R-squared for Train: %.2f\" %rreg3.score(X_train, yyy_train)) \n",
    "print(\"R-squared for Test: %.2f\" %rreg3.score(X_test, yyy_test)) "
   ]
  },
  {
   "cell_type": "code",
   "execution_count": 69,
   "metadata": {},
   "outputs": [],
   "source": [
    "predictions3 = rreg3.predict(X_test) "
   ]
  },
  {
   "cell_type": "code",
   "execution_count": 70,
   "metadata": {},
   "outputs": [
    {
     "data": {
      "text/plain": [
       "Int64Index([201540, 201541, 201542, 201543, 201544, 201545, 201546, 201547,\n",
       "            201548, 201549, 201550, 201551, 201552, 201601, 201602, 201603,\n",
       "            201604, 201605, 201606, 201607, 201608, 201609, 201610, 201611,\n",
       "            201612, 201613, 201614, 201615, 201616, 201617, 201618, 201619,\n",
       "            201620],\n",
       "           dtype='int64', name='YearWeek')"
      ]
     },
     "execution_count": 70,
     "metadata": {},
     "output_type": "execute_result"
    }
   ],
   "source": [
    "# predict the values of y\n",
    "predictions = rreg3.predict(X_test)\n",
    "yyy_test_unraveled = yyy_test.values.ravel()\n",
    "yyy_test.index"
   ]
  },
  {
   "cell_type": "code",
   "execution_count": 71,
   "metadata": {},
   "outputs": [
    {
     "data": {
      "text/html": [
       "<div>\n",
       "<style scoped>\n",
       "    .dataframe tbody tr th:only-of-type {\n",
       "        vertical-align: middle;\n",
       "    }\n",
       "\n",
       "    .dataframe tbody tr th {\n",
       "        vertical-align: top;\n",
       "    }\n",
       "\n",
       "    .dataframe thead th {\n",
       "        text-align: right;\n",
       "    }\n",
       "</style>\n",
       "<table border=\"1\" class=\"dataframe\">\n",
       "  <thead>\n",
       "    <tr style=\"text-align: right;\">\n",
       "      <th></th>\n",
       "      <th>Prediction_ILI_lagwk3</th>\n",
       "      <th>Actual</th>\n",
       "    </tr>\n",
       "    <tr>\n",
       "      <th>YearWeek</th>\n",
       "      <th></th>\n",
       "      <th></th>\n",
       "    </tr>\n",
       "  </thead>\n",
       "  <tbody>\n",
       "    <tr>\n",
       "      <th>201540</th>\n",
       "      <td>1.479204</td>\n",
       "      <td>1.36882</td>\n",
       "    </tr>\n",
       "    <tr>\n",
       "      <th>201541</th>\n",
       "      <td>1.508086</td>\n",
       "      <td>1.48309</td>\n",
       "    </tr>\n",
       "    <tr>\n",
       "      <th>201542</th>\n",
       "      <td>1.557465</td>\n",
       "      <td>1.54494</td>\n",
       "    </tr>\n",
       "    <tr>\n",
       "      <th>201543</th>\n",
       "      <td>1.536340</td>\n",
       "      <td>1.62532</td>\n",
       "    </tr>\n",
       "    <tr>\n",
       "      <th>201544</th>\n",
       "      <td>1.551335</td>\n",
       "      <td>1.91565</td>\n",
       "    </tr>\n",
       "  </tbody>\n",
       "</table>\n",
       "</div>"
      ],
      "text/plain": [
       "          Prediction_ILI_lagwk3   Actual\n",
       "YearWeek                                \n",
       "201540                 1.479204  1.36882\n",
       "201541                 1.508086  1.48309\n",
       "201542                 1.557465  1.54494\n",
       "201543                 1.536340  1.62532\n",
       "201544                 1.551335  1.91565"
      ]
     },
     "execution_count": 71,
     "metadata": {},
     "output_type": "execute_result"
    }
   ],
   "source": [
    "pred_df = pd.DataFrame({\"Prediction_ILI_lagwk3\": predictions3, \"Actual\": yyy_test_unraveled}).reset_index(drop=True)\n",
    "pred_df.index = yyy_test.index\n",
    "pred_df.head()"
   ]
  },
  {
   "cell_type": "code",
   "execution_count": null,
   "metadata": {},
   "outputs": [],
   "source": []
  },
  {
   "cell_type": "markdown",
   "metadata": {},
   "source": [
    "# building a model for y_test = test[\"ILI_lagwk4\"]"
   ]
  },
  {
   "cell_type": "code",
   "execution_count": 72,
   "metadata": {},
   "outputs": [],
   "source": [
    "rreg4 = RandomForestRegressor(max_depth = 5, n_estimators = 300,  random_state = 0, min_samples_leaf = 8)  "
   ]
  },
  {
   "cell_type": "code",
   "execution_count": 73,
   "metadata": {},
   "outputs": [
    {
     "data": {
      "text/plain": [
       "RandomForestRegressor(bootstrap=True, criterion='mse', max_depth=5,\n",
       "           max_features='auto', max_leaf_nodes=None,\n",
       "           min_impurity_decrease=0.0, min_impurity_split=None,\n",
       "           min_samples_leaf=8, min_samples_split=2,\n",
       "           min_weight_fraction_leaf=0.0, n_estimators=300, n_jobs=None,\n",
       "           oob_score=False, random_state=0, verbose=0, warm_start=False)"
      ]
     },
     "execution_count": 73,
     "metadata": {},
     "output_type": "execute_result"
    }
   ],
   "source": [
    "rreg4.fit(X_train, yyyy_train) "
   ]
  },
  {
   "cell_type": "code",
   "execution_count": 74,
   "metadata": {},
   "outputs": [],
   "source": [
    "yyyy_pred = rreg4.predict(X_test)"
   ]
  },
  {
   "cell_type": "code",
   "execution_count": 75,
   "metadata": {},
   "outputs": [
    {
     "data": {
      "text/plain": [
       "0.24352061391148994"
      ]
     },
     "execution_count": 75,
     "metadata": {},
     "output_type": "execute_result"
    }
   ],
   "source": [
    "r2_score(yyyy_test, yyyy_pred)"
   ]
  },
  {
   "cell_type": "code",
   "execution_count": 76,
   "metadata": {},
   "outputs": [
    {
     "data": {
      "text/plain": [
       "0.3779918328292862"
      ]
     },
     "execution_count": 76,
     "metadata": {},
     "output_type": "execute_result"
    }
   ],
   "source": [
    "mean_absolute_error(yyyy_test, yyyy_pred)"
   ]
  },
  {
   "cell_type": "code",
   "execution_count": 77,
   "metadata": {},
   "outputs": [
    {
     "name": "stdout",
     "output_type": "stream",
     "text": [
      "R-squared for Train: 0.77\n",
      "R-squared for Test: 0.24\n"
     ]
    }
   ],
   "source": [
    "print(\"R-squared for Train: %.2f\" %rreg4.score(X_train, yyyy_train)) \n",
    "print(\"R-squared for Test: %.2f\" %rreg4.score(X_test, yyyy_test)) "
   ]
  },
  {
   "cell_type": "code",
   "execution_count": 78,
   "metadata": {},
   "outputs": [
    {
     "data": {
      "text/plain": [
       "Int64Index([201540, 201541, 201542, 201543, 201544, 201545, 201546, 201547,\n",
       "            201548, 201549, 201550, 201551, 201552, 201601, 201602, 201603,\n",
       "            201604, 201605, 201606, 201607, 201608, 201609, 201610, 201611,\n",
       "            201612, 201613, 201614, 201615, 201616, 201617, 201618, 201619,\n",
       "            201620],\n",
       "           dtype='int64', name='YearWeek')"
      ]
     },
     "execution_count": 78,
     "metadata": {},
     "output_type": "execute_result"
    }
   ],
   "source": [
    "# predict the values of y\n",
    "predictions4 = rreg4.predict(X_test)\n",
    "yyyy_test_unraveled = yyyy_test.values.ravel()\n",
    "yyyy_test.index"
   ]
  },
  {
   "cell_type": "code",
   "execution_count": 79,
   "metadata": {},
   "outputs": [
    {
     "data": {
      "text/html": [
       "<div>\n",
       "<style scoped>\n",
       "    .dataframe tbody tr th:only-of-type {\n",
       "        vertical-align: middle;\n",
       "    }\n",
       "\n",
       "    .dataframe tbody tr th {\n",
       "        vertical-align: top;\n",
       "    }\n",
       "\n",
       "    .dataframe thead th {\n",
       "        text-align: right;\n",
       "    }\n",
       "</style>\n",
       "<table border=\"1\" class=\"dataframe\">\n",
       "  <thead>\n",
       "    <tr style=\"text-align: right;\">\n",
       "      <th></th>\n",
       "      <th>Prediction_ILI_lagwk1</th>\n",
       "      <th>Actual</th>\n",
       "    </tr>\n",
       "    <tr>\n",
       "      <th>YearWeek</th>\n",
       "      <th></th>\n",
       "      <th></th>\n",
       "    </tr>\n",
       "  </thead>\n",
       "  <tbody>\n",
       "    <tr>\n",
       "      <th>201540</th>\n",
       "      <td>1.603582</td>\n",
       "      <td>1.48309</td>\n",
       "    </tr>\n",
       "    <tr>\n",
       "      <th>201541</th>\n",
       "      <td>1.621012</td>\n",
       "      <td>1.54494</td>\n",
       "    </tr>\n",
       "    <tr>\n",
       "      <th>201542</th>\n",
       "      <td>1.640749</td>\n",
       "      <td>1.62532</td>\n",
       "    </tr>\n",
       "    <tr>\n",
       "      <th>201543</th>\n",
       "      <td>1.663740</td>\n",
       "      <td>1.91565</td>\n",
       "    </tr>\n",
       "    <tr>\n",
       "      <th>201544</th>\n",
       "      <td>1.651463</td>\n",
       "      <td>1.74368</td>\n",
       "    </tr>\n",
       "  </tbody>\n",
       "</table>\n",
       "</div>"
      ],
      "text/plain": [
       "          Prediction_ILI_lagwk1   Actual\n",
       "YearWeek                                \n",
       "201540                 1.603582  1.48309\n",
       "201541                 1.621012  1.54494\n",
       "201542                 1.640749  1.62532\n",
       "201543                 1.663740  1.91565\n",
       "201544                 1.651463  1.74368"
      ]
     },
     "execution_count": 79,
     "metadata": {},
     "output_type": "execute_result"
    }
   ],
   "source": [
    "# store prediction and actual to df\n",
    "pred_df = pd.DataFrame({\"Prediction_ILI_lagwk1\": predictions4, \"Actual\": yyyy_test_unraveled}).reset_index(drop=True)\n",
    "pred_df.index = yyyy_test.index\n",
    "pred_df.head()"
   ]
  },
  {
   "cell_type": "code",
   "execution_count": null,
   "metadata": {},
   "outputs": [],
   "source": []
  },
  {
   "cell_type": "code",
   "execution_count": null,
   "metadata": {},
   "outputs": [],
   "source": []
  },
  {
   "cell_type": "code",
   "execution_count": null,
   "metadata": {},
   "outputs": [],
   "source": []
  }
 ],
 "metadata": {
  "kernelspec": {
   "display_name": "Python 3",
   "language": "python",
   "name": "python3"
  },
  "language_info": {
   "codemirror_mode": {
    "name": "ipython",
    "version": 3
   },
   "file_extension": ".py",
   "mimetype": "text/x-python",
   "name": "python",
   "nbconvert_exporter": "python",
   "pygments_lexer": "ipython3",
   "version": "3.7.1"
  }
 },
 "nbformat": 4,
 "nbformat_minor": 2
}
