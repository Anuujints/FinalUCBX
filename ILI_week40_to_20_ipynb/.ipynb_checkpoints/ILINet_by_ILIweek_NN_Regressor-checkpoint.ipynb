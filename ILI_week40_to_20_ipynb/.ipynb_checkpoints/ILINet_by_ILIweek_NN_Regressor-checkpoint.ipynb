{
 "cells": [
  {
   "cell_type": "code",
   "execution_count": 1,
   "metadata": {},
   "outputs": [],
   "source": [
    "%matplotlib inline\n",
    "\n",
    "import pandas as pd\n",
    "import numpy as np\n",
    "\n",
    "import matplotlib.pyplot as plt"
   ]
  },
  {
   "cell_type": "code",
   "execution_count": 2,
   "metadata": {},
   "outputs": [],
   "source": [
    "from sklearn.model_selection import train_test_split\n",
    "\n",
    "from sklearn import model_selection\n",
    "from sklearn.neural_network import MLPRegressor\n",
    "from sklearn.metrics import accuracy_score"
   ]
  },
  {
   "cell_type": "code",
   "execution_count": 3,
   "metadata": {},
   "outputs": [
    {
     "data": {
      "text/html": [
       "<div>\n",
       "<style scoped>\n",
       "    .dataframe tbody tr th:only-of-type {\n",
       "        vertical-align: middle;\n",
       "    }\n",
       "\n",
       "    .dataframe tbody tr th {\n",
       "        vertical-align: top;\n",
       "    }\n",
       "\n",
       "    .dataframe thead th {\n",
       "        text-align: right;\n",
       "    }\n",
       "</style>\n",
       "<table border=\"1\" class=\"dataframe\">\n",
       "  <thead>\n",
       "    <tr style=\"text-align: right;\">\n",
       "      <th></th>\n",
       "      <th>Year</th>\n",
       "      <th>a_influenza</th>\n",
       "      <th>acute_bronchitis</th>\n",
       "      <th>body_temperature</th>\n",
       "      <th>braun_thermoscan</th>\n",
       "      <th>break_a_fever</th>\n",
       "      <th>bronchitis</th>\n",
       "      <th>chest_cold</th>\n",
       "      <th>cold_and_flu</th>\n",
       "      <th>cold_or_flu</th>\n",
       "      <th>...</th>\n",
       "      <th>walking_pneumonia</th>\n",
       "      <th>what_to_do_if_you_have_the_flu</th>\n",
       "      <th>Flu_Visit_Count</th>\n",
       "      <th>ILI_Visit_Count</th>\n",
       "      <th>Unspecified</th>\n",
       "      <th>CDC_Unweighted_ILI</th>\n",
       "      <th>ILI_lagwk1</th>\n",
       "      <th>ILI_lagwk2</th>\n",
       "      <th>ILI_lagwk3</th>\n",
       "      <th>ILI_lagwk4</th>\n",
       "    </tr>\n",
       "  </thead>\n",
       "  <tbody>\n",
       "    <tr>\n",
       "      <th>0</th>\n",
       "      <td>2009</td>\n",
       "      <td>44</td>\n",
       "      <td>33</td>\n",
       "      <td>81</td>\n",
       "      <td>69</td>\n",
       "      <td>22</td>\n",
       "      <td>40</td>\n",
       "      <td>35</td>\n",
       "      <td>36</td>\n",
       "      <td>37</td>\n",
       "      <td>...</td>\n",
       "      <td>47</td>\n",
       "      <td>56</td>\n",
       "      <td>0.01338</td>\n",
       "      <td>0.01763</td>\n",
       "      <td>0.03074</td>\n",
       "      <td>5.66087</td>\n",
       "      <td>6.81522</td>\n",
       "      <td>7.61889</td>\n",
       "      <td>7.38836</td>\n",
       "      <td>6.33927</td>\n",
       "    </tr>\n",
       "    <tr>\n",
       "      <th>1</th>\n",
       "      <td>2009</td>\n",
       "      <td>51</td>\n",
       "      <td>51</td>\n",
       "      <td>77</td>\n",
       "      <td>46</td>\n",
       "      <td>24</td>\n",
       "      <td>43</td>\n",
       "      <td>35</td>\n",
       "      <td>43</td>\n",
       "      <td>49</td>\n",
       "      <td>...</td>\n",
       "      <td>53</td>\n",
       "      <td>58</td>\n",
       "      <td>0.01620</td>\n",
       "      <td>0.02103</td>\n",
       "      <td>0.03554</td>\n",
       "      <td>6.81522</td>\n",
       "      <td>7.61889</td>\n",
       "      <td>7.38836</td>\n",
       "      <td>6.33927</td>\n",
       "      <td>4.94349</td>\n",
       "    </tr>\n",
       "    <tr>\n",
       "      <th>2</th>\n",
       "      <td>2009</td>\n",
       "      <td>63</td>\n",
       "      <td>38</td>\n",
       "      <td>88</td>\n",
       "      <td>76</td>\n",
       "      <td>30</td>\n",
       "      <td>48</td>\n",
       "      <td>34</td>\n",
       "      <td>45</td>\n",
       "      <td>48</td>\n",
       "      <td>...</td>\n",
       "      <td>57</td>\n",
       "      <td>82</td>\n",
       "      <td>0.02078</td>\n",
       "      <td>0.02626</td>\n",
       "      <td>0.04458</td>\n",
       "      <td>7.61889</td>\n",
       "      <td>7.38836</td>\n",
       "      <td>6.33927</td>\n",
       "      <td>4.94349</td>\n",
       "      <td>3.80996</td>\n",
       "    </tr>\n",
       "    <tr>\n",
       "      <th>3</th>\n",
       "      <td>2009</td>\n",
       "      <td>70</td>\n",
       "      <td>51</td>\n",
       "      <td>100</td>\n",
       "      <td>88</td>\n",
       "      <td>29</td>\n",
       "      <td>54</td>\n",
       "      <td>39</td>\n",
       "      <td>55</td>\n",
       "      <td>57</td>\n",
       "      <td>...</td>\n",
       "      <td>64</td>\n",
       "      <td>54</td>\n",
       "      <td>0.02862</td>\n",
       "      <td>0.03500</td>\n",
       "      <td>0.05885</td>\n",
       "      <td>7.38836</td>\n",
       "      <td>6.33927</td>\n",
       "      <td>4.94349</td>\n",
       "      <td>3.80996</td>\n",
       "      <td>3.44106</td>\n",
       "    </tr>\n",
       "    <tr>\n",
       "      <th>4</th>\n",
       "      <td>2009</td>\n",
       "      <td>53</td>\n",
       "      <td>52</td>\n",
       "      <td>96</td>\n",
       "      <td>44</td>\n",
       "      <td>30</td>\n",
       "      <td>55</td>\n",
       "      <td>44</td>\n",
       "      <td>53</td>\n",
       "      <td>68</td>\n",
       "      <td>...</td>\n",
       "      <td>59</td>\n",
       "      <td>77</td>\n",
       "      <td>0.02927</td>\n",
       "      <td>0.03515</td>\n",
       "      <td>0.05945</td>\n",
       "      <td>6.33927</td>\n",
       "      <td>4.94349</td>\n",
       "      <td>3.80996</td>\n",
       "      <td>3.44106</td>\n",
       "      <td>2.66773</td>\n",
       "    </tr>\n",
       "  </tbody>\n",
       "</table>\n",
       "<p>5 rows × 138 columns</p>\n",
       "</div>"
      ],
      "text/plain": [
       "   Year  a_influenza  acute_bronchitis  body_temperature  braun_thermoscan  \\\n",
       "0  2009           44                33                81                69   \n",
       "1  2009           51                51                77                46   \n",
       "2  2009           63                38                88                76   \n",
       "3  2009           70                51               100                88   \n",
       "4  2009           53                52                96                44   \n",
       "\n",
       "   break_a_fever  bronchitis  chest_cold  cold_and_flu  cold_or_flu  \\\n",
       "0             22          40          35            36           37   \n",
       "1             24          43          35            43           49   \n",
       "2             30          48          34            45           48   \n",
       "3             29          54          39            55           57   \n",
       "4             30          55          44            53           68   \n",
       "\n",
       "      ...      walking_pneumonia  what_to_do_if_you_have_the_flu  \\\n",
       "0     ...                     47                              56   \n",
       "1     ...                     53                              58   \n",
       "2     ...                     57                              82   \n",
       "3     ...                     64                              54   \n",
       "4     ...                     59                              77   \n",
       "\n",
       "   Flu_Visit_Count  ILI_Visit_Count  Unspecified  CDC_Unweighted_ILI  \\\n",
       "0          0.01338          0.01763      0.03074             5.66087   \n",
       "1          0.01620          0.02103      0.03554             6.81522   \n",
       "2          0.02078          0.02626      0.04458             7.61889   \n",
       "3          0.02862          0.03500      0.05885             7.38836   \n",
       "4          0.02927          0.03515      0.05945             6.33927   \n",
       "\n",
       "   ILI_lagwk1  ILI_lagwk2  ILI_lagwk3  ILI_lagwk4  \n",
       "0     6.81522     7.61889     7.38836     6.33927  \n",
       "1     7.61889     7.38836     6.33927     4.94349  \n",
       "2     7.38836     6.33927     4.94349     3.80996  \n",
       "3     6.33927     4.94349     3.80996     3.44106  \n",
       "4     4.94349     3.80996     3.44106     2.66773  \n",
       "\n",
       "[5 rows x 138 columns]"
      ]
     },
     "execution_count": 3,
     "metadata": {},
     "output_type": "execute_result"
    }
   ],
   "source": [
    "df1 = pd.read_csv(\"ML_model_wk40_to_20.csv\")\n",
    "df1.dropna(how='any', inplace=True)\n",
    "del df1['ILI_weeks']\n",
    "del df1['Unnamed: 0']\n",
    "del df1['week']\n",
    "\n",
    "\n",
    "df1.head()"
   ]
  },
  {
   "cell_type": "code",
   "execution_count": 4,
   "metadata": {},
   "outputs": [
    {
     "data": {
      "text/html": [
       "<div>\n",
       "<style scoped>\n",
       "    .dataframe tbody tr th:only-of-type {\n",
       "        vertical-align: middle;\n",
       "    }\n",
       "\n",
       "    .dataframe tbody tr th {\n",
       "        vertical-align: top;\n",
       "    }\n",
       "\n",
       "    .dataframe thead th {\n",
       "        text-align: right;\n",
       "    }\n",
       "</style>\n",
       "<table border=\"1\" class=\"dataframe\">\n",
       "  <thead>\n",
       "    <tr style=\"text-align: right;\">\n",
       "      <th></th>\n",
       "      <th>ILI_lagwk1</th>\n",
       "      <th>ILI_lagwk2</th>\n",
       "      <th>ILI_lagwk3</th>\n",
       "      <th>ILI_lagwk4</th>\n",
       "    </tr>\n",
       "  </thead>\n",
       "  <tbody>\n",
       "    <tr>\n",
       "      <th>0</th>\n",
       "      <td>6.81522</td>\n",
       "      <td>7.61889</td>\n",
       "      <td>7.38836</td>\n",
       "      <td>6.33927</td>\n",
       "    </tr>\n",
       "    <tr>\n",
       "      <th>1</th>\n",
       "      <td>7.61889</td>\n",
       "      <td>7.38836</td>\n",
       "      <td>6.33927</td>\n",
       "      <td>4.94349</td>\n",
       "    </tr>\n",
       "    <tr>\n",
       "      <th>2</th>\n",
       "      <td>7.38836</td>\n",
       "      <td>6.33927</td>\n",
       "      <td>4.94349</td>\n",
       "      <td>3.80996</td>\n",
       "    </tr>\n",
       "    <tr>\n",
       "      <th>3</th>\n",
       "      <td>6.33927</td>\n",
       "      <td>4.94349</td>\n",
       "      <td>3.80996</td>\n",
       "      <td>3.44106</td>\n",
       "    </tr>\n",
       "    <tr>\n",
       "      <th>4</th>\n",
       "      <td>4.94349</td>\n",
       "      <td>3.80996</td>\n",
       "      <td>3.44106</td>\n",
       "      <td>2.66773</td>\n",
       "    </tr>\n",
       "  </tbody>\n",
       "</table>\n",
       "</div>"
      ],
      "text/plain": [
       "   ILI_lagwk1  ILI_lagwk2  ILI_lagwk3  ILI_lagwk4\n",
       "0     6.81522     7.61889     7.38836     6.33927\n",
       "1     7.61889     7.38836     6.33927     4.94349\n",
       "2     7.38836     6.33927     4.94349     3.80996\n",
       "3     6.33927     4.94349     3.80996     3.44106\n",
       "4     4.94349     3.80996     3.44106     2.66773"
      ]
     },
     "execution_count": 4,
     "metadata": {},
     "output_type": "execute_result"
    }
   ],
   "source": [
    "target = df1[[\"ILI_lagwk1\", \"ILI_lagwk2\", \"ILI_lagwk3\", \"ILI_lagwk4\"]]\n",
    "target.head()"
   ]
  },
  {
   "cell_type": "code",
   "execution_count": 5,
   "metadata": {},
   "outputs": [
    {
     "data": {
      "text/html": [
       "<div>\n",
       "<style scoped>\n",
       "    .dataframe tbody tr th:only-of-type {\n",
       "        vertical-align: middle;\n",
       "    }\n",
       "\n",
       "    .dataframe tbody tr th {\n",
       "        vertical-align: top;\n",
       "    }\n",
       "\n",
       "    .dataframe thead th {\n",
       "        text-align: right;\n",
       "    }\n",
       "</style>\n",
       "<table border=\"1\" class=\"dataframe\">\n",
       "  <thead>\n",
       "    <tr style=\"text-align: right;\">\n",
       "      <th></th>\n",
       "      <th>a_influenza</th>\n",
       "      <th>acute_bronchitis</th>\n",
       "      <th>body_temperature</th>\n",
       "      <th>braun_thermoscan</th>\n",
       "      <th>break_a_fever</th>\n",
       "      <th>bronchitis</th>\n",
       "      <th>chest_cold</th>\n",
       "      <th>cold_and_flu</th>\n",
       "      <th>cold_or_flu</th>\n",
       "      <th>cold_versus_flu</th>\n",
       "      <th>...</th>\n",
       "      <th>walking_pneumonia</th>\n",
       "      <th>what_to_do_if_you_have_the_flu</th>\n",
       "      <th>Flu_Visit_Count</th>\n",
       "      <th>ILI_Visit_Count</th>\n",
       "      <th>Unspecified</th>\n",
       "      <th>CDC_Unweighted_ILI</th>\n",
       "      <th>ILI_lagwk1</th>\n",
       "      <th>ILI_lagwk2</th>\n",
       "      <th>ILI_lagwk3</th>\n",
       "      <th>ILI_lagwk4</th>\n",
       "    </tr>\n",
       "    <tr>\n",
       "      <th>Year</th>\n",
       "      <th></th>\n",
       "      <th></th>\n",
       "      <th></th>\n",
       "      <th></th>\n",
       "      <th></th>\n",
       "      <th></th>\n",
       "      <th></th>\n",
       "      <th></th>\n",
       "      <th></th>\n",
       "      <th></th>\n",
       "      <th></th>\n",
       "      <th></th>\n",
       "      <th></th>\n",
       "      <th></th>\n",
       "      <th></th>\n",
       "      <th></th>\n",
       "      <th></th>\n",
       "      <th></th>\n",
       "      <th></th>\n",
       "      <th></th>\n",
       "      <th></th>\n",
       "    </tr>\n",
       "  </thead>\n",
       "  <tbody>\n",
       "    <tr>\n",
       "      <th>2009</th>\n",
       "      <td>44</td>\n",
       "      <td>33</td>\n",
       "      <td>81</td>\n",
       "      <td>69</td>\n",
       "      <td>22</td>\n",
       "      <td>40</td>\n",
       "      <td>35</td>\n",
       "      <td>36</td>\n",
       "      <td>37</td>\n",
       "      <td>30</td>\n",
       "      <td>...</td>\n",
       "      <td>47</td>\n",
       "      <td>56</td>\n",
       "      <td>0.01338</td>\n",
       "      <td>0.01763</td>\n",
       "      <td>0.03074</td>\n",
       "      <td>5.66087</td>\n",
       "      <td>6.81522</td>\n",
       "      <td>7.61889</td>\n",
       "      <td>7.38836</td>\n",
       "      <td>6.33927</td>\n",
       "    </tr>\n",
       "    <tr>\n",
       "      <th>2009</th>\n",
       "      <td>51</td>\n",
       "      <td>51</td>\n",
       "      <td>77</td>\n",
       "      <td>46</td>\n",
       "      <td>24</td>\n",
       "      <td>43</td>\n",
       "      <td>35</td>\n",
       "      <td>43</td>\n",
       "      <td>49</td>\n",
       "      <td>41</td>\n",
       "      <td>...</td>\n",
       "      <td>53</td>\n",
       "      <td>58</td>\n",
       "      <td>0.01620</td>\n",
       "      <td>0.02103</td>\n",
       "      <td>0.03554</td>\n",
       "      <td>6.81522</td>\n",
       "      <td>7.61889</td>\n",
       "      <td>7.38836</td>\n",
       "      <td>6.33927</td>\n",
       "      <td>4.94349</td>\n",
       "    </tr>\n",
       "    <tr>\n",
       "      <th>2009</th>\n",
       "      <td>63</td>\n",
       "      <td>38</td>\n",
       "      <td>88</td>\n",
       "      <td>76</td>\n",
       "      <td>30</td>\n",
       "      <td>48</td>\n",
       "      <td>34</td>\n",
       "      <td>45</td>\n",
       "      <td>48</td>\n",
       "      <td>39</td>\n",
       "      <td>...</td>\n",
       "      <td>57</td>\n",
       "      <td>82</td>\n",
       "      <td>0.02078</td>\n",
       "      <td>0.02626</td>\n",
       "      <td>0.04458</td>\n",
       "      <td>7.61889</td>\n",
       "      <td>7.38836</td>\n",
       "      <td>6.33927</td>\n",
       "      <td>4.94349</td>\n",
       "      <td>3.80996</td>\n",
       "    </tr>\n",
       "    <tr>\n",
       "      <th>2009</th>\n",
       "      <td>70</td>\n",
       "      <td>51</td>\n",
       "      <td>100</td>\n",
       "      <td>88</td>\n",
       "      <td>29</td>\n",
       "      <td>54</td>\n",
       "      <td>39</td>\n",
       "      <td>55</td>\n",
       "      <td>57</td>\n",
       "      <td>86</td>\n",
       "      <td>...</td>\n",
       "      <td>64</td>\n",
       "      <td>54</td>\n",
       "      <td>0.02862</td>\n",
       "      <td>0.03500</td>\n",
       "      <td>0.05885</td>\n",
       "      <td>7.38836</td>\n",
       "      <td>6.33927</td>\n",
       "      <td>4.94349</td>\n",
       "      <td>3.80996</td>\n",
       "      <td>3.44106</td>\n",
       "    </tr>\n",
       "    <tr>\n",
       "      <th>2009</th>\n",
       "      <td>53</td>\n",
       "      <td>52</td>\n",
       "      <td>96</td>\n",
       "      <td>44</td>\n",
       "      <td>30</td>\n",
       "      <td>55</td>\n",
       "      <td>44</td>\n",
       "      <td>53</td>\n",
       "      <td>68</td>\n",
       "      <td>69</td>\n",
       "      <td>...</td>\n",
       "      <td>59</td>\n",
       "      <td>77</td>\n",
       "      <td>0.02927</td>\n",
       "      <td>0.03515</td>\n",
       "      <td>0.05945</td>\n",
       "      <td>6.33927</td>\n",
       "      <td>4.94349</td>\n",
       "      <td>3.80996</td>\n",
       "      <td>3.44106</td>\n",
       "      <td>2.66773</td>\n",
       "    </tr>\n",
       "  </tbody>\n",
       "</table>\n",
       "<p>5 rows × 137 columns</p>\n",
       "</div>"
      ],
      "text/plain": [
       "      a_influenza  acute_bronchitis  body_temperature  braun_thermoscan  \\\n",
       "Year                                                                      \n",
       "2009           44                33                81                69   \n",
       "2009           51                51                77                46   \n",
       "2009           63                38                88                76   \n",
       "2009           70                51               100                88   \n",
       "2009           53                52                96                44   \n",
       "\n",
       "      break_a_fever  bronchitis  chest_cold  cold_and_flu  cold_or_flu  \\\n",
       "Year                                                                     \n",
       "2009             22          40          35            36           37   \n",
       "2009             24          43          35            43           49   \n",
       "2009             30          48          34            45           48   \n",
       "2009             29          54          39            55           57   \n",
       "2009             30          55          44            53           68   \n",
       "\n",
       "      cold_versus_flu     ...      walking_pneumonia  \\\n",
       "Year                      ...                          \n",
       "2009               30     ...                     47   \n",
       "2009               41     ...                     53   \n",
       "2009               39     ...                     57   \n",
       "2009               86     ...                     64   \n",
       "2009               69     ...                     59   \n",
       "\n",
       "      what_to_do_if_you_have_the_flu  Flu_Visit_Count  ILI_Visit_Count  \\\n",
       "Year                                                                     \n",
       "2009                              56          0.01338          0.01763   \n",
       "2009                              58          0.01620          0.02103   \n",
       "2009                              82          0.02078          0.02626   \n",
       "2009                              54          0.02862          0.03500   \n",
       "2009                              77          0.02927          0.03515   \n",
       "\n",
       "      Unspecified  CDC_Unweighted_ILI  ILI_lagwk1  ILI_lagwk2  ILI_lagwk3  \\\n",
       "Year                                                                        \n",
       "2009      0.03074             5.66087     6.81522     7.61889     7.38836   \n",
       "2009      0.03554             6.81522     7.61889     7.38836     6.33927   \n",
       "2009      0.04458             7.61889     7.38836     6.33927     4.94349   \n",
       "2009      0.05885             7.38836     6.33927     4.94349     3.80996   \n",
       "2009      0.05945             6.33927     4.94349     3.80996     3.44106   \n",
       "\n",
       "      ILI_lagwk4  \n",
       "Year              \n",
       "2009     6.33927  \n",
       "2009     4.94349  \n",
       "2009     3.80996  \n",
       "2009     3.44106  \n",
       "2009     2.66773  \n",
       "\n",
       "[5 rows x 137 columns]"
      ]
     },
     "execution_count": 5,
     "metadata": {},
     "output_type": "execute_result"
    }
   ],
   "source": [
    "data = df1.drop([\"ILI_lagwk1\", \"ILI_lagwk2\", \"ILI_lagwk3\", \"ILI_lagwk4\"], axis=1)\n",
    "feature_names = data.columns\n",
    "data  = df1.set_index([\"Year\"])\n",
    "data.head()"
   ]
  },
  {
   "cell_type": "code",
   "execution_count": 6,
   "metadata": {},
   "outputs": [],
   "source": [
    "# independent variables\n",
    "# 3 independent variables from athena EHR \n",
    "# [(flu visit counts)/ (total patient visit counts) \n",
    "# (ILI visit counts)/ (total patient visit counts)\n",
    "# (unspecified viral or ILI visit counts)/ (total patient visit counts)]\n",
    "# CDC historical CDC_Unweighted_ILI values: collected from 2009 to 2016 (week 40 to 20)\n",
    "# 129 google search terms related to flu\n",
    "# 3 + 1 + 129\n",
    "X = data#.values \n",
    "# X)"
   ]
  },
  {
   "cell_type": "code",
   "execution_count": 7,
   "metadata": {},
   "outputs": [],
   "source": [
    "# dependent varables are \"ILI_lagwk1\", \"ILI_lagwk2\", \"ILI_lagwk3\", \"ILI_lagwk4\"\n",
    "y = target\n",
    "# y"
   ]
  },
  {
   "cell_type": "code",
   "execution_count": null,
   "metadata": {},
   "outputs": [],
   "source": []
  },
  {
   "cell_type": "code",
   "execution_count": 118,
   "metadata": {},
   "outputs": [],
   "source": [
    "target = df1[[\"1_week\", \"2_week\", \"3_week\"]]\n",
    "# target"
   ]
  },
  {
   "cell_type": "code",
   "execution_count": 119,
   "metadata": {},
   "outputs": [
    {
     "data": {
      "text/html": [
       "<div>\n",
       "<style scoped>\n",
       "    .dataframe tbody tr th:only-of-type {\n",
       "        vertical-align: middle;\n",
       "    }\n",
       "\n",
       "    .dataframe tbody tr th {\n",
       "        vertical-align: top;\n",
       "    }\n",
       "\n",
       "    .dataframe thead th {\n",
       "        text-align: right;\n",
       "    }\n",
       "</style>\n",
       "<table border=\"1\" class=\"dataframe\">\n",
       "  <thead>\n",
       "    <tr style=\"text-align: right;\">\n",
       "      <th></th>\n",
       "      <th>a_influenza</th>\n",
       "      <th>acute_bronchitis</th>\n",
       "      <th>body_temperature</th>\n",
       "      <th>braun_thermoscan</th>\n",
       "      <th>break_a_fever</th>\n",
       "      <th>bronchitis</th>\n",
       "      <th>chest_cold</th>\n",
       "      <th>cold_and_flu</th>\n",
       "      <th>cold_or_flu</th>\n",
       "      <th>cold_versus_flu</th>\n",
       "      <th>...</th>\n",
       "      <th>tussin</th>\n",
       "      <th>tussionex</th>\n",
       "      <th>type_a_influenza</th>\n",
       "      <th>upper_respiratory</th>\n",
       "      <th>walking_pneumonia</th>\n",
       "      <th>what_to_do_if_you_have_the_flu</th>\n",
       "      <th>Flu_Visit_Count</th>\n",
       "      <th>ILI_Visit_Count</th>\n",
       "      <th>Unspecified</th>\n",
       "      <th>ILI_Total</th>\n",
       "    </tr>\n",
       "    <tr>\n",
       "      <th>year</th>\n",
       "      <th></th>\n",
       "      <th></th>\n",
       "      <th></th>\n",
       "      <th></th>\n",
       "      <th></th>\n",
       "      <th></th>\n",
       "      <th></th>\n",
       "      <th></th>\n",
       "      <th></th>\n",
       "      <th></th>\n",
       "      <th></th>\n",
       "      <th></th>\n",
       "      <th></th>\n",
       "      <th></th>\n",
       "      <th></th>\n",
       "      <th></th>\n",
       "      <th></th>\n",
       "      <th></th>\n",
       "      <th></th>\n",
       "      <th></th>\n",
       "      <th></th>\n",
       "    </tr>\n",
       "  </thead>\n",
       "  <tbody>\n",
       "    <tr>\n",
       "      <th>2009</th>\n",
       "      <td>36</td>\n",
       "      <td>20</td>\n",
       "      <td>43</td>\n",
       "      <td>27</td>\n",
       "      <td>11</td>\n",
       "      <td>22</td>\n",
       "      <td>16</td>\n",
       "      <td>7</td>\n",
       "      <td>3</td>\n",
       "      <td>8</td>\n",
       "      <td>...</td>\n",
       "      <td>25</td>\n",
       "      <td>34</td>\n",
       "      <td>30</td>\n",
       "      <td>25</td>\n",
       "      <td>24</td>\n",
       "      <td>15</td>\n",
       "      <td>0.00180</td>\n",
       "      <td>0.00455</td>\n",
       "      <td>0.01129</td>\n",
       "      <td>6290</td>\n",
       "    </tr>\n",
       "    <tr>\n",
       "      <th>2009</th>\n",
       "      <td>25</td>\n",
       "      <td>19</td>\n",
       "      <td>40</td>\n",
       "      <td>31</td>\n",
       "      <td>10</td>\n",
       "      <td>21</td>\n",
       "      <td>11</td>\n",
       "      <td>6</td>\n",
       "      <td>8</td>\n",
       "      <td>8</td>\n",
       "      <td>...</td>\n",
       "      <td>27</td>\n",
       "      <td>32</td>\n",
       "      <td>27</td>\n",
       "      <td>28</td>\n",
       "      <td>29</td>\n",
       "      <td>9</td>\n",
       "      <td>0.00115</td>\n",
       "      <td>0.00358</td>\n",
       "      <td>0.01017</td>\n",
       "      <td>5964</td>\n",
       "    </tr>\n",
       "    <tr>\n",
       "      <th>2009</th>\n",
       "      <td>24</td>\n",
       "      <td>30</td>\n",
       "      <td>45</td>\n",
       "      <td>20</td>\n",
       "      <td>12</td>\n",
       "      <td>20</td>\n",
       "      <td>20</td>\n",
       "      <td>6</td>\n",
       "      <td>6</td>\n",
       "      <td>8</td>\n",
       "      <td>...</td>\n",
       "      <td>24</td>\n",
       "      <td>28</td>\n",
       "      <td>25</td>\n",
       "      <td>25</td>\n",
       "      <td>25</td>\n",
       "      <td>9</td>\n",
       "      <td>0.00132</td>\n",
       "      <td>0.00376</td>\n",
       "      <td>0.00984</td>\n",
       "      <td>5735</td>\n",
       "    </tr>\n",
       "    <tr>\n",
       "      <th>2009</th>\n",
       "      <td>23</td>\n",
       "      <td>19</td>\n",
       "      <td>40</td>\n",
       "      <td>15</td>\n",
       "      <td>10</td>\n",
       "      <td>19</td>\n",
       "      <td>12</td>\n",
       "      <td>7</td>\n",
       "      <td>10</td>\n",
       "      <td>15</td>\n",
       "      <td>...</td>\n",
       "      <td>21</td>\n",
       "      <td>26</td>\n",
       "      <td>26</td>\n",
       "      <td>29</td>\n",
       "      <td>24</td>\n",
       "      <td>13</td>\n",
       "      <td>0.00109</td>\n",
       "      <td>0.00307</td>\n",
       "      <td>0.00891</td>\n",
       "      <td>5587</td>\n",
       "    </tr>\n",
       "    <tr>\n",
       "      <th>2009</th>\n",
       "      <td>27</td>\n",
       "      <td>21</td>\n",
       "      <td>44</td>\n",
       "      <td>20</td>\n",
       "      <td>11</td>\n",
       "      <td>19</td>\n",
       "      <td>17</td>\n",
       "      <td>8</td>\n",
       "      <td>10</td>\n",
       "      <td>15</td>\n",
       "      <td>...</td>\n",
       "      <td>33</td>\n",
       "      <td>29</td>\n",
       "      <td>21</td>\n",
       "      <td>27</td>\n",
       "      <td>30</td>\n",
       "      <td>9</td>\n",
       "      <td>0.00121</td>\n",
       "      <td>0.00332</td>\n",
       "      <td>0.00877</td>\n",
       "      <td>5526</td>\n",
       "    </tr>\n",
       "  </tbody>\n",
       "</table>\n",
       "<p>5 rows × 133 columns</p>\n",
       "</div>"
      ],
      "text/plain": [
       "      a_influenza  acute_bronchitis  body_temperature  braun_thermoscan  \\\n",
       "year                                                                      \n",
       "2009           36                20                43                27   \n",
       "2009           25                19                40                31   \n",
       "2009           24                30                45                20   \n",
       "2009           23                19                40                15   \n",
       "2009           27                21                44                20   \n",
       "\n",
       "      break_a_fever  bronchitis  chest_cold  cold_and_flu  cold_or_flu  \\\n",
       "year                                                                     \n",
       "2009             11          22          16             7            3   \n",
       "2009             10          21          11             6            8   \n",
       "2009             12          20          20             6            6   \n",
       "2009             10          19          12             7           10   \n",
       "2009             11          19          17             8           10   \n",
       "\n",
       "      cold_versus_flu    ...      tussin  tussionex  type_a_influenza  \\\n",
       "year                     ...                                            \n",
       "2009                8    ...          25         34                30   \n",
       "2009                8    ...          27         32                27   \n",
       "2009                8    ...          24         28                25   \n",
       "2009               15    ...          21         26                26   \n",
       "2009               15    ...          33         29                21   \n",
       "\n",
       "      upper_respiratory  walking_pneumonia  what_to_do_if_you_have_the_flu  \\\n",
       "year                                                                         \n",
       "2009                 25                 24                              15   \n",
       "2009                 28                 29                               9   \n",
       "2009                 25                 25                               9   \n",
       "2009                 29                 24                              13   \n",
       "2009                 27                 30                               9   \n",
       "\n",
       "      Flu_Visit_Count  ILI_Visit_Count  Unspecified  ILI_Total  \n",
       "year                                                            \n",
       "2009          0.00180          0.00455      0.01129       6290  \n",
       "2009          0.00115          0.00358      0.01017       5964  \n",
       "2009          0.00132          0.00376      0.00984       5735  \n",
       "2009          0.00109          0.00307      0.00891       5587  \n",
       "2009          0.00121          0.00332      0.00877       5526  \n",
       "\n",
       "[5 rows x 133 columns]"
      ]
     },
     "execution_count": 119,
     "metadata": {},
     "output_type": "execute_result"
    }
   ],
   "source": [
    "data = df1.drop([\"1_week\", \"2_week\", \"3_week\"], axis=1)\n",
    "feature_names = data.columns\n",
    "data.head()"
   ]
  },
  {
   "cell_type": "code",
   "execution_count": 120,
   "metadata": {},
   "outputs": [],
   "source": [
    "X = data.values"
   ]
  },
  {
   "cell_type": "code",
   "execution_count": 121,
   "metadata": {},
   "outputs": [],
   "source": [
    "y = target"
   ]
  },
  {
   "cell_type": "code",
   "execution_count": 122,
   "metadata": {},
   "outputs": [
    {
     "data": {
      "text/plain": [
       "((361, 133), (361, 3))"
      ]
     },
     "execution_count": 122,
     "metadata": {},
     "output_type": "execute_result"
    }
   ],
   "source": [
    "X.shape, y.shape"
   ]
  },
  {
   "cell_type": "code",
   "execution_count": 123,
   "metadata": {},
   "outputs": [],
   "source": [
    "X_train, X_test, y_train, y_test = train_test_split(X, y, test_size = 0.25, random_state = 25) "
   ]
  },
  {
   "cell_type": "code",
   "execution_count": null,
   "metadata": {},
   "outputs": [],
   "source": []
  },
  {
   "cell_type": "code",
   "execution_count": 124,
   "metadata": {},
   "outputs": [],
   "source": [
    "mlr = MLPRegressor(activation= 'logistic', solver= 'lbfgs', alpha=0.0001,  random_state= 1) "
   ]
  },
  {
   "cell_type": "code",
   "execution_count": 125,
   "metadata": {},
   "outputs": [
    {
     "data": {
      "text/plain": [
       "MLPRegressor(activation='logistic', alpha=0.0001, batch_size='auto',\n",
       "       beta_1=0.9, beta_2=0.999, early_stopping=False, epsilon=1e-08,\n",
       "       hidden_layer_sizes=(100,), learning_rate='constant',\n",
       "       learning_rate_init=0.001, max_iter=200, momentum=0.9,\n",
       "       n_iter_no_change=10, nesterovs_momentum=True, power_t=0.5,\n",
       "       random_state=1, shuffle=True, solver='lbfgs', tol=0.0001,\n",
       "       validation_fraction=0.1, verbose=False, warm_start=False)"
      ]
     },
     "execution_count": 125,
     "metadata": {},
     "output_type": "execute_result"
    }
   ],
   "source": [
    "mlr.fit(X_train, y_train)"
   ]
  },
  {
   "cell_type": "code",
   "execution_count": 126,
   "metadata": {},
   "outputs": [],
   "source": [
    "# predict the values of y\n",
    "y_pred = mlr.predict(X_test)"
   ]
  },
  {
   "cell_type": "code",
   "execution_count": 127,
   "metadata": {},
   "outputs": [],
   "source": [
    "from sklearn.metrics import mean_squared_error, mean_absolute_error"
   ]
  },
  {
   "cell_type": "code",
   "execution_count": 128,
   "metadata": {},
   "outputs": [
    {
     "data": {
      "text/plain": [
       "81494883.62491854"
      ]
     },
     "execution_count": 128,
     "metadata": {},
     "output_type": "execute_result"
    }
   ],
   "source": [
    "mean_squared_error(y_test, y_pred)"
   ]
  },
  {
   "cell_type": "code",
   "execution_count": 129,
   "metadata": {},
   "outputs": [
    {
     "data": {
      "text/plain": [
       "6411.23072638842"
      ]
     },
     "execution_count": 129,
     "metadata": {},
     "output_type": "execute_result"
    }
   ],
   "source": [
    "mean_absolute_error(y_test, y_pred)"
   ]
  },
  {
   "cell_type": "code",
   "execution_count": 130,
   "metadata": {},
   "outputs": [],
   "source": [
    "from sklearn.metrics import r2_score"
   ]
  },
  {
   "cell_type": "code",
   "execution_count": 131,
   "metadata": {},
   "outputs": [
    {
     "data": {
      "text/plain": [
       "0.0035693056227725783"
      ]
     },
     "execution_count": 131,
     "metadata": {},
     "output_type": "execute_result"
    }
   ],
   "source": [
    "r2_score(y_test, y_pred)"
   ]
  },
  {
   "cell_type": "code",
   "execution_count": 132,
   "metadata": {},
   "outputs": [
    {
     "name": "stdout",
     "output_type": "stream",
     "text": [
      "R-squared for Train: 0.00\n",
      "R-squared for Test: 0.00\n"
     ]
    }
   ],
   "source": [
    "print(\"R-squared for Train: %.2f\" %mlr.score(X_train, y_train)) \n",
    "print(\"R-squared for Test: %.2f\" %mlr.score(X_test, y_test)) "
   ]
  },
  {
   "cell_type": "markdown",
   "metadata": {},
   "source": [
    "# modify hidden layer"
   ]
  },
  {
   "cell_type": "code",
   "execution_count": 133,
   "metadata": {},
   "outputs": [],
   "source": [
    "hlmlr = MLPRegressor(hidden_layer_sizes=(100, ), max_iter = 200) "
   ]
  },
  {
   "cell_type": "code",
   "execution_count": 134,
   "metadata": {},
   "outputs": [
    {
     "name": "stderr",
     "output_type": "stream",
     "text": [
      "C:\\Users\\emame\\Anaconda3\\lib\\site-packages\\sklearn\\neural_network\\multilayer_perceptron.py:562: ConvergenceWarning: Stochastic Optimizer: Maximum iterations (200) reached and the optimization hasn't converged yet.\n",
      "  % self.max_iter, ConvergenceWarning)\n"
     ]
    },
    {
     "data": {
      "text/plain": [
       "MLPRegressor(activation='relu', alpha=0.0001, batch_size='auto', beta_1=0.9,\n",
       "       beta_2=0.999, early_stopping=False, epsilon=1e-08,\n",
       "       hidden_layer_sizes=(100,), learning_rate='constant',\n",
       "       learning_rate_init=0.001, max_iter=200, momentum=0.9,\n",
       "       n_iter_no_change=10, nesterovs_momentum=True, power_t=0.5,\n",
       "       random_state=None, shuffle=True, solver='adam', tol=0.0001,\n",
       "       validation_fraction=0.1, verbose=False, warm_start=False)"
      ]
     },
     "execution_count": 134,
     "metadata": {},
     "output_type": "execute_result"
    }
   ],
   "source": [
    "hlmlr.fit(X_train, y_train)"
   ]
  },
  {
   "cell_type": "code",
   "execution_count": 135,
   "metadata": {},
   "outputs": [],
   "source": [
    "y_pred = hlmlr.predict(X_test)"
   ]
  },
  {
   "cell_type": "code",
   "execution_count": 136,
   "metadata": {},
   "outputs": [
    {
     "data": {
      "text/plain": [
       "26064543.40516181"
      ]
     },
     "execution_count": 136,
     "metadata": {},
     "output_type": "execute_result"
    }
   ],
   "source": [
    "mean_squared_error(y_test, y_pred)"
   ]
  },
  {
   "cell_type": "code",
   "execution_count": 137,
   "metadata": {},
   "outputs": [
    {
     "data": {
      "text/plain": [
       "2619.474445633701"
      ]
     },
     "execution_count": 137,
     "metadata": {},
     "output_type": "execute_result"
    }
   ],
   "source": [
    "mean_absolute_error(y_test, y_pred)"
   ]
  },
  {
   "cell_type": "code",
   "execution_count": 138,
   "metadata": {},
   "outputs": [
    {
     "data": {
      "text/plain": [
       "0.6903139048469432"
      ]
     },
     "execution_count": 138,
     "metadata": {},
     "output_type": "execute_result"
    }
   ],
   "source": [
    "r2_score(y_test, y_pred)"
   ]
  },
  {
   "cell_type": "code",
   "execution_count": 139,
   "metadata": {},
   "outputs": [
    {
     "name": "stdout",
     "output_type": "stream",
     "text": [
      "R-squared for Train: 0.81\n",
      "R-squared for Test: 0.68\n"
     ]
    }
   ],
   "source": [
    "print(\"R-squared for Train: %.2f\" %hlmlr.score(X_train, y_train)) \n",
    "print(\"R-squared for Test: %.2f\" %hlmlr.score(X_test, y_test)) "
   ]
  },
  {
   "cell_type": "code",
   "execution_count": null,
   "metadata": {},
   "outputs": [],
   "source": []
  },
  {
   "cell_type": "code",
   "execution_count": null,
   "metadata": {},
   "outputs": [],
   "source": []
  }
 ],
 "metadata": {
  "kernelspec": {
   "display_name": "Python 3",
   "language": "python",
   "name": "python3"
  },
  "language_info": {
   "codemirror_mode": {
    "name": "ipython",
    "version": 3
   },
   "file_extension": ".py",
   "mimetype": "text/x-python",
   "name": "python",
   "nbconvert_exporter": "python",
   "pygments_lexer": "ipython3",
   "version": "3.7.1"
  }
 },
 "nbformat": 4,
 "nbformat_minor": 2
}
