{
 "cells": [
  {
   "cell_type": "code",
   "execution_count": 1,
   "metadata": {},
   "outputs": [],
   "source": [
    "%matplotlib inline\n",
    "\n",
    "import pandas as pd\n",
    "import numpy as np\n",
    "\n",
    "import matplotlib.pyplot as plt"
   ]
  },
  {
   "cell_type": "code",
   "execution_count": 2,
   "metadata": {},
   "outputs": [],
   "source": [
    "from sklearn.model_selection import train_test_split\n",
    "\n",
    "from sklearn.ensemble import RandomForestRegressor\n",
    "\n",
    "import seaborn as sns\n",
    "np.random.seed(0)"
   ]
  },
  {
   "cell_type": "code",
   "execution_count": 3,
   "metadata": {},
   "outputs": [
    {
     "data": {
      "text/html": [
       "<div>\n",
       "<style scoped>\n",
       "    .dataframe tbody tr th:only-of-type {\n",
       "        vertical-align: middle;\n",
       "    }\n",
       "\n",
       "    .dataframe tbody tr th {\n",
       "        vertical-align: top;\n",
       "    }\n",
       "\n",
       "    .dataframe thead th {\n",
       "        text-align: right;\n",
       "    }\n",
       "</style>\n",
       "<table border=\"1\" class=\"dataframe\">\n",
       "  <thead>\n",
       "    <tr style=\"text-align: right;\">\n",
       "      <th></th>\n",
       "      <th>Year</th>\n",
       "      <th>week</th>\n",
       "      <th>a_influenza</th>\n",
       "      <th>acute_bronchitis</th>\n",
       "      <th>body_temperature</th>\n",
       "      <th>braun_thermoscan</th>\n",
       "      <th>break_a_fever</th>\n",
       "      <th>bronchitis</th>\n",
       "      <th>chest_cold</th>\n",
       "      <th>cold_and_flu</th>\n",
       "      <th>...</th>\n",
       "      <th>walking_pneumonia</th>\n",
       "      <th>what_to_do_if_you_have_the_flu</th>\n",
       "      <th>Flu_Visit_Count</th>\n",
       "      <th>ILI_Visit_Count</th>\n",
       "      <th>Unspecified</th>\n",
       "      <th>CDC_Unweighted_ILI</th>\n",
       "      <th>ILI_lagwk1</th>\n",
       "      <th>ILI_lagwk2</th>\n",
       "      <th>ILI_lagwk3</th>\n",
       "      <th>ILI_lagwk4</th>\n",
       "    </tr>\n",
       "  </thead>\n",
       "  <tbody>\n",
       "    <tr>\n",
       "      <th>0</th>\n",
       "      <td>2009</td>\n",
       "      <td>40</td>\n",
       "      <td>44</td>\n",
       "      <td>33</td>\n",
       "      <td>81</td>\n",
       "      <td>69</td>\n",
       "      <td>22</td>\n",
       "      <td>40</td>\n",
       "      <td>35</td>\n",
       "      <td>36</td>\n",
       "      <td>...</td>\n",
       "      <td>47</td>\n",
       "      <td>56</td>\n",
       "      <td>0.01338</td>\n",
       "      <td>0.01763</td>\n",
       "      <td>0.03074</td>\n",
       "      <td>5.66087</td>\n",
       "      <td>6.81522</td>\n",
       "      <td>7.61889</td>\n",
       "      <td>7.38836</td>\n",
       "      <td>6.33927</td>\n",
       "    </tr>\n",
       "    <tr>\n",
       "      <th>1</th>\n",
       "      <td>2009</td>\n",
       "      <td>41</td>\n",
       "      <td>51</td>\n",
       "      <td>51</td>\n",
       "      <td>77</td>\n",
       "      <td>46</td>\n",
       "      <td>24</td>\n",
       "      <td>43</td>\n",
       "      <td>35</td>\n",
       "      <td>43</td>\n",
       "      <td>...</td>\n",
       "      <td>53</td>\n",
       "      <td>58</td>\n",
       "      <td>0.01620</td>\n",
       "      <td>0.02103</td>\n",
       "      <td>0.03554</td>\n",
       "      <td>6.81522</td>\n",
       "      <td>7.61889</td>\n",
       "      <td>7.38836</td>\n",
       "      <td>6.33927</td>\n",
       "      <td>4.94349</td>\n",
       "    </tr>\n",
       "    <tr>\n",
       "      <th>2</th>\n",
       "      <td>2009</td>\n",
       "      <td>42</td>\n",
       "      <td>63</td>\n",
       "      <td>38</td>\n",
       "      <td>88</td>\n",
       "      <td>76</td>\n",
       "      <td>30</td>\n",
       "      <td>48</td>\n",
       "      <td>34</td>\n",
       "      <td>45</td>\n",
       "      <td>...</td>\n",
       "      <td>57</td>\n",
       "      <td>82</td>\n",
       "      <td>0.02078</td>\n",
       "      <td>0.02626</td>\n",
       "      <td>0.04458</td>\n",
       "      <td>7.61889</td>\n",
       "      <td>7.38836</td>\n",
       "      <td>6.33927</td>\n",
       "      <td>4.94349</td>\n",
       "      <td>3.80996</td>\n",
       "    </tr>\n",
       "    <tr>\n",
       "      <th>3</th>\n",
       "      <td>2009</td>\n",
       "      <td>43</td>\n",
       "      <td>70</td>\n",
       "      <td>51</td>\n",
       "      <td>100</td>\n",
       "      <td>88</td>\n",
       "      <td>29</td>\n",
       "      <td>54</td>\n",
       "      <td>39</td>\n",
       "      <td>55</td>\n",
       "      <td>...</td>\n",
       "      <td>64</td>\n",
       "      <td>54</td>\n",
       "      <td>0.02862</td>\n",
       "      <td>0.03500</td>\n",
       "      <td>0.05885</td>\n",
       "      <td>7.38836</td>\n",
       "      <td>6.33927</td>\n",
       "      <td>4.94349</td>\n",
       "      <td>3.80996</td>\n",
       "      <td>3.44106</td>\n",
       "    </tr>\n",
       "    <tr>\n",
       "      <th>4</th>\n",
       "      <td>2009</td>\n",
       "      <td>44</td>\n",
       "      <td>53</td>\n",
       "      <td>52</td>\n",
       "      <td>96</td>\n",
       "      <td>44</td>\n",
       "      <td>30</td>\n",
       "      <td>55</td>\n",
       "      <td>44</td>\n",
       "      <td>53</td>\n",
       "      <td>...</td>\n",
       "      <td>59</td>\n",
       "      <td>77</td>\n",
       "      <td>0.02927</td>\n",
       "      <td>0.03515</td>\n",
       "      <td>0.05945</td>\n",
       "      <td>6.33927</td>\n",
       "      <td>4.94349</td>\n",
       "      <td>3.80996</td>\n",
       "      <td>3.44106</td>\n",
       "      <td>2.66773</td>\n",
       "    </tr>\n",
       "  </tbody>\n",
       "</table>\n",
       "<p>5 rows × 139 columns</p>\n",
       "</div>"
      ],
      "text/plain": [
       "   Year  week  a_influenza  acute_bronchitis  body_temperature  \\\n",
       "0  2009    40           44                33                81   \n",
       "1  2009    41           51                51                77   \n",
       "2  2009    42           63                38                88   \n",
       "3  2009    43           70                51               100   \n",
       "4  2009    44           53                52                96   \n",
       "\n",
       "   braun_thermoscan  break_a_fever  bronchitis  chest_cold  cold_and_flu  \\\n",
       "0                69             22          40          35            36   \n",
       "1                46             24          43          35            43   \n",
       "2                76             30          48          34            45   \n",
       "3                88             29          54          39            55   \n",
       "4                44             30          55          44            53   \n",
       "\n",
       "      ...      walking_pneumonia  what_to_do_if_you_have_the_flu  \\\n",
       "0     ...                     47                              56   \n",
       "1     ...                     53                              58   \n",
       "2     ...                     57                              82   \n",
       "3     ...                     64                              54   \n",
       "4     ...                     59                              77   \n",
       "\n",
       "   Flu_Visit_Count  ILI_Visit_Count  Unspecified  CDC_Unweighted_ILI  \\\n",
       "0          0.01338          0.01763      0.03074             5.66087   \n",
       "1          0.01620          0.02103      0.03554             6.81522   \n",
       "2          0.02078          0.02626      0.04458             7.61889   \n",
       "3          0.02862          0.03500      0.05885             7.38836   \n",
       "4          0.02927          0.03515      0.05945             6.33927   \n",
       "\n",
       "   ILI_lagwk1  ILI_lagwk2  ILI_lagwk3  ILI_lagwk4  \n",
       "0     6.81522     7.61889     7.38836     6.33927  \n",
       "1     7.61889     7.38836     6.33927     4.94349  \n",
       "2     7.38836     6.33927     4.94349     3.80996  \n",
       "3     6.33927     4.94349     3.80996     3.44106  \n",
       "4     4.94349     3.80996     3.44106     2.66773  \n",
       "\n",
       "[5 rows x 139 columns]"
      ]
     },
     "execution_count": 3,
     "metadata": {},
     "output_type": "execute_result"
    }
   ],
   "source": [
    "df1 = pd.read_csv(\"ML_model_wk40_to_20.csv\")\n",
    "df1.dropna(how='any', inplace=True)\n",
    "del df1['ILI_weeks']\n",
    "del df1['Unnamed: 0']\n",
    "#del df1['week']\n",
    "df1.head()"
   ]
  },
  {
   "cell_type": "code",
   "execution_count": 4,
   "metadata": {},
   "outputs": [],
   "source": [
    "def combine_year_week(row):\n",
    "    return int(row[\"Year\"]) * 100 + int(row[\"week\"])"
   ]
  },
  {
   "cell_type": "code",
   "execution_count": 5,
   "metadata": {},
   "outputs": [],
   "source": [
    "df1[\"YearWeek\"] = df1.apply(combine_year_week, axis=1)"
   ]
  },
  {
   "cell_type": "code",
   "execution_count": 6,
   "metadata": {},
   "outputs": [
    {
     "data": {
      "text/html": [
       "<div>\n",
       "<style scoped>\n",
       "    .dataframe tbody tr th:only-of-type {\n",
       "        vertical-align: middle;\n",
       "    }\n",
       "\n",
       "    .dataframe tbody tr th {\n",
       "        vertical-align: top;\n",
       "    }\n",
       "\n",
       "    .dataframe thead th {\n",
       "        text-align: right;\n",
       "    }\n",
       "</style>\n",
       "<table border=\"1\" class=\"dataframe\">\n",
       "  <thead>\n",
       "    <tr style=\"text-align: right;\">\n",
       "      <th></th>\n",
       "      <th>Year</th>\n",
       "      <th>week</th>\n",
       "      <th>a_influenza</th>\n",
       "      <th>acute_bronchitis</th>\n",
       "      <th>body_temperature</th>\n",
       "      <th>braun_thermoscan</th>\n",
       "      <th>break_a_fever</th>\n",
       "      <th>bronchitis</th>\n",
       "      <th>chest_cold</th>\n",
       "      <th>cold_and_flu</th>\n",
       "      <th>...</th>\n",
       "      <th>what_to_do_if_you_have_the_flu</th>\n",
       "      <th>Flu_Visit_Count</th>\n",
       "      <th>ILI_Visit_Count</th>\n",
       "      <th>Unspecified</th>\n",
       "      <th>CDC_Unweighted_ILI</th>\n",
       "      <th>ILI_lagwk1</th>\n",
       "      <th>ILI_lagwk2</th>\n",
       "      <th>ILI_lagwk3</th>\n",
       "      <th>ILI_lagwk4</th>\n",
       "      <th>YearWeek</th>\n",
       "    </tr>\n",
       "  </thead>\n",
       "  <tbody>\n",
       "    <tr>\n",
       "      <th>0</th>\n",
       "      <td>2009</td>\n",
       "      <td>40</td>\n",
       "      <td>44</td>\n",
       "      <td>33</td>\n",
       "      <td>81</td>\n",
       "      <td>69</td>\n",
       "      <td>22</td>\n",
       "      <td>40</td>\n",
       "      <td>35</td>\n",
       "      <td>36</td>\n",
       "      <td>...</td>\n",
       "      <td>56</td>\n",
       "      <td>0.01338</td>\n",
       "      <td>0.01763</td>\n",
       "      <td>0.03074</td>\n",
       "      <td>5.66087</td>\n",
       "      <td>6.81522</td>\n",
       "      <td>7.61889</td>\n",
       "      <td>7.38836</td>\n",
       "      <td>6.33927</td>\n",
       "      <td>200940</td>\n",
       "    </tr>\n",
       "    <tr>\n",
       "      <th>1</th>\n",
       "      <td>2009</td>\n",
       "      <td>41</td>\n",
       "      <td>51</td>\n",
       "      <td>51</td>\n",
       "      <td>77</td>\n",
       "      <td>46</td>\n",
       "      <td>24</td>\n",
       "      <td>43</td>\n",
       "      <td>35</td>\n",
       "      <td>43</td>\n",
       "      <td>...</td>\n",
       "      <td>58</td>\n",
       "      <td>0.01620</td>\n",
       "      <td>0.02103</td>\n",
       "      <td>0.03554</td>\n",
       "      <td>6.81522</td>\n",
       "      <td>7.61889</td>\n",
       "      <td>7.38836</td>\n",
       "      <td>6.33927</td>\n",
       "      <td>4.94349</td>\n",
       "      <td>200941</td>\n",
       "    </tr>\n",
       "    <tr>\n",
       "      <th>2</th>\n",
       "      <td>2009</td>\n",
       "      <td>42</td>\n",
       "      <td>63</td>\n",
       "      <td>38</td>\n",
       "      <td>88</td>\n",
       "      <td>76</td>\n",
       "      <td>30</td>\n",
       "      <td>48</td>\n",
       "      <td>34</td>\n",
       "      <td>45</td>\n",
       "      <td>...</td>\n",
       "      <td>82</td>\n",
       "      <td>0.02078</td>\n",
       "      <td>0.02626</td>\n",
       "      <td>0.04458</td>\n",
       "      <td>7.61889</td>\n",
       "      <td>7.38836</td>\n",
       "      <td>6.33927</td>\n",
       "      <td>4.94349</td>\n",
       "      <td>3.80996</td>\n",
       "      <td>200942</td>\n",
       "    </tr>\n",
       "    <tr>\n",
       "      <th>3</th>\n",
       "      <td>2009</td>\n",
       "      <td>43</td>\n",
       "      <td>70</td>\n",
       "      <td>51</td>\n",
       "      <td>100</td>\n",
       "      <td>88</td>\n",
       "      <td>29</td>\n",
       "      <td>54</td>\n",
       "      <td>39</td>\n",
       "      <td>55</td>\n",
       "      <td>...</td>\n",
       "      <td>54</td>\n",
       "      <td>0.02862</td>\n",
       "      <td>0.03500</td>\n",
       "      <td>0.05885</td>\n",
       "      <td>7.38836</td>\n",
       "      <td>6.33927</td>\n",
       "      <td>4.94349</td>\n",
       "      <td>3.80996</td>\n",
       "      <td>3.44106</td>\n",
       "      <td>200943</td>\n",
       "    </tr>\n",
       "    <tr>\n",
       "      <th>4</th>\n",
       "      <td>2009</td>\n",
       "      <td>44</td>\n",
       "      <td>53</td>\n",
       "      <td>52</td>\n",
       "      <td>96</td>\n",
       "      <td>44</td>\n",
       "      <td>30</td>\n",
       "      <td>55</td>\n",
       "      <td>44</td>\n",
       "      <td>53</td>\n",
       "      <td>...</td>\n",
       "      <td>77</td>\n",
       "      <td>0.02927</td>\n",
       "      <td>0.03515</td>\n",
       "      <td>0.05945</td>\n",
       "      <td>6.33927</td>\n",
       "      <td>4.94349</td>\n",
       "      <td>3.80996</td>\n",
       "      <td>3.44106</td>\n",
       "      <td>2.66773</td>\n",
       "      <td>200944</td>\n",
       "    </tr>\n",
       "  </tbody>\n",
       "</table>\n",
       "<p>5 rows × 140 columns</p>\n",
       "</div>"
      ],
      "text/plain": [
       "   Year  week  a_influenza  acute_bronchitis  body_temperature  \\\n",
       "0  2009    40           44                33                81   \n",
       "1  2009    41           51                51                77   \n",
       "2  2009    42           63                38                88   \n",
       "3  2009    43           70                51               100   \n",
       "4  2009    44           53                52                96   \n",
       "\n",
       "   braun_thermoscan  break_a_fever  bronchitis  chest_cold  cold_and_flu  \\\n",
       "0                69             22          40          35            36   \n",
       "1                46             24          43          35            43   \n",
       "2                76             30          48          34            45   \n",
       "3                88             29          54          39            55   \n",
       "4                44             30          55          44            53   \n",
       "\n",
       "     ...     what_to_do_if_you_have_the_flu  Flu_Visit_Count  ILI_Visit_Count  \\\n",
       "0    ...                                 56          0.01338          0.01763   \n",
       "1    ...                                 58          0.01620          0.02103   \n",
       "2    ...                                 82          0.02078          0.02626   \n",
       "3    ...                                 54          0.02862          0.03500   \n",
       "4    ...                                 77          0.02927          0.03515   \n",
       "\n",
       "   Unspecified  CDC_Unweighted_ILI  ILI_lagwk1  ILI_lagwk2  ILI_lagwk3  \\\n",
       "0      0.03074             5.66087     6.81522     7.61889     7.38836   \n",
       "1      0.03554             6.81522     7.61889     7.38836     6.33927   \n",
       "2      0.04458             7.61889     7.38836     6.33927     4.94349   \n",
       "3      0.05885             7.38836     6.33927     4.94349     3.80996   \n",
       "4      0.05945             6.33927     4.94349     3.80996     3.44106   \n",
       "\n",
       "   ILI_lagwk4  YearWeek  \n",
       "0     6.33927    200940  \n",
       "1     4.94349    200941  \n",
       "2     3.80996    200942  \n",
       "3     3.44106    200943  \n",
       "4     2.66773    200944  \n",
       "\n",
       "[5 rows x 140 columns]"
      ]
     },
     "execution_count": 6,
     "metadata": {},
     "output_type": "execute_result"
    }
   ],
   "source": [
    "df1.head()"
   ]
  },
  {
   "cell_type": "code",
   "execution_count": 8,
   "metadata": {},
   "outputs": [],
   "source": [
    "df1.index = df1[\"YearWeek\"]\n",
    "df_ili_wklag1 = df1.drop([\"Year\", \"week\", \"YearWeek\", \"ILI_lagwk2\", \"ILI_lagwk3\", \"ILI_lagwk4\"], axis=1)\n"
   ]
  },
  {
   "cell_type": "code",
   "execution_count": 10,
   "metadata": {},
   "outputs": [
    {
     "data": {
      "text/html": [
       "<div>\n",
       "<style scoped>\n",
       "    .dataframe tbody tr th:only-of-type {\n",
       "        vertical-align: middle;\n",
       "    }\n",
       "\n",
       "    .dataframe tbody tr th {\n",
       "        vertical-align: top;\n",
       "    }\n",
       "\n",
       "    .dataframe thead th {\n",
       "        text-align: right;\n",
       "    }\n",
       "</style>\n",
       "<table border=\"1\" class=\"dataframe\">\n",
       "  <thead>\n",
       "    <tr style=\"text-align: right;\">\n",
       "      <th></th>\n",
       "      <th>a_influenza</th>\n",
       "      <th>acute_bronchitis</th>\n",
       "      <th>body_temperature</th>\n",
       "      <th>braun_thermoscan</th>\n",
       "      <th>break_a_fever</th>\n",
       "      <th>bronchitis</th>\n",
       "      <th>chest_cold</th>\n",
       "      <th>cold_and_flu</th>\n",
       "      <th>cold_or_flu</th>\n",
       "      <th>cold_versus_flu</th>\n",
       "      <th>...</th>\n",
       "      <th>tussionex</th>\n",
       "      <th>type_a_influenza</th>\n",
       "      <th>upper_respiratory</th>\n",
       "      <th>walking_pneumonia</th>\n",
       "      <th>what_to_do_if_you_have_the_flu</th>\n",
       "      <th>Flu_Visit_Count</th>\n",
       "      <th>ILI_Visit_Count</th>\n",
       "      <th>Unspecified</th>\n",
       "      <th>CDC_Unweighted_ILI</th>\n",
       "      <th>ILI_lagwk1</th>\n",
       "    </tr>\n",
       "    <tr>\n",
       "      <th>YearWeek</th>\n",
       "      <th></th>\n",
       "      <th></th>\n",
       "      <th></th>\n",
       "      <th></th>\n",
       "      <th></th>\n",
       "      <th></th>\n",
       "      <th></th>\n",
       "      <th></th>\n",
       "      <th></th>\n",
       "      <th></th>\n",
       "      <th></th>\n",
       "      <th></th>\n",
       "      <th></th>\n",
       "      <th></th>\n",
       "      <th></th>\n",
       "      <th></th>\n",
       "      <th></th>\n",
       "      <th></th>\n",
       "      <th></th>\n",
       "      <th></th>\n",
       "      <th></th>\n",
       "    </tr>\n",
       "  </thead>\n",
       "  <tbody>\n",
       "    <tr>\n",
       "      <th>200940</th>\n",
       "      <td>44</td>\n",
       "      <td>33</td>\n",
       "      <td>81</td>\n",
       "      <td>69</td>\n",
       "      <td>22</td>\n",
       "      <td>40</td>\n",
       "      <td>35</td>\n",
       "      <td>36</td>\n",
       "      <td>37</td>\n",
       "      <td>30</td>\n",
       "      <td>...</td>\n",
       "      <td>67</td>\n",
       "      <td>78</td>\n",
       "      <td>44</td>\n",
       "      <td>47</td>\n",
       "      <td>56</td>\n",
       "      <td>0.01338</td>\n",
       "      <td>0.01763</td>\n",
       "      <td>0.03074</td>\n",
       "      <td>5.66087</td>\n",
       "      <td>6.81522</td>\n",
       "    </tr>\n",
       "    <tr>\n",
       "      <th>200941</th>\n",
       "      <td>51</td>\n",
       "      <td>51</td>\n",
       "      <td>77</td>\n",
       "      <td>46</td>\n",
       "      <td>24</td>\n",
       "      <td>43</td>\n",
       "      <td>35</td>\n",
       "      <td>43</td>\n",
       "      <td>49</td>\n",
       "      <td>41</td>\n",
       "      <td>...</td>\n",
       "      <td>64</td>\n",
       "      <td>77</td>\n",
       "      <td>45</td>\n",
       "      <td>53</td>\n",
       "      <td>58</td>\n",
       "      <td>0.01620</td>\n",
       "      <td>0.02103</td>\n",
       "      <td>0.03554</td>\n",
       "      <td>6.81522</td>\n",
       "      <td>7.61889</td>\n",
       "    </tr>\n",
       "  </tbody>\n",
       "</table>\n",
       "<p>2 rows × 134 columns</p>\n",
       "</div>"
      ],
      "text/plain": [
       "          a_influenza  acute_bronchitis  body_temperature  braun_thermoscan  \\\n",
       "YearWeek                                                                      \n",
       "200940             44                33                81                69   \n",
       "200941             51                51                77                46   \n",
       "\n",
       "          break_a_fever  bronchitis  chest_cold  cold_and_flu  cold_or_flu  \\\n",
       "YearWeek                                                                     \n",
       "200940               22          40          35            36           37   \n",
       "200941               24          43          35            43           49   \n",
       "\n",
       "          cold_versus_flu     ...      tussionex  type_a_influenza  \\\n",
       "YearWeek                      ...                                    \n",
       "200940                 30     ...             67                78   \n",
       "200941                 41     ...             64                77   \n",
       "\n",
       "          upper_respiratory  walking_pneumonia  \\\n",
       "YearWeek                                         \n",
       "200940                   44                 47   \n",
       "200941                   45                 53   \n",
       "\n",
       "          what_to_do_if_you_have_the_flu  Flu_Visit_Count  ILI_Visit_Count  \\\n",
       "YearWeek                                                                     \n",
       "200940                                56          0.01338          0.01763   \n",
       "200941                                58          0.01620          0.02103   \n",
       "\n",
       "          Unspecified  CDC_Unweighted_ILI  ILI_lagwk1  \n",
       "YearWeek                                               \n",
       "200940        0.03074             5.66087     6.81522  \n",
       "200941        0.03554             6.81522     7.61889  \n",
       "\n",
       "[2 rows x 134 columns]"
      ]
     },
     "execution_count": 10,
     "metadata": {},
     "output_type": "execute_result"
    }
   ],
   "source": [
    "df_ili_wklag1.head(2)"
   ]
  },
  {
   "cell_type": "code",
   "execution_count": 11,
   "metadata": {},
   "outputs": [],
   "source": [
    "train = df_ili_wklag1[df_ili_wklag1.index < 201540]\n",
    "test = df_ili_wklag1[df_ili_wklag1.index >= 201540]"
   ]
  },
  {
   "cell_type": "code",
   "execution_count": 14,
   "metadata": {},
   "outputs": [],
   "source": [
    "X_train = train.drop([\"ILI_lagwk1\"], axis=1)\n",
    "y_train = train[[\"ILI_lagwk1\"]]\n",
    "X_test = test.drop([\"ILI_lagwk1\"], axis=1)\n",
    "y_test = test[[\"ILI_lagwk1\"]]"
   ]
  },
  {
   "cell_type": "code",
   "execution_count": 103,
   "metadata": {},
   "outputs": [],
   "source": [
    "# independent variables\n",
    "# 3 independent variables from athena EHR \n",
    "# [(flu visit counts)/ (total patient visit counts) \n",
    "# (ILI visit counts)/ (total patient visit counts)\n",
    "# (unspecified viral or ILI visit counts)/ (total patient visit counts)]\n",
    "# CDC historical CDC_Unweighted_ILI values: collected from 2009 to 2016 (week 40 to 20)\n",
    "# 129 google search terms related to flu\n",
    "# 3 + 1 + 129\n"
   ]
  },
  {
   "cell_type": "code",
   "execution_count": 104,
   "metadata": {},
   "outputs": [],
   "source": [
    "# dependent varables are \"ILI_lagwk1\", \"ILI_lagwk2\", \"ILI_lagwk3\", \"ILI_lagwk4\""
   ]
  },
  {
   "cell_type": "code",
   "execution_count": 15,
   "metadata": {},
   "outputs": [
    {
     "ename": "NameError",
     "evalue": "name 'X' is not defined",
     "output_type": "error",
     "traceback": [
      "\u001b[1;31m---------------------------------------------------------------------------\u001b[0m",
      "\u001b[1;31mNameError\u001b[0m                                 Traceback (most recent call last)",
      "\u001b[1;32m<ipython-input-15-e6f96141e8d5>\u001b[0m in \u001b[0;36m<module>\u001b[1;34m\u001b[0m\n\u001b[1;32m----> 1\u001b[1;33m \u001b[0mX\u001b[0m\u001b[1;33m.\u001b[0m\u001b[0mshape\u001b[0m\u001b[1;33m,\u001b[0m \u001b[0my\u001b[0m\u001b[1;33m.\u001b[0m\u001b[0mshape\u001b[0m\u001b[1;33m\u001b[0m\u001b[1;33m\u001b[0m\u001b[0m\n\u001b[0m",
      "\u001b[1;31mNameError\u001b[0m: name 'X' is not defined"
     ]
    }
   ],
   "source": [
    "X.shape, y.shape"
   ]
  },
  {
   "cell_type": "code",
   "execution_count": 16,
   "metadata": {},
   "outputs": [
    {
     "ename": "NameError",
     "evalue": "name 'X' is not defined",
     "output_type": "error",
     "traceback": [
      "\u001b[1;31m---------------------------------------------------------------------------\u001b[0m",
      "\u001b[1;31mNameError\u001b[0m                                 Traceback (most recent call last)",
      "\u001b[1;32m<ipython-input-16-86c0cdc23f77>\u001b[0m in \u001b[0;36m<module>\u001b[1;34m\u001b[0m\n\u001b[1;32m----> 1\u001b[1;33m \u001b[0mX\u001b[0m\u001b[1;33m[\u001b[0m\u001b[0mX\u001b[0m\u001b[1;33m.\u001b[0m\u001b[0mindex\u001b[0m \u001b[1;33m>\u001b[0m \u001b[1;36m2015\u001b[0m\u001b[1;33m]\u001b[0m\u001b[1;33m\u001b[0m\u001b[1;33m\u001b[0m\u001b[0m\n\u001b[0m",
      "\u001b[1;31mNameError\u001b[0m: name 'X' is not defined"
     ]
    }
   ],
   "source": [
    "X[X.index > 2015]"
   ]
  },
  {
   "cell_type": "markdown",
   "metadata": {},
   "source": [
    "### training data will flu season from 2009 to 2015\n",
    "# testing data will flu season 2016\n",
    "# 231 rows × 137 columns\n"
   ]
  },
  {
   "cell_type": "markdown",
   "metadata": {},
   "source": [
    "# https://www.youtube.com/watch?v=YkVscKsV_qk"
   ]
  },
  {
   "cell_type": "markdown",
   "metadata": {},
   "source": [
    "# https://scikit-learn.org/stable/modules/generated/sklearn.ensemble.RandomForestRegressor.html#sklearn.ensemble.RandomForestRegressor"
   ]
  },
  {
   "cell_type": "code",
   "execution_count": 109,
   "metadata": {},
   "outputs": [],
   "source": [
    "rreg = RandomForestRegressor(max_depth = 5, n_estimators = 70,  random_state = 0)                           "
   ]
  },
  {
   "cell_type": "code",
   "execution_count": 110,
   "metadata": {},
   "outputs": [
    {
     "data": {
      "text/plain": [
       "RandomForestRegressor(bootstrap=True, criterion='mse', max_depth=5,\n",
       "           max_features='auto', max_leaf_nodes=None,\n",
       "           min_impurity_decrease=0.0, min_impurity_split=None,\n",
       "           min_samples_leaf=1, min_samples_split=2,\n",
       "           min_weight_fraction_leaf=0.0, n_estimators=70, n_jobs=None,\n",
       "           oob_score=False, random_state=0, verbose=0, warm_start=False)"
      ]
     },
     "execution_count": 110,
     "metadata": {},
     "output_type": "execute_result"
    }
   ],
   "source": [
    "rreg.fit(X_train, y_train)"
   ]
  },
  {
   "cell_type": "code",
   "execution_count": null,
   "metadata": {},
   "outputs": [],
   "source": []
  },
  {
   "cell_type": "code",
   "execution_count": 111,
   "metadata": {},
   "outputs": [],
   "source": [
    "# RF predictors variable importance\n",
    "# store most important variavles under importances\n",
    "importances = rreg.feature_importances_"
   ]
  },
  {
   "cell_type": "code",
   "execution_count": 112,
   "metadata": {},
   "outputs": [
    {
     "data": {
      "text/plain": [
       "[(0.37968963288237667, 'CDC_Unweighted_ILI'),\n",
       " (0.07334341357530601, 'over_the_counter_flu_medicine'),\n",
       " (0.04539595360487909, 'oscillococcinum'),\n",
       " (0.035010928206534106, 'robitussin'),\n",
       " (0.03260489328895029, 'how_to_treat_the_flu'),\n",
       " (0.028677991238524506, 'flu_remedies'),\n",
       " (0.02163696517914514, 'sinus'),\n",
       " (0.015762760568277488, 'type_a_influenza'),\n",
       " (0.014851596796613381, 'sinus_infections'),\n",
       " (0.01246760862667083, 'flu_remedy'),\n",
       " (0.011445228005060617, 'ILI_Visit_Count'),\n",
       " (0.0110120135866399, 'flu_duration'),\n",
       " (0.010502406880963442, 'get_over_the_flu'),\n",
       " (0.010390908509161051, 'over_the_counter_flu'),\n",
       " (0.010345044831638653, 'low_body'),\n",
       " (0.009433460309020331, 'cure_the_flu'),\n",
       " (0.009366430010194339, 'remedies_for_the_flu'),\n",
       " (0.009331564001302316, 'how_to_get_rid_of_the_flu'),\n",
       " (0.009125643907659893, 'get_rid_of_the_flu'),\n",
       " (0.009023819957423513, 'flu_germs'),\n",
       " (0.00896850961421362, 'influenza_incubation_period'),\n",
       " (0.008836659895766024, 'flu_or_cold'),\n",
       " (0.008679819195927698, 'flu_lasts'),\n",
       " (0.008643881516611678, 'how_to_treat_flu'),\n",
       " (0.007841668422298026, 'flu_complications'),\n",
       " (0.00742297165565275, 'having_the_flu'),\n",
       " (0.0068670254994605134, 'influenza_type_a'),\n",
       " (0.006379485513317708, 'taking_temperature'),\n",
       " (0.0061919123768111334, 'chest_cold'),\n",
       " (0.005710999866240439, 'symptoms_of_bronchitis'),\n",
       " (0.004846423045316528, 'walking_pneumonia'),\n",
       " (0.004694301386083029, 'rapid_flu'),\n",
       " (0.004121213553959999, 'flu_reports'),\n",
       " (0.004113078790642025, 'reduce_a_fever'),\n",
       " (0.0036726904976197112, 'tussin'),\n",
       " (0.0035270629947624526, 'treating_the_flu'),\n",
       " (0.0033555018272802516, 'Flu_Visit_Count'),\n",
       " (0.0033546604929598207, 'fever_cough'),\n",
       " (0.003269894249750703, 'expectorant'),\n",
       " (0.003105488311787108, 'strep'),\n",
       " (0.0030542734826638357, 'flu_medicine'),\n",
       " (0.003024958739573565, 'tussionex'),\n",
       " (0.0029582894733749324, 'normal_body'),\n",
       " (0.002932528910342777, 'flu_length'),\n",
       " (0.002766435172950342, 'flu_children'),\n",
       " (0.002742303068456005, 'strep_throat'),\n",
       " (0.0027313729142628704, 'signs_of_the_flu'),\n",
       " (0.0027206268867024526, 'symptoms_of_flu'),\n",
       " (0.002612402479516611, 'flu_care'),\n",
       " (0.002525789561595304, 'normal_body_temperature'),\n",
       " (0.002510251143036452, 'influenza_incubation'),\n",
       " (0.002489635228177887, 'how_long_contagious'),\n",
       " (0.0024670340558427327, 'cold_versus_flu'),\n",
       " (0.0024319886314910634, 'flu_symptoms'),\n",
       " (0.002284311727196289, 'medicine_for_the_flu'),\n",
       " (0.0021269857162484174, 'high_fever'),\n",
       " (0.0021190075124132186, 'flu_vs_cold'),\n",
       " (0.002115376585115105, 'exposed_to_flu'),\n",
       " (0.0020483141865178488, 'flu_test'),\n",
       " (0.002038287563422034, 'a_influenza'),\n",
       " (0.002032340816287041, 'how_long_does_the_flu_last'),\n",
       " (0.00202837966513083, 'cold_vs_flu'),\n",
       " (0.0020130115604211282, 'flu_headache'),\n",
       " (0.0019895446578912057, 'upper_respiratory'),\n",
       " (0.0019730926186281323, 'symptoms_of_pneumonia'),\n",
       " (0.0019620001775745403, 'signs_of_flu'),\n",
       " (0.0019450537344579842, 'human_temperature'),\n",
       " (0.001873840801920001, 'fight_the_flu'),\n",
       " (0.001845884658235354, 'dangerous_fever'),\n",
       " (0.0017272281440907319, 'braun_thermoscan'),\n",
       " (0.0017144779625552354, 'ear_thermometer'),\n",
       " (0.0016294393945630093, 'flu_contagious_period'),\n",
       " (0.0016160467763611742, 'influenza_symptoms'),\n",
       " (0.0015958595775250638, 'break_a_fever'),\n",
       " (0.001573330219226922, 'thermoscan'),\n",
       " (0.0015669302983709762, 'treating_flu'),\n",
       " (0.0015532430766934788, 'fever_reducer'),\n",
       " (0.00154023378216819, 'symptoms_of_influenza'),\n",
       " (0.001539516320054271, 'fever_flu'),\n",
       " (0.0015324923135516214, 'incubation_period_for_flu'),\n",
       " (0.001520201206909476, 'flu_recovery'),\n",
       " (0.0014788744505717822, 'body_temperature'),\n",
       " (0.0014460917562834513, 'cold_or_flu'),\n",
       " (0.001375753939360187, 'contagious_flu'),\n",
       " (0.0013596259322857622, 'influenza_a'),\n",
       " (0.0013448898669974133, 'flu_in_children'),\n",
       " (0.001249223580310604, 'painful_cough'),\n",
       " (0.00121947204928075, 'the_flu_virus'),\n",
       " (0.001212650272127481, 'bronchitis'),\n",
       " (0.0010829219838508982, 'respiratory_flu'),\n",
       " (0.001054340950868696, 'is_flu_contagious'),\n",
       " (0.0010471879829134232, 'influenza_a_and_b'),\n",
       " (0.001044128684480944, 'treatment_for_the_flu'),\n",
       " (0.0010388242452449496, 'how_long_flu'),\n",
       " (0.0010332711870762465, 'pneumonia'),\n",
       " (0.0010058323309411249, 'what_to_do_if_you_have_the_flu'),\n",
       " (0.000992006652006398, 'flu_how_long'),\n",
       " (0.0009773534822275734, 'flu_relief'),\n",
       " (0.0009630366417247373, 'Unspecified'),\n",
       " (0.0009150757419267926, 'tessalon'),\n",
       " (0.0009055595158366794, 'influenza_treatment'),\n",
       " (0.0008971187517886188, 'incubation_period_for_the_flu'),\n",
       " (0.0008690357296958744, 'treatment_for_flu'),\n",
       " (0.0008013028584722336, 'treat_flu'),\n",
       " (0.0007949018335779744, 'cold_and_flu'),\n",
       " (0.0007747697200902979, 'flu_cough'),\n",
       " (0.0007275226236937802, 'remedies_for_flu'),\n",
       " (0.0007170454172698655, 'the_flu'),\n",
       " (0.0007002646055006245, 'cough_fever'),\n",
       " (0.0006945941162867593, 'flu_treatments'),\n",
       " (0.0006599896355810966, 'flu_fever'),\n",
       " (0.0006362186025248099, 'how_long_is_the_flu_contagious'),\n",
       " (0.0006360351081049107, 'flu_and_fever'),\n",
       " (0.0006316713927548847, 'acute_bronchitis'),\n",
       " (0.0006177954992619585, 'flu_report'),\n",
       " (0.0005533983893025145, 'how_long_does_flu_last'),\n",
       " (0.0005278349727146959, 'reduce_fever'),\n",
       " (0.0005137237485635456, 'symptoms_of_the_flu'),\n",
       " (0.0004978637534052903, 'influenza_contagious'),\n",
       " (0.00048089451359345465, 'flu_incubation_period'),\n",
       " (0.000476931870277636, 'flu_incubation'),\n",
       " (0.00045686236852735717, 'do_i_have_the_flu'),\n",
       " (0.0003987627717560935, 'treat_the_flu'),\n",
       " (0.0003904727428486724, 'flu_and_cold'),\n",
       " (0.00038588914917813007, 'flu_versus_cold'),\n",
       " (0.000374716115521788, 'i_have_the_flu'),\n",
       " (0.0003716024628483299, 'flu_treatment'),\n",
       " (0.0003454500094056142, 'flu_contagious'),\n",
       " (0.000259381780142843, 'early_flu_symptoms'),\n",
       " (0.0002480528372344565, 'medicine_for_flu'),\n",
       " (0.00015975957351795582, 'cure_flu'),\n",
       " (8.658697171821857e-05, 'how_long_is_the_flu'),\n",
       " (7.359535420506277e-05, 'how_long_is_flu_contagious')]"
      ]
     },
     "execution_count": 112,
     "metadata": {},
     "output_type": "execute_result"
    }
   ],
   "source": [
    "sorted(zip(importances, data.columns), reverse=True)"
   ]
  },
  {
   "cell_type": "code",
   "execution_count": 113,
   "metadata": {},
   "outputs": [],
   "source": [
    "# sort imprtant varibles and sotre them under indices\n",
    "# indices = np.argsort(importances)[::-1]\n",
    "# for f in range(X.shape[1]):\n",
    "#     print(\"%d. feature %d (%f)\" % (f +1, indices[f], importances[indices[f]])) "
   ]
  },
  {
   "cell_type": "code",
   "execution_count": 114,
   "metadata": {},
   "outputs": [],
   "source": [
    "# rreg.feature_importances_.sum()"
   ]
  },
  {
   "cell_type": "code",
   "execution_count": 115,
   "metadata": {},
   "outputs": [],
   "source": [
    "# np.argsort(rreg.feature_importances_)"
   ]
  },
  {
   "cell_type": "code",
   "execution_count": 116,
   "metadata": {},
   "outputs": [],
   "source": [
    "# plt.plot(np.cumsum(rreg.feature_importances_));"
   ]
  },
  {
   "cell_type": "code",
   "execution_count": null,
   "metadata": {},
   "outputs": [],
   "source": []
  },
  {
   "cell_type": "code",
   "execution_count": null,
   "metadata": {},
   "outputs": [],
   "source": []
  },
  {
   "cell_type": "code",
   "execution_count": null,
   "metadata": {},
   "outputs": [],
   "source": []
  },
  {
   "cell_type": "code",
   "execution_count": null,
   "metadata": {},
   "outputs": [],
   "source": []
  },
  {
   "cell_type": "code",
   "execution_count": null,
   "metadata": {},
   "outputs": [],
   "source": []
  },
  {
   "cell_type": "code",
   "execution_count": 117,
   "metadata": {},
   "outputs": [],
   "source": [
    "# predict the values of y\n",
    "y_pred = rreg.predict(X_test)"
   ]
  },
  {
   "cell_type": "code",
   "execution_count": 118,
   "metadata": {},
   "outputs": [],
   "source": [
    "# the prdicted ILI values\n",
    "# y_pred"
   ]
  },
  {
   "cell_type": "code",
   "execution_count": 119,
   "metadata": {},
   "outputs": [],
   "source": [
    "from sklearn.metrics import mean_squared_error, mean_absolute_error"
   ]
  },
  {
   "cell_type": "code",
   "execution_count": 120,
   "metadata": {},
   "outputs": [
    {
     "data": {
      "text/plain": [
       "0.20635616207931512"
      ]
     },
     "execution_count": 120,
     "metadata": {},
     "output_type": "execute_result"
    }
   ],
   "source": [
    "# y_test are the hold out values i.e. the actual values of ILIs, y_pred are the predicted values of ILIs\n",
    "# mean square error (8133187.704816607) is the magnitude of difference between our actual CDC ILI values \n",
    "# and predicted ILI values. \n",
    "mean_squared_error(y_test, y_pred)"
   ]
  },
  {
   "cell_type": "code",
   "execution_count": 121,
   "metadata": {},
   "outputs": [
    {
     "data": {
      "text/plain": [
       "0.3386944004539239"
      ]
     },
     "execution_count": 121,
     "metadata": {},
     "output_type": "execute_result"
    }
   ],
   "source": [
    "mean_absolute_error(y_test, y_pred)"
   ]
  },
  {
   "cell_type": "code",
   "execution_count": 122,
   "metadata": {},
   "outputs": [],
   "source": [
    "from sklearn.metrics import r2_score"
   ]
  },
  {
   "cell_type": "code",
   "execution_count": 123,
   "metadata": {},
   "outputs": [
    {
     "data": {
      "text/plain": [
       "0.4572913182038027"
      ]
     },
     "execution_count": 123,
     "metadata": {},
     "output_type": "execute_result"
    }
   ],
   "source": [
    "r2_score(y_test, y_pred)"
   ]
  },
  {
   "cell_type": "code",
   "execution_count": 124,
   "metadata": {},
   "outputs": [
    {
     "name": "stdout",
     "output_type": "stream",
     "text": [
      "R-squared for Train: 0.9368715319721965\n",
      "R-squared for Test:  0.45183076575713066\n"
     ]
    }
   ],
   "source": [
    "# Print the r2 score for the test data\n",
    "# YOUR CODE HERE\n",
    "print(f\"R-squared for Train: {rreg.score(X_train, y_train)}\")\n",
    "print(f\"R-squared for Test:  {rreg.score(X_test, y_test)}\")"
   ]
  },
  {
   "cell_type": "code",
   "execution_count": 125,
   "metadata": {},
   "outputs": [
    {
     "name": "stdout",
     "output_type": "stream",
     "text": [
      "R-squared for Train: 0.94\n",
      "R-squared for Test: 0.45\n"
     ]
    }
   ],
   "source": [
    "print(\"R-squared for Train: %.2f\" %rreg.score(X_train, y_train)) \n",
    "print(\"R-squared for Test: %.2f\" %rreg.score(X_test, y_test)) "
   ]
  },
  {
   "cell_type": "code",
   "execution_count": 126,
   "metadata": {},
   "outputs": [
    {
     "name": "stdout",
     "output_type": "stream",
     "text": [
      "First 10 Predictions: [[1.47887916 1.50776662 1.55105597 1.61128666]\n",
      " [1.53123439 1.57714633 1.67157038 1.77383233]\n",
      " [1.57588361 1.61959707 1.7243171  1.84332032]\n",
      " [1.63388446 1.72188146 1.87626873 2.0904892 ]\n",
      " [1.60517787 1.6773264  1.81157473 2.01097882]\n",
      " [1.68638792 1.77322706 1.87109842 2.00074252]\n",
      " [1.76682722 1.85782855 1.96333147 2.18290095]\n",
      " [1.83337956 1.95021562 2.06982546 2.28784327]\n",
      " [1.9281391  2.08376538 2.2783654  2.63803293]\n",
      " [2.05040072 2.20319152 2.35928218 2.645258  ]]\n",
      "First 10 Actual labels:           ILI_lagwk1  ILI_lagwk2  ILI_lagwk3  ILI_lagwk4\n",
      "YearWeek                                                \n",
      "201540       1.33029     1.41368     1.36882     1.48309\n",
      "201541       1.41368     1.36882     1.48309     1.54494\n",
      "201542       1.36882     1.48309     1.54494     1.62532\n",
      "201543       1.48309     1.54494     1.62532     1.91565\n",
      "201544       1.54494     1.62532     1.91565     1.74368\n",
      "201545       1.62532     1.91565     1.74368     1.83277\n",
      "201546       1.91565     1.74368     1.83277     1.97810\n",
      "201547       1.74368     1.83277     1.97810     2.42502\n",
      "201548       1.83277     1.97810     2.42502     2.42004\n",
      "201549       1.97810     2.42502     2.42004     2.00413\n"
     ]
    }
   ],
   "source": [
    "# Make predictions using the X_test and y_test data\n",
    "# Print at least 10 predictions vs their actual labels\n",
    "# predictions = rreg.predict(X_test)\n",
    "print(f\"First 10 Predictions: {predictions[:10]}\")\n",
    "print(f\"First 10 Actual labels: {y_test[:10]}\")\n",
    "# print(f\"First 10 Actual labels: {y_test[:10].tolist()}\")"
   ]
  },
  {
   "cell_type": "code",
   "execution_count": 127,
   "metadata": {},
   "outputs": [],
   "source": [
    "# pred_df = pd.DataFrame({\"Prediction\": predictions, \"Actual\": y_test}).reset_index(drop=True)\n",
    "# pred_df.head()"
   ]
  },
  {
   "cell_type": "markdown",
   "metadata": {},
   "source": [
    "# https://towardsdatascience.com/hyperparameter-tuning-the-random-forest-in-python-using-scikit-learn-28d2aa77dd74"
   ]
  },
  {
   "cell_type": "code",
   "execution_count": 39,
   "metadata": {},
   "outputs": [],
   "source": [
    "# from sklearn.model_selection import GridSearchCV\n",
    "# # Create the parameter grid based on the results of random search \n",
    "# param_grid = {\n",
    "#     'bootstrap': [True],\n",
    "#     'max_depth': [80, 90, 100, 110],\n",
    "#     'max_features': [2, 3],\n",
    "#     'min_samples_leaf': [3, 4, 5],\n",
    "#     'min_samples_split': [8, 10, 12],\n",
    "#     'n_estimators': [100, 200, 300, 1000]\n",
    "# }\n",
    "# # Create a based model\n",
    "# rf = RandomForestRegressor()\n",
    "# # Instantiate the grid search model\n",
    "# grid_search = GridSearchCV(estimator = rf, param_grid = param_grid, \n",
    "#                           cv = 3, n_jobs = -1, verbose = 2)"
   ]
  },
  {
   "cell_type": "code",
   "execution_count": null,
   "metadata": {},
   "outputs": [],
   "source": []
  }
 ],
 "metadata": {
  "kernelspec": {
   "display_name": "Python 3",
   "language": "python",
   "name": "python3"
  },
  "language_info": {
   "codemirror_mode": {
    "name": "ipython",
    "version": 3
   },
   "file_extension": ".py",
   "mimetype": "text/x-python",
   "name": "python",
   "nbconvert_exporter": "python",
   "pygments_lexer": "ipython3",
   "version": "3.7.1"
  }
 },
 "nbformat": 4,
 "nbformat_minor": 2
}
