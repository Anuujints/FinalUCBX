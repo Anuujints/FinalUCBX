{
 "cells": [
  {
   "cell_type": "code",
   "execution_count": 1,
   "metadata": {},
   "outputs": [],
   "source": [
    "%matplotlib inline\n",
    "    \n",
    "import pandas as pd\n",
    "import numpy as np\n",
    "\n",
    "import matplotlib.pyplot as plt"
   ]
  },
  {
   "cell_type": "code",
   "execution_count": 2,
   "metadata": {},
   "outputs": [],
   "source": [
    "from sklearn.decomposition import PCA, TruncatedSVD\n",
    "from sklearn.preprocessing import MinMaxScaler\n",
    "from sklearn.preprocessing import StandardScaler\n",
    "\n",
    "from sklearn.model_selection import train_test_split\n",
    "\n",
    "from sklearn import model_selection\n",
    "from sklearn.svm import SVR\n",
    "\n",
    "from sklearn.metrics import mean_squared_error, mean_absolute_error, r2_score"
   ]
  },
  {
   "cell_type": "code",
   "execution_count": 3,
   "metadata": {},
   "outputs": [
    {
     "data": {
      "text/html": [
       "<div>\n",
       "<style scoped>\n",
       "    .dataframe tbody tr th:only-of-type {\n",
       "        vertical-align: middle;\n",
       "    }\n",
       "\n",
       "    .dataframe tbody tr th {\n",
       "        vertical-align: top;\n",
       "    }\n",
       "\n",
       "    .dataframe thead th {\n",
       "        text-align: right;\n",
       "    }\n",
       "</style>\n",
       "<table border=\"1\" class=\"dataframe\">\n",
       "  <thead>\n",
       "    <tr style=\"text-align: right;\">\n",
       "      <th></th>\n",
       "      <th>Year</th>\n",
       "      <th>week</th>\n",
       "      <th>a_influenza</th>\n",
       "      <th>acute_bronchitis</th>\n",
       "      <th>body_temperature</th>\n",
       "      <th>braun_thermoscan</th>\n",
       "      <th>break_a_fever</th>\n",
       "      <th>bronchitis</th>\n",
       "      <th>chest_cold</th>\n",
       "      <th>cold_and_flu</th>\n",
       "      <th>...</th>\n",
       "      <th>walking_pneumonia</th>\n",
       "      <th>what_to_do_if_you_have_the_flu</th>\n",
       "      <th>Flu_Visit_Count</th>\n",
       "      <th>ILI_Visit_Count</th>\n",
       "      <th>Unspecified</th>\n",
       "      <th>CDC_Unweighted_ILI</th>\n",
       "      <th>ILI_lagwk1</th>\n",
       "      <th>ILI_lagwk2</th>\n",
       "      <th>ILI_lagwk3</th>\n",
       "      <th>ILI_lagwk4</th>\n",
       "    </tr>\n",
       "  </thead>\n",
       "  <tbody>\n",
       "    <tr>\n",
       "      <th>0</th>\n",
       "      <td>2009</td>\n",
       "      <td>40</td>\n",
       "      <td>44</td>\n",
       "      <td>33</td>\n",
       "      <td>81</td>\n",
       "      <td>69</td>\n",
       "      <td>22</td>\n",
       "      <td>40</td>\n",
       "      <td>35</td>\n",
       "      <td>36</td>\n",
       "      <td>...</td>\n",
       "      <td>47</td>\n",
       "      <td>56</td>\n",
       "      <td>0.01338</td>\n",
       "      <td>0.01763</td>\n",
       "      <td>0.03074</td>\n",
       "      <td>5.66087</td>\n",
       "      <td>6.81522</td>\n",
       "      <td>7.61889</td>\n",
       "      <td>7.38836</td>\n",
       "      <td>6.33927</td>\n",
       "    </tr>\n",
       "    <tr>\n",
       "      <th>1</th>\n",
       "      <td>2009</td>\n",
       "      <td>41</td>\n",
       "      <td>51</td>\n",
       "      <td>51</td>\n",
       "      <td>77</td>\n",
       "      <td>46</td>\n",
       "      <td>24</td>\n",
       "      <td>43</td>\n",
       "      <td>35</td>\n",
       "      <td>43</td>\n",
       "      <td>...</td>\n",
       "      <td>53</td>\n",
       "      <td>58</td>\n",
       "      <td>0.01620</td>\n",
       "      <td>0.02103</td>\n",
       "      <td>0.03554</td>\n",
       "      <td>6.81522</td>\n",
       "      <td>7.61889</td>\n",
       "      <td>7.38836</td>\n",
       "      <td>6.33927</td>\n",
       "      <td>4.94349</td>\n",
       "    </tr>\n",
       "  </tbody>\n",
       "</table>\n",
       "<p>2 rows × 139 columns</p>\n",
       "</div>"
      ],
      "text/plain": [
       "   Year  week  a_influenza  acute_bronchitis  body_temperature  \\\n",
       "0  2009    40           44                33                81   \n",
       "1  2009    41           51                51                77   \n",
       "\n",
       "   braun_thermoscan  break_a_fever  bronchitis  chest_cold  cold_and_flu  \\\n",
       "0                69             22          40          35            36   \n",
       "1                46             24          43          35            43   \n",
       "\n",
       "      ...      walking_pneumonia  what_to_do_if_you_have_the_flu  \\\n",
       "0     ...                     47                              56   \n",
       "1     ...                     53                              58   \n",
       "\n",
       "   Flu_Visit_Count  ILI_Visit_Count  Unspecified  CDC_Unweighted_ILI  \\\n",
       "0          0.01338          0.01763      0.03074             5.66087   \n",
       "1          0.01620          0.02103      0.03554             6.81522   \n",
       "\n",
       "   ILI_lagwk1  ILI_lagwk2  ILI_lagwk3  ILI_lagwk4  \n",
       "0     6.81522     7.61889     7.38836     6.33927  \n",
       "1     7.61889     7.38836     6.33927     4.94349  \n",
       "\n",
       "[2 rows x 139 columns]"
      ]
     },
     "execution_count": 3,
     "metadata": {},
     "output_type": "execute_result"
    }
   ],
   "source": [
    "# final df for model building\n",
    "df1 = pd.read_csv(\"ML_model_wk40_to_20.csv\")\n",
    "df1.dropna(how='any', inplace=True)\n",
    "del df1['ILI_weeks']\n",
    "del df1['Unnamed: 0']\n",
    "#del df1['week']\n",
    "df1.head(2)"
   ]
  },
  {
   "cell_type": "code",
   "execution_count": 4,
   "metadata": {},
   "outputs": [],
   "source": [
    "#  combining year and week column \n",
    "def combine_year_week(row):\n",
    "    return int(row[\"Year\"]) * 100 + int(row[\"week\"])"
   ]
  },
  {
   "cell_type": "code",
   "execution_count": 5,
   "metadata": {},
   "outputs": [],
   "source": [
    "df1[\"YearWeek\"] = df1.apply(combine_year_week, axis=1)"
   ]
  },
  {
   "cell_type": "code",
   "execution_count": 6,
   "metadata": {},
   "outputs": [],
   "source": [
    "# reset index to YearWeek\n",
    "df1.index = df1[\"YearWeek\"]"
   ]
  },
  {
   "cell_type": "code",
   "execution_count": 7,
   "metadata": {},
   "outputs": [
    {
     "data": {
      "text/html": [
       "<div>\n",
       "<style scoped>\n",
       "    .dataframe tbody tr th:only-of-type {\n",
       "        vertical-align: middle;\n",
       "    }\n",
       "\n",
       "    .dataframe tbody tr th {\n",
       "        vertical-align: top;\n",
       "    }\n",
       "\n",
       "    .dataframe thead th {\n",
       "        text-align: right;\n",
       "    }\n",
       "</style>\n",
       "<table border=\"1\" class=\"dataframe\">\n",
       "  <thead>\n",
       "    <tr style=\"text-align: right;\">\n",
       "      <th></th>\n",
       "      <th>a_influenza</th>\n",
       "      <th>acute_bronchitis</th>\n",
       "      <th>body_temperature</th>\n",
       "      <th>braun_thermoscan</th>\n",
       "      <th>break_a_fever</th>\n",
       "      <th>bronchitis</th>\n",
       "      <th>chest_cold</th>\n",
       "      <th>cold_and_flu</th>\n",
       "      <th>cold_or_flu</th>\n",
       "      <th>cold_versus_flu</th>\n",
       "      <th>...</th>\n",
       "      <th>walking_pneumonia</th>\n",
       "      <th>what_to_do_if_you_have_the_flu</th>\n",
       "      <th>Flu_Visit_Count</th>\n",
       "      <th>ILI_Visit_Count</th>\n",
       "      <th>Unspecified</th>\n",
       "      <th>CDC_Unweighted_ILI</th>\n",
       "      <th>ILI_lagwk1</th>\n",
       "      <th>ILI_lagwk2</th>\n",
       "      <th>ILI_lagwk3</th>\n",
       "      <th>ILI_lagwk4</th>\n",
       "    </tr>\n",
       "    <tr>\n",
       "      <th>YearWeek</th>\n",
       "      <th></th>\n",
       "      <th></th>\n",
       "      <th></th>\n",
       "      <th></th>\n",
       "      <th></th>\n",
       "      <th></th>\n",
       "      <th></th>\n",
       "      <th></th>\n",
       "      <th></th>\n",
       "      <th></th>\n",
       "      <th></th>\n",
       "      <th></th>\n",
       "      <th></th>\n",
       "      <th></th>\n",
       "      <th></th>\n",
       "      <th></th>\n",
       "      <th></th>\n",
       "      <th></th>\n",
       "      <th></th>\n",
       "      <th></th>\n",
       "      <th></th>\n",
       "    </tr>\n",
       "  </thead>\n",
       "  <tbody>\n",
       "    <tr>\n",
       "      <th>200940</th>\n",
       "      <td>44</td>\n",
       "      <td>33</td>\n",
       "      <td>81</td>\n",
       "      <td>69</td>\n",
       "      <td>22</td>\n",
       "      <td>40</td>\n",
       "      <td>35</td>\n",
       "      <td>36</td>\n",
       "      <td>37</td>\n",
       "      <td>30</td>\n",
       "      <td>...</td>\n",
       "      <td>47</td>\n",
       "      <td>56</td>\n",
       "      <td>0.01338</td>\n",
       "      <td>0.01763</td>\n",
       "      <td>0.03074</td>\n",
       "      <td>5.66087</td>\n",
       "      <td>6.81522</td>\n",
       "      <td>7.61889</td>\n",
       "      <td>7.38836</td>\n",
       "      <td>6.33927</td>\n",
       "    </tr>\n",
       "    <tr>\n",
       "      <th>200941</th>\n",
       "      <td>51</td>\n",
       "      <td>51</td>\n",
       "      <td>77</td>\n",
       "      <td>46</td>\n",
       "      <td>24</td>\n",
       "      <td>43</td>\n",
       "      <td>35</td>\n",
       "      <td>43</td>\n",
       "      <td>49</td>\n",
       "      <td>41</td>\n",
       "      <td>...</td>\n",
       "      <td>53</td>\n",
       "      <td>58</td>\n",
       "      <td>0.01620</td>\n",
       "      <td>0.02103</td>\n",
       "      <td>0.03554</td>\n",
       "      <td>6.81522</td>\n",
       "      <td>7.61889</td>\n",
       "      <td>7.38836</td>\n",
       "      <td>6.33927</td>\n",
       "      <td>4.94349</td>\n",
       "    </tr>\n",
       "  </tbody>\n",
       "</table>\n",
       "<p>2 rows × 137 columns</p>\n",
       "</div>"
      ],
      "text/plain": [
       "          a_influenza  acute_bronchitis  body_temperature  braun_thermoscan  \\\n",
       "YearWeek                                                                      \n",
       "200940             44                33                81                69   \n",
       "200941             51                51                77                46   \n",
       "\n",
       "          break_a_fever  bronchitis  chest_cold  cold_and_flu  cold_or_flu  \\\n",
       "YearWeek                                                                     \n",
       "200940               22          40          35            36           37   \n",
       "200941               24          43          35            43           49   \n",
       "\n",
       "          cold_versus_flu     ...      walking_pneumonia  \\\n",
       "YearWeek                      ...                          \n",
       "200940                 30     ...                     47   \n",
       "200941                 41     ...                     53   \n",
       "\n",
       "          what_to_do_if_you_have_the_flu  Flu_Visit_Count  ILI_Visit_Count  \\\n",
       "YearWeek                                                                     \n",
       "200940                                56          0.01338          0.01763   \n",
       "200941                                58          0.01620          0.02103   \n",
       "\n",
       "          Unspecified  CDC_Unweighted_ILI  ILI_lagwk1  ILI_lagwk2  ILI_lagwk3  \\\n",
       "YearWeek                                                                        \n",
       "200940        0.03074             5.66087     6.81522     7.61889     7.38836   \n",
       "200941        0.03554             6.81522     7.61889     7.38836     6.33927   \n",
       "\n",
       "          ILI_lagwk4  \n",
       "YearWeek              \n",
       "200940       6.33927  \n",
       "200941       4.94349  \n",
       "\n",
       "[2 rows x 137 columns]"
      ]
     },
     "execution_count": 7,
     "metadata": {},
     "output_type": "execute_result"
    }
   ],
   "source": [
    "model_df = df1.drop([\"Year\", \"week\", \"YearWeek\"], axis=1)\n",
    "model_df.head(2)"
   ]
  },
  {
   "cell_type": "markdown",
   "metadata": {},
   "source": [
    "# Independent variables\n",
    "        # 3 independent variables from athena EHR \n",
    "            # [(flu visit counts)/ (total patient visit counts) \n",
    "            # (ILI visit counts)/ (total patient visit counts)\n",
    "            # (unspecified viral or ILI visit counts)/ (total patient visit counts)]\n",
    "        # CDC historical CDC_Unweighted_ILI values: collected from 2009 to 2016 (week 40 to 20)\n",
    "        # 129 google search terms related to flu\n",
    "        \n",
    "      ======> 3 + 1 + 129\n",
    "      \n",
    "# Dependent variables \n",
    "        # 4 ILI weeks offset by 1 week"
   ]
  },
  {
   "cell_type": "markdown",
   "metadata": {},
   "source": [
    "# split df to train dataset, dataset before year2015 and week 40 used at training dataset"
   ]
  },
  {
   "cell_type": "code",
   "execution_count": 8,
   "metadata": {},
   "outputs": [],
   "source": [
    "train = model_df[model_df.index < 201540]\n",
    "# train.head()"
   ]
  },
  {
   "cell_type": "markdown",
   "metadata": {},
   "source": [
    "\n",
    "# defining  targets/labels to  y axis\n",
    "                y_train = ILI lag week 1\n",
    "\n",
    "                yy_train = ILI lag week 2\n",
    "\n",
    "                yyy_train = ILI lag week 3\n",
    "\n",
    "                yyyy_train = ILI lag week 4"
   ]
  },
  {
   "cell_type": "code",
   "execution_count": 9,
   "metadata": {},
   "outputs": [],
   "source": [
    "y_train = train[\"ILI_lagwk1\"]\n",
    "# y_train"
   ]
  },
  {
   "cell_type": "code",
   "execution_count": 10,
   "metadata": {},
   "outputs": [],
   "source": [
    "yy_train = train[\"ILI_lagwk2\"]"
   ]
  },
  {
   "cell_type": "code",
   "execution_count": 11,
   "metadata": {},
   "outputs": [],
   "source": [
    "yyy_train = train[\"ILI_lagwk3\"]"
   ]
  },
  {
   "cell_type": "code",
   "execution_count": 12,
   "metadata": {},
   "outputs": [],
   "source": [
    "yyyy_train =train[\"ILI_lagwk4\"]"
   ]
  },
  {
   "cell_type": "code",
   "execution_count": 13,
   "metadata": {},
   "outputs": [],
   "source": [
    "X_train = train.drop([\"ILI_lagwk1\", \"ILI_lagwk2\", \"ILI_lagwk3\", \"ILI_lagwk4\"], axis=1)\n",
    "# X_train"
   ]
  },
  {
   "cell_type": "markdown",
   "metadata": {},
   "source": [
    "# split df to train dataset,dataset after year2015 and week 40 used at training dataset"
   ]
  },
  {
   "cell_type": "code",
   "execution_count": 14,
   "metadata": {},
   "outputs": [],
   "source": [
    "test = model_df[model_df.index >= 201540]\n",
    "# test.head()"
   ]
  },
  {
   "cell_type": "code",
   "execution_count": 15,
   "metadata": {},
   "outputs": [],
   "source": [
    "y_test = test[\"ILI_lagwk1\"]"
   ]
  },
  {
   "cell_type": "code",
   "execution_count": 16,
   "metadata": {},
   "outputs": [],
   "source": [
    "yy_test = test[\"ILI_lagwk2\"]"
   ]
  },
  {
   "cell_type": "code",
   "execution_count": 17,
   "metadata": {},
   "outputs": [],
   "source": [
    "yyy_test = test[\"ILI_lagwk3\"]"
   ]
  },
  {
   "cell_type": "code",
   "execution_count": 18,
   "metadata": {},
   "outputs": [],
   "source": [
    "yyyy_test = test[\"ILI_lagwk4\"]"
   ]
  },
  {
   "cell_type": "code",
   "execution_count": 19,
   "metadata": {},
   "outputs": [],
   "source": [
    "X_test = test.drop([\"ILI_lagwk1\", \"ILI_lagwk2\", \"ILI_lagwk3\", \"ILI_lagwk4\"], axis=1)"
   ]
  },
  {
   "cell_type": "markdown",
   "metadata": {},
   "source": [
    "# Reference https://shankarmsy.github.io/stories/gbrt-sklearn.html#\n",
    "\n",
    "##https://www.youtube.com/watch?v=IXZKgIsZRm0"
   ]
  },
  {
   "cell_type": "markdown",
   "metadata": {},
   "source": [
    "# building a model for y_test = test[\"ILI_lagwk1\"]"
   ]
  },
  {
   "cell_type": "code",
   "execution_count": 20,
   "metadata": {},
   "outputs": [],
   "source": [
    "model1 = SVR()"
   ]
  },
  {
   "cell_type": "code",
   "execution_count": null,
   "metadata": {},
   "outputs": [],
   "source": [
    "# StandardScaler to transform features\n",
    "scaler = StandardScaler()  \n",
    "scaler.fit(X_train) \n",
    "\n",
    "X_train_scaled = scaler.transform(X_train) \n",
    "X_test_scaled = scaler.transform(X_test)"
   ]
  },
  {
   "cell_type": "code",
   "execution_count": 21,
   "metadata": {},
   "outputs": [
    {
     "name": "stderr",
     "output_type": "stream",
     "text": [
      "C:\\Users\\emame\\Anaconda3\\lib\\site-packages\\sklearn\\svm\\base.py:196: FutureWarning: The default value of gamma will change from 'auto' to 'scale' in version 0.22 to account better for unscaled features. Set gamma explicitly to 'auto' or 'scale' to avoid this warning.\n",
      "  \"avoid this warning.\", FutureWarning)\n"
     ]
    },
    {
     "data": {
      "text/plain": [
       "SVR(C=1.0, cache_size=200, coef0=0.0, degree=3, epsilon=0.1,\n",
       "  gamma='auto_deprecated', kernel='rbf', max_iter=-1, shrinking=True,\n",
       "  tol=0.001, verbose=False)"
      ]
     },
     "execution_count": 21,
     "metadata": {},
     "output_type": "execute_result"
    }
   ],
   "source": [
    "model1.fit(X_train, y_train)"
   ]
  },
  {
   "cell_type": "code",
   "execution_count": 22,
   "metadata": {},
   "outputs": [],
   "source": [
    "y_pred = model1.predict(X_test)"
   ]
  },
  {
   "cell_type": "code",
   "execution_count": 23,
   "metadata": {},
   "outputs": [
    {
     "data": {
      "text/plain": [
       "-0.010715330711997373"
      ]
     },
     "execution_count": 23,
     "metadata": {},
     "output_type": "execute_result"
    }
   ],
   "source": [
    "r2_score(y_test, y_pred)"
   ]
  },
  {
   "cell_type": "code",
   "execution_count": 24,
   "metadata": {},
   "outputs": [
    {
     "data": {
      "text/plain": [
       "0.48387093649612606"
      ]
     },
     "execution_count": 24,
     "metadata": {},
     "output_type": "execute_result"
    }
   ],
   "source": [
    "mean_absolute_error(y_test, y_pred)"
   ]
  },
  {
   "cell_type": "code",
   "execution_count": 25,
   "metadata": {},
   "outputs": [
    {
     "name": "stdout",
     "output_type": "stream",
     "text": [
      "R-squared for ILI_lagwk1 Train: 0.61\n",
      "R-squared for ILI_lagwk1 Test : -0.01\n"
     ]
    }
   ],
   "source": [
    "print(\"R-squared for ILI_lagwk1 Train: %.2f\" %model1.score(X_train, y_train)) \n",
    "print(\"R-squared for ILI_lagwk1 Test : %.2f\" %model1.score(X_test, y_test)) "
   ]
  },
  {
   "cell_type": "code",
   "execution_count": 26,
   "metadata": {},
   "outputs": [],
   "source": [
    "predictions1 = model1.predict(X_test) "
   ]
  },
  {
   "cell_type": "code",
   "execution_count": 27,
   "metadata": {},
   "outputs": [
    {
     "data": {
      "text/plain": [
       "Int64Index([201540, 201541, 201542, 201543, 201544, 201545, 201546, 201547,\n",
       "            201548, 201549, 201550, 201551, 201552, 201601, 201602, 201603,\n",
       "            201604, 201605, 201606, 201607, 201608, 201609, 201610, 201611,\n",
       "            201612, 201613, 201614, 201615, 201616, 201617, 201618, 201619,\n",
       "            201620],\n",
       "           dtype='int64', name='YearWeek')"
      ]
     },
     "execution_count": 27,
     "metadata": {},
     "output_type": "execute_result"
    }
   ],
   "source": [
    "# predict the values of y\n",
    "y_test_unraveled = y_test.values.ravel()\n",
    "y_test.index"
   ]
  },
  {
   "cell_type": "code",
   "execution_count": 28,
   "metadata": {},
   "outputs": [
    {
     "data": {
      "text/html": [
       "<div>\n",
       "<style scoped>\n",
       "    .dataframe tbody tr th:only-of-type {\n",
       "        vertical-align: middle;\n",
       "    }\n",
       "\n",
       "    .dataframe tbody tr th {\n",
       "        vertical-align: top;\n",
       "    }\n",
       "\n",
       "    .dataframe thead th {\n",
       "        text-align: right;\n",
       "    }\n",
       "</style>\n",
       "<table border=\"1\" class=\"dataframe\">\n",
       "  <thead>\n",
       "    <tr style=\"text-align: right;\">\n",
       "      <th></th>\n",
       "      <th>Prediction_ILI_lagwk1</th>\n",
       "      <th>Actual</th>\n",
       "    </tr>\n",
       "    <tr>\n",
       "      <th>YearWeek</th>\n",
       "      <th></th>\n",
       "      <th></th>\n",
       "    </tr>\n",
       "  </thead>\n",
       "  <tbody>\n",
       "    <tr>\n",
       "      <th>201540</th>\n",
       "      <td>2.055565</td>\n",
       "      <td>1.33029</td>\n",
       "    </tr>\n",
       "    <tr>\n",
       "      <th>201541</th>\n",
       "      <td>2.055566</td>\n",
       "      <td>1.41368</td>\n",
       "    </tr>\n",
       "    <tr>\n",
       "      <th>201542</th>\n",
       "      <td>2.055566</td>\n",
       "      <td>1.36882</td>\n",
       "    </tr>\n",
       "    <tr>\n",
       "      <th>201543</th>\n",
       "      <td>2.055565</td>\n",
       "      <td>1.48309</td>\n",
       "    </tr>\n",
       "    <tr>\n",
       "      <th>201544</th>\n",
       "      <td>2.055566</td>\n",
       "      <td>1.54494</td>\n",
       "    </tr>\n",
       "  </tbody>\n",
       "</table>\n",
       "</div>"
      ],
      "text/plain": [
       "          Prediction_ILI_lagwk1   Actual\n",
       "YearWeek                                \n",
       "201540                 2.055565  1.33029\n",
       "201541                 2.055566  1.41368\n",
       "201542                 2.055566  1.36882\n",
       "201543                 2.055565  1.48309\n",
       "201544                 2.055566  1.54494"
      ]
     },
     "execution_count": 28,
     "metadata": {},
     "output_type": "execute_result"
    }
   ],
   "source": [
    "# store prediction and actual to df\n",
    "pred_df = pd.DataFrame({\"Prediction_ILI_lagwk1\": predictions1, \"Actual\": y_test_unraveled}).reset_index(drop=True)\n",
    "pred_df.index = y_test.index\n",
    "pred_df.head()"
   ]
  },
  {
   "cell_type": "markdown",
   "metadata": {},
   "source": [
    "# # Create the GridSearchCV model"
   ]
  },
  {
   "cell_type": "code",
   "execution_count": 29,
   "metadata": {},
   "outputs": [],
   "source": [
    "# from sklearn.model_selection import GridSearchCV\n",
    "# param_grid = {'learning_rate':[ 0.02, 0.01, 0.1, 0.05], \n",
    "#             'max_depth':[1, 3, 5 ,7], \n",
    "#             'min_samples_leaf':[3, 5, 7 ,9], \n",
    "# #             'max_features':[0.1,0.3,1.0],\n",
    "#             'n_estimators': [300, 500, 1000, 2000]\n",
    "#              } \n",
    "\n",
    "# est = GradientBoostingRegressor()\n",
    "# gs_cv = GridSearchCV(est, param_grid).fit(X_train, y_train)\n",
    "\n",
    "# # best hyperparameter setting\n",
    "\n",
    "# gs_cv.best_est "
   ]
  },
  {
   "cell_type": "code",
   "execution_count": null,
   "metadata": {},
   "outputs": [],
   "source": []
  },
  {
   "cell_type": "markdown",
   "metadata": {},
   "source": [
    "# selecting important features  [\"ILI_lagwk1\"]"
   ]
  },
  {
   "cell_type": "code",
   "execution_count": null,
   "metadata": {},
   "outputs": [],
   "source": [
    "# # GBRF predictors variable importance\n",
    "# # store most important variables under importances\n",
    "# importances = gbrt.feature_importances_"
   ]
  },
  {
   "cell_type": "code",
   "execution_count": null,
   "metadata": {},
   "outputs": [],
   "source": [
    "# gbrt.feature_importances_.sum()"
   ]
  },
  {
   "cell_type": "code",
   "execution_count": null,
   "metadata": {},
   "outputs": [],
   "source": [
    "# # store most important variables/features under importances\n",
    "# importances = gbrt.feature_importances_\n",
    "# # importances"
   ]
  },
  {
   "cell_type": "code",
   "execution_count": null,
   "metadata": {},
   "outputs": [],
   "source": [
    "# sorted_features = sorted(zip(importances, X_train.columns), reverse=True)\n",
    "# # sorted_features"
   ]
  },
  {
   "cell_type": "code",
   "execution_count": null,
   "metadata": {
    "scrolled": false
   },
   "outputs": [],
   "source": [
    "# # sort important varibles and sotre them under indices\n",
    "# important_columns = []\n",
    "# for fimportance, name in sorted(zip(importances, X_train.columns), reverse=True):\n",
    "#     if fimportance > 0.00009:\n",
    "#         important_columns.append(name)"
   ]
  },
  {
   "cell_type": "code",
   "execution_count": null,
   "metadata": {},
   "outputs": [],
   "source": [
    "# important_feature_columns = important_columns\n",
    "# # important_feature_columns"
   ]
  },
  {
   "cell_type": "code",
   "execution_count": null,
   "metadata": {},
   "outputs": [],
   "source": [
    "# important_features_df = model_df[important_feature_columns]\n",
    "# important_features_df.head()"
   ]
  },
  {
   "cell_type": "markdown",
   "metadata": {},
   "source": [
    "# defining important feature X train and X test dataset"
   ]
  },
  {
   "cell_type": "code",
   "execution_count": null,
   "metadata": {},
   "outputs": [],
   "source": [
    "# X_trainim = important_features_df[important_features_df.index < 201540]\n",
    "# # trainim\n",
    "# # .head(2)"
   ]
  },
  {
   "cell_type": "code",
   "execution_count": null,
   "metadata": {},
   "outputs": [],
   "source": [
    "# X_testim = important_features_df[important_features_df.index >= 201540]\n",
    "# # testim\n",
    "# # .head()"
   ]
  },
  {
   "cell_type": "code",
   "execution_count": null,
   "metadata": {},
   "outputs": [],
   "source": [
    "# gbrtim_ili_lag1 = GradientBoostingRegressor(n_estimators = 500, max_depth = 5) # number of sequential trees to be modeled"
   ]
  },
  {
   "cell_type": "code",
   "execution_count": null,
   "metadata": {},
   "outputs": [],
   "source": [
    "# gbrtim_ili_lag1.fit(X_trainim, y_train) "
   ]
  },
  {
   "cell_type": "code",
   "execution_count": null,
   "metadata": {},
   "outputs": [],
   "source": [
    "# from sklearn.metrics import mean_squared_error, mean_absolute_error, r2_score"
   ]
  },
  {
   "cell_type": "code",
   "execution_count": null,
   "metadata": {},
   "outputs": [],
   "source": [
    "# r2_score(y_test, y_pred)"
   ]
  },
  {
   "cell_type": "code",
   "execution_count": null,
   "metadata": {},
   "outputs": [],
   "source": [
    "# mean_absolute_error(y_test, y_pred)"
   ]
  },
  {
   "cell_type": "code",
   "execution_count": null,
   "metadata": {},
   "outputs": [],
   "source": [
    "# # GBR with important features for ili_lag1 week 1\n",
    "# print(\"R-squared for Train gbrtim_ili_lag1: %.2f\" %gbrtim_ili_lag1.score(X_trainim, y_train)) \n",
    "# print(\"R-squared for Test gbrtim_ili_lag1: %.2f\" %gbrtim_ili_lag1.score(X_testim, y_test)) "
   ]
  },
  {
   "cell_type": "code",
   "execution_count": null,
   "metadata": {},
   "outputs": [],
   "source": [
    "# # predict the values of y with important feature extraction for ili week 1\n",
    "# predictions = gbrtim_ili_lag1.predict(X_testim)\n",
    "# y_test_unraveled = y_test.values.ravel()\n",
    "# y_test.index"
   ]
  },
  {
   "cell_type": "code",
   "execution_count": null,
   "metadata": {},
   "outputs": [],
   "source": [
    "# Make predictions using the X_test and y_test data\n",
    "# Print at least 10 predictions vs their actual labels\n",
    "# predictions = gbrtim_ili_lag1.predict(X_testim)\n",
    "# print(f\"First 10 Predictions: {predictions[:10]}\")\n",
    "# print(f\"First 10 Actual labels: {y_test_unraveled[:10]}\")"
   ]
  },
  {
   "cell_type": "code",
   "execution_count": null,
   "metadata": {},
   "outputs": [],
   "source": [
    "# # Print predictions vs their actual labels\n",
    "# pred_df = pd.DataFrame({\"Prediction\": predictions, \"Actual\": y_test_unraveled}).reset_index(drop=True)\n",
    "# pred_df.index = y_test.index\n",
    "# pred_df.head()"
   ]
  },
  {
   "cell_type": "code",
   "execution_count": null,
   "metadata": {},
   "outputs": [],
   "source": []
  },
  {
   "cell_type": "markdown",
   "metadata": {},
   "source": [
    "# building a model for y_test = test[\"ILI_lagwk2\"]"
   ]
  },
  {
   "cell_type": "code",
   "execution_count": null,
   "metadata": {},
   "outputs": [],
   "source": [
    "model2 = SVR()"
   ]
  },
  {
   "cell_type": "code",
   "execution_count": null,
   "metadata": {},
   "outputs": [],
   "source": [
    "model2.fit(X_train, yy_train) "
   ]
  },
  {
   "cell_type": "code",
   "execution_count": null,
   "metadata": {},
   "outputs": [],
   "source": [
    "yy_pred = model2.predict(X_test)"
   ]
  },
  {
   "cell_type": "code",
   "execution_count": null,
   "metadata": {},
   "outputs": [],
   "source": [
    "r2_score(yy_test, yy_pred)"
   ]
  },
  {
   "cell_type": "code",
   "execution_count": null,
   "metadata": {},
   "outputs": [],
   "source": [
    "mean_absolute_error(yy_test, yy_pred)"
   ]
  },
  {
   "cell_type": "code",
   "execution_count": null,
   "metadata": {},
   "outputs": [],
   "source": [
    "print(\"R-squared for ILI_lagwk2 Train: %.2f\" %model2.score(X_train, yy_train)) \n",
    "print(\"R-squared for ILI_lagwk2 Test: %.2f\" %model2.score(X_test, yy_test)) "
   ]
  },
  {
   "cell_type": "code",
   "execution_count": null,
   "metadata": {},
   "outputs": [],
   "source": [
    "predictions2 = model2.predict(X_test) "
   ]
  },
  {
   "cell_type": "code",
   "execution_count": null,
   "metadata": {},
   "outputs": [],
   "source": [
    "# predict the values of y\n",
    "yy_test_unraveled = yy_test.values.ravel()\n",
    "yy_test.index"
   ]
  },
  {
   "cell_type": "code",
   "execution_count": null,
   "metadata": {},
   "outputs": [],
   "source": [
    "# store prediction and actual to df\n",
    "pred_df = pd.DataFrame({\"Prediction_ILI_lagwk2\": predictions2, \"Actual\": yy_test_unraveled}).reset_index(drop=True)\n",
    "pred_df.index = yy_test.index\n",
    "pred_df.head()"
   ]
  },
  {
   "cell_type": "code",
   "execution_count": null,
   "metadata": {},
   "outputs": [],
   "source": [
    "# # Create the GridSearchCV model\n",
    "\n",
    "# from sklearn.model_selection import GridSearchCV\n",
    "# param_grid = {'learning_rate':[ 0.02, 0.01, 0.1, 0.05], \n",
    "#             'max_depth':[1, 3, 5 ,7], \n",
    "#             'min_samples_leaf':[3, 5, 7 ,9], \n",
    "# #             'max_features':[0.1,0.3,1.0],\n",
    "#             'n_estimators': [300, 500, 1000, 2000]\n",
    "#              } \n",
    "\n",
    "# est = GradientBoostingRegressor()\n",
    "# gs_cv = GridSearchCV(est, param_grid).fit(X_train, y_train)\n",
    "\n",
    "# # best hyperparameter setting\n",
    "\n",
    "# gs_cv.best_est "
   ]
  },
  {
   "cell_type": "code",
   "execution_count": null,
   "metadata": {},
   "outputs": [],
   "source": []
  },
  {
   "cell_type": "markdown",
   "metadata": {},
   "source": [
    "# selecting important features  [\"ILI_lagwk2\"]"
   ]
  },
  {
   "cell_type": "markdown",
   "metadata": {},
   "source": [
    "# defining important feature X train and X test dataset"
   ]
  },
  {
   "cell_type": "code",
   "execution_count": null,
   "metadata": {},
   "outputs": [],
   "source": []
  },
  {
   "cell_type": "code",
   "execution_count": null,
   "metadata": {},
   "outputs": [],
   "source": []
  },
  {
   "cell_type": "markdown",
   "metadata": {},
   "source": [
    "# building a model for y_test = test[\"ILI_lagwk3\"]"
   ]
  },
  {
   "cell_type": "code",
   "execution_count": null,
   "metadata": {},
   "outputs": [],
   "source": [
    "model3 = SVR()"
   ]
  },
  {
   "cell_type": "code",
   "execution_count": null,
   "metadata": {},
   "outputs": [],
   "source": [
    "model3.fit(X_train, yyy_train) "
   ]
  },
  {
   "cell_type": "code",
   "execution_count": null,
   "metadata": {},
   "outputs": [],
   "source": [
    "yyy_pred = model3.predict(X_test)"
   ]
  },
  {
   "cell_type": "code",
   "execution_count": null,
   "metadata": {},
   "outputs": [],
   "source": [
    "r2_score(yyy_test, yyy_pred)"
   ]
  },
  {
   "cell_type": "code",
   "execution_count": null,
   "metadata": {},
   "outputs": [],
   "source": [
    "mean_absolute_error(yyy_test, yyy_pred)"
   ]
  },
  {
   "cell_type": "code",
   "execution_count": null,
   "metadata": {},
   "outputs": [],
   "source": [
    "print(\"R-squared for Train: %.2f\" %model3.score(X_train, yyy_train)) \n",
    "print(\"R-squared for Test: %.2f\" %model3.score(X_test, yyy_test)) "
   ]
  },
  {
   "cell_type": "code",
   "execution_count": null,
   "metadata": {},
   "outputs": [],
   "source": [
    "predictions3 = gbrt3.predict(X_test) "
   ]
  },
  {
   "cell_type": "code",
   "execution_count": null,
   "metadata": {},
   "outputs": [],
   "source": [
    "# predict the values of y\n",
    "predictions = model3.predict(X_test)\n",
    "yyy_test_unraveled = yyy_test.values.ravel()\n",
    "yyy_test.index"
   ]
  },
  {
   "cell_type": "code",
   "execution_count": null,
   "metadata": {},
   "outputs": [],
   "source": [
    "pred_df = pd.DataFrame({\"Prediction_ILI_lagwk3\": predictions3, \"Actual\": yyy_test_unraveled}).reset_index(drop=True)\n",
    "pred_df.index = yyy_test.index\n",
    "pred_df.head()"
   ]
  },
  {
   "cell_type": "code",
   "execution_count": null,
   "metadata": {},
   "outputs": [],
   "source": []
  },
  {
   "cell_type": "markdown",
   "metadata": {},
   "source": [
    "# building a model for y_test = test[\"ILI_lagwk4\"]"
   ]
  },
  {
   "cell_type": "code",
   "execution_count": null,
   "metadata": {},
   "outputs": [],
   "source": [
    "model4 = SVR()"
   ]
  },
  {
   "cell_type": "code",
   "execution_count": null,
   "metadata": {},
   "outputs": [],
   "source": [
    "model4.fit(X_train, yyyy_train) "
   ]
  },
  {
   "cell_type": "code",
   "execution_count": null,
   "metadata": {},
   "outputs": [],
   "source": [
    "yyyy_pred = model4.predict(X_test)"
   ]
  },
  {
   "cell_type": "code",
   "execution_count": null,
   "metadata": {},
   "outputs": [],
   "source": [
    "r2_score(yyyy_test, yyyy_pred)"
   ]
  },
  {
   "cell_type": "code",
   "execution_count": null,
   "metadata": {},
   "outputs": [],
   "source": [
    "mean_absolute_error(yyyy_test, yyyy_pred)"
   ]
  },
  {
   "cell_type": "code",
   "execution_count": null,
   "metadata": {},
   "outputs": [],
   "source": [
    "print(\"R-squared for Train: %.2f\" %model4.score(X_train, yyyy_train)) \n",
    "print(\"R-squared for Test: %.2f\" %model4.score(X_test, yyyy_test)) "
   ]
  },
  {
   "cell_type": "code",
   "execution_count": null,
   "metadata": {},
   "outputs": [],
   "source": [
    "# predict the values of y\n",
    "predictions4 = model4.predict(X_test)\n",
    "yyyy_test_unraveled = yyyy_test.values.ravel()\n",
    "yyyy_test.index"
   ]
  },
  {
   "cell_type": "code",
   "execution_count": null,
   "metadata": {},
   "outputs": [],
   "source": [
    "# store prediction and actual to df\n",
    "pred_df = pd.DataFrame({\"Prediction_ILI_lagwk1\": predictions4, \"Actual\": yyyy_test_unraveled}).reset_index(drop=True)\n",
    "pred_df.index = yyyy_test.index\n",
    "pred_df.head()"
   ]
  },
  {
   "cell_type": "code",
   "execution_count": null,
   "metadata": {},
   "outputs": [],
   "source": []
  }
 ],
 "metadata": {
  "kernelspec": {
   "display_name": "Python 3",
   "language": "python",
   "name": "python3"
  },
  "language_info": {
   "codemirror_mode": {
    "name": "ipython",
    "version": 3
   },
   "file_extension": ".py",
   "mimetype": "text/x-python",
   "name": "python",
   "nbconvert_exporter": "python",
   "pygments_lexer": "ipython3",
   "version": "3.7.1"
  }
 },
 "nbformat": 4,
 "nbformat_minor": 2
}
