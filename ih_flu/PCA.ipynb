{
 "cells": [
  {
   "cell_type": "code",
   "execution_count": 31,
   "metadata": {},
   "outputs": [],
   "source": [
    "import pandas as pd\n",
    "import numpy as np\n",
    "import matplotlib.pyplot as plt\n",
    "import os\n",
    "%matplotlib inline"
   ]
  },
  {
   "cell_type": "code",
   "execution_count": 32,
   "metadata": {},
   "outputs": [],
   "source": [
    "from sklearn import decomposition\n",
    "from sklearn.decomposition import PCA\n",
    "from sklearn.decomposition import PCA, TruncatedSVD"
   ]
  },
  {
   "cell_type": "code",
   "execution_count": 88,
   "metadata": {},
   "outputs": [
    {
     "data": {
      "text/html": [
       "<div>\n",
       "<style scoped>\n",
       "    .dataframe tbody tr th:only-of-type {\n",
       "        vertical-align: middle;\n",
       "    }\n",
       "\n",
       "    .dataframe tbody tr th {\n",
       "        vertical-align: top;\n",
       "    }\n",
       "\n",
       "    .dataframe thead th {\n",
       "        text-align: right;\n",
       "    }\n",
       "</style>\n",
       "<table border=\"1\" class=\"dataframe\">\n",
       "  <thead>\n",
       "    <tr style=\"text-align: right;\">\n",
       "      <th></th>\n",
       "      <th>Week</th>\n",
       "      <th>a.influenza</th>\n",
       "      <th>acute.bronchitis</th>\n",
       "      <th>body.temperature</th>\n",
       "      <th>braun.thermoscan</th>\n",
       "      <th>break.a.fever</th>\n",
       "      <th>bronchitis</th>\n",
       "      <th>chest.cold</th>\n",
       "      <th>cold.and.flu</th>\n",
       "      <th>cold.or.flu</th>\n",
       "      <th>...</th>\n",
       "      <th>treating.flu</th>\n",
       "      <th>treating.the.flu</th>\n",
       "      <th>treatment.for.flu</th>\n",
       "      <th>treatment.for.the.flu</th>\n",
       "      <th>tussin</th>\n",
       "      <th>tussionex</th>\n",
       "      <th>type.a.influenza</th>\n",
       "      <th>upper.respiratory</th>\n",
       "      <th>walking.pneumonia</th>\n",
       "      <th>what.to.do.if.you.have.the.flu</th>\n",
       "    </tr>\n",
       "  </thead>\n",
       "  <tbody>\n",
       "    <tr>\n",
       "      <th>0</th>\n",
       "      <td>1/10/2004</td>\n",
       "      <td>11</td>\n",
       "      <td>50</td>\n",
       "      <td>58</td>\n",
       "      <td>100</td>\n",
       "      <td>15</td>\n",
       "      <td>34</td>\n",
       "      <td>27</td>\n",
       "      <td>26</td>\n",
       "      <td>39</td>\n",
       "      <td>...</td>\n",
       "      <td>32</td>\n",
       "      <td>78</td>\n",
       "      <td>7</td>\n",
       "      <td>42</td>\n",
       "      <td>64</td>\n",
       "      <td>79</td>\n",
       "      <td>20</td>\n",
       "      <td>37</td>\n",
       "      <td>57</td>\n",
       "      <td>0</td>\n",
       "    </tr>\n",
       "    <tr>\n",
       "      <th>1</th>\n",
       "      <td>1/17/2004</td>\n",
       "      <td>7</td>\n",
       "      <td>41</td>\n",
       "      <td>70</td>\n",
       "      <td>54</td>\n",
       "      <td>12</td>\n",
       "      <td>31</td>\n",
       "      <td>17</td>\n",
       "      <td>20</td>\n",
       "      <td>11</td>\n",
       "      <td>...</td>\n",
       "      <td>26</td>\n",
       "      <td>41</td>\n",
       "      <td>9</td>\n",
       "      <td>0</td>\n",
       "      <td>20</td>\n",
       "      <td>58</td>\n",
       "      <td>16</td>\n",
       "      <td>21</td>\n",
       "      <td>42</td>\n",
       "      <td>0</td>\n",
       "    </tr>\n",
       "    <tr>\n",
       "      <th>2</th>\n",
       "      <td>1/24/2004</td>\n",
       "      <td>6</td>\n",
       "      <td>40</td>\n",
       "      <td>53</td>\n",
       "      <td>40</td>\n",
       "      <td>15</td>\n",
       "      <td>29</td>\n",
       "      <td>20</td>\n",
       "      <td>16</td>\n",
       "      <td>8</td>\n",
       "      <td>...</td>\n",
       "      <td>29</td>\n",
       "      <td>41</td>\n",
       "      <td>6</td>\n",
       "      <td>0</td>\n",
       "      <td>44</td>\n",
       "      <td>52</td>\n",
       "      <td>16</td>\n",
       "      <td>17</td>\n",
       "      <td>38</td>\n",
       "      <td>0</td>\n",
       "    </tr>\n",
       "    <tr>\n",
       "      <th>3</th>\n",
       "      <td>1/31/2004</td>\n",
       "      <td>4</td>\n",
       "      <td>32</td>\n",
       "      <td>57</td>\n",
       "      <td>26</td>\n",
       "      <td>18</td>\n",
       "      <td>25</td>\n",
       "      <td>21</td>\n",
       "      <td>12</td>\n",
       "      <td>13</td>\n",
       "      <td>...</td>\n",
       "      <td>33</td>\n",
       "      <td>41</td>\n",
       "      <td>5</td>\n",
       "      <td>0</td>\n",
       "      <td>52</td>\n",
       "      <td>42</td>\n",
       "      <td>16</td>\n",
       "      <td>24</td>\n",
       "      <td>45</td>\n",
       "      <td>0</td>\n",
       "    </tr>\n",
       "    <tr>\n",
       "      <th>4</th>\n",
       "      <td>2/7/2004</td>\n",
       "      <td>3</td>\n",
       "      <td>31</td>\n",
       "      <td>46</td>\n",
       "      <td>80</td>\n",
       "      <td>21</td>\n",
       "      <td>25</td>\n",
       "      <td>9</td>\n",
       "      <td>10</td>\n",
       "      <td>15</td>\n",
       "      <td>...</td>\n",
       "      <td>33</td>\n",
       "      <td>42</td>\n",
       "      <td>5</td>\n",
       "      <td>0</td>\n",
       "      <td>34</td>\n",
       "      <td>51</td>\n",
       "      <td>18</td>\n",
       "      <td>25</td>\n",
       "      <td>26</td>\n",
       "      <td>0</td>\n",
       "    </tr>\n",
       "  </tbody>\n",
       "</table>\n",
       "<p>5 rows × 130 columns</p>\n",
       "</div>"
      ],
      "text/plain": [
       "        Week  a.influenza  acute.bronchitis  body.temperature  \\\n",
       "0  1/10/2004           11                50                58   \n",
       "1  1/17/2004            7                41                70   \n",
       "2  1/24/2004            6                40                53   \n",
       "3  1/31/2004            4                32                57   \n",
       "4   2/7/2004            3                31                46   \n",
       "\n",
       "   braun.thermoscan  break.a.fever  bronchitis  chest.cold  cold.and.flu  \\\n",
       "0               100             15          34          27            26   \n",
       "1                54             12          31          17            20   \n",
       "2                40             15          29          20            16   \n",
       "3                26             18          25          21            12   \n",
       "4                80             21          25           9            10   \n",
       "\n",
       "   cold.or.flu  ...  treating.flu  treating.the.flu  treatment.for.flu  \\\n",
       "0           39  ...            32                78                  7   \n",
       "1           11  ...            26                41                  9   \n",
       "2            8  ...            29                41                  6   \n",
       "3           13  ...            33                41                  5   \n",
       "4           15  ...            33                42                  5   \n",
       "\n",
       "   treatment.for.the.flu  tussin  tussionex  type.a.influenza  \\\n",
       "0                     42      64         79                20   \n",
       "1                      0      20         58                16   \n",
       "2                      0      44         52                16   \n",
       "3                      0      52         42                16   \n",
       "4                      0      34         51                18   \n",
       "\n",
       "   upper.respiratory  walking.pneumonia  what.to.do.if.you.have.the.flu  \n",
       "0                 37                 57                               0  \n",
       "1                 21                 42                               0  \n",
       "2                 17                 38                               0  \n",
       "3                 24                 45                               0  \n",
       "4                 25                 26                               0  \n",
       "\n",
       "[5 rows x 130 columns]"
      ]
     },
     "execution_count": 88,
     "metadata": {},
     "output_type": "execute_result"
    }
   ],
   "source": [
    "g_trend = pd.read_csv(\"Google_Trends.csv\")\n",
    "g_trend.head()"
   ]
  },
  {
   "cell_type": "code",
   "execution_count": 59,
   "metadata": {},
   "outputs": [
    {
     "name": "stdout",
     "output_type": "stream",
     "text": [
      "<class 'pandas.core.frame.DataFrame'>\n",
      "RangeIndex: 653 entries, 0 to 652\n",
      "Columns: 130 entries, Week to what.to.do.if.you.have.the.flu\n",
      "dtypes: int64(129), object(1)\n",
      "memory usage: 663.3+ KB\n"
     ]
    }
   ],
   "source": [
    "g_trend.info()"
   ]
  },
  {
   "cell_type": "code",
   "execution_count": 45,
   "metadata": {},
   "outputs": [],
   "source": [
    "#for col in g_trend.columns: \n",
    "    #print(col) "
   ]
  },
  {
   "cell_type": "code",
   "execution_count": 73,
   "metadata": {},
   "outputs": [],
   "source": [
    "X = g_trend.drop('Week',1)\n",
    "y = g_trend['Week']"
   ]
  },
  {
   "cell_type": "code",
   "execution_count": 74,
   "metadata": {},
   "outputs": [],
   "source": [
    "from sklearn.model_selection import train_test_split\n",
    "\n",
    "X_train, X_test, y_train, y_test = train_test_split(X, y, test_size=0.2, random_state=0)"
   ]
  },
  {
   "cell_type": "code",
   "execution_count": 75,
   "metadata": {},
   "outputs": [],
   "source": [
    "from sklearn.preprocessing import StandardScaler\n",
    "\n",
    "sc = StandardScaler()\n",
    "X_train_scaled = sc.fit_transform(X_train)\n",
    "X_test_scaled = sc.transform(X_test)"
   ]
  },
  {
   "cell_type": "code",
   "execution_count": 79,
   "metadata": {},
   "outputs": [],
   "source": [
    "from sklearn.decomposition import PCA\n",
    "\n",
    "pca = PCA(.95)\n",
    "X_train_pca = pca.fit_transform(X_train_scaled)\n",
    "X_test_pca = pca.transform(X_test_scaled)"
   ]
  },
  {
   "cell_type": "code",
   "execution_count": 80,
   "metadata": {},
   "outputs": [
    {
     "name": "stdout",
     "output_type": "stream",
     "text": [
      "[0.61040025 0.13829097 0.04981203 0.02697771 0.02610939 0.01303062\n",
      " 0.01263289 0.00763148 0.00704983 0.00649585 0.0053944  0.00497284\n",
      " 0.00462699 0.00455577 0.00376045 0.00338432 0.00328231 0.00307831\n",
      " 0.00283623 0.00280276 0.00271187 0.00246263 0.00235385 0.00226108\n",
      " 0.00220398 0.00207324]\n"
     ]
    }
   ],
   "source": [
    "explained_variance = pca.explained_variance_ratio_\n",
    "print(explained_variance)"
   ]
  },
  {
   "cell_type": "code",
   "execution_count": 81,
   "metadata": {},
   "outputs": [
    {
     "data": {
      "text/plain": [
       "26"
      ]
     },
     "execution_count": 81,
     "metadata": {},
     "output_type": "execute_result"
    }
   ],
   "source": [
    "len(explained_variance)"
   ]
  },
  {
   "cell_type": "code",
   "execution_count": 62,
   "metadata": {},
   "outputs": [],
   "source": [
    "#sorted(zip(explained_variance, g_trend.columns), reverse=True)"
   ]
  },
  {
   "cell_type": "code",
   "execution_count": 84,
   "metadata": {},
   "outputs": [],
   "source": [
    "from sklearn.decomposition import PCA\n",
    "\n",
    "pca = PCA(n_components=2)\n",
    "X_train = pca.fit_transform(X_train)\n",
    "X_test = pca.transform(X_test)\n"
   ]
  },
  {
   "cell_type": "code",
   "execution_count": 85,
   "metadata": {},
   "outputs": [
    {
     "name": "stderr",
     "output_type": "stream",
     "text": [
      "C:\\Users\\ihuang\\AppData\\Local\\Continuum\\anaconda3\\lib\\site-packages\\sklearn\\ensemble\\forest.py:245: FutureWarning: The default value of n_estimators will change from 10 in version 0.20 to 100 in 0.22.\n",
      "  \"10 in version 0.20 to 100 in 0.22.\", FutureWarning)\n"
     ]
    }
   ],
   "source": [
    "from sklearn.ensemble import RandomForestClassifier\n",
    "\n",
    "classifier = RandomForestClassifier(max_depth=2, random_state=0)\n",
    "classifier.fit(X_train, y_train)\n",
    "\n",
    "# Predicting the Test set results\n",
    "y_pred = classifier.predict(X_test)"
   ]
  },
  {
   "cell_type": "code",
   "execution_count": 86,
   "metadata": {},
   "outputs": [
    {
     "name": "stdout",
     "output_type": "stream",
     "text": [
      "[[0 0 0 ... 0 0 0]\n",
      " [0 0 0 ... 0 0 0]\n",
      " [0 0 0 ... 0 0 0]\n",
      " ...\n",
      " [0 0 0 ... 0 0 0]\n",
      " [0 0 0 ... 0 0 0]\n",
      " [0 0 0 ... 0 0 0]]\n",
      "Accuracy 0.0\n"
     ]
    }
   ],
   "source": [
    "from sklearn.metrics import confusion_matrix\n",
    "from sklearn.metrics import accuracy_score\n",
    "\n",
    "cm = confusion_matrix(y_test, y_pred)\n",
    "print(cm)\n",
    "print('Accuracy ' + str(accuracy_score(y_test, y_pred)))"
   ]
  },
  {
   "cell_type": "code",
   "execution_count": null,
   "metadata": {},
   "outputs": [],
   "source": []
  }
 ],
 "metadata": {
  "kernelspec": {
   "display_name": "Python 3",
   "language": "python",
   "name": "python3"
  },
  "language_info": {
   "codemirror_mode": {
    "name": "ipython",
    "version": 3
   },
   "file_extension": ".py",
   "mimetype": "text/x-python",
   "name": "python",
   "nbconvert_exporter": "python",
   "pygments_lexer": "ipython3",
   "version": "3.7.3"
  }
 },
 "nbformat": 4,
 "nbformat_minor": 2
}
