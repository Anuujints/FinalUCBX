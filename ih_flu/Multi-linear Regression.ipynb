{
 "cells": [
  {
   "cell_type": "code",
   "execution_count": 53,
   "metadata": {},
   "outputs": [],
   "source": [
    "%matplotlib inline\n",
    "import matplotlib.pyplot as plt\n",
    "import numpy as np\n",
    "import pandas as pd"
   ]
  },
  {
   "cell_type": "code",
   "execution_count": 54,
   "metadata": {},
   "outputs": [],
   "source": [
    "#for col in g_trend.columns: \n",
    "    #print(col) "
   ]
  },
  {
   "cell_type": "code",
   "execution_count": 55,
   "metadata": {},
   "outputs": [
    {
     "data": {
      "text/html": [
       "<div>\n",
       "<style scoped>\n",
       "    .dataframe tbody tr th:only-of-type {\n",
       "        vertical-align: middle;\n",
       "    }\n",
       "\n",
       "    .dataframe tbody tr th {\n",
       "        vertical-align: top;\n",
       "    }\n",
       "\n",
       "    .dataframe thead th {\n",
       "        text-align: right;\n",
       "    }\n",
       "</style>\n",
       "<table border=\"1\" class=\"dataframe\">\n",
       "  <thead>\n",
       "    <tr style=\"text-align: right;\">\n",
       "      <th></th>\n",
       "      <th>Year_week</th>\n",
       "      <th>a_influenza</th>\n",
       "      <th>acute_bronchitis</th>\n",
       "      <th>body_temperature</th>\n",
       "      <th>braun_thermoscan</th>\n",
       "      <th>break_a_fever</th>\n",
       "      <th>bronchitis</th>\n",
       "      <th>chest_cold</th>\n",
       "      <th>cold_and_flu</th>\n",
       "      <th>cold_or_flu</th>\n",
       "      <th>...</th>\n",
       "      <th>treatment_for_flu</th>\n",
       "      <th>treatment_for_the_flu</th>\n",
       "      <th>tussin</th>\n",
       "      <th>tussionex</th>\n",
       "      <th>type_a_influenza</th>\n",
       "      <th>upper_respiratory</th>\n",
       "      <th>walking_pneumonia</th>\n",
       "      <th>what_to_do_if_you_have_the_flu</th>\n",
       "      <th>ILI_Total</th>\n",
       "      <th>label</th>\n",
       "    </tr>\n",
       "  </thead>\n",
       "  <tbody>\n",
       "    <tr>\n",
       "      <th>0</th>\n",
       "      <td>2004_1</td>\n",
       "      <td>11</td>\n",
       "      <td>50</td>\n",
       "      <td>58</td>\n",
       "      <td>100</td>\n",
       "      <td>15</td>\n",
       "      <td>34</td>\n",
       "      <td>27</td>\n",
       "      <td>26</td>\n",
       "      <td>39</td>\n",
       "      <td>...</td>\n",
       "      <td>7</td>\n",
       "      <td>42</td>\n",
       "      <td>64</td>\n",
       "      <td>79</td>\n",
       "      <td>20</td>\n",
       "      <td>37</td>\n",
       "      <td>57</td>\n",
       "      <td>0</td>\n",
       "      <td>7602</td>\n",
       "      <td>5583</td>\n",
       "    </tr>\n",
       "    <tr>\n",
       "      <th>1</th>\n",
       "      <td>2004_2</td>\n",
       "      <td>7</td>\n",
       "      <td>41</td>\n",
       "      <td>70</td>\n",
       "      <td>54</td>\n",
       "      <td>12</td>\n",
       "      <td>31</td>\n",
       "      <td>17</td>\n",
       "      <td>20</td>\n",
       "      <td>11</td>\n",
       "      <td>...</td>\n",
       "      <td>9</td>\n",
       "      <td>0</td>\n",
       "      <td>20</td>\n",
       "      <td>58</td>\n",
       "      <td>16</td>\n",
       "      <td>21</td>\n",
       "      <td>42</td>\n",
       "      <td>0</td>\n",
       "      <td>5583</td>\n",
       "      <td>4961</td>\n",
       "    </tr>\n",
       "    <tr>\n",
       "      <th>2</th>\n",
       "      <td>2004_3</td>\n",
       "      <td>6</td>\n",
       "      <td>40</td>\n",
       "      <td>53</td>\n",
       "      <td>40</td>\n",
       "      <td>15</td>\n",
       "      <td>29</td>\n",
       "      <td>20</td>\n",
       "      <td>16</td>\n",
       "      <td>8</td>\n",
       "      <td>...</td>\n",
       "      <td>6</td>\n",
       "      <td>0</td>\n",
       "      <td>44</td>\n",
       "      <td>52</td>\n",
       "      <td>16</td>\n",
       "      <td>17</td>\n",
       "      <td>38</td>\n",
       "      <td>0</td>\n",
       "      <td>4961</td>\n",
       "      <td>4436</td>\n",
       "    </tr>\n",
       "    <tr>\n",
       "      <th>3</th>\n",
       "      <td>2004_4</td>\n",
       "      <td>4</td>\n",
       "      <td>32</td>\n",
       "      <td>57</td>\n",
       "      <td>26</td>\n",
       "      <td>18</td>\n",
       "      <td>25</td>\n",
       "      <td>21</td>\n",
       "      <td>12</td>\n",
       "      <td>13</td>\n",
       "      <td>...</td>\n",
       "      <td>5</td>\n",
       "      <td>0</td>\n",
       "      <td>52</td>\n",
       "      <td>42</td>\n",
       "      <td>16</td>\n",
       "      <td>24</td>\n",
       "      <td>45</td>\n",
       "      <td>0</td>\n",
       "      <td>4436</td>\n",
       "      <td>4251</td>\n",
       "    </tr>\n",
       "    <tr>\n",
       "      <th>4</th>\n",
       "      <td>2004_5</td>\n",
       "      <td>3</td>\n",
       "      <td>31</td>\n",
       "      <td>46</td>\n",
       "      <td>80</td>\n",
       "      <td>21</td>\n",
       "      <td>25</td>\n",
       "      <td>9</td>\n",
       "      <td>10</td>\n",
       "      <td>15</td>\n",
       "      <td>...</td>\n",
       "      <td>5</td>\n",
       "      <td>0</td>\n",
       "      <td>34</td>\n",
       "      <td>51</td>\n",
       "      <td>18</td>\n",
       "      <td>25</td>\n",
       "      <td>26</td>\n",
       "      <td>0</td>\n",
       "      <td>4251</td>\n",
       "      <td>3824</td>\n",
       "    </tr>\n",
       "  </tbody>\n",
       "</table>\n",
       "<p>5 rows × 132 columns</p>\n",
       "</div>"
      ],
      "text/plain": [
       "  Year_week  a_influenza  acute_bronchitis  body_temperature  \\\n",
       "0    2004_1           11                50                58   \n",
       "1    2004_2            7                41                70   \n",
       "2    2004_3            6                40                53   \n",
       "3    2004_4            4                32                57   \n",
       "4    2004_5            3                31                46   \n",
       "\n",
       "   braun_thermoscan  break_a_fever  bronchitis  chest_cold  cold_and_flu  \\\n",
       "0               100             15          34          27            26   \n",
       "1                54             12          31          17            20   \n",
       "2                40             15          29          20            16   \n",
       "3                26             18          25          21            12   \n",
       "4                80             21          25           9            10   \n",
       "\n",
       "   cold_or_flu  ...  treatment_for_flu  treatment_for_the_flu  tussin  \\\n",
       "0           39  ...                  7                     42      64   \n",
       "1           11  ...                  9                      0      20   \n",
       "2            8  ...                  6                      0      44   \n",
       "3           13  ...                  5                      0      52   \n",
       "4           15  ...                  5                      0      34   \n",
       "\n",
       "   tussionex  type_a_influenza  upper_respiratory  walking_pneumonia  \\\n",
       "0         79                20                 37                 57   \n",
       "1         58                16                 21                 42   \n",
       "2         52                16                 17                 38   \n",
       "3         42                16                 24                 45   \n",
       "4         51                18                 25                 26   \n",
       "\n",
       "   what_to_do_if_you_have_the_flu  ILI_Total  label  \n",
       "0                               0       7602   5583  \n",
       "1                               0       5583   4961  \n",
       "2                               0       4961   4436  \n",
       "3                               0       4436   4251  \n",
       "4                               0       4251   3824  \n",
       "\n",
       "[5 rows x 132 columns]"
      ]
     },
     "execution_count": 55,
     "metadata": {},
     "output_type": "execute_result"
    }
   ],
   "source": [
    "g_trend = pd.read_csv(\"Google_Trends_concat.csv\")\n",
    "g_trend.head()"
   ]
  },
  {
   "cell_type": "code",
   "execution_count": 45,
   "metadata": {},
   "outputs": [
    {
     "name": "stdout",
     "output_type": "stream",
     "text": [
      "shape:  (648, 130) (648,)\n"
     ]
    }
   ],
   "source": [
    "X = g_trend.drop(\"ILI_Total\", axis=1)\n",
    "y = g_trend[\"label\"]\n",
    "print(\"shape: \", X.shape, y.shape)"
   ]
  },
  {
   "cell_type": "code",
   "execution_count": 46,
   "metadata": {},
   "outputs": [
    {
     "ename": "SyntaxError",
     "evalue": "invalid syntax (<ipython-input-46-5a98ac42be2e>, line 129)",
     "output_type": "error",
     "traceback": [
      "\u001b[0;36m  File \u001b[0;32m\"<ipython-input-46-5a98ac42be2e>\"\u001b[0;36m, line \u001b[0;32m129\u001b[0m\n\u001b[0;31m    \"what_to_do_if_you_have_the_flu\"].values#.reshape(-1,1)\u001b[0m\n\u001b[0m                                    ^\u001b[0m\n\u001b[0;31mSyntaxError\u001b[0m\u001b[0;31m:\u001b[0m invalid syntax\n"
     ]
    }
   ],
   "source": [
    "#X = g_trend[[\"a_influenza\",\"Year_week\",\n",
    "\"acute_bronchitis\",\n",
    "\"body_temperature\",\n",
    "\"braun_thermoscan\",\n",
    "\"break_a_fever\",\n",
    "\"bronchitis\",\n",
    "\"chest_cold\",\n",
    "\"cold_and_flu\",\n",
    "\"cold_or_flu\",\n",
    "\"cold_versus_flu\",\n",
    "\"cold_vs_flu\",\n",
    "\"contagious_flu\",\n",
    "\"cough_fever\",\n",
    "\"cure_flu\",\n",
    "\"cure_the_flu\",\n",
    "\"dangerous_fever\",\n",
    "\"do_i_have_the_flu\",\n",
    "\"ear_thermometer\",\n",
    "\"early_flu_symptoms\",\n",
    "\"expectorant\",\n",
    "\"exposed_to_flu\",\n",
    "\"fever_cough\",\n",
    "\"fever_flu\",\n",
    "\"fever_reducer\",\n",
    "\"fight_the_flu\",\n",
    "\"flu_and_cold\",\n",
    "\"flu_and_fever\",\n",
    "\"flu_care\",\n",
    "\"flu_children\",\n",
    "\"flu_complications\",\n",
    "\"flu_contagious_period\",\n",
    "\"flu_contagious\",\n",
    "\"flu_cough\",\n",
    "\"flu_duration\",\n",
    "\"flu_fever\",\n",
    "\"flu_germs\",\n",
    "\"flu_headache\",\n",
    "\"flu_how_long\",\n",
    "\"flu_in_children\",\n",
    "\"flu_incubation_period\",\n",
    "\"flu_incubation\",\n",
    "\"flu_lasts\",\n",
    "\"flu_length\",\n",
    "\"flu_medicine\",\n",
    "\"flu_or_cold\",\n",
    "\"flu_recovery\",\n",
    "\"flu_relief\",\n",
    "\"flu_remedies\",\n",
    "\"flu_remedy\",\n",
    "\"flu_report\",\n",
    "\"flu_reports\",\n",
    "\"flu_symptoms\",\n",
    "\"flu_test\",\n",
    "\"flu_treatment\",\n",
    "\"flu_treatments\",\n",
    "\"flu_versus_cold\",\n",
    "\"flu_vs_cold\",\n",
    "\"get_over_the_flu\",\n",
    "\"get_rid_of_the_flu\",\n",
    "\"having_the_flu\",\n",
    "\"high_fever\",\n",
    "\"how_long_contagious\",\n",
    "\"how_long_does_flu_last\",\n",
    "\"how_long_does_the_flu_last\",\n",
    "\"how_long_flu\",\n",
    "\"how_long_is_flu_contagious\",\n",
    "\"how_long_is_the_flu_contagious\",\n",
    "\"how_long_is_the_flu\",\n",
    "\"how_to_get_rid_of_the_flu\",\n",
    "\"how_to_treat_flu\",\n",
    "\"how_to_treat_the_flu\",\n",
    "\"human_temperature\",\n",
    "\"i_have_the_flu\",\n",
    "\"incubation_period_for_flu\",\n",
    "\"incubation_period_for_the_flu\",\n",
    "\"influenza_a_and_b\",\n",
    "\"influenza_a\",\n",
    "\"influenza_contagious\",\n",
    "\"influenza_incubation_period\",\n",
    "\"influenza_incubation\",\n",
    "\"influenza_symptoms\",\n",
    "\"influenza_treatment\",\n",
    "\"influenza_type_a\",\n",
    "\"is_flu_contagious\",\n",
    "\"low_body\",\n",
    "\"medicine_for_flu\",\n",
    "\"medicine_for_the_flu\",\n",
    "\"normal_body_temperature\",\n",
    "\"normal_body\",\n",
    "\"oscillococcinum\",\n",
    "\"over_the_counter_flu_medicine\",\n",
    "\"over_the_counter_flu\",\n",
    "\"painful_cough\",\n",
    "\"pneumonia\",\n",
    "\"rapid_flu\",\n",
    "\"reduce_a_fever\",\n",
    "\"reduce_fever\",\n",
    "\"remedies_for_flu\",\n",
    "\"remedies_for_the_flu\",\n",
    "\"respiratory_flu\",\n",
    "\"robitussin\",\n",
    "\"signs_of_flu\",\n",
    "\"signs_of_the_flu\",\n",
    "\"sinus_infections\",\n",
    "\"sinus\",\n",
    "\"strep_throat\",\n",
    "\"strep\",\n",
    "\"symptoms_of_bronchitis\",\n",
    "\"symptoms_of_flu\",\n",
    "\"symptoms_of_influenza\",\n",
    "\"symptoms_of_pneumonia\",\n",
    "\"symptoms_of_the_flu\",\n",
    "\"taking_temperature\",\n",
    "\"tessalon\",\n",
    "\"the_flu_virus\",\n",
    "\"the_flu\",\n",
    "\"thermoscan\",\n",
    "\"treat_flu\",\n",
    "\"treat_the_flu\",\n",
    "\"treating_flu\",\n",
    "\"treating_the_flu\",\n",
    "\"treatment_for_flu\",\n",
    "\"treatment_for_the_flu\",\n",
    "\"tussin\",\n",
    "\"tussionex\",\n",
    "\"type_a_influenza\",\n",
    "\"upper_respiratory\",\n",
    "\"walking_pneumonia\",\n",
    "\"what_to_do_if_you_have_the_flu\"].values#.reshape(-1,1)\n",
    "#y = g_trend[\"ILI_Total\"].values#.reshape(-1,1) there are 129 features and won't plot scatter plot\n",
    "#print(\"shape: \", X.shape, y.shape)"
   ]
  },
  {
   "cell_type": "code",
   "execution_count": 47,
   "metadata": {},
   "outputs": [],
   "source": [
    "from sklearn.model_selection import train_test_split\n",
    "\n",
    "X_train, X_test, y_train, y_test = train_test_split(X, y, random_state=42)\n"
   ]
  },
  {
   "cell_type": "code",
   "execution_count": 48,
   "metadata": {},
   "outputs": [],
   "source": [
    "from sklearn.linear_model import LinearRegression\n",
    "model = LinearRegression()\n"
   ]
  },
  {
   "cell_type": "code",
   "execution_count": 49,
   "metadata": {},
   "outputs": [
    {
     "name": "stdout",
     "output_type": "stream",
     "text": [
      "Training Score: 0.9362218424311918\n",
      "Testing Score: 0.8794998567680445\n"
     ]
    }
   ],
   "source": [
    "model.fit(X_train, y_train)\n",
    "training_score = model.score(X_train, y_train)\n",
    "testing_score = model.score(X_test, y_test)\n",
    "print(f\"Training Score: {training_score}\")\n",
    "print(f\"Testing Score: {testing_score}\")"
   ]
  },
  {
   "cell_type": "code",
   "execution_count": 50,
   "metadata": {},
   "outputs": [
    {
     "name": "stdout",
     "output_type": "stream",
     "text": [
      "Mean Squared Error (MSE): 12694234.763718419\n",
      "R-squared (R2 ): 0.868211080283097\n"
     ]
    }
   ],
   "source": [
    "from sklearn.metrics import mean_squared_error, r2_score\n",
    "predicted = regression_model.predict(X_test)\n",
    "mse = mean_squared_error(y_test, predicted)\n",
    "r2 = r2_score(y_test, predicted)\n",
    "print(f\"Mean Squared Error (MSE): {mse}\")\n",
    "print(f\"R-squared (R2 ): {r2}\")"
   ]
  },
  {
   "cell_type": "code",
   "execution_count": 51,
   "metadata": {},
   "outputs": [
    {
     "data": {
      "text/plain": [
       "3562.896962265176"
      ]
     },
     "execution_count": 51,
     "metadata": {},
     "output_type": "execute_result"
    }
   ],
   "source": [
    "import math\n",
    "\n",
    "math.sqrt(mse)"
   ]
  },
  {
   "cell_type": "code",
   "execution_count": 52,
   "metadata": {},
   "outputs": [
    {
     "data": {
      "text/plain": [
       "Text(0.5, 1.0, 'Residual Plot')"
      ]
     },
     "execution_count": 52,
     "metadata": {},
     "output_type": "execute_result"
    },
    {
     "data": {
      "image/png": "[encoded data removed]",
      "text/plain": [
       "<Figure size 432x288 with 1 Axes>"
      ]
     },
     "metadata": {
      "needs_background": "light"
     },
     "output_type": "display_data"
    }
   ],
   "source": [
    "plt.scatter(model.predict(X_train), model.predict(X_train) - y_train, c=\"blue\", label=\"Training Data\")\n",
    "plt.scatter(model.predict(X_test), model.predict(X_test) - y_test, c=\"orange\", label=\"Testing Data\")\n",
    "plt.legend()\n",
    "plt.hlines(y=0, xmin=y.min(), xmax=y.max())\n",
    "plt.title(\"Residual Plot\")"
   ]
  },
  {
   "cell_type": "code",
   "execution_count": null,
   "metadata": {},
   "outputs": [],
   "source": []
  }
 ],
 "metadata": {
  "kernelspec": {
   "display_name": "Python 3",
   "language": "python",
   "name": "python3"
  },
  "language_info": {
   "codemirror_mode": {
    "name": "ipython",
    "version": 3
   },
   "file_extension": ".py",
   "mimetype": "text/x-python",
   "name": "python",
   "nbconvert_exporter": "python",
   "pygments_lexer": "ipython3",
   "version": "3.7.3"
  }
 },
 "nbformat": 4,
 "nbformat_minor": 2
}
